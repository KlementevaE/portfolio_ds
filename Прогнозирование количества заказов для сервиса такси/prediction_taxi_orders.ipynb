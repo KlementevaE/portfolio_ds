{
 "cells": [
  {
   "cell_type": "markdown",
   "metadata": {},
   "source": [
    "#  Прогнозирование заказов такси"
   ]
  },
  {
   "cell_type": "markdown",
   "metadata": {},
   "source": [
    "Компания собрала исторические данные о заказах такси в аэропортах. Чтобы привлекать больше водителей в период пиковой нагрузки, нужно спрогнозировать количество заказов такси на следующий час. Необходимо построить модель для такого предсказания.\n",
    "\n",
    "Значение метрики *RMSE* на тестовой выборке должно быть не больше 48.\n",
    "\n",
    "Нужно:\n",
    "\n",
    "1. Загрузить данные и выполнить их ресемплирование по одному часу.\n",
    "2. Проанализировать данные.\n",
    "3. Обучить разные модели с различными гиперпараметрами. Сделать тестовую выборку размером 10% от исходных данных.\n",
    "4. Проверить данные на тестовой выборке и сделать выводы.\n",
    "\n",
    "\n",
    "Данные лежат в файле `taxi.csv`. Количество заказов находится в столбце `num_orders` (от англ. *number of orders*, «число заказов»)."
   ]
  },
  {
   "cell_type": "markdown",
   "metadata": {},
   "source": [
    "Импорт необходимых библиотек:"
   ]
  },
  {
   "cell_type": "code",
   "execution_count": 84,
   "metadata": {},
   "outputs": [],
   "source": [
    "import matplotlib.pyplot as plt\n",
    "import numpy as np\n",
    "import pandas as pd\n",
    "import seaborn as sns\n",
    "\n",
    "from lightgbm import LGBMRegressor\n",
    "\n",
    "from sklearn.ensemble import RandomForestRegressor\n",
    "from sklearn.linear_model import LinearRegression\n",
    "from sklearn.metrics import mean_squared_error\n",
    "from sklearn.model_selection import cross_val_score, GridSearchCV, TimeSeriesSplit, train_test_split\n",
    "from sklearn.preprocessing import StandardScaler\n",
    "from sklearn.tree import DecisionTreeRegressor\n",
    "\n",
    "from statsmodels.tsa.seasonal import seasonal_decompose"
   ]
  },
  {
   "cell_type": "markdown",
   "metadata": {},
   "source": [
    "## 1. Подготовка"
   ]
  },
  {
   "cell_type": "markdown",
   "metadata": {},
   "source": [
    "### 1.1. Загрузка данных и вывод основной информации"
   ]
  },
  {
   "cell_type": "markdown",
   "metadata": {},
   "source": [
    "Чтение csv-файла и сохранение в переменную data:"
   ]
  },
  {
   "cell_type": "code",
   "execution_count": 85,
   "metadata": {},
   "outputs": [],
   "source": [
    "data = pd.read_csv('taxi.csv', index_col=[0], parse_dates=[0])"
   ]
  },
  {
   "cell_type": "markdown",
   "metadata": {},
   "source": [
    "Ресемплирование данных по одному часу:"
   ]
  },
  {
   "cell_type": "code",
   "execution_count": 86,
   "metadata": {},
   "outputs": [],
   "source": [
    "data.sort_index(inplace=True)\n",
    "data_h = data.resample('1H').sum()"
   ]
  },
  {
   "cell_type": "markdown",
   "metadata": {},
   "source": [
    "Проверка хронологического порядка данных:"
   ]
  },
  {
   "cell_type": "code",
   "execution_count": 87,
   "metadata": {},
   "outputs": [
    {
     "name": "stdout",
     "output_type": "stream",
     "text": [
      "True\n"
     ]
    }
   ],
   "source": [
    "print(data_h.index.is_monotonic)"
   ]
  },
  {
   "cell_type": "code",
   "execution_count": 88,
   "metadata": {},
   "outputs": [],
   "source": [
    "# Функция, выводящая основную информацию о датафрейме\n",
    "def about_df(data, size=5):\n",
    "    print(f'Вывод первых {size} строк датафрейма:')\n",
    "    pd.set_option('display.max_columns', 30)\n",
    "    display(data.head(size))\n",
    "    print('\\nВывод основной информации о датафрейме:')\n",
    "    data.info()\n",
    "    print('\\nКоличество пропусков в датафрейме:')\n",
    "    print(pd.DataFrame(np.array([data.isna().sum(), data.isna().mean()*100]).T, \n",
    "                                columns=['количество пропусков', 'доля пропусков, %'], index=data.columns))\n",
    "    print(f'\\nСуммарное количество пропусков в датафрейме: {data.isna().sum().sum()}, '\n",
    "          + f'доля пропусков: {data.isna().mean().sum()*100} %')\n",
    "    display(data.describe())"
   ]
  },
  {
   "cell_type": "markdown",
   "metadata": {},
   "source": [
    "Вывод основной информации о датафрейме data:"
   ]
  },
  {
   "cell_type": "code",
   "execution_count": 89,
   "metadata": {},
   "outputs": [
    {
     "name": "stdout",
     "output_type": "stream",
     "text": [
      "Вывод первых 5 строк датафрейма:\n"
     ]
    },
    {
     "data": {
      "text/html": [
       "<div>\n",
       "<style scoped>\n",
       "    .dataframe tbody tr th:only-of-type {\n",
       "        vertical-align: middle;\n",
       "    }\n",
       "\n",
       "    .dataframe tbody tr th {\n",
       "        vertical-align: top;\n",
       "    }\n",
       "\n",
       "    .dataframe thead th {\n",
       "        text-align: right;\n",
       "    }\n",
       "</style>\n",
       "<table border=\"1\" class=\"dataframe\">\n",
       "  <thead>\n",
       "    <tr style=\"text-align: right;\">\n",
       "      <th></th>\n",
       "      <th>num_orders</th>\n",
       "    </tr>\n",
       "    <tr>\n",
       "      <th>datetime</th>\n",
       "      <th></th>\n",
       "    </tr>\n",
       "  </thead>\n",
       "  <tbody>\n",
       "    <tr>\n",
       "      <th>2018-03-01 00:00:00</th>\n",
       "      <td>124</td>\n",
       "    </tr>\n",
       "    <tr>\n",
       "      <th>2018-03-01 01:00:00</th>\n",
       "      <td>85</td>\n",
       "    </tr>\n",
       "    <tr>\n",
       "      <th>2018-03-01 02:00:00</th>\n",
       "      <td>71</td>\n",
       "    </tr>\n",
       "    <tr>\n",
       "      <th>2018-03-01 03:00:00</th>\n",
       "      <td>66</td>\n",
       "    </tr>\n",
       "    <tr>\n",
       "      <th>2018-03-01 04:00:00</th>\n",
       "      <td>43</td>\n",
       "    </tr>\n",
       "  </tbody>\n",
       "</table>\n",
       "</div>"
      ],
      "text/plain": [
       "                     num_orders\n",
       "datetime                       \n",
       "2018-03-01 00:00:00         124\n",
       "2018-03-01 01:00:00          85\n",
       "2018-03-01 02:00:00          71\n",
       "2018-03-01 03:00:00          66\n",
       "2018-03-01 04:00:00          43"
      ]
     },
     "metadata": {},
     "output_type": "display_data"
    },
    {
     "name": "stdout",
     "output_type": "stream",
     "text": [
      "\n",
      "Вывод основной информации о датафрейме:\n",
      "<class 'pandas.core.frame.DataFrame'>\n",
      "DatetimeIndex: 4416 entries, 2018-03-01 00:00:00 to 2018-08-31 23:00:00\n",
      "Freq: H\n",
      "Data columns (total 1 columns):\n",
      " #   Column      Non-Null Count  Dtype\n",
      "---  ------      --------------  -----\n",
      " 0   num_orders  4416 non-null   int64\n",
      "dtypes: int64(1)\n",
      "memory usage: 69.0 KB\n",
      "\n",
      "Количество пропусков в датафрейме:\n",
      "            количество пропусков  доля пропусков, %\n",
      "num_orders                   0.0                0.0\n",
      "\n",
      "Суммарное количество пропусков в датафрейме: 0, доля пропусков: 0.0 %\n"
     ]
    },
    {
     "data": {
      "text/html": [
       "<div>\n",
       "<style scoped>\n",
       "    .dataframe tbody tr th:only-of-type {\n",
       "        vertical-align: middle;\n",
       "    }\n",
       "\n",
       "    .dataframe tbody tr th {\n",
       "        vertical-align: top;\n",
       "    }\n",
       "\n",
       "    .dataframe thead th {\n",
       "        text-align: right;\n",
       "    }\n",
       "</style>\n",
       "<table border=\"1\" class=\"dataframe\">\n",
       "  <thead>\n",
       "    <tr style=\"text-align: right;\">\n",
       "      <th></th>\n",
       "      <th>num_orders</th>\n",
       "    </tr>\n",
       "  </thead>\n",
       "  <tbody>\n",
       "    <tr>\n",
       "      <th>count</th>\n",
       "      <td>4416.000000</td>\n",
       "    </tr>\n",
       "    <tr>\n",
       "      <th>mean</th>\n",
       "      <td>84.422781</td>\n",
       "    </tr>\n",
       "    <tr>\n",
       "      <th>std</th>\n",
       "      <td>45.023853</td>\n",
       "    </tr>\n",
       "    <tr>\n",
       "      <th>min</th>\n",
       "      <td>0.000000</td>\n",
       "    </tr>\n",
       "    <tr>\n",
       "      <th>25%</th>\n",
       "      <td>54.000000</td>\n",
       "    </tr>\n",
       "    <tr>\n",
       "      <th>50%</th>\n",
       "      <td>78.000000</td>\n",
       "    </tr>\n",
       "    <tr>\n",
       "      <th>75%</th>\n",
       "      <td>107.000000</td>\n",
       "    </tr>\n",
       "    <tr>\n",
       "      <th>max</th>\n",
       "      <td>462.000000</td>\n",
       "    </tr>\n",
       "  </tbody>\n",
       "</table>\n",
       "</div>"
      ],
      "text/plain": [
       "        num_orders\n",
       "count  4416.000000\n",
       "mean     84.422781\n",
       "std      45.023853\n",
       "min       0.000000\n",
       "25%      54.000000\n",
       "50%      78.000000\n",
       "75%     107.000000\n",
       "max     462.000000"
      ]
     },
     "metadata": {},
     "output_type": "display_data"
    }
   ],
   "source": [
    "about_df(data_h)"
   ]
  },
  {
   "cell_type": "markdown",
   "metadata": {},
   "source": [
    "<b>Вывод:</b>\n",
    "- установлен индекс таблицы равным столбцу datetime;\n",
    "- выполнено ресемлирование данных по одному часу;\n",
    "- проведена проверка хронологического порядка данных;\n",
    "- датафрейм содержит 4416 строк и 1 столбец;\n",
    "- временной ряд содержит данные с марта по август 2018 года; \n",
    "- столбец num_orders является количественным целевым признаком (target), что соответствует задачи регрессии;\n",
    "- в датафрейме отсутствуют пропущенные значения."
   ]
  },
  {
   "cell_type": "markdown",
   "metadata": {},
   "source": [
    "## 2. Анализ"
   ]
  },
  {
   "cell_type": "markdown",
   "metadata": {},
   "source": [
    "Построим график заказов такси за весь период с марта по август 2018 года:"
   ]
  },
  {
   "cell_type": "code",
   "execution_count": 90,
   "metadata": {},
   "outputs": [
    {
     "data": {
      "image/png": "[encoded data removed]",
      "text/plain": [
       "<Figure size 1080x288 with 1 Axes>"
      ]
     },
     "metadata": {},
     "output_type": "display_data"
    }
   ],
   "source": [
    "sns.set(rc={'figure.figsize':(15,4)})\n",
    "fig, ax = plt.subplots()\n",
    "w = data_h.plot(ax=ax)\n",
    "w = data_h.rolling(24).mean().plot(ax=ax)\n",
    "w = data_h.rolling(168).mean().plot(ax=ax)\n",
    "w.set(title='Количество заказов такси март-август 2018', ylabel='количество заказов')\n",
    "ax.legend(labels=['количество заказов по часам','скользящее среднее за сутки','скользящее среднее за неделю'])\n",
    "plt.show()\n"
   ]
  },
  {
   "cell_type": "markdown",
   "metadata": {},
   "source": [
    "В изучаемом периоде наблюдается увеличение количества заказов такси в аэропорт. Больше всего заказов в августе, что, вероятней всего, связано с периодом отпусков.<br> Разложим временной ряд на три составляющие: тренд, сезонность и остаток, и построим их графики."
   ]
  },
  {
   "cell_type": "code",
   "execution_count": 91,
   "metadata": {},
   "outputs": [],
   "source": [
    "decomposed = seasonal_decompose(data_h)"
   ]
  },
  {
   "cell_type": "code",
   "execution_count": 92,
   "metadata": {},
   "outputs": [
    {
     "data": {
      "image/png": "[encoded data removed]",
      "text/plain": [
       "<Figure size 936x1008 with 3 Axes>"
      ]
     },
     "metadata": {},
     "output_type": "display_data"
    }
   ],
   "source": [
    "plt.figure(figsize = (13,14))\n",
    "plt.subplot(311)\n",
    "w=sns.lineplot(data=decomposed.trend)\n",
    "w.set(title='Тренд март-август 2018 по часам', ylabel='количество заказов')\n",
    "plt.subplot(312)\n",
    "w=sns.lineplot(data=decomposed.seasonal)\n",
    "w.set(title='Сезонность март-август 2018 по часам', ylabel='количество заказов')\n",
    "plt.subplot(313)\n",
    "w=sns.lineplot(data=decomposed.resid)\n",
    "w.set(title='Остатки март-август 2018 по часам', ylabel='количество заказов')\n",
    "plt.tight_layout()"
   ]
  },
  {
   "cell_type": "markdown",
   "metadata": {},
   "source": [
    "- тренд со временем растет, значительный рост наблюдается с мая и усиливается в июле-августе;\n",
    "- сезонность имеет период меньше месяца."
   ]
  },
  {
   "cell_type": "markdown",
   "metadata": {},
   "source": [
    "Продолжим исследование сезонности, для этого укрупним график, построим сезонность за первую неделю марта (с понедельника 5 марта по воскресенье 11 марта)."
   ]
  },
  {
   "cell_type": "code",
   "execution_count": 93,
   "metadata": {},
   "outputs": [
    {
     "data": {
      "image/png": "[encoded data removed]",
      "text/plain": [
       "<Figure size 1080x288 with 1 Axes>"
      ]
     },
     "metadata": {},
     "output_type": "display_data"
    }
   ],
   "source": [
    "sns.set(rc={'figure.figsize':(15,4)})\n",
    "w = decomposed.seasonal['2018-03-05':'2018-03-11'].plot()\n",
    "w.set(title='Сезонность 5 марта-11 марта 2018 по часам', ylabel='количество заказов')\n",
    "plt.show()"
   ]
  },
  {
   "cell_type": "markdown",
   "metadata": {},
   "source": [
    "Рассмотрим сезонность в течение дня:"
   ]
  },
  {
   "cell_type": "code",
   "execution_count": 94,
   "metadata": {},
   "outputs": [
    {
     "data": {
      "image/png": "[encoded data removed]",
      "text/plain": [
       "<Figure size 1080x288 with 1 Axes>"
      ]
     },
     "metadata": {},
     "output_type": "display_data"
    }
   ],
   "source": [
    "sns.set(rc={'figure.figsize':(15,4)})\n",
    "w = decomposed.seasonal['2018-03-05'].plot()\n",
    "w.set(title='Сезонность 5 марта 2018 по часам', ylabel='количество заказов')\n",
    "plt.show()"
   ]
  },
  {
   "cell_type": "markdown",
   "metadata": {},
   "source": [
    "Пик заказов такси приходится на ночь, к утру происходит спад, затем в течение дня количество заказов постепенно растет."
   ]
  },
  {
   "cell_type": "markdown",
   "metadata": {},
   "source": [
    "Сделаем ресемплинг данных по суткам:"
   ]
  },
  {
   "cell_type": "code",
   "execution_count": 95,
   "metadata": {},
   "outputs": [],
   "source": [
    "data_d = data.resample('1D').sum()"
   ]
  },
  {
   "cell_type": "markdown",
   "metadata": {},
   "source": [
    "Проверим хронологический порядок данных:"
   ]
  },
  {
   "cell_type": "code",
   "execution_count": 96,
   "metadata": {},
   "outputs": [
    {
     "data": {
      "text/plain": [
       "True"
      ]
     },
     "execution_count": 96,
     "metadata": {},
     "output_type": "execute_result"
    }
   ],
   "source": [
    "data_d.index.is_monotonic"
   ]
  },
  {
   "cell_type": "markdown",
   "metadata": {},
   "source": [
    "Разложим аналгично временной ряд на три составляющие: тренд, сезонность и остаток, и построим их графики."
   ]
  },
  {
   "cell_type": "code",
   "execution_count": 97,
   "metadata": {},
   "outputs": [],
   "source": [
    "decomposed = seasonal_decompose(data_d)"
   ]
  },
  {
   "cell_type": "code",
   "execution_count": 98,
   "metadata": {},
   "outputs": [
    {
     "data": {
      "image/png": "[encoded data removed]",
      "text/plain": [
       "<Figure size 936x1008 with 3 Axes>"
      ]
     },
     "metadata": {},
     "output_type": "display_data"
    }
   ],
   "source": [
    "plt.figure(figsize = (13,14))\n",
    "plt.subplot(311)\n",
    "w=sns.lineplot(data=decomposed.trend)\n",
    "w.set(title='Тренд март-август 2018 по дням', ylabel='количество заказов')\n",
    "plt.subplot(312)\n",
    "w=sns.lineplot(data=decomposed.seasonal)\n",
    "w.set(title='Сезонность март-август 2018 по дням', ylabel='количество заказов')\n",
    "plt.subplot(313)\n",
    "w=sns.lineplot(data=decomposed.resid)\n",
    "w.set(title='Остатки март-август 2018 по дням', ylabel='количество заказов')\n",
    "plt.tight_layout()"
   ]
  },
  {
   "cell_type": "markdown",
   "metadata": {},
   "source": [
    "Изучим сезонность за 14 дней марта:"
   ]
  },
  {
   "cell_type": "code",
   "execution_count": 99,
   "metadata": {},
   "outputs": [
    {
     "data": {
      "image/png": "[encoded data removed]",
      "text/plain": [
       "<Figure size 1080x288 with 1 Axes>"
      ]
     },
     "metadata": {},
     "output_type": "display_data"
    }
   ],
   "source": [
    "sns.set(rc={'figure.figsize':(15,4)})\n",
    "w = decomposed.seasonal['2018-03-05':'2018-03-18'].plot()\n",
    "w.set(title='Сезонность 5 марта-18 марта 2018 по дням', ylabel='количество заказов')\n",
    "plt.show()"
   ]
  },
  {
   "cell_type": "markdown",
   "metadata": {},
   "source": [
    "Пик заказов такси приходится на выходные и середину недели."
   ]
  },
  {
   "cell_type": "markdown",
   "metadata": {},
   "source": [
    "<b>Вывод:</b>\n",
    "- в изучаемом периоде наблюдается увеличение количества заказов такси в аэропорт, больше всего заказов в августе, что вероятней всего, связано с периодом отпусков;\n",
    "- тренд со временем растет, значительный рост наблюдается с мая и усиливается в июле-августе;\n",
    "- данные имеют суточную и недельную сезонность:\n",
    "    - пик заказов такси приходится на ночь, к утру происходит спад, затем в течение дня количество заказов постепенно растет;\n",
    "    - пик заказов такси приходится на выходные и середину недели."
   ]
  },
  {
   "cell_type": "markdown",
   "metadata": {},
   "source": [
    "## 3. Обучение"
   ]
  },
  {
   "cell_type": "markdown",
   "metadata": {},
   "source": [
    "### 3.1. Подготовка признаков для построения моделей"
   ]
  },
  {
   "cell_type": "markdown",
   "metadata": {},
   "source": [
    "На основании проведенного в п.2 анализа создадим важные для обучения признаки:\n",
    "- сезонность в течение дня --> добавим признак, обозначающий  час;\n",
    "- сезонность в течение недели --> добавим признак, обозначающий день недели.\n",
    "\n",
    "К этим признакам добавим:\n",
    "- предыдущие значения временного ряда;\n",
    "- скользящее среднее, которое задаёт общий тренд временного ряда."
   ]
  },
  {
   "cell_type": "code",
   "execution_count": 100,
   "metadata": {},
   "outputs": [],
   "source": [
    "# Функцию для создания признаков:\n",
    "def make_features(data, max_lag, rolling_mean_size):\n",
    "    data['hour'] = pd.to_datetime(data.index).hour\n",
    "    data['dayofweek'] = pd.to_datetime(data.index).dayofweek\n",
    "    for lag in range(1, max_lag + 1):\n",
    "        data['lag_{}'.format(lag)] = data['num_orders'].shift(lag)\n",
    "    data['rolling_mean'] = data['num_orders'].shift().rolling(rolling_mean_size).mean()\n",
    "    return data"
   ]
  },
  {
   "cell_type": "code",
   "execution_count": 101,
   "metadata": {},
   "outputs": [],
   "source": [
    "# Функция, разделяющая данные на обучающую и тестовую выборки\n",
    "def get_features(data):\n",
    "    features = data.drop('num_orders', axis=1)\n",
    "    target = data['num_orders']\n",
    "    # выделение 10% данных для тестовой выборок, остальные 90% — для обучающей\n",
    "    features_train, features_test, target_train, target_test = train_test_split(\n",
    "        features, target, shuffle=False, test_size=0.10)\n",
    "    return features_train, features_test, target_train, target_test"
   ]
  },
  {
   "cell_type": "markdown",
   "metadata": {},
   "source": [
    "При выборе размера окна и количества остающих значений мы можем использовать имеющуюся у нас информацию о сезонности, суточной или недельной.\n",
    "Создадим признаки с учетом суточной сезонности, возьмем max_lag и rolling_mean_size равными 24 (сутки):"
   ]
  },
  {
   "cell_type": "code",
   "execution_count": 102,
   "metadata": {},
   "outputs": [],
   "source": [
    "make_features(data_h, 24, 24);"
   ]
  },
  {
   "cell_type": "markdown",
   "metadata": {},
   "source": [
    "Удалим отсутствующие значения в признаках:"
   ]
  },
  {
   "cell_type": "code",
   "execution_count": 103,
   "metadata": {},
   "outputs": [],
   "source": [
    "data_h = data_h.dropna()"
   ]
  },
  {
   "cell_type": "markdown",
   "metadata": {},
   "source": [
    "Разделим данные на обучающую и тестовую выборки:"
   ]
  },
  {
   "cell_type": "code",
   "execution_count": 104,
   "metadata": {
    "scrolled": true
   },
   "outputs": [
    {
     "name": "stdout",
     "output_type": "stream",
     "text": [
      "(3952, 27) (3952,)\n"
     ]
    },
    {
     "data": {
      "text/plain": [
       "((440, 27), (440,))"
      ]
     },
     "execution_count": 104,
     "metadata": {},
     "output_type": "execute_result"
    }
   ],
   "source": [
    "features_train, features_test, target_train, target_test = get_features(data_h)\n",
    "print(features_train.shape, target_train.shape)\n",
    "features_test.shape, target_test.shape"
   ]
  },
  {
   "cell_type": "markdown",
   "metadata": {},
   "source": [
    "### 3.2. Построение модели"
   ]
  },
  {
   "cell_type": "markdown",
   "metadata": {},
   "source": [
    "Потроим 4 модели: линейную регрессию, решающее дерево, случайный лес и градиентный бустинг."
   ]
  },
  {
   "cell_type": "code",
   "execution_count": 105,
   "metadata": {},
   "outputs": [],
   "source": [
    "RANDOM_STATE = 12345"
   ]
  },
  {
   "cell_type": "code",
   "execution_count": 106,
   "metadata": {},
   "outputs": [],
   "source": [
    "tscv = TimeSeriesSplit(n_splits=3)"
   ]
  },
  {
   "cell_type": "markdown",
   "metadata": {},
   "source": [
    "#### Модель - линейная регрессия"
   ]
  },
  {
   "cell_type": "markdown",
   "metadata": {},
   "source": [
    "Объявление модели:"
   ]
  },
  {
   "cell_type": "code",
   "execution_count": 107,
   "metadata": {},
   "outputs": [],
   "source": [
    "model_lr = LinearRegression()"
   ]
  },
  {
   "cell_type": "markdown",
   "metadata": {},
   "source": [
    "Построение модели - линейная регрессия:"
   ]
  },
  {
   "cell_type": "code",
   "execution_count": 108,
   "metadata": {},
   "outputs": [
    {
     "name": "stdout",
     "output_type": "stream",
     "text": [
      "RMSE для линейной регрессии: 25.89102587885761\n"
     ]
    }
   ],
   "source": [
    "scores_lr = cross_val_score(model_lr, features_train, target_train, scoring='neg_root_mean_squared_error')\n",
    "model_lr.fit(features_train, target_train)\n",
    "print('RMSE для линейной регрессии:', -scores_lr.mean())"
   ]
  },
  {
   "cell_type": "markdown",
   "metadata": {},
   "source": [
    "#### 3.2.1. Модель - решающее дерево"
   ]
  },
  {
   "cell_type": "markdown",
   "metadata": {},
   "source": [
    "Объявление модели и параметров для нее:"
   ]
  },
  {
   "cell_type": "code",
   "execution_count": 109,
   "metadata": {},
   "outputs": [],
   "source": [
    "model_dt = DecisionTreeRegressor(random_state=RANDOM_STATE)\n",
    "parametrs = {'max_depth': range (5, 20, 5)}"
   ]
  },
  {
   "cell_type": "markdown",
   "metadata": {},
   "source": [
    "Построение модели - решающее дерево:"
   ]
  },
  {
   "cell_type": "code",
   "execution_count": 110,
   "metadata": {
    "scrolled": true
   },
   "outputs": [
    {
     "name": "stdout",
     "output_type": "stream",
     "text": [
      "RMSE для решающего дерева: 32.21567812183245\n",
      "Наилучшие параметры модели: {'max_depth': 5}\n"
     ]
    }
   ],
   "source": [
    "grid_dt = GridSearchCV(model_dt, parametrs, cv=tscv, scoring='neg_root_mean_squared_error')\n",
    "\n",
    "grid_dt.fit(features_train, target_train)\n",
    "print('RMSE для решающего дерева:', -grid_dt.best_score_)\n",
    "print('Наилучшие параметры модели:', grid_dt.best_params_)"
   ]
  },
  {
   "cell_type": "markdown",
   "metadata": {},
   "source": [
    "#### 3.2.2. Модель - случайный лес"
   ]
  },
  {
   "cell_type": "markdown",
   "metadata": {},
   "source": [
    "Объявление модели и параметров для нее:"
   ]
  },
  {
   "cell_type": "code",
   "execution_count": 111,
   "metadata": {},
   "outputs": [],
   "source": [
    "model_rf = RandomForestRegressor(random_state=RANDOM_STATE)\n",
    "parametrs = {'n_estimators': range (10, 30, 10),\n",
    "             'max_depth': range (5, 20, 5)}"
   ]
  },
  {
   "cell_type": "markdown",
   "metadata": {},
   "source": [
    "Построение модели - случайный лес:"
   ]
  },
  {
   "cell_type": "code",
   "execution_count": 112,
   "metadata": {},
   "outputs": [
    {
     "name": "stdout",
     "output_type": "stream",
     "text": [
      "RMSE для случайного леса: 27.590850072259073\n",
      "Наилучшие параметры модели: {'max_depth': 15, 'n_estimators': 20}\n"
     ]
    }
   ],
   "source": [
    "grid_rf = GridSearchCV(model_rf, parametrs, cv=tscv, scoring='neg_root_mean_squared_error')\n",
    "\n",
    "grid_rf.fit(features_train, target_train)\n",
    "print('RMSE для случайного леса:', -grid_rf.best_score_)\n",
    "print('Наилучшие параметры модели:', grid_rf.best_params_)"
   ]
  },
  {
   "cell_type": "markdown",
   "metadata": {},
   "source": [
    "#### 3.2.3. Модель - градиентый бустинг (библиотеки LightGBM)"
   ]
  },
  {
   "cell_type": "markdown",
   "metadata": {},
   "source": [
    "Объявление модели и параметров для нее:"
   ]
  },
  {
   "cell_type": "code",
   "execution_count": 113,
   "metadata": {},
   "outputs": [],
   "source": [
    "model_gb = LGBMRegressor()\n",
    "parametrs = {'num_leaves': range(2, 5)}"
   ]
  },
  {
   "cell_type": "markdown",
   "metadata": {},
   "source": [
    "Построение модели - градиентный бустинг:"
   ]
  },
  {
   "cell_type": "code",
   "execution_count": 114,
   "metadata": {},
   "outputs": [
    {
     "name": "stdout",
     "output_type": "stream",
     "text": [
      "RMSE для градиентного бустинга: 26.68907628300491\n",
      "Наилучшие параметры модели: {'num_leaves': 4}\n"
     ]
    }
   ],
   "source": [
    "grid_gb = GridSearchCV(model_gb, parametrs, cv=tscv, scoring='neg_root_mean_squared_error')\n",
    "\n",
    "grid_gb.fit(features_train, target_train)\n",
    "print('RMSE для градиентного бустинга:', -grid_gb.best_score_)\n",
    "print('Наилучшие параметры модели:', grid_gb.best_params_)"
   ]
  },
  {
   "cell_type": "markdown",
   "metadata": {},
   "source": [
    "### 3.3. Выбор лучшей модели"
   ]
  },
  {
   "cell_type": "code",
   "execution_count": 115,
   "metadata": {},
   "outputs": [
    {
     "data": {
      "text/html": [
       "<div>\n",
       "<style scoped>\n",
       "    .dataframe tbody tr th:only-of-type {\n",
       "        vertical-align: middle;\n",
       "    }\n",
       "\n",
       "    .dataframe tbody tr th {\n",
       "        vertical-align: top;\n",
       "    }\n",
       "\n",
       "    .dataframe thead th {\n",
       "        text-align: right;\n",
       "    }\n",
       "</style>\n",
       "<table border=\"1\" class=\"dataframe\">\n",
       "  <thead>\n",
       "    <tr style=\"text-align: right;\">\n",
       "      <th></th>\n",
       "      <th>RMSE</th>\n",
       "    </tr>\n",
       "  </thead>\n",
       "  <tbody>\n",
       "    <tr>\n",
       "      <th>линейная регрессия</th>\n",
       "      <td>25.891026</td>\n",
       "    </tr>\n",
       "    <tr>\n",
       "      <th>решающее дерево</th>\n",
       "      <td>32.215678</td>\n",
       "    </tr>\n",
       "    <tr>\n",
       "      <th>случайный лес</th>\n",
       "      <td>27.590850</td>\n",
       "    </tr>\n",
       "    <tr>\n",
       "      <th>градиентный бустинг</th>\n",
       "      <td>26.689076</td>\n",
       "    </tr>\n",
       "  </tbody>\n",
       "</table>\n",
       "</div>"
      ],
      "text/plain": [
       "                          RMSE\n",
       "линейная регрессия   25.891026\n",
       "решающее дерево      32.215678\n",
       "случайный лес        27.590850\n",
       "градиентный бустинг  26.689076"
      ]
     },
     "execution_count": 115,
     "metadata": {},
     "output_type": "execute_result"
    }
   ],
   "source": [
    "models_title = ['линейная регрессия', 'решающее дерево', 'случайный лес', 'градиентный бустинг']\n",
    "result = {\n",
    "    'RMSE': [-scores_lr.mean(), -grid_dt.best_score_, -grid_rf.best_score_, -grid_gb.best_score_]\n",
    "}\n",
    "pd.DataFrame(data=result, index=models_title)"
   ]
  },
  {
   "cell_type": "markdown",
   "metadata": {},
   "source": [
    "<b>Вывод:</b>\n",
    " В результате исследования определено:\n",
    "- по качеству (RMSE) :\n",
    "    - самое высокое качество у линейной регрессии, RMSE равно <b>25.89</b>;\n",
    "    - на втором месте - градиентный бустинг, RMSE равно <b>26.69</b> с гиперпараметром:\n",
    "        - num_leaves = 4;\n",
    "    - на третьем месте — случаный лес, RMSE равно <b>27.59</b> с гиперпараметрами:\n",
    "        - max_depth = 15, \n",
    "        - n_estimators = 20;\n",
    "    - самое низкое качество предсказания у решающего дерева, RMSE равно <b>32.22</b> с гиперпараметром:\n",
    "        - max_depth = 5."
   ]
  },
  {
   "cell_type": "markdown",
   "metadata": {},
   "source": [
    "## 4. Тестирование"
   ]
  },
  {
   "cell_type": "markdown",
   "metadata": {},
   "source": [
    "### 4.1. Проверка лучшей модели на тестовых данных:"
   ]
  },
  {
   "cell_type": "markdown",
   "metadata": {},
   "source": [
    "Выберем модель - линейная регрессия и проверим ее на тестовых данных."
   ]
  },
  {
   "cell_type": "code",
   "execution_count": 116,
   "metadata": {},
   "outputs": [
    {
     "name": "stdout",
     "output_type": "stream",
     "text": [
      "RMSE линейной регрессии: 45.224094905317585\n"
     ]
    }
   ],
   "source": [
    "predicted_test_lr = model_lr.predict(features_test)\n",
    "rmse_test_lr = mean_squared_error(target_test, predicted_test_lr, squared=False)\n",
    "print('RMSE линейной регрессии:', rmse_test_lr)"
   ]
  },
  {
   "cell_type": "markdown",
   "metadata": {},
   "source": [
    "### 4.2. Проверка модели на адекватность"
   ]
  },
  {
   "cell_type": "markdown",
   "metadata": {},
   "source": [
    "Для проверки адекватности создадим pred_previous, равный предыдущим значением ряда и вычислим RMSE такого предсказания:"
   ]
  },
  {
   "cell_type": "code",
   "execution_count": 117,
   "metadata": {
    "scrolled": true
   },
   "outputs": [
    {
     "name": "stdout",
     "output_type": "stream",
     "text": [
      "RMSE: 58.881776776551476\n"
     ]
    }
   ],
   "source": [
    "pred_previous = target_test.shift()\n",
    "pred_previous.iloc[0] = target_train.iloc[-1]\n",
    "print('RMSE:', mean_squared_error(target_test, pred_previous, squared=False))"
   ]
  },
  {
   "cell_type": "markdown",
   "metadata": {},
   "source": [
    "<b>Вывод:</b> \n",
    "В результате тестирования определено:\n",
    "- линейная регрессия имеет RMSE равное <b>45.22</b>;\n",
    "- построенная модель прошла поверку на адекватность."
   ]
  },
  {
   "cell_type": "markdown",
   "metadata": {},
   "source": [
    "<b>ОБЩИЕ ВЫВОДЫ:</b>\n",
    "\n",
    "В результате анализа данных определено:\n",
    "\n",
    "- временной ряд содержит данные с марта по август 2018 года;\n",
    "- в изучаемом периоде наблюдается увеличение количества заказов такси в аэропорт, больше всего заказов в августе, что связано с периодом отпусков;\n",
    "- тренд со временем растет, значительный рост наблюдается с мая и усиливается в июле-августе;\n",
    "- данные имеют суточную и недельную сезонность:\n",
    "    - пик заказов такси приходится на ночь, к утру происходит спад, затем в течение дня количество заказов постепенно растет;\n",
    "    - пик заказов такси приходится на выходные и середину недели.\n",
    "\n",
    "В результате исследования определено:\n",
    "- по качеству (RMSE) :\n",
    "    - самое высокое качество у линейной регрессии, RMSE равно <b>25.89</b>;\n",
    "    - на втором месте - градиентный бустинг, RMSE равно <b>26.69</b> с гиперпараметром:\n",
    "        - num_leaves = 4;\n",
    "    - на третьем месте — случаный лес, RMSE равно <b>27.59</b> с гиперпараметрами:\n",
    "        - max_depth = 15, \n",
    "        - n_estimators = 20;\n",
    "    - самое низкое качество предсказания у решающего дерева, RMSE равно <b>32.22</b> с гиперпараметром:\n",
    "        - max_depth = 5.\n",
    "        \n",
    "В результате тестирования определено:\n",
    "- линейная регрессия имеет RMSE равное <b>45.22</b>;\n",
    "- построенная модель прошли поверку на адекватность."
   ]
  },
  {
   "cell_type": "code",
   "execution_count": null,
   "metadata": {},
   "outputs": [],
   "source": []
  }
 ],
 "metadata": {
  "ExecuteTimeLog": [
   {
    "duration": 385,
    "start_time": "2023-08-29T18:56:55.791Z"
   },
   {
    "duration": 100,
    "start_time": "2023-08-29T18:57:50.594Z"
   },
   {
    "duration": 123,
    "start_time": "2023-08-29T18:58:25.556Z"
   },
   {
    "duration": 5,
    "start_time": "2023-08-29T18:58:45.203Z"
   },
   {
    "duration": 65,
    "start_time": "2023-08-29T18:59:18.153Z"
   },
   {
    "duration": 50,
    "start_time": "2023-08-29T19:00:14.507Z"
   },
   {
    "duration": 9,
    "start_time": "2023-08-29T19:02:30.866Z"
   },
   {
    "duration": 6,
    "start_time": "2023-08-29T19:02:32.346Z"
   },
   {
    "duration": 25,
    "start_time": "2023-08-29T19:02:34.093Z"
   },
   {
    "duration": 144,
    "start_time": "2023-08-29T19:07:10.266Z"
   },
   {
    "duration": 50,
    "start_time": "2023-08-29T19:07:16.560Z"
   },
   {
    "duration": 61,
    "start_time": "2023-08-29T19:07:46.626Z"
   },
   {
    "duration": 103,
    "start_time": "2023-08-29T19:10:38.298Z"
   },
   {
    "duration": 992,
    "start_time": "2023-08-29T19:13:20.522Z"
   },
   {
    "duration": 597,
    "start_time": "2023-08-29T19:13:26.651Z"
   },
   {
    "duration": 202,
    "start_time": "2023-08-29T19:14:01.448Z"
   },
   {
    "duration": 4,
    "start_time": "2023-08-29T19:18:54.400Z"
   },
   {
    "duration": 51,
    "start_time": "2023-08-29T19:19:21.439Z"
   },
   {
    "duration": 12,
    "start_time": "2023-08-29T19:20:15.804Z"
   },
   {
    "duration": 5,
    "start_time": "2023-08-29T19:20:31.149Z"
   },
   {
    "duration": 13,
    "start_time": "2023-08-29T19:20:40.141Z"
   },
   {
    "duration": 10,
    "start_time": "2023-08-29T19:21:32.254Z"
   },
   {
    "duration": 62,
    "start_time": "2023-08-29T19:23:57.813Z"
   },
   {
    "duration": 64,
    "start_time": "2023-08-29T19:24:04.891Z"
   },
   {
    "duration": 3,
    "start_time": "2023-08-29T19:32:43.397Z"
   },
   {
    "duration": 9,
    "start_time": "2023-08-29T19:32:53.710Z"
   },
   {
    "duration": 10,
    "start_time": "2023-08-29T19:35:18.741Z"
   },
   {
    "duration": 10,
    "start_time": "2023-08-29T19:35:47.290Z"
   },
   {
    "duration": 8,
    "start_time": "2023-08-29T19:35:54.696Z"
   },
   {
    "duration": 4,
    "start_time": "2023-08-29T19:36:17.945Z"
   },
   {
    "duration": 120,
    "start_time": "2023-08-29T19:36:17.951Z"
   },
   {
    "duration": 73,
    "start_time": "2023-08-29T19:36:18.072Z"
   },
   {
    "duration": 53,
    "start_time": "2023-08-29T19:36:18.147Z"
   },
   {
    "duration": 59,
    "start_time": "2023-08-29T19:36:18.201Z"
   },
   {
    "duration": 248,
    "start_time": "2023-08-29T19:36:18.262Z"
   },
   {
    "duration": 26,
    "start_time": "2023-08-29T19:36:18.512Z"
   },
   {
    "duration": 163,
    "start_time": "2023-08-29T19:36:18.539Z"
   },
   {
    "duration": 9,
    "start_time": "2023-08-29T19:36:26.597Z"
   },
   {
    "duration": 4,
    "start_time": "2023-08-29T19:37:03.668Z"
   },
   {
    "duration": 1538,
    "start_time": "2023-08-29T19:37:11.550Z"
   },
   {
    "duration": 4,
    "start_time": "2023-08-29T19:37:41.583Z"
   },
   {
    "duration": 21,
    "start_time": "2023-08-29T19:37:43.478Z"
   },
   {
    "duration": 31,
    "start_time": "2023-08-29T19:37:56.178Z"
   },
   {
    "duration": 9,
    "start_time": "2023-08-29T19:38:33.583Z"
   },
   {
    "duration": 258,
    "start_time": "2023-08-29T19:39:06.319Z"
   },
   {
    "duration": 8,
    "start_time": "2023-08-29T19:39:11.950Z"
   },
   {
    "duration": 4,
    "start_time": "2023-08-29T19:40:30.973Z"
   },
   {
    "duration": 9,
    "start_time": "2023-08-29T19:42:27.437Z"
   },
   {
    "duration": 23,
    "start_time": "2023-08-29T19:42:39.178Z"
   },
   {
    "duration": 18,
    "start_time": "2023-08-29T19:42:44.057Z"
   },
   {
    "duration": 15,
    "start_time": "2023-08-29T19:42:58.725Z"
   },
   {
    "duration": 7,
    "start_time": "2023-08-29T19:43:30.738Z"
   },
   {
    "duration": 6,
    "start_time": "2023-08-29T19:43:31.633Z"
   },
   {
    "duration": 10,
    "start_time": "2023-08-29T19:43:44.278Z"
   },
   {
    "duration": 4,
    "start_time": "2023-08-29T19:44:54.923Z"
   },
   {
    "duration": 23,
    "start_time": "2023-08-29T19:48:27.710Z"
   },
   {
    "duration": 3,
    "start_time": "2023-08-29T19:48:45.760Z"
   },
   {
    "duration": 2,
    "start_time": "2023-08-29T19:50:55.139Z"
   },
   {
    "duration": 3,
    "start_time": "2023-08-29T19:53:42.768Z"
   },
   {
    "duration": 12,
    "start_time": "2023-08-29T19:53:45.643Z"
   },
   {
    "duration": 16,
    "start_time": "2023-08-29T19:54:06.045Z"
   },
   {
    "duration": 26,
    "start_time": "2023-08-29T19:54:23.114Z"
   },
   {
    "duration": 8,
    "start_time": "2023-08-29T19:55:09.909Z"
   },
   {
    "duration": 13,
    "start_time": "2023-08-29T19:55:11.291Z"
   },
   {
    "duration": 3,
    "start_time": "2023-08-29T19:55:58.044Z"
   },
   {
    "duration": 67,
    "start_time": "2023-08-29T19:55:58.050Z"
   },
   {
    "duration": 19,
    "start_time": "2023-08-29T19:55:58.119Z"
   },
   {
    "duration": 8,
    "start_time": "2023-08-29T19:55:58.140Z"
   },
   {
    "duration": 29,
    "start_time": "2023-08-29T19:55:58.150Z"
   },
   {
    "duration": 269,
    "start_time": "2023-08-29T19:55:58.180Z"
   },
   {
    "duration": 4,
    "start_time": "2023-08-29T19:55:58.451Z"
   },
   {
    "duration": 34,
    "start_time": "2023-08-29T19:55:58.456Z"
   },
   {
    "duration": 33,
    "start_time": "2023-08-29T19:55:58.492Z"
   },
   {
    "duration": 21,
    "start_time": "2023-08-29T19:55:58.528Z"
   },
   {
    "duration": 8,
    "start_time": "2023-08-29T19:55:58.551Z"
   },
   {
    "duration": 16,
    "start_time": "2023-08-29T19:55:58.561Z"
   },
   {
    "duration": 41,
    "start_time": "2023-08-29T19:56:11.313Z"
   },
   {
    "duration": 4,
    "start_time": "2023-08-29T19:59:06.014Z"
   },
   {
    "duration": 8,
    "start_time": "2023-08-29T19:59:20.332Z"
   },
   {
    "duration": 55,
    "start_time": "2023-08-29T19:59:20.343Z"
   },
   {
    "duration": 7,
    "start_time": "2023-08-29T19:59:20.400Z"
   },
   {
    "duration": 5,
    "start_time": "2023-08-29T19:59:20.409Z"
   },
   {
    "duration": 33,
    "start_time": "2023-08-29T19:59:20.416Z"
   },
   {
    "duration": 311,
    "start_time": "2023-08-29T19:59:20.451Z"
   },
   {
    "duration": 4,
    "start_time": "2023-08-29T19:59:20.764Z"
   },
   {
    "duration": 37,
    "start_time": "2023-08-29T19:59:20.770Z"
   },
   {
    "duration": 27,
    "start_time": "2023-08-29T19:59:20.809Z"
   },
   {
    "duration": 19,
    "start_time": "2023-08-29T19:59:20.837Z"
   },
   {
    "duration": 0,
    "start_time": "2023-08-29T19:59:20.857Z"
   },
   {
    "duration": 0,
    "start_time": "2023-08-29T19:59:20.858Z"
   },
   {
    "duration": 0,
    "start_time": "2023-08-29T19:59:20.859Z"
   },
   {
    "duration": 0,
    "start_time": "2023-08-29T19:59:20.861Z"
   },
   {
    "duration": 4,
    "start_time": "2023-08-29T19:59:44.699Z"
   },
   {
    "duration": 60,
    "start_time": "2023-08-29T19:59:44.705Z"
   },
   {
    "duration": 6,
    "start_time": "2023-08-29T19:59:44.767Z"
   },
   {
    "duration": 4,
    "start_time": "2023-08-29T19:59:44.775Z"
   },
   {
    "duration": 25,
    "start_time": "2023-08-29T19:59:44.780Z"
   },
   {
    "duration": 229,
    "start_time": "2023-08-29T19:59:44.807Z"
   },
   {
    "duration": 5,
    "start_time": "2023-08-29T19:59:45.039Z"
   },
   {
    "duration": 32,
    "start_time": "2023-08-29T19:59:45.045Z"
   },
   {
    "duration": 7,
    "start_time": "2023-08-29T19:59:45.078Z"
   },
   {
    "duration": 10,
    "start_time": "2023-08-29T19:59:45.086Z"
   },
   {
    "duration": 4,
    "start_time": "2023-08-29T19:59:45.098Z"
   },
   {
    "duration": 41,
    "start_time": "2023-08-29T19:59:45.103Z"
   },
   {
    "duration": 12,
    "start_time": "2023-08-29T19:59:45.145Z"
   },
   {
    "duration": 68,
    "start_time": "2023-08-29T19:59:45.159Z"
   },
   {
    "duration": 98,
    "start_time": "2023-08-29T20:08:09.463Z"
   },
   {
    "duration": 5,
    "start_time": "2023-08-29T20:08:50.933Z"
   },
   {
    "duration": 61,
    "start_time": "2023-08-29T20:08:50.940Z"
   },
   {
    "duration": 7,
    "start_time": "2023-08-29T20:08:51.002Z"
   },
   {
    "duration": 26,
    "start_time": "2023-08-29T20:08:51.011Z"
   },
   {
    "duration": 47,
    "start_time": "2023-08-29T20:08:51.040Z"
   },
   {
    "duration": 228,
    "start_time": "2023-08-29T20:08:51.088Z"
   },
   {
    "duration": 8,
    "start_time": "2023-08-29T20:08:51.323Z"
   },
   {
    "duration": 53,
    "start_time": "2023-08-29T20:08:51.333Z"
   },
   {
    "duration": 7,
    "start_time": "2023-08-29T20:08:51.388Z"
   },
   {
    "duration": 40,
    "start_time": "2023-08-29T20:08:51.397Z"
   },
   {
    "duration": 28,
    "start_time": "2023-08-29T20:08:51.439Z"
   },
   {
    "duration": 43,
    "start_time": "2023-08-29T20:08:51.469Z"
   },
   {
    "duration": 16,
    "start_time": "2023-08-29T20:08:51.514Z"
   },
   {
    "duration": 30,
    "start_time": "2023-08-29T20:08:51.532Z"
   },
   {
    "duration": 22,
    "start_time": "2023-08-29T20:09:26.190Z"
   },
   {
    "duration": 3,
    "start_time": "2023-08-29T20:10:44.119Z"
   },
   {
    "duration": 66,
    "start_time": "2023-08-29T20:10:44.125Z"
   },
   {
    "duration": 7,
    "start_time": "2023-08-29T20:10:44.193Z"
   },
   {
    "duration": 21,
    "start_time": "2023-08-29T20:10:44.201Z"
   },
   {
    "duration": 45,
    "start_time": "2023-08-29T20:10:44.229Z"
   },
   {
    "duration": 299,
    "start_time": "2023-08-29T20:10:44.276Z"
   },
   {
    "duration": 4,
    "start_time": "2023-08-29T20:10:44.576Z"
   },
   {
    "duration": 36,
    "start_time": "2023-08-29T20:10:44.581Z"
   },
   {
    "duration": 13,
    "start_time": "2023-08-29T20:10:44.619Z"
   },
   {
    "duration": 26,
    "start_time": "2023-08-29T20:10:44.634Z"
   },
   {
    "duration": 10,
    "start_time": "2023-08-29T20:10:44.662Z"
   },
   {
    "duration": 4,
    "start_time": "2023-08-29T20:10:44.673Z"
   },
   {
    "duration": 12,
    "start_time": "2023-08-29T20:10:44.679Z"
   },
   {
    "duration": 8,
    "start_time": "2023-08-29T20:10:44.692Z"
   },
   {
    "duration": 45,
    "start_time": "2023-08-29T20:10:44.702Z"
   },
   {
    "duration": 4,
    "start_time": "2023-08-29T20:11:19.997Z"
   },
   {
    "duration": 3,
    "start_time": "2023-08-29T20:11:23.088Z"
   },
   {
    "duration": 78,
    "start_time": "2023-08-29T20:11:23.093Z"
   },
   {
    "duration": 6,
    "start_time": "2023-08-29T20:11:23.174Z"
   },
   {
    "duration": 9,
    "start_time": "2023-08-29T20:11:23.182Z"
   },
   {
    "duration": 40,
    "start_time": "2023-08-29T20:11:23.193Z"
   },
   {
    "duration": 227,
    "start_time": "2023-08-29T20:11:23.237Z"
   },
   {
    "duration": 4,
    "start_time": "2023-08-29T20:11:23.466Z"
   },
   {
    "duration": 42,
    "start_time": "2023-08-29T20:11:23.472Z"
   },
   {
    "duration": 16,
    "start_time": "2023-08-29T20:11:23.524Z"
   },
   {
    "duration": 24,
    "start_time": "2023-08-29T20:11:23.543Z"
   },
   {
    "duration": 11,
    "start_time": "2023-08-29T20:11:23.569Z"
   },
   {
    "duration": 4,
    "start_time": "2023-08-29T20:11:23.582Z"
   },
   {
    "duration": 12,
    "start_time": "2023-08-29T20:11:23.588Z"
   },
   {
    "duration": 30,
    "start_time": "2023-08-29T20:11:23.602Z"
   },
   {
    "duration": 28,
    "start_time": "2023-08-29T20:11:23.633Z"
   },
   {
    "duration": 4,
    "start_time": "2023-08-29T20:11:56.683Z"
   },
   {
    "duration": 63,
    "start_time": "2023-08-29T20:11:56.692Z"
   },
   {
    "duration": 9,
    "start_time": "2023-08-29T20:11:56.762Z"
   },
   {
    "duration": 6,
    "start_time": "2023-08-29T20:11:56.772Z"
   },
   {
    "duration": 29,
    "start_time": "2023-08-29T20:11:56.780Z"
   },
   {
    "duration": 249,
    "start_time": "2023-08-29T20:11:56.811Z"
   },
   {
    "duration": 4,
    "start_time": "2023-08-29T20:11:57.062Z"
   },
   {
    "duration": 30,
    "start_time": "2023-08-29T20:11:57.068Z"
   },
   {
    "duration": 29,
    "start_time": "2023-08-29T20:11:57.100Z"
   },
   {
    "duration": 23,
    "start_time": "2023-08-29T20:11:57.134Z"
   },
   {
    "duration": 11,
    "start_time": "2023-08-29T20:11:57.160Z"
   },
   {
    "duration": 5,
    "start_time": "2023-08-29T20:11:57.173Z"
   },
   {
    "duration": 16,
    "start_time": "2023-08-29T20:11:57.180Z"
   },
   {
    "duration": 2,
    "start_time": "2023-08-29T20:11:57.198Z"
   },
   {
    "duration": 36,
    "start_time": "2023-08-29T20:11:57.202Z"
   },
   {
    "duration": 3,
    "start_time": "2023-08-29T20:14:43.739Z"
   },
   {
    "duration": 74,
    "start_time": "2023-08-29T20:14:43.744Z"
   },
   {
    "duration": 16,
    "start_time": "2023-08-29T20:14:43.820Z"
   },
   {
    "duration": 45,
    "start_time": "2023-08-29T20:14:43.837Z"
   },
   {
    "duration": 39,
    "start_time": "2023-08-29T20:14:43.885Z"
   },
   {
    "duration": 235,
    "start_time": "2023-08-29T20:14:43.925Z"
   },
   {
    "duration": 3,
    "start_time": "2023-08-29T20:14:44.162Z"
   },
   {
    "duration": 28,
    "start_time": "2023-08-29T20:14:44.167Z"
   },
   {
    "duration": 6,
    "start_time": "2023-08-29T20:14:44.197Z"
   },
   {
    "duration": 35,
    "start_time": "2023-08-29T20:14:44.205Z"
   },
   {
    "duration": 10,
    "start_time": "2023-08-29T20:14:44.243Z"
   },
   {
    "duration": 6,
    "start_time": "2023-08-29T20:14:44.255Z"
   },
   {
    "duration": 19,
    "start_time": "2023-08-29T20:14:44.263Z"
   },
   {
    "duration": 4,
    "start_time": "2023-08-29T20:14:44.283Z"
   },
   {
    "duration": 41,
    "start_time": "2023-08-29T20:14:44.289Z"
   },
   {
    "duration": 3,
    "start_time": "2023-08-29T20:16:32.443Z"
   },
   {
    "duration": 78,
    "start_time": "2023-08-29T20:16:32.449Z"
   },
   {
    "duration": 12,
    "start_time": "2023-08-29T20:16:32.531Z"
   },
   {
    "duration": 5,
    "start_time": "2023-08-29T20:16:32.545Z"
   },
   {
    "duration": 33,
    "start_time": "2023-08-29T20:16:32.552Z"
   },
   {
    "duration": 374,
    "start_time": "2023-08-29T20:16:32.587Z"
   },
   {
    "duration": 5,
    "start_time": "2023-08-29T20:16:32.963Z"
   },
   {
    "duration": 33,
    "start_time": "2023-08-29T20:16:32.969Z"
   },
   {
    "duration": 28,
    "start_time": "2023-08-29T20:16:33.004Z"
   },
   {
    "duration": 22,
    "start_time": "2023-08-29T20:16:33.033Z"
   },
   {
    "duration": 4,
    "start_time": "2023-08-29T20:16:33.057Z"
   },
   {
    "duration": 15,
    "start_time": "2023-08-29T20:16:33.063Z"
   },
   {
    "duration": 84,
    "start_time": "2023-08-29T20:16:33.080Z"
   },
   {
    "duration": 0,
    "start_time": "2023-08-29T20:16:33.166Z"
   },
   {
    "duration": 0,
    "start_time": "2023-08-29T20:16:33.167Z"
   },
   {
    "duration": 0,
    "start_time": "2023-08-29T20:16:33.169Z"
   },
   {
    "duration": 7,
    "start_time": "2023-08-29T20:16:46.609Z"
   },
   {
    "duration": 74,
    "start_time": "2023-08-29T20:16:46.618Z"
   },
   {
    "duration": 7,
    "start_time": "2023-08-29T20:16:46.694Z"
   },
   {
    "duration": 17,
    "start_time": "2023-08-29T20:16:46.703Z"
   },
   {
    "duration": 55,
    "start_time": "2023-08-29T20:16:46.722Z"
   },
   {
    "duration": 234,
    "start_time": "2023-08-29T20:16:46.779Z"
   },
   {
    "duration": 14,
    "start_time": "2023-08-29T20:16:47.015Z"
   },
   {
    "duration": 35,
    "start_time": "2023-08-29T20:16:47.036Z"
   },
   {
    "duration": 8,
    "start_time": "2023-08-29T20:16:47.074Z"
   },
   {
    "duration": 30,
    "start_time": "2023-08-29T20:16:47.083Z"
   },
   {
    "duration": 3,
    "start_time": "2023-08-29T20:16:47.115Z"
   },
   {
    "duration": 22,
    "start_time": "2023-08-29T20:16:47.120Z"
   },
   {
    "duration": 21,
    "start_time": "2023-08-29T20:16:47.143Z"
   },
   {
    "duration": 10,
    "start_time": "2023-08-29T20:16:47.165Z"
   },
   {
    "duration": 63,
    "start_time": "2023-08-29T20:16:47.177Z"
   },
   {
    "duration": 4,
    "start_time": "2023-08-29T20:17:29.743Z"
   },
   {
    "duration": 84,
    "start_time": "2023-08-29T20:17:29.749Z"
   },
   {
    "duration": 9,
    "start_time": "2023-08-29T20:17:29.835Z"
   },
   {
    "duration": 6,
    "start_time": "2023-08-29T20:17:29.849Z"
   },
   {
    "duration": 36,
    "start_time": "2023-08-29T20:17:29.858Z"
   },
   {
    "duration": 255,
    "start_time": "2023-08-29T20:17:29.895Z"
   },
   {
    "duration": 6,
    "start_time": "2023-08-29T20:17:30.154Z"
   },
   {
    "duration": 113,
    "start_time": "2023-08-29T20:17:30.162Z"
   },
   {
    "duration": 77,
    "start_time": "2023-08-29T20:17:30.278Z"
   },
   {
    "duration": 179,
    "start_time": "2023-08-29T20:17:30.358Z"
   },
   {
    "duration": 49,
    "start_time": "2023-08-29T20:17:30.539Z"
   },
   {
    "duration": 166,
    "start_time": "2023-08-29T20:17:30.590Z"
   },
   {
    "duration": 319,
    "start_time": "2023-08-29T20:17:30.757Z"
   },
   {
    "duration": 21,
    "start_time": "2023-08-29T20:17:31.078Z"
   },
   {
    "duration": 159,
    "start_time": "2023-08-29T20:17:31.101Z"
   },
   {
    "duration": 3,
    "start_time": "2023-08-29T20:17:58.199Z"
   },
   {
    "duration": 61,
    "start_time": "2023-08-29T20:17:58.205Z"
   },
   {
    "duration": 7,
    "start_time": "2023-08-29T20:17:58.268Z"
   },
   {
    "duration": 14,
    "start_time": "2023-08-29T20:17:58.277Z"
   },
   {
    "duration": 43,
    "start_time": "2023-08-29T20:17:58.293Z"
   },
   {
    "duration": 218,
    "start_time": "2023-08-29T20:17:58.338Z"
   },
   {
    "duration": 6,
    "start_time": "2023-08-29T20:17:58.557Z"
   },
   {
    "duration": 44,
    "start_time": "2023-08-29T20:17:58.564Z"
   },
   {
    "duration": 19,
    "start_time": "2023-08-29T20:17:58.610Z"
   },
   {
    "duration": 43,
    "start_time": "2023-08-29T20:17:58.631Z"
   },
   {
    "duration": 4,
    "start_time": "2023-08-29T20:17:58.678Z"
   },
   {
    "duration": 19,
    "start_time": "2023-08-29T20:17:58.684Z"
   },
   {
    "duration": 16,
    "start_time": "2023-08-29T20:17:58.705Z"
   },
   {
    "duration": 7,
    "start_time": "2023-08-29T20:17:58.723Z"
   },
   {
    "duration": 29,
    "start_time": "2023-08-29T20:17:58.732Z"
   },
   {
    "duration": 4,
    "start_time": "2023-08-29T20:18:19.924Z"
   },
   {
    "duration": 62,
    "start_time": "2023-08-29T20:18:19.930Z"
   },
   {
    "duration": 8,
    "start_time": "2023-08-29T20:18:19.994Z"
   },
   {
    "duration": 20,
    "start_time": "2023-08-29T20:18:20.004Z"
   },
   {
    "duration": 67,
    "start_time": "2023-08-29T20:18:20.026Z"
   },
   {
    "duration": 240,
    "start_time": "2023-08-29T20:18:20.095Z"
   },
   {
    "duration": 10,
    "start_time": "2023-08-29T20:18:20.337Z"
   },
   {
    "duration": 174,
    "start_time": "2023-08-29T20:18:20.349Z"
   },
   {
    "duration": 97,
    "start_time": "2023-08-29T20:18:20.526Z"
   },
   {
    "duration": 46,
    "start_time": "2023-08-29T20:18:20.625Z"
   },
   {
    "duration": 4,
    "start_time": "2023-08-29T20:18:20.673Z"
   },
   {
    "duration": 34,
    "start_time": "2023-08-29T20:18:20.679Z"
   },
   {
    "duration": 2,
    "start_time": "2023-08-29T20:18:20.715Z"
   },
   {
    "duration": 12,
    "start_time": "2023-08-29T20:18:20.719Z"
   },
   {
    "duration": 23,
    "start_time": "2023-08-29T20:18:20.732Z"
   },
   {
    "duration": 5,
    "start_time": "2023-08-29T20:18:32.125Z"
   },
   {
    "duration": 102,
    "start_time": "2023-08-29T20:18:32.137Z"
   },
   {
    "duration": 10,
    "start_time": "2023-08-29T20:18:32.241Z"
   },
   {
    "duration": 45,
    "start_time": "2023-08-29T20:18:32.253Z"
   },
   {
    "duration": 58,
    "start_time": "2023-08-29T20:18:32.300Z"
   },
   {
    "duration": 235,
    "start_time": "2023-08-29T20:18:32.361Z"
   },
   {
    "duration": 4,
    "start_time": "2023-08-29T20:18:32.597Z"
   },
   {
    "duration": 116,
    "start_time": "2023-08-29T20:18:32.603Z"
   },
   {
    "duration": 88,
    "start_time": "2023-08-29T20:18:32.720Z"
   },
   {
    "duration": 124,
    "start_time": "2023-08-29T20:18:32.809Z"
   },
   {
    "duration": 67,
    "start_time": "2023-08-29T20:18:32.935Z"
   },
   {
    "duration": 107,
    "start_time": "2023-08-29T20:18:33.004Z"
   },
   {
    "duration": 285,
    "start_time": "2023-08-29T20:18:33.112Z"
   },
   {
    "duration": 37,
    "start_time": "2023-08-29T20:18:33.398Z"
   },
   {
    "duration": 27,
    "start_time": "2023-08-29T20:18:33.438Z"
   },
   {
    "duration": 10,
    "start_time": "2023-08-29T20:20:58.190Z"
   },
   {
    "duration": 20,
    "start_time": "2023-08-29T20:21:27.867Z"
   },
   {
    "duration": 3,
    "start_time": "2023-08-29T20:21:35.484Z"
   },
   {
    "duration": 17,
    "start_time": "2023-08-29T20:23:08.113Z"
   },
   {
    "duration": 7,
    "start_time": "2023-08-29T20:23:33.932Z"
   },
   {
    "duration": 9,
    "start_time": "2023-08-29T20:23:37.626Z"
   },
   {
    "duration": 3,
    "start_time": "2023-08-29T20:23:53.012Z"
   },
   {
    "duration": 151,
    "start_time": "2023-08-29T20:23:59.989Z"
   },
   {
    "duration": 13,
    "start_time": "2023-08-29T20:25:00.044Z"
   },
   {
    "duration": 11,
    "start_time": "2023-08-29T20:25:23.853Z"
   },
   {
    "duration": 3,
    "start_time": "2023-08-29T20:25:28.653Z"
   },
   {
    "duration": 3710,
    "start_time": "2023-08-29T20:28:41.874Z"
   },
   {
    "duration": 3472,
    "start_time": "2023-08-29T20:29:00.919Z"
   },
   {
    "duration": 3,
    "start_time": "2023-08-29T20:29:41.571Z"
   },
   {
    "duration": 6005,
    "start_time": "2023-08-29T20:29:42.740Z"
   },
   {
    "duration": 6,
    "start_time": "2023-08-29T20:30:03.650Z"
   },
   {
    "duration": 3671,
    "start_time": "2023-08-29T20:30:04.809Z"
   },
   {
    "duration": 6,
    "start_time": "2023-08-29T20:30:34.951Z"
   },
   {
    "duration": 230,
    "start_time": "2023-08-29T20:30:35.982Z"
   },
   {
    "duration": 3,
    "start_time": "2023-08-29T20:30:49.720Z"
   },
   {
    "duration": 244,
    "start_time": "2023-08-29T20:30:50.901Z"
   },
   {
    "duration": 4,
    "start_time": "2023-08-29T20:35:23.154Z"
   },
   {
    "duration": 4,
    "start_time": "2023-08-29T20:41:35.675Z"
   },
   {
    "duration": 77,
    "start_time": "2023-08-29T20:41:35.681Z"
   },
   {
    "duration": 7,
    "start_time": "2023-08-29T20:41:35.760Z"
   },
   {
    "duration": 31,
    "start_time": "2023-08-29T20:41:35.768Z"
   },
   {
    "duration": 9,
    "start_time": "2023-08-29T20:41:35.801Z"
   },
   {
    "duration": 45,
    "start_time": "2023-08-29T20:41:35.812Z"
   },
   {
    "duration": 256,
    "start_time": "2023-08-29T20:41:35.859Z"
   },
   {
    "duration": 13,
    "start_time": "2023-08-29T20:41:36.116Z"
   },
   {
    "duration": 58,
    "start_time": "2023-08-29T20:41:36.135Z"
   },
   {
    "duration": 7,
    "start_time": "2023-08-29T20:41:36.194Z"
   },
   {
    "duration": 90,
    "start_time": "2023-08-29T20:41:36.203Z"
   },
   {
    "duration": 5,
    "start_time": "2023-08-29T20:41:36.295Z"
   },
   {
    "duration": 35,
    "start_time": "2023-08-29T20:41:36.302Z"
   },
   {
    "duration": 5,
    "start_time": "2023-08-29T20:41:36.338Z"
   },
   {
    "duration": 21,
    "start_time": "2023-08-29T20:41:36.345Z"
   },
   {
    "duration": 46,
    "start_time": "2023-08-29T20:41:36.368Z"
   },
   {
    "duration": 0,
    "start_time": "2023-08-29T20:41:36.416Z"
   },
   {
    "duration": 0,
    "start_time": "2023-08-29T20:41:36.417Z"
   },
   {
    "duration": 0,
    "start_time": "2023-08-29T20:41:36.418Z"
   },
   {
    "duration": 0,
    "start_time": "2023-08-29T20:41:36.419Z"
   },
   {
    "duration": 4,
    "start_time": "2023-08-29T20:43:14.111Z"
   },
   {
    "duration": 52,
    "start_time": "2023-08-29T20:43:14.119Z"
   },
   {
    "duration": 7,
    "start_time": "2023-08-29T20:43:14.173Z"
   },
   {
    "duration": 3,
    "start_time": "2023-08-29T20:43:14.182Z"
   },
   {
    "duration": 11,
    "start_time": "2023-08-29T20:43:14.187Z"
   },
   {
    "duration": 34,
    "start_time": "2023-08-29T20:43:14.199Z"
   },
   {
    "duration": 213,
    "start_time": "2023-08-29T20:43:14.234Z"
   },
   {
    "duration": 4,
    "start_time": "2023-08-29T20:43:14.449Z"
   },
   {
    "duration": 35,
    "start_time": "2023-08-29T20:43:14.454Z"
   },
   {
    "duration": 6,
    "start_time": "2023-08-29T20:43:14.491Z"
   },
   {
    "duration": 42,
    "start_time": "2023-08-29T20:43:14.499Z"
   },
   {
    "duration": 4,
    "start_time": "2023-08-29T20:43:14.543Z"
   },
   {
    "duration": 12,
    "start_time": "2023-08-29T20:43:14.548Z"
   },
   {
    "duration": 3,
    "start_time": "2023-08-29T20:43:14.561Z"
   },
   {
    "duration": 4,
    "start_time": "2023-08-29T20:43:14.565Z"
   },
   {
    "duration": 66,
    "start_time": "2023-08-29T20:43:14.571Z"
   },
   {
    "duration": 87,
    "start_time": "2023-08-29T20:43:14.640Z"
   },
   {
    "duration": 270,
    "start_time": "2023-08-29T20:43:14.730Z"
   },
   {
    "duration": 3,
    "start_time": "2023-08-29T20:43:15.002Z"
   },
   {
    "duration": 3370,
    "start_time": "2023-08-29T20:43:15.006Z"
   },
   {
    "duration": 1566,
    "start_time": "2023-08-30T06:01:32.111Z"
   },
   {
    "duration": 277,
    "start_time": "2023-08-30T06:01:33.680Z"
   },
   {
    "duration": 9,
    "start_time": "2023-08-30T06:01:33.959Z"
   },
   {
    "duration": 8,
    "start_time": "2023-08-30T06:01:33.970Z"
   },
   {
    "duration": 16,
    "start_time": "2023-08-30T06:01:33.980Z"
   },
   {
    "duration": 174,
    "start_time": "2023-08-30T06:01:33.998Z"
   },
   {
    "duration": 291,
    "start_time": "2023-08-30T06:01:34.174Z"
   },
   {
    "duration": 4,
    "start_time": "2023-08-30T06:01:34.467Z"
   },
   {
    "duration": 45,
    "start_time": "2023-08-30T06:01:34.472Z"
   },
   {
    "duration": 6,
    "start_time": "2023-08-30T06:01:34.519Z"
   },
   {
    "duration": 33,
    "start_time": "2023-08-30T06:01:34.527Z"
   },
   {
    "duration": 4,
    "start_time": "2023-08-30T06:01:34.562Z"
   },
   {
    "duration": 112,
    "start_time": "2023-08-30T06:01:34.568Z"
   },
   {
    "duration": 2,
    "start_time": "2023-08-30T06:01:34.682Z"
   },
   {
    "duration": 6,
    "start_time": "2023-08-30T06:01:34.686Z"
   },
   {
    "duration": 39,
    "start_time": "2023-08-30T06:01:34.694Z"
   },
   {
    "duration": 22,
    "start_time": "2023-08-30T06:01:34.735Z"
   },
   {
    "duration": 248,
    "start_time": "2023-08-30T06:01:34.758Z"
   },
   {
    "duration": 0,
    "start_time": "2023-08-30T06:01:35.008Z"
   },
   {
    "duration": 0,
    "start_time": "2023-08-30T06:01:35.010Z"
   },
   {
    "duration": 0,
    "start_time": "2023-08-30T06:01:35.011Z"
   },
   {
    "duration": 0,
    "start_time": "2023-08-30T06:01:35.012Z"
   },
   {
    "duration": 4,
    "start_time": "2023-08-30T06:02:15.388Z"
   },
   {
    "duration": 51,
    "start_time": "2023-08-30T06:02:15.403Z"
   },
   {
    "duration": 8,
    "start_time": "2023-08-30T06:02:15.456Z"
   },
   {
    "duration": 11,
    "start_time": "2023-08-30T06:02:15.466Z"
   },
   {
    "duration": 8,
    "start_time": "2023-08-30T06:02:15.479Z"
   },
   {
    "duration": 33,
    "start_time": "2023-08-30T06:02:15.489Z"
   },
   {
    "duration": 248,
    "start_time": "2023-08-30T06:02:15.523Z"
   },
   {
    "duration": 4,
    "start_time": "2023-08-30T06:02:15.773Z"
   },
   {
    "duration": 36,
    "start_time": "2023-08-30T06:02:15.779Z"
   },
   {
    "duration": 7,
    "start_time": "2023-08-30T06:02:15.817Z"
   },
   {
    "duration": 40,
    "start_time": "2023-08-30T06:02:15.825Z"
   },
   {
    "duration": 4,
    "start_time": "2023-08-30T06:02:15.867Z"
   },
   {
    "duration": 16,
    "start_time": "2023-08-30T06:02:15.872Z"
   },
   {
    "duration": 3,
    "start_time": "2023-08-30T06:02:15.890Z"
   },
   {
    "duration": 4,
    "start_time": "2023-08-30T06:02:15.897Z"
   },
   {
    "duration": 16,
    "start_time": "2023-08-30T06:02:15.902Z"
   },
   {
    "duration": 44,
    "start_time": "2023-08-30T06:02:15.920Z"
   },
   {
    "duration": 194,
    "start_time": "2023-08-30T06:02:15.966Z"
   },
   {
    "duration": 3,
    "start_time": "2023-08-30T06:02:16.162Z"
   },
   {
    "duration": 266,
    "start_time": "2023-08-30T06:02:16.167Z"
   },
   {
    "duration": 3,
    "start_time": "2023-08-30T06:02:16.435Z"
   },
   {
    "duration": 3299,
    "start_time": "2023-08-30T06:02:16.439Z"
   },
   {
    "duration": 3,
    "start_time": "2023-08-30T06:02:51.368Z"
   },
   {
    "duration": 53,
    "start_time": "2023-08-30T06:02:51.373Z"
   },
   {
    "duration": 8,
    "start_time": "2023-08-30T06:02:51.428Z"
   },
   {
    "duration": 15,
    "start_time": "2023-08-30T06:02:51.438Z"
   },
   {
    "duration": 10,
    "start_time": "2023-08-30T06:02:51.455Z"
   },
   {
    "duration": 41,
    "start_time": "2023-08-30T06:02:51.467Z"
   },
   {
    "duration": 234,
    "start_time": "2023-08-30T06:02:51.510Z"
   },
   {
    "duration": 4,
    "start_time": "2023-08-30T06:02:51.746Z"
   },
   {
    "duration": 34,
    "start_time": "2023-08-30T06:02:51.758Z"
   },
   {
    "duration": 6,
    "start_time": "2023-08-30T06:02:51.794Z"
   },
   {
    "duration": 19,
    "start_time": "2023-08-30T06:02:51.803Z"
   },
   {
    "duration": 4,
    "start_time": "2023-08-30T06:02:51.823Z"
   },
   {
    "duration": 44,
    "start_time": "2023-08-30T06:02:51.829Z"
   },
   {
    "duration": 45,
    "start_time": "2023-08-30T06:02:51.875Z"
   },
   {
    "duration": 15,
    "start_time": "2023-08-30T06:02:51.922Z"
   },
   {
    "duration": 25,
    "start_time": "2023-08-30T06:02:51.939Z"
   },
   {
    "duration": 23,
    "start_time": "2023-08-30T06:02:51.965Z"
   },
   {
    "duration": 18,
    "start_time": "2023-08-30T06:02:51.990Z"
   },
   {
    "duration": 104,
    "start_time": "2023-08-30T06:02:52.061Z"
   },
   {
    "duration": 225,
    "start_time": "2023-08-30T06:02:52.167Z"
   },
   {
    "duration": 3,
    "start_time": "2023-08-30T06:02:52.394Z"
   },
   {
    "duration": 3376,
    "start_time": "2023-08-30T06:02:52.398Z"
   },
   {
    "duration": 3,
    "start_time": "2023-08-30T06:03:39.851Z"
   },
   {
    "duration": 49,
    "start_time": "2023-08-30T06:03:39.856Z"
   },
   {
    "duration": 8,
    "start_time": "2023-08-30T06:03:39.907Z"
   },
   {
    "duration": 8,
    "start_time": "2023-08-30T06:03:39.916Z"
   },
   {
    "duration": 10,
    "start_time": "2023-08-30T06:03:39.926Z"
   },
   {
    "duration": 41,
    "start_time": "2023-08-30T06:03:39.937Z"
   },
   {
    "duration": 257,
    "start_time": "2023-08-30T06:03:39.980Z"
   },
   {
    "duration": 4,
    "start_time": "2023-08-30T06:03:40.238Z"
   },
   {
    "duration": 121,
    "start_time": "2023-08-30T06:03:40.244Z"
   },
   {
    "duration": 7,
    "start_time": "2023-08-30T06:03:40.367Z"
   },
   {
    "duration": 56,
    "start_time": "2023-08-30T06:03:40.376Z"
   },
   {
    "duration": 19,
    "start_time": "2023-08-30T06:03:40.433Z"
   },
   {
    "duration": 20,
    "start_time": "2023-08-30T06:03:40.454Z"
   },
   {
    "duration": 25,
    "start_time": "2023-08-30T06:03:40.475Z"
   },
   {
    "duration": 103,
    "start_time": "2023-08-30T06:03:40.502Z"
   },
   {
    "duration": 303,
    "start_time": "2023-08-30T06:03:40.607Z"
   },
   {
    "duration": 15,
    "start_time": "2023-08-30T06:03:40.911Z"
   },
   {
    "duration": 18,
    "start_time": "2023-08-30T06:03:40.928Z"
   },
   {
    "duration": 16,
    "start_time": "2023-08-30T06:03:40.948Z"
   },
   {
    "duration": 383,
    "start_time": "2023-08-30T06:03:40.965Z"
   },
   {
    "duration": 3,
    "start_time": "2023-08-30T06:03:41.350Z"
   },
   {
    "duration": 2641,
    "start_time": "2023-08-30T06:03:41.358Z"
   },
   {
    "duration": 4,
    "start_time": "2023-08-30T06:04:04.397Z"
   },
   {
    "duration": 54,
    "start_time": "2023-08-30T06:04:04.402Z"
   },
   {
    "duration": 9,
    "start_time": "2023-08-30T06:04:04.458Z"
   },
   {
    "duration": 4,
    "start_time": "2023-08-30T06:04:04.469Z"
   },
   {
    "duration": 7,
    "start_time": "2023-08-30T06:04:04.476Z"
   },
   {
    "duration": 40,
    "start_time": "2023-08-30T06:04:04.485Z"
   },
   {
    "duration": 252,
    "start_time": "2023-08-30T06:04:04.527Z"
   },
   {
    "duration": 3,
    "start_time": "2023-08-30T06:04:04.781Z"
   },
   {
    "duration": 32,
    "start_time": "2023-08-30T06:04:04.786Z"
   },
   {
    "duration": 6,
    "start_time": "2023-08-30T06:04:04.820Z"
   },
   {
    "duration": 34,
    "start_time": "2023-08-30T06:04:04.828Z"
   },
   {
    "duration": 4,
    "start_time": "2023-08-30T06:04:04.863Z"
   },
   {
    "duration": 20,
    "start_time": "2023-08-30T06:04:04.869Z"
   },
   {
    "duration": 2,
    "start_time": "2023-08-30T06:04:04.891Z"
   },
   {
    "duration": 13,
    "start_time": "2023-08-30T06:04:04.894Z"
   },
   {
    "duration": 13,
    "start_time": "2023-08-30T06:04:04.909Z"
   },
   {
    "duration": 13,
    "start_time": "2023-08-30T06:04:04.924Z"
   },
   {
    "duration": 29,
    "start_time": "2023-08-30T06:04:04.938Z"
   },
   {
    "duration": 7,
    "start_time": "2023-08-30T06:04:04.968Z"
   },
   {
    "duration": 347,
    "start_time": "2023-08-30T06:04:04.976Z"
   },
   {
    "duration": 3,
    "start_time": "2023-08-30T06:04:05.325Z"
   },
   {
    "duration": 2305,
    "start_time": "2023-08-30T06:04:05.329Z"
   },
   {
    "duration": 5,
    "start_time": "2023-08-30T06:08:34.120Z"
   },
   {
    "duration": 62,
    "start_time": "2023-08-30T06:08:34.127Z"
   },
   {
    "duration": 10,
    "start_time": "2023-08-30T06:08:34.191Z"
   },
   {
    "duration": 6,
    "start_time": "2023-08-30T06:08:34.202Z"
   },
   {
    "duration": 7,
    "start_time": "2023-08-30T06:08:34.210Z"
   },
   {
    "duration": 61,
    "start_time": "2023-08-30T06:08:34.218Z"
   },
   {
    "duration": 225,
    "start_time": "2023-08-30T06:08:34.281Z"
   },
   {
    "duration": 4,
    "start_time": "2023-08-30T06:08:34.508Z"
   },
   {
    "duration": 42,
    "start_time": "2023-08-30T06:08:34.513Z"
   },
   {
    "duration": 7,
    "start_time": "2023-08-30T06:08:34.558Z"
   },
   {
    "duration": 30,
    "start_time": "2023-08-30T06:08:34.566Z"
   },
   {
    "duration": 5,
    "start_time": "2023-08-30T06:08:34.598Z"
   },
   {
    "duration": 14,
    "start_time": "2023-08-30T06:08:34.606Z"
   },
   {
    "duration": 34,
    "start_time": "2023-08-30T06:08:34.622Z"
   },
   {
    "duration": 9,
    "start_time": "2023-08-30T06:08:34.658Z"
   },
   {
    "duration": 19,
    "start_time": "2023-08-30T06:08:34.669Z"
   },
   {
    "duration": 0,
    "start_time": "2023-08-30T06:08:34.690Z"
   },
   {
    "duration": 0,
    "start_time": "2023-08-30T06:08:34.691Z"
   },
   {
    "duration": 0,
    "start_time": "2023-08-30T06:08:34.692Z"
   },
   {
    "duration": 0,
    "start_time": "2023-08-30T06:08:34.693Z"
   },
   {
    "duration": 0,
    "start_time": "2023-08-30T06:08:34.694Z"
   },
   {
    "duration": 0,
    "start_time": "2023-08-30T06:08:34.695Z"
   },
   {
    "duration": 4,
    "start_time": "2023-08-30T06:10:44.966Z"
   },
   {
    "duration": 51,
    "start_time": "2023-08-30T06:10:44.972Z"
   },
   {
    "duration": 8,
    "start_time": "2023-08-30T06:10:45.025Z"
   },
   {
    "duration": 38,
    "start_time": "2023-08-30T06:10:45.034Z"
   },
   {
    "duration": 18,
    "start_time": "2023-08-30T06:10:45.075Z"
   },
   {
    "duration": 50,
    "start_time": "2023-08-30T06:10:45.095Z"
   },
   {
    "duration": 225,
    "start_time": "2023-08-30T06:10:45.146Z"
   },
   {
    "duration": 4,
    "start_time": "2023-08-30T06:10:45.373Z"
   },
   {
    "duration": 35,
    "start_time": "2023-08-30T06:10:45.379Z"
   },
   {
    "duration": 6,
    "start_time": "2023-08-30T06:10:45.415Z"
   },
   {
    "duration": 22,
    "start_time": "2023-08-30T06:10:45.423Z"
   },
   {
    "duration": 14,
    "start_time": "2023-08-30T06:10:45.447Z"
   },
   {
    "duration": 23,
    "start_time": "2023-08-30T06:10:45.463Z"
   },
   {
    "duration": 24,
    "start_time": "2023-08-30T06:10:45.487Z"
   },
   {
    "duration": 0,
    "start_time": "2023-08-30T06:10:45.512Z"
   },
   {
    "duration": 0,
    "start_time": "2023-08-30T06:10:45.514Z"
   },
   {
    "duration": 0,
    "start_time": "2023-08-30T06:10:45.515Z"
   },
   {
    "duration": 0,
    "start_time": "2023-08-30T06:10:45.516Z"
   },
   {
    "duration": 0,
    "start_time": "2023-08-30T06:10:45.517Z"
   },
   {
    "duration": 0,
    "start_time": "2023-08-30T06:10:45.518Z"
   },
   {
    "duration": 0,
    "start_time": "2023-08-30T06:10:45.519Z"
   },
   {
    "duration": 0,
    "start_time": "2023-08-30T06:10:45.520Z"
   },
   {
    "duration": 4,
    "start_time": "2023-08-30T06:11:16.212Z"
   },
   {
    "duration": 52,
    "start_time": "2023-08-30T06:11:16.218Z"
   },
   {
    "duration": 9,
    "start_time": "2023-08-30T06:11:16.272Z"
   },
   {
    "duration": 12,
    "start_time": "2023-08-30T06:11:16.282Z"
   },
   {
    "duration": 5,
    "start_time": "2023-08-30T06:11:16.296Z"
   },
   {
    "duration": 33,
    "start_time": "2023-08-30T06:11:16.303Z"
   },
   {
    "duration": 245,
    "start_time": "2023-08-30T06:11:16.337Z"
   },
   {
    "duration": 4,
    "start_time": "2023-08-30T06:11:16.584Z"
   },
   {
    "duration": 132,
    "start_time": "2023-08-30T06:11:16.589Z"
   },
   {
    "duration": 6,
    "start_time": "2023-08-30T06:11:16.722Z"
   },
   {
    "duration": 30,
    "start_time": "2023-08-30T06:11:16.730Z"
   },
   {
    "duration": 4,
    "start_time": "2023-08-30T06:11:16.762Z"
   },
   {
    "duration": 14,
    "start_time": "2023-08-30T06:11:16.768Z"
   },
   {
    "duration": 27,
    "start_time": "2023-08-30T06:11:16.784Z"
   },
   {
    "duration": 2,
    "start_time": "2023-08-30T06:11:16.813Z"
   },
   {
    "duration": 14,
    "start_time": "2023-08-30T06:11:16.816Z"
   },
   {
    "duration": 37,
    "start_time": "2023-08-30T06:11:16.832Z"
   },
   {
    "duration": 10,
    "start_time": "2023-08-30T06:11:16.870Z"
   },
   {
    "duration": 82,
    "start_time": "2023-08-30T06:11:16.881Z"
   },
   {
    "duration": 249,
    "start_time": "2023-08-30T06:11:16.966Z"
   },
   {
    "duration": 3,
    "start_time": "2023-08-30T06:11:17.217Z"
   },
   {
    "duration": 2334,
    "start_time": "2023-08-30T06:11:17.221Z"
   },
   {
    "duration": 1821,
    "start_time": "2023-08-30T11:51:19.622Z"
   },
   {
    "duration": 217,
    "start_time": "2023-08-30T11:51:21.445Z"
   },
   {
    "duration": 10,
    "start_time": "2023-08-30T11:51:21.666Z"
   },
   {
    "duration": 18,
    "start_time": "2023-08-30T11:51:21.678Z"
   },
   {
    "duration": 21,
    "start_time": "2023-08-30T11:51:21.698Z"
   },
   {
    "duration": 47,
    "start_time": "2023-08-30T11:51:21.721Z"
   },
   {
    "duration": 784,
    "start_time": "2023-08-30T11:51:21.770Z"
   },
   {
    "duration": 328,
    "start_time": "2023-08-30T11:51:22.556Z"
   },
   {
    "duration": 5,
    "start_time": "2023-08-30T11:51:22.886Z"
   },
   {
    "duration": 44,
    "start_time": "2023-08-30T11:51:22.904Z"
   },
   {
    "duration": 7,
    "start_time": "2023-08-30T11:51:22.951Z"
   },
   {
    "duration": 15,
    "start_time": "2023-08-30T11:51:22.960Z"
   },
   {
    "duration": 25,
    "start_time": "2023-08-30T11:51:22.977Z"
   },
   {
    "duration": 24,
    "start_time": "2023-08-30T11:51:23.004Z"
   },
   {
    "duration": 33,
    "start_time": "2023-08-30T11:51:23.030Z"
   },
   {
    "duration": 4,
    "start_time": "2023-08-30T11:51:23.064Z"
   },
   {
    "duration": 33,
    "start_time": "2023-08-30T11:51:23.069Z"
   },
   {
    "duration": 20,
    "start_time": "2023-08-30T11:51:23.105Z"
   },
   {
    "duration": 91,
    "start_time": "2023-08-30T11:51:23.127Z"
   },
   {
    "duration": 11,
    "start_time": "2023-08-30T11:51:23.222Z"
   },
   {
    "duration": 210,
    "start_time": "2023-08-30T11:51:23.303Z"
   },
   {
    "duration": 4,
    "start_time": "2023-08-30T11:51:23.519Z"
   },
   {
    "duration": 2811,
    "start_time": "2023-08-30T11:51:23.526Z"
   },
   {
    "duration": 1300,
    "start_time": "2023-08-30T11:52:28.505Z"
   },
   {
    "duration": 1350,
    "start_time": "2023-08-30T11:58:59.796Z"
   },
   {
    "duration": 406,
    "start_time": "2023-08-30T12:01:42.836Z"
   },
   {
    "duration": 345,
    "start_time": "2023-08-30T12:01:55.173Z"
   },
   {
    "duration": 1166,
    "start_time": "2023-08-30T12:02:24.691Z"
   },
   {
    "duration": 299,
    "start_time": "2023-08-30T12:02:48.103Z"
   },
   {
    "duration": 136,
    "start_time": "2023-08-30T12:04:12.937Z"
   },
   {
    "duration": 691,
    "start_time": "2023-08-30T12:04:17.834Z"
   },
   {
    "duration": 4,
    "start_time": "2023-08-30T12:04:31.619Z"
   },
   {
    "duration": 138,
    "start_time": "2023-08-30T12:04:31.625Z"
   },
   {
    "duration": 7,
    "start_time": "2023-08-30T12:04:31.766Z"
   },
   {
    "duration": 40,
    "start_time": "2023-08-30T12:04:31.775Z"
   },
   {
    "duration": 64,
    "start_time": "2023-08-30T12:04:31.818Z"
   },
   {
    "duration": 87,
    "start_time": "2023-08-30T12:04:31.884Z"
   },
   {
    "duration": 358,
    "start_time": "2023-08-30T12:04:31.973Z"
   },
   {
    "duration": 358,
    "start_time": "2023-08-30T12:04:32.333Z"
   },
   {
    "duration": 179,
    "start_time": "2023-08-30T12:04:32.702Z"
   },
   {
    "duration": 5,
    "start_time": "2023-08-30T12:04:32.882Z"
   },
   {
    "duration": 84,
    "start_time": "2023-08-30T12:04:32.889Z"
   },
   {
    "duration": 20,
    "start_time": "2023-08-30T12:04:32.975Z"
   },
   {
    "duration": 34,
    "start_time": "2023-08-30T12:04:32.996Z"
   },
   {
    "duration": 15,
    "start_time": "2023-08-30T12:04:33.031Z"
   },
   {
    "duration": 56,
    "start_time": "2023-08-30T12:04:33.048Z"
   },
   {
    "duration": 38,
    "start_time": "2023-08-30T12:04:33.106Z"
   },
   {
    "duration": 3,
    "start_time": "2023-08-30T12:04:33.146Z"
   },
   {
    "duration": 27,
    "start_time": "2023-08-30T12:04:33.151Z"
   },
   {
    "duration": 36,
    "start_time": "2023-08-30T12:04:33.180Z"
   },
   {
    "duration": 21,
    "start_time": "2023-08-30T12:04:33.218Z"
   },
   {
    "duration": 16,
    "start_time": "2023-08-30T12:04:33.301Z"
   },
   {
    "duration": 274,
    "start_time": "2023-08-30T12:04:33.320Z"
   },
   {
    "duration": 6,
    "start_time": "2023-08-30T12:04:33.596Z"
   },
   {
    "duration": 2674,
    "start_time": "2023-08-30T12:04:33.604Z"
   },
   {
    "duration": 296,
    "start_time": "2023-08-30T12:05:15.339Z"
   },
   {
    "duration": 39,
    "start_time": "2023-08-30T12:07:34.547Z"
   },
   {
    "duration": 66,
    "start_time": "2023-08-30T12:07:36.531Z"
   },
   {
    "duration": 10,
    "start_time": "2023-08-30T12:07:37.438Z"
   },
   {
    "duration": 5,
    "start_time": "2023-08-30T12:07:39.296Z"
   },
   {
    "duration": 7,
    "start_time": "2023-08-30T12:07:39.766Z"
   },
   {
    "duration": 34,
    "start_time": "2023-08-30T12:07:41.158Z"
   },
   {
    "duration": 323,
    "start_time": "2023-08-30T12:07:43.779Z"
   },
   {
    "duration": 472,
    "start_time": "2023-08-30T12:07:45.287Z"
   },
   {
    "duration": 198,
    "start_time": "2023-08-30T12:07:47.243Z"
   },
   {
    "duration": 9,
    "start_time": "2023-08-30T12:07:50.484Z"
   },
   {
    "duration": 723,
    "start_time": "2023-08-30T12:07:51.327Z"
   },
   {
    "duration": 881,
    "start_time": "2023-08-30T12:08:23.652Z"
   },
   {
    "duration": 230,
    "start_time": "2023-08-30T12:09:00.217Z"
   },
   {
    "duration": 152,
    "start_time": "2023-08-30T12:10:57.825Z"
   },
   {
    "duration": 184,
    "start_time": "2023-08-30T12:11:40.168Z"
   },
   {
    "duration": 222,
    "start_time": "2023-08-30T12:13:07.450Z"
   },
   {
    "duration": 355,
    "start_time": "2023-08-30T12:13:27.922Z"
   },
   {
    "duration": 178,
    "start_time": "2023-08-30T12:16:39.490Z"
   },
   {
    "duration": 248,
    "start_time": "2023-08-30T12:17:25.423Z"
   },
   {
    "duration": 176,
    "start_time": "2023-08-30T12:17:56.439Z"
   },
   {
    "duration": 539,
    "start_time": "2023-08-30T12:18:11.799Z"
   },
   {
    "duration": 155,
    "start_time": "2023-08-30T12:18:18.033Z"
   },
   {
    "duration": 214,
    "start_time": "2023-08-30T12:20:08.290Z"
   },
   {
    "duration": 614,
    "start_time": "2023-08-30T12:20:43.110Z"
   },
   {
    "duration": 250,
    "start_time": "2023-08-30T12:21:12.375Z"
   },
   {
    "duration": 245,
    "start_time": "2023-08-30T12:22:04.182Z"
   },
   {
    "duration": 228,
    "start_time": "2023-08-30T12:22:30.978Z"
   },
   {
    "duration": 164,
    "start_time": "2023-08-30T12:22:43.371Z"
   },
   {
    "duration": 108,
    "start_time": "2023-08-30T12:26:34.086Z"
   },
   {
    "duration": 383,
    "start_time": "2023-08-30T12:27:22.937Z"
   },
   {
    "duration": 244,
    "start_time": "2023-08-30T12:28:16.852Z"
   },
   {
    "duration": 148,
    "start_time": "2023-08-30T12:39:59.045Z"
   },
   {
    "duration": 20,
    "start_time": "2023-08-30T12:41:58.447Z"
   },
   {
    "duration": 152,
    "start_time": "2023-08-30T12:42:04.209Z"
   },
   {
    "duration": 153,
    "start_time": "2023-08-30T12:42:29.372Z"
   },
   {
    "duration": 156,
    "start_time": "2023-08-30T12:42:49.194Z"
   },
   {
    "duration": 155,
    "start_time": "2023-08-30T13:16:57.088Z"
   },
   {
    "duration": 1124,
    "start_time": "2023-08-30T13:21:24.002Z"
   },
   {
    "duration": 904,
    "start_time": "2023-08-30T13:22:18.192Z"
   },
   {
    "duration": 156,
    "start_time": "2023-08-30T13:22:51.623Z"
   },
   {
    "duration": 765,
    "start_time": "2023-08-30T13:26:01.886Z"
   },
   {
    "duration": 730,
    "start_time": "2023-08-30T13:26:08.435Z"
   },
   {
    "duration": 1124,
    "start_time": "2023-08-30T13:27:11.367Z"
   },
   {
    "duration": 892,
    "start_time": "2023-08-30T13:28:20.921Z"
   },
   {
    "duration": 246,
    "start_time": "2023-08-30T13:28:35.883Z"
   },
   {
    "duration": 158,
    "start_time": "2023-08-30T13:28:50.413Z"
   },
   {
    "duration": 147,
    "start_time": "2023-08-30T13:28:55.141Z"
   },
   {
    "duration": 6,
    "start_time": "2023-08-30T13:57:19.417Z"
   },
   {
    "duration": 80,
    "start_time": "2023-08-30T13:57:19.425Z"
   },
   {
    "duration": 9,
    "start_time": "2023-08-30T13:57:19.508Z"
   },
   {
    "duration": 34,
    "start_time": "2023-08-30T13:57:19.519Z"
   },
   {
    "duration": 28,
    "start_time": "2023-08-30T13:57:19.556Z"
   },
   {
    "duration": 63,
    "start_time": "2023-08-30T13:57:19.586Z"
   },
   {
    "duration": 251,
    "start_time": "2023-08-30T13:57:19.652Z"
   },
   {
    "duration": 9,
    "start_time": "2023-08-30T13:57:19.905Z"
   },
   {
    "duration": 949,
    "start_time": "2023-08-30T13:57:19.916Z"
   },
   {
    "duration": 14,
    "start_time": "2023-08-30T13:57:20.867Z"
   },
   {
    "duration": 174,
    "start_time": "2023-08-30T13:57:20.883Z"
   },
   {
    "duration": 163,
    "start_time": "2023-08-30T13:57:21.059Z"
   },
   {
    "duration": 173,
    "start_time": "2023-08-30T13:57:21.224Z"
   },
   {
    "duration": 166,
    "start_time": "2023-08-30T13:57:21.403Z"
   },
   {
    "duration": 6,
    "start_time": "2023-08-30T13:57:21.572Z"
   },
   {
    "duration": 52,
    "start_time": "2023-08-30T13:57:21.580Z"
   },
   {
    "duration": 22,
    "start_time": "2023-08-30T13:57:21.634Z"
   },
   {
    "duration": 21,
    "start_time": "2023-08-30T13:57:21.657Z"
   },
   {
    "duration": 36,
    "start_time": "2023-08-30T13:57:21.680Z"
   },
   {
    "duration": 39,
    "start_time": "2023-08-30T13:57:21.718Z"
   },
   {
    "duration": 60,
    "start_time": "2023-08-30T13:57:21.759Z"
   },
   {
    "duration": 4,
    "start_time": "2023-08-30T13:57:21.820Z"
   },
   {
    "duration": 38,
    "start_time": "2023-08-30T13:57:21.825Z"
   },
   {
    "duration": 28,
    "start_time": "2023-08-30T13:57:21.865Z"
   },
   {
    "duration": 108,
    "start_time": "2023-08-30T13:57:21.895Z"
   },
   {
    "duration": 107,
    "start_time": "2023-08-30T13:57:22.005Z"
   },
   {
    "duration": 221,
    "start_time": "2023-08-30T13:57:22.115Z"
   },
   {
    "duration": 3,
    "start_time": "2023-08-30T13:57:22.338Z"
   },
   {
    "duration": 2699,
    "start_time": "2023-08-30T13:57:22.343Z"
   },
   {
    "duration": 1005,
    "start_time": "2023-08-30T13:57:34.031Z"
   },
   {
    "duration": 193,
    "start_time": "2023-08-30T13:57:56.012Z"
   },
   {
    "duration": 215,
    "start_time": "2023-08-30T13:58:46.502Z"
   },
   {
    "duration": 45,
    "start_time": "2023-08-30T19:39:01.697Z"
   },
   {
    "duration": 1439,
    "start_time": "2023-08-30T19:39:08.422Z"
   },
   {
    "duration": 117,
    "start_time": "2023-08-30T19:39:09.863Z"
   },
   {
    "duration": 13,
    "start_time": "2023-08-30T19:39:09.981Z"
   },
   {
    "duration": 3,
    "start_time": "2023-08-30T19:39:09.996Z"
   },
   {
    "duration": 10,
    "start_time": "2023-08-30T19:39:10.001Z"
   },
   {
    "duration": 56,
    "start_time": "2023-08-30T19:39:10.013Z"
   },
   {
    "duration": 225,
    "start_time": "2023-08-30T19:39:10.070Z"
   },
   {
    "duration": 6,
    "start_time": "2023-08-30T19:39:10.297Z"
   },
   {
    "duration": 875,
    "start_time": "2023-08-30T19:39:10.305Z"
   },
   {
    "duration": 73,
    "start_time": "2023-08-30T19:39:11.183Z"
   },
   {
    "duration": 0,
    "start_time": "2023-08-30T19:39:11.257Z"
   },
   {
    "duration": 0,
    "start_time": "2023-08-30T19:39:11.258Z"
   },
   {
    "duration": 0,
    "start_time": "2023-08-30T19:39:11.260Z"
   },
   {
    "duration": 0,
    "start_time": "2023-08-30T19:39:11.261Z"
   },
   {
    "duration": 0,
    "start_time": "2023-08-30T19:39:11.262Z"
   },
   {
    "duration": 0,
    "start_time": "2023-08-30T19:39:11.263Z"
   },
   {
    "duration": 0,
    "start_time": "2023-08-30T19:39:11.264Z"
   },
   {
    "duration": 0,
    "start_time": "2023-08-30T19:39:11.265Z"
   },
   {
    "duration": 0,
    "start_time": "2023-08-30T19:39:11.266Z"
   },
   {
    "duration": 0,
    "start_time": "2023-08-30T19:39:11.267Z"
   },
   {
    "duration": 0,
    "start_time": "2023-08-30T19:39:11.268Z"
   },
   {
    "duration": 0,
    "start_time": "2023-08-30T19:39:11.269Z"
   },
   {
    "duration": 0,
    "start_time": "2023-08-30T19:39:11.270Z"
   },
   {
    "duration": 0,
    "start_time": "2023-08-30T19:39:11.272Z"
   },
   {
    "duration": 0,
    "start_time": "2023-08-30T19:39:11.273Z"
   },
   {
    "duration": 0,
    "start_time": "2023-08-30T19:39:11.274Z"
   },
   {
    "duration": 0,
    "start_time": "2023-08-30T19:39:11.275Z"
   },
   {
    "duration": 0,
    "start_time": "2023-08-30T19:39:11.276Z"
   },
   {
    "duration": 0,
    "start_time": "2023-08-30T19:39:11.277Z"
   },
   {
    "duration": 113,
    "start_time": "2023-08-30T19:41:03.015Z"
   },
   {
    "duration": 17,
    "start_time": "2023-08-30T19:41:24.984Z"
   },
   {
    "duration": 7,
    "start_time": "2023-08-30T19:42:18.508Z"
   },
   {
    "duration": 6,
    "start_time": "2023-08-30T19:42:27.213Z"
   },
   {
    "duration": 8,
    "start_time": "2023-08-30T19:42:38.273Z"
   },
   {
    "duration": 200,
    "start_time": "2023-08-30T19:45:07.422Z"
   },
   {
    "duration": 130,
    "start_time": "2023-08-30T19:45:13.114Z"
   },
   {
    "duration": 21,
    "start_time": "2023-08-30T19:45:36.203Z"
   },
   {
    "duration": 5,
    "start_time": "2023-08-30T19:46:52.479Z"
   },
   {
    "duration": 60,
    "start_time": "2023-08-30T19:46:52.486Z"
   },
   {
    "duration": 6,
    "start_time": "2023-08-30T19:46:52.581Z"
   },
   {
    "duration": 6,
    "start_time": "2023-08-30T19:46:52.589Z"
   },
   {
    "duration": 9,
    "start_time": "2023-08-30T19:46:52.596Z"
   },
   {
    "duration": 27,
    "start_time": "2023-08-30T19:46:52.606Z"
   },
   {
    "duration": 203,
    "start_time": "2023-08-30T19:46:52.635Z"
   },
   {
    "duration": 17,
    "start_time": "2023-08-30T19:46:52.839Z"
   },
   {
    "duration": 833,
    "start_time": "2023-08-30T19:46:52.860Z"
   },
   {
    "duration": 233,
    "start_time": "2023-08-30T19:46:53.694Z"
   },
   {
    "duration": 140,
    "start_time": "2023-08-30T19:46:53.929Z"
   },
   {
    "duration": 3,
    "start_time": "2023-08-30T19:46:54.070Z"
   },
   {
    "duration": 48,
    "start_time": "2023-08-30T19:46:54.075Z"
   },
   {
    "duration": 5,
    "start_time": "2023-08-30T19:46:54.124Z"
   },
   {
    "duration": 26,
    "start_time": "2023-08-30T19:46:54.131Z"
   },
   {
    "duration": 7,
    "start_time": "2023-08-30T19:46:54.160Z"
   },
   {
    "duration": 14,
    "start_time": "2023-08-30T19:46:54.171Z"
   },
   {
    "duration": 23,
    "start_time": "2023-08-30T19:46:54.186Z"
   },
   {
    "duration": 2,
    "start_time": "2023-08-30T19:46:54.211Z"
   },
   {
    "duration": 17,
    "start_time": "2023-08-30T19:46:54.215Z"
   },
   {
    "duration": 21,
    "start_time": "2023-08-30T19:46:54.234Z"
   },
   {
    "duration": 91,
    "start_time": "2023-08-30T19:46:54.259Z"
   },
   {
    "duration": 7,
    "start_time": "2023-08-30T19:46:54.356Z"
   },
   {
    "duration": 244,
    "start_time": "2023-08-30T19:46:54.367Z"
   },
   {
    "duration": 4,
    "start_time": "2023-08-30T19:46:54.613Z"
   },
   {
    "duration": 2280,
    "start_time": "2023-08-30T19:46:54.618Z"
   },
   {
    "duration": 3,
    "start_time": "2023-08-30T19:58:54.325Z"
   },
   {
    "duration": 61,
    "start_time": "2023-08-30T19:58:54.331Z"
   },
   {
    "duration": 7,
    "start_time": "2023-08-30T19:58:54.393Z"
   },
   {
    "duration": 5,
    "start_time": "2023-08-30T19:58:54.401Z"
   },
   {
    "duration": 5,
    "start_time": "2023-08-30T19:58:54.408Z"
   },
   {
    "duration": 30,
    "start_time": "2023-08-30T19:58:54.414Z"
   },
   {
    "duration": 246,
    "start_time": "2023-08-30T19:58:54.446Z"
   },
   {
    "duration": 7,
    "start_time": "2023-08-30T19:58:54.694Z"
   },
   {
    "duration": 862,
    "start_time": "2023-08-30T19:58:54.702Z"
   },
   {
    "duration": 183,
    "start_time": "2023-08-30T19:58:55.566Z"
   },
   {
    "duration": 178,
    "start_time": "2023-08-30T19:58:55.752Z"
   },
   {
    "duration": 5,
    "start_time": "2023-08-30T19:58:55.933Z"
   },
   {
    "duration": 34,
    "start_time": "2023-08-30T19:58:55.940Z"
   },
   {
    "duration": 8,
    "start_time": "2023-08-30T19:58:55.976Z"
   },
   {
    "duration": 16,
    "start_time": "2023-08-30T19:58:55.986Z"
   },
   {
    "duration": 5,
    "start_time": "2023-08-30T19:58:56.004Z"
   },
   {
    "duration": 40,
    "start_time": "2023-08-30T19:58:56.011Z"
   },
   {
    "duration": 30,
    "start_time": "2023-08-30T19:58:56.052Z"
   },
   {
    "duration": 3,
    "start_time": "2023-08-30T19:58:56.084Z"
   },
   {
    "duration": 14,
    "start_time": "2023-08-30T19:58:56.089Z"
   },
   {
    "duration": 44,
    "start_time": "2023-08-30T19:58:56.105Z"
   },
   {
    "duration": 12,
    "start_time": "2023-08-30T19:58:56.153Z"
   },
   {
    "duration": 3,
    "start_time": "2023-08-30T19:58:56.167Z"
   },
   {
    "duration": 268,
    "start_time": "2023-08-30T19:58:56.172Z"
   },
   {
    "duration": 8,
    "start_time": "2023-08-30T19:58:56.443Z"
   },
   {
    "duration": 2012,
    "start_time": "2023-08-30T19:58:56.453Z"
   },
   {
    "duration": 32,
    "start_time": "2023-08-30T20:02:57.534Z"
   },
   {
    "duration": 4,
    "start_time": "2023-08-30T20:03:05.286Z"
   },
   {
    "duration": 43,
    "start_time": "2023-08-30T20:03:06.048Z"
   },
   {
    "duration": 36,
    "start_time": "2023-08-30T20:03:18.280Z"
   },
   {
    "duration": 6,
    "start_time": "2023-08-30T20:03:33.076Z"
   },
   {
    "duration": 38,
    "start_time": "2023-08-30T20:03:33.784Z"
   },
   {
    "duration": 5,
    "start_time": "2023-08-30T20:03:50.617Z"
   },
   {
    "duration": 68,
    "start_time": "2023-08-30T20:03:50.624Z"
   },
   {
    "duration": 9,
    "start_time": "2023-08-30T20:03:50.694Z"
   },
   {
    "duration": 16,
    "start_time": "2023-08-30T20:03:50.704Z"
   },
   {
    "duration": 6,
    "start_time": "2023-08-30T20:03:50.722Z"
   },
   {
    "duration": 52,
    "start_time": "2023-08-30T20:03:50.730Z"
   },
   {
    "duration": 265,
    "start_time": "2023-08-30T20:03:50.785Z"
   },
   {
    "duration": 7,
    "start_time": "2023-08-30T20:03:51.052Z"
   },
   {
    "duration": 1145,
    "start_time": "2023-08-30T20:03:51.061Z"
   },
   {
    "duration": 219,
    "start_time": "2023-08-30T20:03:52.208Z"
   },
   {
    "duration": 192,
    "start_time": "2023-08-30T20:03:52.431Z"
   },
   {
    "duration": 4,
    "start_time": "2023-08-30T20:03:52.625Z"
   },
   {
    "duration": 23,
    "start_time": "2023-08-30T20:03:52.649Z"
   },
   {
    "duration": 8,
    "start_time": "2023-08-30T20:03:52.674Z"
   },
   {
    "duration": 19,
    "start_time": "2023-08-30T20:03:52.683Z"
   },
   {
    "duration": 5,
    "start_time": "2023-08-30T20:03:52.704Z"
   },
   {
    "duration": 41,
    "start_time": "2023-08-30T20:03:52.710Z"
   },
   {
    "duration": 47,
    "start_time": "2023-08-30T20:03:52.752Z"
   },
   {
    "duration": 4,
    "start_time": "2023-08-30T20:03:52.801Z"
   },
   {
    "duration": 35,
    "start_time": "2023-08-30T20:03:52.807Z"
   },
   {
    "duration": 32,
    "start_time": "2023-08-30T20:03:52.844Z"
   },
   {
    "duration": 21,
    "start_time": "2023-08-30T20:03:52.878Z"
   },
   {
    "duration": 4,
    "start_time": "2023-08-30T20:03:52.901Z"
   },
   {
    "duration": 297,
    "start_time": "2023-08-30T20:03:52.907Z"
   },
   {
    "duration": 4,
    "start_time": "2023-08-30T20:03:53.206Z"
   },
   {
    "duration": 2328,
    "start_time": "2023-08-30T20:03:53.212Z"
   },
   {
    "duration": 15,
    "start_time": "2023-08-30T20:15:06.517Z"
   },
   {
    "duration": 14,
    "start_time": "2023-08-30T20:16:28.601Z"
   },
   {
    "duration": 21,
    "start_time": "2023-08-30T20:17:54.900Z"
   },
   {
    "duration": 34,
    "start_time": "2023-08-30T20:19:00.094Z"
   },
   {
    "duration": 25,
    "start_time": "2023-08-30T20:19:26.197Z"
   },
   {
    "duration": 19,
    "start_time": "2023-08-30T20:19:58.693Z"
   },
   {
    "duration": 20,
    "start_time": "2023-08-30T20:20:08.526Z"
   },
   {
    "duration": 4,
    "start_time": "2023-08-30T20:20:17.774Z"
   },
   {
    "duration": 16,
    "start_time": "2023-08-30T20:20:18.485Z"
   },
   {
    "duration": 11,
    "start_time": "2023-08-30T20:20:20.282Z"
   },
   {
    "duration": 5,
    "start_time": "2023-08-30T20:22:07.690Z"
   },
   {
    "duration": 57,
    "start_time": "2023-08-30T20:22:07.698Z"
   },
   {
    "duration": 9,
    "start_time": "2023-08-30T20:22:07.758Z"
   },
   {
    "duration": 5,
    "start_time": "2023-08-30T20:22:07.769Z"
   },
   {
    "duration": 7,
    "start_time": "2023-08-30T20:22:07.777Z"
   },
   {
    "duration": 76,
    "start_time": "2023-08-30T20:22:07.788Z"
   },
   {
    "duration": 366,
    "start_time": "2023-08-30T20:22:07.866Z"
   },
   {
    "duration": 15,
    "start_time": "2023-08-30T20:22:08.234Z"
   },
   {
    "duration": 1131,
    "start_time": "2023-08-30T20:22:08.252Z"
   },
   {
    "duration": 397,
    "start_time": "2023-08-30T20:22:09.385Z"
   },
   {
    "duration": 208,
    "start_time": "2023-08-30T20:22:09.786Z"
   },
   {
    "duration": 6,
    "start_time": "2023-08-30T20:22:09.996Z"
   },
   {
    "duration": 35,
    "start_time": "2023-08-30T20:22:10.004Z"
   },
   {
    "duration": 15,
    "start_time": "2023-08-30T20:22:10.041Z"
   },
   {
    "duration": 12,
    "start_time": "2023-08-30T20:22:10.058Z"
   },
   {
    "duration": 5,
    "start_time": "2023-08-30T20:22:10.072Z"
   },
   {
    "duration": 3,
    "start_time": "2023-08-30T20:22:10.079Z"
   },
   {
    "duration": 22,
    "start_time": "2023-08-30T20:22:10.084Z"
   },
   {
    "duration": 8,
    "start_time": "2023-08-30T20:22:10.109Z"
   },
   {
    "duration": 10,
    "start_time": "2023-08-30T20:22:10.119Z"
   },
   {
    "duration": 29,
    "start_time": "2023-08-30T20:22:10.131Z"
   },
   {
    "duration": 6,
    "start_time": "2023-08-30T20:22:10.162Z"
   },
   {
    "duration": 331,
    "start_time": "2023-08-30T20:22:10.172Z"
   },
   {
    "duration": 9,
    "start_time": "2023-08-30T20:22:10.505Z"
   },
   {
    "duration": 3563,
    "start_time": "2023-08-30T20:22:10.517Z"
   },
   {
    "duration": 5,
    "start_time": "2023-08-30T20:22:43.501Z"
   },
   {
    "duration": 59,
    "start_time": "2023-08-30T20:22:43.509Z"
   },
   {
    "duration": 7,
    "start_time": "2023-08-30T20:22:43.570Z"
   },
   {
    "duration": 17,
    "start_time": "2023-08-30T20:22:43.578Z"
   },
   {
    "duration": 24,
    "start_time": "2023-08-30T20:22:43.598Z"
   },
   {
    "duration": 54,
    "start_time": "2023-08-30T20:22:43.624Z"
   },
   {
    "duration": 235,
    "start_time": "2023-08-30T20:22:43.680Z"
   },
   {
    "duration": 10,
    "start_time": "2023-08-30T20:22:43.917Z"
   },
   {
    "duration": 877,
    "start_time": "2023-08-30T20:22:43.929Z"
   },
   {
    "duration": 217,
    "start_time": "2023-08-30T20:22:44.808Z"
   },
   {
    "duration": 211,
    "start_time": "2023-08-30T20:22:45.027Z"
   },
   {
    "duration": 10,
    "start_time": "2023-08-30T20:22:45.240Z"
   },
   {
    "duration": 29,
    "start_time": "2023-08-30T20:22:45.252Z"
   },
   {
    "duration": 8,
    "start_time": "2023-08-30T20:22:45.284Z"
   },
   {
    "duration": 11,
    "start_time": "2023-08-30T20:22:45.293Z"
   },
   {
    "duration": 4,
    "start_time": "2023-08-30T20:22:45.306Z"
   },
   {
    "duration": 3,
    "start_time": "2023-08-30T20:22:45.312Z"
   },
   {
    "duration": 40,
    "start_time": "2023-08-30T20:22:45.317Z"
   },
   {
    "duration": 28,
    "start_time": "2023-08-30T20:22:45.359Z"
   },
   {
    "duration": 4,
    "start_time": "2023-08-30T20:22:45.389Z"
   },
   {
    "duration": 14,
    "start_time": "2023-08-30T20:22:45.394Z"
   },
   {
    "duration": 4,
    "start_time": "2023-08-30T20:22:45.448Z"
   },
   {
    "duration": 271,
    "start_time": "2023-08-30T20:22:45.455Z"
   },
   {
    "duration": 4,
    "start_time": "2023-08-30T20:22:45.728Z"
   },
   {
    "duration": 2660,
    "start_time": "2023-08-30T20:22:45.733Z"
   },
   {
    "duration": 4,
    "start_time": "2023-08-30T20:23:18.866Z"
   },
   {
    "duration": 55,
    "start_time": "2023-08-30T20:23:18.873Z"
   },
   {
    "duration": 10,
    "start_time": "2023-08-30T20:23:18.930Z"
   },
   {
    "duration": 10,
    "start_time": "2023-08-30T20:23:18.942Z"
   },
   {
    "duration": 7,
    "start_time": "2023-08-30T20:23:18.955Z"
   },
   {
    "duration": 44,
    "start_time": "2023-08-30T20:23:18.964Z"
   },
   {
    "duration": 353,
    "start_time": "2023-08-30T20:23:19.010Z"
   },
   {
    "duration": 11,
    "start_time": "2023-08-30T20:23:19.365Z"
   },
   {
    "duration": 1410,
    "start_time": "2023-08-30T20:23:19.378Z"
   },
   {
    "duration": 244,
    "start_time": "2023-08-30T20:23:20.790Z"
   },
   {
    "duration": 214,
    "start_time": "2023-08-30T20:23:21.036Z"
   },
   {
    "duration": 5,
    "start_time": "2023-08-30T20:23:21.252Z"
   },
   {
    "duration": 81,
    "start_time": "2023-08-30T20:23:21.259Z"
   },
   {
    "duration": 18,
    "start_time": "2023-08-30T20:23:21.344Z"
   },
   {
    "duration": 18,
    "start_time": "2023-08-30T20:23:21.364Z"
   },
   {
    "duration": 4,
    "start_time": "2023-08-30T20:23:21.385Z"
   },
   {
    "duration": 4,
    "start_time": "2023-08-30T20:23:21.391Z"
   },
   {
    "duration": 15,
    "start_time": "2023-08-30T20:23:21.397Z"
   },
   {
    "duration": 52,
    "start_time": "2023-08-30T20:23:21.415Z"
   },
   {
    "duration": 4,
    "start_time": "2023-08-30T20:23:21.469Z"
   },
   {
    "duration": 13,
    "start_time": "2023-08-30T20:23:21.475Z"
   },
   {
    "duration": 9,
    "start_time": "2023-08-30T20:23:21.491Z"
   },
   {
    "duration": 338,
    "start_time": "2023-08-30T20:23:21.502Z"
   },
   {
    "duration": 8,
    "start_time": "2023-08-30T20:23:21.842Z"
   },
   {
    "duration": 3641,
    "start_time": "2023-08-30T20:23:21.853Z"
   },
   {
    "duration": 8,
    "start_time": "2023-08-30T20:24:11.317Z"
   },
   {
    "duration": 60,
    "start_time": "2023-08-30T20:24:11.329Z"
   },
   {
    "duration": 10,
    "start_time": "2023-08-30T20:24:11.391Z"
   },
   {
    "duration": 4,
    "start_time": "2023-08-30T20:24:11.404Z"
   },
   {
    "duration": 6,
    "start_time": "2023-08-30T20:24:11.412Z"
   },
   {
    "duration": 62,
    "start_time": "2023-08-30T20:24:11.420Z"
   },
   {
    "duration": 356,
    "start_time": "2023-08-30T20:24:11.484Z"
   },
   {
    "duration": 15,
    "start_time": "2023-08-30T20:24:11.842Z"
   },
   {
    "duration": 1333,
    "start_time": "2023-08-30T20:24:11.859Z"
   },
   {
    "duration": 214,
    "start_time": "2023-08-30T20:24:13.197Z"
   },
   {
    "duration": 225,
    "start_time": "2023-08-30T20:24:13.413Z"
   },
   {
    "duration": 12,
    "start_time": "2023-08-30T20:24:13.640Z"
   },
   {
    "duration": 36,
    "start_time": "2023-08-30T20:24:13.655Z"
   },
   {
    "duration": 9,
    "start_time": "2023-08-30T20:24:13.698Z"
   },
   {
    "duration": 45,
    "start_time": "2023-08-30T20:24:13.709Z"
   },
   {
    "duration": 5,
    "start_time": "2023-08-30T20:24:13.756Z"
   },
   {
    "duration": 4,
    "start_time": "2023-08-30T20:24:13.763Z"
   },
   {
    "duration": 17,
    "start_time": "2023-08-30T20:24:13.769Z"
   },
   {
    "duration": 62,
    "start_time": "2023-08-30T20:24:13.788Z"
   },
   {
    "duration": 3,
    "start_time": "2023-08-30T20:24:13.852Z"
   },
   {
    "duration": 13,
    "start_time": "2023-08-30T20:24:13.857Z"
   },
   {
    "duration": 5,
    "start_time": "2023-08-30T20:24:13.872Z"
   },
   {
    "duration": 318,
    "start_time": "2023-08-30T20:24:13.879Z"
   },
   {
    "duration": 3,
    "start_time": "2023-08-30T20:24:14.201Z"
   },
   {
    "duration": 3309,
    "start_time": "2023-08-30T20:24:14.206Z"
   },
   {
    "duration": 4,
    "start_time": "2023-08-30T20:25:06.602Z"
   },
   {
    "duration": 55,
    "start_time": "2023-08-30T20:25:06.610Z"
   },
   {
    "duration": 9,
    "start_time": "2023-08-30T20:25:06.667Z"
   },
   {
    "duration": 4,
    "start_time": "2023-08-30T20:25:06.678Z"
   },
   {
    "duration": 6,
    "start_time": "2023-08-30T20:25:06.684Z"
   },
   {
    "duration": 41,
    "start_time": "2023-08-30T20:25:06.691Z"
   },
   {
    "duration": 256,
    "start_time": "2023-08-30T20:25:06.734Z"
   },
   {
    "duration": 9,
    "start_time": "2023-08-30T20:25:06.993Z"
   },
   {
    "duration": 792,
    "start_time": "2023-08-30T20:25:07.005Z"
   },
   {
    "duration": 153,
    "start_time": "2023-08-30T20:25:07.800Z"
   },
   {
    "duration": 144,
    "start_time": "2023-08-30T20:25:07.955Z"
   },
   {
    "duration": 4,
    "start_time": "2023-08-30T20:25:08.100Z"
   },
   {
    "duration": 46,
    "start_time": "2023-08-30T20:25:08.105Z"
   },
   {
    "duration": 6,
    "start_time": "2023-08-30T20:25:08.154Z"
   },
   {
    "duration": 20,
    "start_time": "2023-08-30T20:25:08.161Z"
   },
   {
    "duration": 4,
    "start_time": "2023-08-30T20:25:08.182Z"
   },
   {
    "duration": 23,
    "start_time": "2023-08-30T20:25:08.187Z"
   },
   {
    "duration": 11,
    "start_time": "2023-08-30T20:25:08.211Z"
   },
   {
    "duration": 39,
    "start_time": "2023-08-30T20:25:08.224Z"
   },
   {
    "duration": 3,
    "start_time": "2023-08-30T20:25:08.264Z"
   },
   {
    "duration": 12,
    "start_time": "2023-08-30T20:25:08.268Z"
   },
   {
    "duration": 10,
    "start_time": "2023-08-30T20:25:08.281Z"
   },
   {
    "duration": 306,
    "start_time": "2023-08-30T20:25:08.293Z"
   },
   {
    "duration": 4,
    "start_time": "2023-08-30T20:25:08.601Z"
   },
   {
    "duration": 2036,
    "start_time": "2023-08-30T20:25:08.606Z"
   },
   {
    "duration": 96,
    "start_time": "2023-08-30T20:36:48.444Z"
   },
   {
    "duration": 11,
    "start_time": "2023-08-30T20:41:06.289Z"
   },
   {
    "duration": 60,
    "start_time": "2023-08-30T20:42:29.227Z"
   },
   {
    "duration": 9,
    "start_time": "2023-08-30T20:42:34.945Z"
   },
   {
    "duration": 86813,
    "start_time": "2023-08-30T20:42:36.490Z"
   },
   {
    "duration": 3,
    "start_time": "2023-08-30T20:45:04.232Z"
   },
   {
    "duration": 160374,
    "start_time": "2023-08-30T20:45:05.077Z"
   },
   {
    "duration": 0,
    "start_time": "2023-08-30T20:47:45.453Z"
   },
   {
    "duration": 3,
    "start_time": "2023-08-30T20:47:58.528Z"
   },
   {
    "duration": 44380,
    "start_time": "2023-08-30T20:47:59.305Z"
   },
   {
    "duration": 4,
    "start_time": "2023-08-30T20:48:47.029Z"
   },
   {
    "duration": 63,
    "start_time": "2023-08-30T20:48:47.074Z"
   },
   {
    "duration": 7,
    "start_time": "2023-08-30T20:48:47.139Z"
   },
   {
    "duration": 9,
    "start_time": "2023-08-30T20:48:47.148Z"
   },
   {
    "duration": 8,
    "start_time": "2023-08-30T20:48:47.159Z"
   },
   {
    "duration": 34,
    "start_time": "2023-08-30T20:48:47.171Z"
   },
   {
    "duration": 305,
    "start_time": "2023-08-30T20:48:47.207Z"
   },
   {
    "duration": 9,
    "start_time": "2023-08-30T20:48:47.514Z"
   },
   {
    "duration": 996,
    "start_time": "2023-08-30T20:48:47.525Z"
   },
   {
    "duration": 202,
    "start_time": "2023-08-30T20:48:48.522Z"
   },
   {
    "duration": 189,
    "start_time": "2023-08-30T20:48:48.726Z"
   },
   {
    "duration": 4,
    "start_time": "2023-08-30T20:48:48.917Z"
   },
   {
    "duration": 44,
    "start_time": "2023-08-30T20:48:48.923Z"
   },
   {
    "duration": 10,
    "start_time": "2023-08-30T20:48:48.969Z"
   },
   {
    "duration": 16,
    "start_time": "2023-08-30T20:48:48.983Z"
   },
   {
    "duration": 4,
    "start_time": "2023-08-30T20:48:49.000Z"
   },
   {
    "duration": 9,
    "start_time": "2023-08-30T20:48:49.006Z"
   },
   {
    "duration": 13,
    "start_time": "2023-08-30T20:48:49.017Z"
   },
   {
    "duration": 40,
    "start_time": "2023-08-30T20:48:49.051Z"
   },
   {
    "duration": 3,
    "start_time": "2023-08-30T20:48:49.092Z"
   },
   {
    "duration": 11,
    "start_time": "2023-08-30T20:48:49.097Z"
   },
   {
    "duration": 4,
    "start_time": "2023-08-30T20:48:49.109Z"
   },
   {
    "duration": 240,
    "start_time": "2023-08-30T20:48:49.114Z"
   },
   {
    "duration": 4,
    "start_time": "2023-08-30T20:48:49.365Z"
   },
   {
    "duration": 2346,
    "start_time": "2023-08-30T20:48:49.371Z"
   },
   {
    "duration": 3,
    "start_time": "2023-08-30T20:48:51.719Z"
   },
   {
    "duration": 38377,
    "start_time": "2023-08-30T20:48:51.724Z"
   },
   {
    "duration": 0,
    "start_time": "2023-08-30T20:49:30.103Z"
   },
   {
    "duration": 6,
    "start_time": "2023-08-30T20:51:18.622Z"
   },
   {
    "duration": 0,
    "start_time": "2023-08-30T20:56:00.169Z"
   },
   {
    "duration": 4,
    "start_time": "2023-08-30T20:56:36.334Z"
   },
   {
    "duration": 47,
    "start_time": "2023-08-30T20:56:36.341Z"
   },
   {
    "duration": 7,
    "start_time": "2023-08-30T20:56:36.389Z"
   },
   {
    "duration": 3,
    "start_time": "2023-08-30T20:56:36.398Z"
   },
   {
    "duration": 4,
    "start_time": "2023-08-30T20:56:36.404Z"
   },
   {
    "duration": 50,
    "start_time": "2023-08-30T20:56:36.409Z"
   },
   {
    "duration": 229,
    "start_time": "2023-08-30T20:56:36.461Z"
   },
   {
    "duration": 7,
    "start_time": "2023-08-30T20:56:36.692Z"
   },
   {
    "duration": 927,
    "start_time": "2023-08-30T20:56:36.700Z"
   },
   {
    "duration": 155,
    "start_time": "2023-08-30T20:56:37.628Z"
   },
   {
    "duration": 145,
    "start_time": "2023-08-30T20:56:37.785Z"
   },
   {
    "duration": 6,
    "start_time": "2023-08-30T20:56:37.931Z"
   },
   {
    "duration": 30,
    "start_time": "2023-08-30T20:56:37.938Z"
   },
   {
    "duration": 8,
    "start_time": "2023-08-30T20:56:37.973Z"
   },
   {
    "duration": 13,
    "start_time": "2023-08-30T20:56:37.983Z"
   },
   {
    "duration": 3,
    "start_time": "2023-08-30T20:56:37.999Z"
   },
   {
    "duration": 4,
    "start_time": "2023-08-30T20:56:38.004Z"
   },
   {
    "duration": 48,
    "start_time": "2023-08-30T20:56:38.010Z"
   },
   {
    "duration": 20,
    "start_time": "2023-08-30T20:56:38.060Z"
   },
   {
    "duration": 2,
    "start_time": "2023-08-30T20:56:38.082Z"
   },
   {
    "duration": 11,
    "start_time": "2023-08-30T20:56:38.086Z"
   },
   {
    "duration": 4,
    "start_time": "2023-08-30T20:56:38.099Z"
   },
   {
    "duration": 260,
    "start_time": "2023-08-30T20:56:38.105Z"
   },
   {
    "duration": 4,
    "start_time": "2023-08-30T20:56:38.367Z"
   },
   {
    "duration": 2105,
    "start_time": "2023-08-30T20:56:38.373Z"
   },
   {
    "duration": 2,
    "start_time": "2023-08-30T20:56:40.480Z"
   },
   {
    "duration": 8,
    "start_time": "2023-08-30T20:56:40.484Z"
   },
   {
    "duration": 204277,
    "start_time": "2023-08-30T20:56:40.494Z"
   },
   {
    "duration": 10,
    "start_time": "2023-08-30T21:00:04.849Z"
   },
   {
    "duration": 6,
    "start_time": "2023-08-30T21:01:19.981Z"
   },
   {
    "duration": 66,
    "start_time": "2023-08-30T21:01:19.990Z"
   },
   {
    "duration": 10,
    "start_time": "2023-08-30T21:01:20.059Z"
   },
   {
    "duration": 13,
    "start_time": "2023-08-30T21:01:20.072Z"
   },
   {
    "duration": 18,
    "start_time": "2023-08-30T21:01:20.088Z"
   },
   {
    "duration": 57,
    "start_time": "2023-08-30T21:01:20.109Z"
   },
   {
    "duration": 245,
    "start_time": "2023-08-30T21:01:20.168Z"
   },
   {
    "duration": 8,
    "start_time": "2023-08-30T21:01:20.416Z"
   },
   {
    "duration": 1226,
    "start_time": "2023-08-30T21:01:20.425Z"
   },
   {
    "duration": 233,
    "start_time": "2023-08-30T21:01:21.654Z"
   },
   {
    "duration": 237,
    "start_time": "2023-08-30T21:01:21.892Z"
   },
   {
    "duration": 6,
    "start_time": "2023-08-30T21:01:22.131Z"
   },
   {
    "duration": 48,
    "start_time": "2023-08-30T21:01:22.148Z"
   },
   {
    "duration": 23,
    "start_time": "2023-08-30T21:01:22.199Z"
   },
   {
    "duration": 39,
    "start_time": "2023-08-30T21:01:22.223Z"
   },
   {
    "duration": 37,
    "start_time": "2023-08-30T21:01:22.264Z"
   },
   {
    "duration": 27,
    "start_time": "2023-08-30T21:01:22.303Z"
   },
   {
    "duration": 44,
    "start_time": "2023-08-30T21:01:22.333Z"
   },
   {
    "duration": 83,
    "start_time": "2023-08-30T21:01:22.380Z"
   },
   {
    "duration": 14,
    "start_time": "2023-08-30T21:01:22.466Z"
   },
   {
    "duration": 55,
    "start_time": "2023-08-30T21:01:22.482Z"
   },
   {
    "duration": 32,
    "start_time": "2023-08-30T21:01:22.539Z"
   },
   {
    "duration": 305,
    "start_time": "2023-08-30T21:01:22.573Z"
   },
   {
    "duration": 4,
    "start_time": "2023-08-30T21:01:22.881Z"
   },
   {
    "duration": 2339,
    "start_time": "2023-08-30T21:01:22.888Z"
   },
   {
    "duration": 3,
    "start_time": "2023-08-30T21:01:25.229Z"
   },
   {
    "duration": 21,
    "start_time": "2023-08-30T21:01:25.234Z"
   },
   {
    "duration": 28,
    "start_time": "2023-08-30T21:01:25.257Z"
   },
   {
    "duration": 0,
    "start_time": "2023-08-30T21:01:25.287Z"
   },
   {
    "duration": 17,
    "start_time": "2023-08-30T21:02:58.167Z"
   },
   {
    "duration": 76102,
    "start_time": "2023-08-30T21:04:41.385Z"
   },
   {
    "duration": 11,
    "start_time": "2023-08-30T21:06:24.225Z"
   },
   {
    "duration": 144631,
    "start_time": "2023-08-30T21:06:47.039Z"
   },
   {
    "duration": 4,
    "start_time": "2023-08-30T21:10:31.329Z"
   },
   {
    "duration": 108,
    "start_time": "2023-08-30T21:10:31.337Z"
   },
   {
    "duration": 6,
    "start_time": "2023-08-30T21:10:31.447Z"
   },
   {
    "duration": 31,
    "start_time": "2023-08-30T21:10:31.454Z"
   },
   {
    "duration": 18,
    "start_time": "2023-08-30T21:10:31.487Z"
   },
   {
    "duration": 78,
    "start_time": "2023-08-30T21:10:31.507Z"
   },
   {
    "duration": 221,
    "start_time": "2023-08-30T21:10:31.587Z"
   },
   {
    "duration": 11,
    "start_time": "2023-08-30T21:10:31.809Z"
   },
   {
    "duration": 925,
    "start_time": "2023-08-30T21:10:31.822Z"
   },
   {
    "duration": 152,
    "start_time": "2023-08-30T21:10:32.750Z"
   },
   {
    "duration": 151,
    "start_time": "2023-08-30T21:10:32.905Z"
   },
   {
    "duration": 3,
    "start_time": "2023-08-30T21:10:33.058Z"
   },
   {
    "duration": 36,
    "start_time": "2023-08-30T21:10:33.063Z"
   },
   {
    "duration": 6,
    "start_time": "2023-08-30T21:10:33.100Z"
   },
   {
    "duration": 21,
    "start_time": "2023-08-30T21:10:33.107Z"
   },
   {
    "duration": 7,
    "start_time": "2023-08-30T21:10:33.129Z"
   },
   {
    "duration": 12,
    "start_time": "2023-08-30T21:10:33.137Z"
   },
   {
    "duration": 33,
    "start_time": "2023-08-30T21:10:33.150Z"
   },
   {
    "duration": 45,
    "start_time": "2023-08-30T21:10:33.184Z"
   },
   {
    "duration": 7,
    "start_time": "2023-08-30T21:10:33.230Z"
   },
   {
    "duration": 28,
    "start_time": "2023-08-30T21:10:33.239Z"
   },
   {
    "duration": 30,
    "start_time": "2023-08-30T21:10:33.268Z"
   },
   {
    "duration": 251,
    "start_time": "2023-08-30T21:10:33.300Z"
   },
   {
    "duration": 3,
    "start_time": "2023-08-30T21:10:33.552Z"
   },
   {
    "duration": 1995,
    "start_time": "2023-08-30T21:10:33.556Z"
   },
   {
    "duration": 2,
    "start_time": "2023-08-30T21:10:35.553Z"
   },
   {
    "duration": 12,
    "start_time": "2023-08-30T21:10:35.556Z"
   },
   {
    "duration": 134488,
    "start_time": "2023-08-30T21:10:35.570Z"
   },
   {
    "duration": 0,
    "start_time": "2023-08-30T21:12:50.059Z"
   },
   {
    "duration": 5,
    "start_time": "2023-08-30T21:13:00.749Z"
   },
   {
    "duration": 131,
    "start_time": "2023-08-30T21:13:00.756Z"
   },
   {
    "duration": 19,
    "start_time": "2023-08-30T21:13:00.889Z"
   },
   {
    "duration": 48,
    "start_time": "2023-08-30T21:13:00.910Z"
   },
   {
    "duration": 45,
    "start_time": "2023-08-30T21:13:00.960Z"
   },
   {
    "duration": 72,
    "start_time": "2023-08-30T21:13:01.007Z"
   },
   {
    "duration": 206,
    "start_time": "2023-08-30T21:13:01.081Z"
   },
   {
    "duration": 7,
    "start_time": "2023-08-30T21:13:01.288Z"
   },
   {
    "duration": 914,
    "start_time": "2023-08-30T21:13:01.296Z"
   },
   {
    "duration": 152,
    "start_time": "2023-08-30T21:13:02.212Z"
   },
   {
    "duration": 156,
    "start_time": "2023-08-30T21:13:02.366Z"
   },
   {
    "duration": 5,
    "start_time": "2023-08-30T21:13:02.524Z"
   },
   {
    "duration": 41,
    "start_time": "2023-08-30T21:13:02.531Z"
   },
   {
    "duration": 7,
    "start_time": "2023-08-30T21:13:02.574Z"
   },
   {
    "duration": 13,
    "start_time": "2023-08-30T21:13:02.584Z"
   },
   {
    "duration": 4,
    "start_time": "2023-08-30T21:13:02.598Z"
   },
   {
    "duration": 8,
    "start_time": "2023-08-30T21:13:02.604Z"
   },
   {
    "duration": 27,
    "start_time": "2023-08-30T21:13:02.614Z"
   },
   {
    "duration": 19,
    "start_time": "2023-08-30T21:13:02.649Z"
   },
   {
    "duration": 5,
    "start_time": "2023-08-30T21:13:02.670Z"
   },
   {
    "duration": 10,
    "start_time": "2023-08-30T21:13:02.676Z"
   },
   {
    "duration": 12,
    "start_time": "2023-08-30T21:13:02.687Z"
   },
   {
    "duration": 234,
    "start_time": "2023-08-30T21:13:02.701Z"
   },
   {
    "duration": 2,
    "start_time": "2023-08-30T21:13:02.937Z"
   },
   {
    "duration": 2127,
    "start_time": "2023-08-30T21:13:02.949Z"
   },
   {
    "duration": 3,
    "start_time": "2023-08-30T21:13:05.078Z"
   },
   {
    "duration": 7,
    "start_time": "2023-08-30T21:13:05.083Z"
   },
   {
    "duration": 48259,
    "start_time": "2023-08-30T21:13:05.092Z"
   },
   {
    "duration": 10,
    "start_time": "2023-08-30T21:13:53.355Z"
   },
   {
    "duration": 38174,
    "start_time": "2023-08-30T21:13:59.787Z"
   },
   {
    "duration": 63491,
    "start_time": "2023-08-30T21:15:28.762Z"
   },
   {
    "duration": 4,
    "start_time": "2023-08-30T21:16:53.367Z"
   },
   {
    "duration": 65,
    "start_time": "2023-08-30T21:16:53.372Z"
   },
   {
    "duration": 7,
    "start_time": "2023-08-30T21:16:53.438Z"
   },
   {
    "duration": 15,
    "start_time": "2023-08-30T21:16:53.446Z"
   },
   {
    "duration": 14,
    "start_time": "2023-08-30T21:16:53.463Z"
   },
   {
    "duration": 47,
    "start_time": "2023-08-30T21:16:53.479Z"
   },
   {
    "duration": 243,
    "start_time": "2023-08-30T21:16:53.528Z"
   },
   {
    "duration": 7,
    "start_time": "2023-08-30T21:16:53.773Z"
   },
   {
    "duration": 764,
    "start_time": "2023-08-30T21:16:53.781Z"
   },
   {
    "duration": 222,
    "start_time": "2023-08-30T21:16:54.549Z"
   },
   {
    "duration": 142,
    "start_time": "2023-08-30T21:16:54.773Z"
   },
   {
    "duration": 4,
    "start_time": "2023-08-30T21:16:54.917Z"
   },
   {
    "duration": 29,
    "start_time": "2023-08-30T21:16:54.922Z"
   },
   {
    "duration": 6,
    "start_time": "2023-08-30T21:16:54.955Z"
   },
   {
    "duration": 21,
    "start_time": "2023-08-30T21:16:54.963Z"
   },
   {
    "duration": 4,
    "start_time": "2023-08-30T21:16:54.986Z"
   },
   {
    "duration": 7,
    "start_time": "2023-08-30T21:16:54.992Z"
   },
   {
    "duration": 19,
    "start_time": "2023-08-30T21:16:55.001Z"
   },
   {
    "duration": 49,
    "start_time": "2023-08-30T21:16:55.022Z"
   },
   {
    "duration": 3,
    "start_time": "2023-08-30T21:16:55.073Z"
   },
   {
    "duration": 17,
    "start_time": "2023-08-30T21:16:55.078Z"
   },
   {
    "duration": 54,
    "start_time": "2023-08-30T21:16:55.096Z"
   },
   {
    "duration": 210,
    "start_time": "2023-08-30T21:16:55.151Z"
   },
   {
    "duration": 3,
    "start_time": "2023-08-30T21:16:55.363Z"
   },
   {
    "duration": 2115,
    "start_time": "2023-08-30T21:16:55.368Z"
   },
   {
    "duration": 2,
    "start_time": "2023-08-30T21:16:57.485Z"
   },
   {
    "duration": 55,
    "start_time": "2023-08-30T21:16:57.488Z"
   },
   {
    "duration": 74810,
    "start_time": "2023-08-30T21:16:57.545Z"
   },
   {
    "duration": 9,
    "start_time": "2023-08-30T21:18:12.357Z"
   },
   {
    "duration": 9,
    "start_time": "2023-08-30T21:18:23.024Z"
   },
   {
    "duration": 16,
    "start_time": "2023-08-30T21:19:29.797Z"
   },
   {
    "duration": 10,
    "start_time": "2023-08-30T21:19:41.748Z"
   },
   {
    "duration": 10,
    "start_time": "2023-08-30T21:21:13.503Z"
   },
   {
    "duration": 15,
    "start_time": "2023-08-30T21:21:48.020Z"
   },
   {
    "duration": 15,
    "start_time": "2023-08-30T21:22:35.521Z"
   },
   {
    "duration": 19,
    "start_time": "2023-08-30T21:22:58.467Z"
   },
   {
    "duration": 3,
    "start_time": "2023-08-30T21:23:22.934Z"
   },
   {
    "duration": 50,
    "start_time": "2023-08-30T21:23:22.939Z"
   },
   {
    "duration": 7,
    "start_time": "2023-08-30T21:23:22.991Z"
   },
   {
    "duration": 3,
    "start_time": "2023-08-30T21:23:23.000Z"
   },
   {
    "duration": 6,
    "start_time": "2023-08-30T21:23:23.005Z"
   },
   {
    "duration": 27,
    "start_time": "2023-08-30T21:23:23.013Z"
   },
   {
    "duration": 216,
    "start_time": "2023-08-30T21:23:23.049Z"
   },
   {
    "duration": 8,
    "start_time": "2023-08-30T21:23:23.266Z"
   },
   {
    "duration": 960,
    "start_time": "2023-08-30T21:23:23.275Z"
   },
   {
    "duration": 131,
    "start_time": "2023-08-30T21:23:24.238Z"
   },
   {
    "duration": 144,
    "start_time": "2023-08-30T21:23:24.370Z"
   },
   {
    "duration": 4,
    "start_time": "2023-08-30T21:23:24.516Z"
   },
   {
    "duration": 38,
    "start_time": "2023-08-30T21:23:24.521Z"
   },
   {
    "duration": 6,
    "start_time": "2023-08-30T21:23:24.561Z"
   },
   {
    "duration": 14,
    "start_time": "2023-08-30T21:23:24.569Z"
   },
   {
    "duration": 4,
    "start_time": "2023-08-30T21:23:24.584Z"
   },
   {
    "duration": 14,
    "start_time": "2023-08-30T21:23:24.590Z"
   },
   {
    "duration": 20,
    "start_time": "2023-08-30T21:23:24.606Z"
   },
   {
    "duration": 40,
    "start_time": "2023-08-30T21:23:24.627Z"
   },
   {
    "duration": 3,
    "start_time": "2023-08-30T21:23:24.669Z"
   },
   {
    "duration": 84,
    "start_time": "2023-08-30T21:23:24.673Z"
   },
   {
    "duration": 90,
    "start_time": "2023-08-30T21:23:24.760Z"
   },
   {
    "duration": 217,
    "start_time": "2023-08-30T21:23:24.853Z"
   },
   {
    "duration": 4,
    "start_time": "2023-08-30T21:23:25.071Z"
   },
   {
    "duration": 2969,
    "start_time": "2023-08-30T21:23:25.076Z"
   },
   {
    "duration": 5,
    "start_time": "2023-08-30T21:23:28.046Z"
   },
   {
    "duration": 13,
    "start_time": "2023-08-30T21:23:28.052Z"
   },
   {
    "duration": 69889,
    "start_time": "2023-08-30T21:23:28.068Z"
   },
   {
    "duration": 16,
    "start_time": "2023-08-30T21:24:37.959Z"
   },
   {
    "duration": 79,
    "start_time": "2023-08-30T21:24:37.976Z"
   },
   {
    "duration": 22,
    "start_time": "2023-08-30T21:24:38.057Z"
   },
   {
    "duration": 7,
    "start_time": "2023-08-30T21:24:49.835Z"
   },
   {
    "duration": 15,
    "start_time": "2023-08-30T21:24:55.722Z"
   },
   {
    "duration": 7,
    "start_time": "2023-08-30T21:25:05.738Z"
   },
   {
    "duration": 4,
    "start_time": "2023-08-30T21:25:38.166Z"
   },
   {
    "duration": 88,
    "start_time": "2023-08-30T21:25:38.172Z"
   },
   {
    "duration": 8,
    "start_time": "2023-08-30T21:25:38.261Z"
   },
   {
    "duration": 7,
    "start_time": "2023-08-30T21:25:38.271Z"
   },
   {
    "duration": 12,
    "start_time": "2023-08-30T21:25:38.280Z"
   },
   {
    "duration": 32,
    "start_time": "2023-08-30T21:25:38.294Z"
   },
   {
    "duration": 236,
    "start_time": "2023-08-30T21:25:38.328Z"
   },
   {
    "duration": 6,
    "start_time": "2023-08-30T21:25:38.566Z"
   },
   {
    "duration": 910,
    "start_time": "2023-08-30T21:25:38.574Z"
   },
   {
    "duration": 152,
    "start_time": "2023-08-30T21:25:39.485Z"
   },
   {
    "duration": 169,
    "start_time": "2023-08-30T21:25:39.639Z"
   },
   {
    "duration": 4,
    "start_time": "2023-08-30T21:25:39.810Z"
   },
   {
    "duration": 47,
    "start_time": "2023-08-30T21:25:39.815Z"
   },
   {
    "duration": 6,
    "start_time": "2023-08-30T21:25:39.864Z"
   },
   {
    "duration": 27,
    "start_time": "2023-08-30T21:25:39.872Z"
   },
   {
    "duration": 4,
    "start_time": "2023-08-30T21:25:39.900Z"
   },
   {
    "duration": 4,
    "start_time": "2023-08-30T21:25:39.906Z"
   },
   {
    "duration": 40,
    "start_time": "2023-08-30T21:25:39.912Z"
   },
   {
    "duration": 27,
    "start_time": "2023-08-30T21:25:39.953Z"
   },
   {
    "duration": 3,
    "start_time": "2023-08-30T21:25:39.982Z"
   },
   {
    "duration": 67,
    "start_time": "2023-08-30T21:25:39.987Z"
   },
   {
    "duration": 94,
    "start_time": "2023-08-30T21:25:40.056Z"
   },
   {
    "duration": 291,
    "start_time": "2023-08-30T21:25:40.152Z"
   },
   {
    "duration": 4,
    "start_time": "2023-08-30T21:25:40.447Z"
   },
   {
    "duration": 4305,
    "start_time": "2023-08-30T21:25:40.453Z"
   },
   {
    "duration": 2,
    "start_time": "2023-08-30T21:25:44.760Z"
   },
   {
    "duration": 10,
    "start_time": "2023-08-30T21:25:44.764Z"
   },
   {
    "duration": 70578,
    "start_time": "2023-08-30T21:25:44.775Z"
   },
   {
    "duration": 17,
    "start_time": "2023-08-30T21:26:55.355Z"
   },
   {
    "duration": 10,
    "start_time": "2023-08-30T21:26:55.374Z"
   },
   {
    "duration": 8,
    "start_time": "2023-08-30T21:26:55.450Z"
   },
   {
    "duration": 15,
    "start_time": "2023-08-30T21:27:08.757Z"
   },
   {
    "duration": 12,
    "start_time": "2023-08-30T21:27:16.755Z"
   },
   {
    "duration": 11,
    "start_time": "2023-08-30T21:28:02.551Z"
   },
   {
    "duration": 12,
    "start_time": "2023-08-30T21:28:09.863Z"
   },
   {
    "duration": 4,
    "start_time": "2023-08-30T21:28:59.100Z"
   },
   {
    "duration": 74,
    "start_time": "2023-08-30T21:28:59.107Z"
   },
   {
    "duration": 9,
    "start_time": "2023-08-30T21:28:59.183Z"
   },
   {
    "duration": 4,
    "start_time": "2023-08-30T21:28:59.193Z"
   },
   {
    "duration": 6,
    "start_time": "2023-08-30T21:28:59.200Z"
   },
   {
    "duration": 59,
    "start_time": "2023-08-30T21:28:59.207Z"
   },
   {
    "duration": 229,
    "start_time": "2023-08-30T21:28:59.268Z"
   },
   {
    "duration": 7,
    "start_time": "2023-08-30T21:28:59.499Z"
   },
   {
    "duration": 842,
    "start_time": "2023-08-30T21:28:59.508Z"
   },
   {
    "duration": 162,
    "start_time": "2023-08-30T21:29:00.352Z"
   },
   {
    "duration": 146,
    "start_time": "2023-08-30T21:29:00.517Z"
   },
   {
    "duration": 3,
    "start_time": "2023-08-30T21:29:00.665Z"
   },
   {
    "duration": 71,
    "start_time": "2023-08-30T21:29:00.670Z"
   },
   {
    "duration": 9,
    "start_time": "2023-08-30T21:29:00.743Z"
   },
   {
    "duration": 45,
    "start_time": "2023-08-30T21:29:00.753Z"
   },
   {
    "duration": 9,
    "start_time": "2023-08-30T21:29:00.800Z"
   },
   {
    "duration": 31,
    "start_time": "2023-08-30T21:29:00.810Z"
   },
   {
    "duration": 50,
    "start_time": "2023-08-30T21:29:00.843Z"
   },
   {
    "duration": 57,
    "start_time": "2023-08-30T21:29:00.895Z"
   },
   {
    "duration": 44,
    "start_time": "2023-08-30T21:29:00.953Z"
   },
   {
    "duration": 53,
    "start_time": "2023-08-30T21:29:00.999Z"
   },
   {
    "duration": 96,
    "start_time": "2023-08-30T21:29:01.054Z"
   },
   {
    "duration": 377,
    "start_time": "2023-08-30T21:29:01.155Z"
   },
   {
    "duration": 3,
    "start_time": "2023-08-30T21:29:01.534Z"
   },
   {
    "duration": 5617,
    "start_time": "2023-08-30T21:29:01.539Z"
   },
   {
    "duration": 2,
    "start_time": "2023-08-30T21:29:07.158Z"
   },
   {
    "duration": 21,
    "start_time": "2023-08-30T21:29:07.162Z"
   },
   {
    "duration": 66466,
    "start_time": "2023-08-30T21:29:07.184Z"
   },
   {
    "duration": 16,
    "start_time": "2023-08-30T21:30:13.654Z"
   },
   {
    "duration": 14,
    "start_time": "2023-08-30T21:30:13.671Z"
   },
   {
    "duration": 12,
    "start_time": "2023-08-30T21:30:13.687Z"
   },
   {
    "duration": 22,
    "start_time": "2023-08-30T21:30:29.623Z"
   },
   {
    "duration": 4,
    "start_time": "2023-08-30T21:31:40.046Z"
   },
   {
    "duration": 56,
    "start_time": "2023-08-30T21:31:40.053Z"
   },
   {
    "duration": 8,
    "start_time": "2023-08-30T21:31:40.111Z"
   },
   {
    "duration": 4,
    "start_time": "2023-08-30T21:31:40.120Z"
   },
   {
    "duration": 7,
    "start_time": "2023-08-30T21:31:40.127Z"
   },
   {
    "duration": 32,
    "start_time": "2023-08-30T21:31:40.136Z"
   },
   {
    "duration": 233,
    "start_time": "2023-08-30T21:31:40.170Z"
   },
   {
    "duration": 7,
    "start_time": "2023-08-30T21:31:40.404Z"
   },
   {
    "duration": 938,
    "start_time": "2023-08-30T21:31:40.413Z"
   },
   {
    "duration": 141,
    "start_time": "2023-08-30T21:31:41.352Z"
   },
   {
    "duration": 134,
    "start_time": "2023-08-30T21:31:41.495Z"
   },
   {
    "duration": 4,
    "start_time": "2023-08-30T21:31:41.630Z"
   },
   {
    "duration": 39,
    "start_time": "2023-08-30T21:31:41.635Z"
   },
   {
    "duration": 8,
    "start_time": "2023-08-30T21:31:41.675Z"
   },
   {
    "duration": 20,
    "start_time": "2023-08-30T21:31:41.685Z"
   },
   {
    "duration": 11,
    "start_time": "2023-08-30T21:31:41.706Z"
   },
   {
    "duration": 7,
    "start_time": "2023-08-30T21:31:41.718Z"
   },
   {
    "duration": 28,
    "start_time": "2023-08-30T21:31:41.727Z"
   },
   {
    "duration": 24,
    "start_time": "2023-08-30T21:31:41.757Z"
   },
   {
    "duration": 2,
    "start_time": "2023-08-30T21:31:41.783Z"
   },
   {
    "duration": 73,
    "start_time": "2023-08-30T21:31:41.787Z"
   },
   {
    "duration": 4,
    "start_time": "2023-08-30T21:31:41.863Z"
   },
   {
    "duration": 339,
    "start_time": "2023-08-30T21:31:41.869Z"
   },
   {
    "duration": 3,
    "start_time": "2023-08-30T21:31:42.209Z"
   },
   {
    "duration": 4228,
    "start_time": "2023-08-30T21:31:42.214Z"
   },
   {
    "duration": 6,
    "start_time": "2023-08-30T21:31:46.444Z"
   },
   {
    "duration": 7,
    "start_time": "2023-08-30T21:31:46.452Z"
   },
   {
    "duration": 69692,
    "start_time": "2023-08-30T21:31:46.460Z"
   },
   {
    "duration": 21,
    "start_time": "2023-08-30T21:32:56.155Z"
   },
   {
    "duration": 8,
    "start_time": "2023-08-30T21:32:56.178Z"
   },
   {
    "duration": 18,
    "start_time": "2023-08-30T21:32:56.250Z"
   },
   {
    "duration": 10,
    "start_time": "2023-08-30T21:35:29.139Z"
   },
   {
    "duration": 4,
    "start_time": "2023-08-30T21:36:02.007Z"
   },
   {
    "duration": 13,
    "start_time": "2023-08-30T21:36:59.274Z"
   },
   {
    "duration": 12,
    "start_time": "2023-08-30T21:37:51.880Z"
   },
   {
    "duration": 6,
    "start_time": "2023-08-30T21:37:58.585Z"
   },
   {
    "duration": 11,
    "start_time": "2023-08-30T21:38:36.992Z"
   },
   {
    "duration": 14,
    "start_time": "2023-08-30T21:39:10.036Z"
   },
   {
    "duration": 77933,
    "start_time": "2023-08-30T21:40:24.141Z"
   },
   {
    "duration": 152902,
    "start_time": "2023-08-30T21:41:53.278Z"
   },
   {
    "duration": 1668,
    "start_time": "2023-08-31T07:32:15.587Z"
   },
   {
    "duration": 116,
    "start_time": "2023-08-31T07:32:17.257Z"
   },
   {
    "duration": 10,
    "start_time": "2023-08-31T07:32:17.375Z"
   },
   {
    "duration": 11,
    "start_time": "2023-08-31T07:32:17.387Z"
   },
   {
    "duration": 44,
    "start_time": "2023-08-31T07:32:17.400Z"
   },
   {
    "duration": 100,
    "start_time": "2023-08-31T07:32:17.446Z"
   },
   {
    "duration": 292,
    "start_time": "2023-08-31T07:32:17.548Z"
   },
   {
    "duration": 8,
    "start_time": "2023-08-31T07:32:17.842Z"
   },
   {
    "duration": 1012,
    "start_time": "2023-08-31T07:32:17.851Z"
   },
   {
    "duration": 153,
    "start_time": "2023-08-31T07:32:18.866Z"
   },
   {
    "duration": 154,
    "start_time": "2023-08-31T07:32:19.021Z"
   },
   {
    "duration": 4,
    "start_time": "2023-08-31T07:32:19.177Z"
   },
   {
    "duration": 49,
    "start_time": "2023-08-31T07:32:19.183Z"
   },
   {
    "duration": 8,
    "start_time": "2023-08-31T07:32:19.234Z"
   },
   {
    "duration": 32,
    "start_time": "2023-08-31T07:32:19.243Z"
   },
   {
    "duration": 3,
    "start_time": "2023-08-31T07:32:19.277Z"
   },
   {
    "duration": 24,
    "start_time": "2023-08-31T07:32:19.281Z"
   },
   {
    "duration": 11,
    "start_time": "2023-08-31T07:32:19.307Z"
   },
   {
    "duration": 7,
    "start_time": "2023-08-31T07:32:19.319Z"
   },
   {
    "duration": 5,
    "start_time": "2023-08-31T07:32:19.328Z"
   },
   {
    "duration": 7,
    "start_time": "2023-08-31T07:32:19.334Z"
   },
   {
    "duration": 129,
    "start_time": "2023-08-31T07:32:19.343Z"
   },
   {
    "duration": 0,
    "start_time": "2023-08-31T07:32:19.474Z"
   },
   {
    "duration": 0,
    "start_time": "2023-08-31T07:32:19.475Z"
   },
   {
    "duration": 0,
    "start_time": "2023-08-31T07:32:19.476Z"
   },
   {
    "duration": 0,
    "start_time": "2023-08-31T07:32:19.477Z"
   },
   {
    "duration": 0,
    "start_time": "2023-08-31T07:32:19.479Z"
   },
   {
    "duration": 0,
    "start_time": "2023-08-31T07:32:19.480Z"
   },
   {
    "duration": 0,
    "start_time": "2023-08-31T07:32:19.481Z"
   },
   {
    "duration": 0,
    "start_time": "2023-08-31T07:32:19.482Z"
   },
   {
    "duration": 0,
    "start_time": "2023-08-31T07:32:19.484Z"
   },
   {
    "duration": 0,
    "start_time": "2023-08-31T07:32:19.485Z"
   },
   {
    "duration": 0,
    "start_time": "2023-08-31T07:32:19.486Z"
   },
   {
    "duration": 0,
    "start_time": "2023-08-31T07:32:19.510Z"
   },
   {
    "duration": 0,
    "start_time": "2023-08-31T07:32:19.511Z"
   },
   {
    "duration": 4,
    "start_time": "2023-08-31T07:32:36.411Z"
   },
   {
    "duration": 65,
    "start_time": "2023-08-31T07:32:36.419Z"
   },
   {
    "duration": 7,
    "start_time": "2023-08-31T07:32:36.486Z"
   },
   {
    "duration": 43,
    "start_time": "2023-08-31T07:32:36.495Z"
   },
   {
    "duration": 15,
    "start_time": "2023-08-31T07:32:36.541Z"
   },
   {
    "duration": 56,
    "start_time": "2023-08-31T07:32:36.558Z"
   },
   {
    "duration": 248,
    "start_time": "2023-08-31T07:32:36.616Z"
   },
   {
    "duration": 7,
    "start_time": "2023-08-31T07:32:36.866Z"
   },
   {
    "duration": 1014,
    "start_time": "2023-08-31T07:32:36.875Z"
   },
   {
    "duration": 176,
    "start_time": "2023-08-31T07:32:37.891Z"
   },
   {
    "duration": 171,
    "start_time": "2023-08-31T07:32:38.071Z"
   },
   {
    "duration": 4,
    "start_time": "2023-08-31T07:32:38.244Z"
   },
   {
    "duration": 68,
    "start_time": "2023-08-31T07:32:38.249Z"
   },
   {
    "duration": 8,
    "start_time": "2023-08-31T07:32:38.319Z"
   },
   {
    "duration": 39,
    "start_time": "2023-08-31T07:32:38.328Z"
   },
   {
    "duration": 3,
    "start_time": "2023-08-31T07:32:38.369Z"
   },
   {
    "duration": 15,
    "start_time": "2023-08-31T07:32:38.373Z"
   },
   {
    "duration": 30,
    "start_time": "2023-08-31T07:32:38.390Z"
   },
   {
    "duration": 29,
    "start_time": "2023-08-31T07:32:38.422Z"
   },
   {
    "duration": 19,
    "start_time": "2023-08-31T07:32:38.454Z"
   },
   {
    "duration": 21,
    "start_time": "2023-08-31T07:32:38.474Z"
   },
   {
    "duration": 8,
    "start_time": "2023-08-31T07:32:38.497Z"
   },
   {
    "duration": 206,
    "start_time": "2023-08-31T07:32:38.507Z"
   },
   {
    "duration": 0,
    "start_time": "2023-08-31T07:32:38.715Z"
   },
   {
    "duration": 0,
    "start_time": "2023-08-31T07:32:38.716Z"
   },
   {
    "duration": 0,
    "start_time": "2023-08-31T07:32:38.718Z"
   },
   {
    "duration": 0,
    "start_time": "2023-08-31T07:32:38.719Z"
   },
   {
    "duration": 0,
    "start_time": "2023-08-31T07:32:38.721Z"
   },
   {
    "duration": 0,
    "start_time": "2023-08-31T07:32:38.723Z"
   },
   {
    "duration": 0,
    "start_time": "2023-08-31T07:32:38.724Z"
   },
   {
    "duration": 0,
    "start_time": "2023-08-31T07:32:38.726Z"
   },
   {
    "duration": 0,
    "start_time": "2023-08-31T07:32:38.727Z"
   },
   {
    "duration": 0,
    "start_time": "2023-08-31T07:32:38.729Z"
   },
   {
    "duration": 0,
    "start_time": "2023-08-31T07:32:38.730Z"
   },
   {
    "duration": 0,
    "start_time": "2023-08-31T07:32:38.731Z"
   },
   {
    "duration": 28,
    "start_time": "2023-08-31T07:32:51.128Z"
   },
   {
    "duration": 5,
    "start_time": "2023-08-31T07:33:59.160Z"
   },
   {
    "duration": 52,
    "start_time": "2023-08-31T07:33:59.167Z"
   },
   {
    "duration": 7,
    "start_time": "2023-08-31T07:33:59.221Z"
   },
   {
    "duration": 31,
    "start_time": "2023-08-31T07:33:59.230Z"
   },
   {
    "duration": 31,
    "start_time": "2023-08-31T07:33:59.263Z"
   },
   {
    "duration": 39,
    "start_time": "2023-08-31T07:33:59.295Z"
   },
   {
    "duration": 254,
    "start_time": "2023-08-31T07:33:59.335Z"
   },
   {
    "duration": 19,
    "start_time": "2023-08-31T07:33:59.591Z"
   },
   {
    "duration": 886,
    "start_time": "2023-08-31T07:33:59.613Z"
   },
   {
    "duration": 286,
    "start_time": "2023-08-31T07:34:00.502Z"
   },
   {
    "duration": 193,
    "start_time": "2023-08-31T07:34:00.790Z"
   },
   {
    "duration": 4,
    "start_time": "2023-08-31T07:34:00.985Z"
   },
   {
    "duration": 111,
    "start_time": "2023-08-31T07:34:00.991Z"
   },
   {
    "duration": 15,
    "start_time": "2023-08-31T07:34:01.104Z"
   },
   {
    "duration": 57,
    "start_time": "2023-08-31T07:34:01.121Z"
   },
   {
    "duration": 15,
    "start_time": "2023-08-31T07:34:01.180Z"
   },
   {
    "duration": 25,
    "start_time": "2023-08-31T07:34:01.197Z"
   },
   {
    "duration": 67,
    "start_time": "2023-08-31T07:34:01.224Z"
   },
   {
    "duration": 30,
    "start_time": "2023-08-31T07:34:01.293Z"
   },
   {
    "duration": 49,
    "start_time": "2023-08-31T07:34:01.325Z"
   },
   {
    "duration": 77,
    "start_time": "2023-08-31T07:34:01.375Z"
   },
   {
    "duration": 22,
    "start_time": "2023-08-31T07:34:01.454Z"
   },
   {
    "duration": 48,
    "start_time": "2023-08-31T07:34:01.478Z"
   },
   {
    "duration": 0,
    "start_time": "2023-08-31T07:34:01.528Z"
   },
   {
    "duration": 0,
    "start_time": "2023-08-31T07:34:01.530Z"
   },
   {
    "duration": 0,
    "start_time": "2023-08-31T07:34:01.531Z"
   },
   {
    "duration": 0,
    "start_time": "2023-08-31T07:34:01.532Z"
   },
   {
    "duration": 0,
    "start_time": "2023-08-31T07:34:01.533Z"
   },
   {
    "duration": 0,
    "start_time": "2023-08-31T07:34:01.534Z"
   },
   {
    "duration": 0,
    "start_time": "2023-08-31T07:34:01.535Z"
   },
   {
    "duration": 0,
    "start_time": "2023-08-31T07:34:01.536Z"
   },
   {
    "duration": 0,
    "start_time": "2023-08-31T07:34:01.537Z"
   },
   {
    "duration": 0,
    "start_time": "2023-08-31T07:34:01.538Z"
   },
   {
    "duration": 0,
    "start_time": "2023-08-31T07:34:01.539Z"
   },
   {
    "duration": 0,
    "start_time": "2023-08-31T07:34:01.540Z"
   },
   {
    "duration": 4,
    "start_time": "2023-08-31T07:35:09.909Z"
   },
   {
    "duration": 55,
    "start_time": "2023-08-31T07:35:09.915Z"
   },
   {
    "duration": 7,
    "start_time": "2023-08-31T07:35:09.972Z"
   },
   {
    "duration": 12,
    "start_time": "2023-08-31T07:35:09.981Z"
   },
   {
    "duration": 16,
    "start_time": "2023-08-31T07:35:09.995Z"
   },
   {
    "duration": 48,
    "start_time": "2023-08-31T07:35:10.012Z"
   },
   {
    "duration": 241,
    "start_time": "2023-08-31T07:35:10.062Z"
   },
   {
    "duration": 10,
    "start_time": "2023-08-31T07:35:10.305Z"
   },
   {
    "duration": 871,
    "start_time": "2023-08-31T07:35:10.317Z"
   },
   {
    "duration": 163,
    "start_time": "2023-08-31T07:35:11.190Z"
   },
   {
    "duration": 256,
    "start_time": "2023-08-31T07:35:11.356Z"
   },
   {
    "duration": 4,
    "start_time": "2023-08-31T07:35:11.614Z"
   },
   {
    "duration": 43,
    "start_time": "2023-08-31T07:35:11.619Z"
   },
   {
    "duration": 6,
    "start_time": "2023-08-31T07:35:11.664Z"
   },
   {
    "duration": 21,
    "start_time": "2023-08-31T07:35:11.672Z"
   },
   {
    "duration": 3,
    "start_time": "2023-08-31T07:35:11.708Z"
   },
   {
    "duration": 4,
    "start_time": "2023-08-31T07:35:11.713Z"
   },
   {
    "duration": 6,
    "start_time": "2023-08-31T07:35:11.719Z"
   },
   {
    "duration": 10,
    "start_time": "2023-08-31T07:35:11.727Z"
   },
   {
    "duration": 6,
    "start_time": "2023-08-31T07:35:11.738Z"
   },
   {
    "duration": 8,
    "start_time": "2023-08-31T07:35:11.745Z"
   },
   {
    "duration": 5,
    "start_time": "2023-08-31T07:35:11.754Z"
   },
   {
    "duration": 54,
    "start_time": "2023-08-31T07:35:11.760Z"
   },
   {
    "duration": 0,
    "start_time": "2023-08-31T07:35:11.817Z"
   },
   {
    "duration": 0,
    "start_time": "2023-08-31T07:35:11.818Z"
   },
   {
    "duration": 0,
    "start_time": "2023-08-31T07:35:11.819Z"
   },
   {
    "duration": 0,
    "start_time": "2023-08-31T07:35:11.820Z"
   },
   {
    "duration": 0,
    "start_time": "2023-08-31T07:35:11.821Z"
   },
   {
    "duration": 0,
    "start_time": "2023-08-31T07:35:11.822Z"
   },
   {
    "duration": 0,
    "start_time": "2023-08-31T07:35:11.823Z"
   },
   {
    "duration": 0,
    "start_time": "2023-08-31T07:35:11.825Z"
   },
   {
    "duration": 0,
    "start_time": "2023-08-31T07:35:11.826Z"
   },
   {
    "duration": 0,
    "start_time": "2023-08-31T07:35:11.827Z"
   },
   {
    "duration": 0,
    "start_time": "2023-08-31T07:35:11.828Z"
   },
   {
    "duration": 0,
    "start_time": "2023-08-31T07:35:11.829Z"
   },
   {
    "duration": 25,
    "start_time": "2023-08-31T07:35:59.524Z"
   },
   {
    "duration": 25,
    "start_time": "2023-08-31T07:36:23.622Z"
   },
   {
    "duration": 5,
    "start_time": "2023-08-31T07:36:59.394Z"
   },
   {
    "duration": 60,
    "start_time": "2023-08-31T07:36:59.402Z"
   },
   {
    "duration": 8,
    "start_time": "2023-08-31T07:36:59.464Z"
   },
   {
    "duration": 9,
    "start_time": "2023-08-31T07:36:59.473Z"
   },
   {
    "duration": 5,
    "start_time": "2023-08-31T07:36:59.484Z"
   },
   {
    "duration": 44,
    "start_time": "2023-08-31T07:36:59.491Z"
   },
   {
    "duration": 255,
    "start_time": "2023-08-31T07:36:59.538Z"
   },
   {
    "duration": 16,
    "start_time": "2023-08-31T07:36:59.794Z"
   },
   {
    "duration": 889,
    "start_time": "2023-08-31T07:36:59.812Z"
   },
   {
    "duration": 167,
    "start_time": "2023-08-31T07:37:00.709Z"
   },
   {
    "duration": 158,
    "start_time": "2023-08-31T07:37:00.878Z"
   },
   {
    "duration": 4,
    "start_time": "2023-08-31T07:37:01.038Z"
   },
   {
    "duration": 39,
    "start_time": "2023-08-31T07:37:01.043Z"
   },
   {
    "duration": 48,
    "start_time": "2023-08-31T07:37:01.084Z"
   },
   {
    "duration": 53,
    "start_time": "2023-08-31T07:37:01.135Z"
   },
   {
    "duration": 24,
    "start_time": "2023-08-31T07:37:01.189Z"
   },
   {
    "duration": 27,
    "start_time": "2023-08-31T07:37:01.215Z"
   },
   {
    "duration": 27,
    "start_time": "2023-08-31T07:37:01.244Z"
   },
   {
    "duration": 40,
    "start_time": "2023-08-31T07:37:01.273Z"
   },
   {
    "duration": 29,
    "start_time": "2023-08-31T07:37:01.315Z"
   },
   {
    "duration": 69,
    "start_time": "2023-08-31T07:37:01.346Z"
   },
   {
    "duration": 15,
    "start_time": "2023-08-31T07:37:01.417Z"
   },
   {
    "duration": 127,
    "start_time": "2023-08-31T07:37:01.434Z"
   },
   {
    "duration": 0,
    "start_time": "2023-08-31T07:37:01.563Z"
   },
   {
    "duration": 1,
    "start_time": "2023-08-31T07:37:01.564Z"
   },
   {
    "duration": 0,
    "start_time": "2023-08-31T07:37:01.566Z"
   },
   {
    "duration": 0,
    "start_time": "2023-08-31T07:37:01.567Z"
   },
   {
    "duration": 0,
    "start_time": "2023-08-31T07:37:01.568Z"
   },
   {
    "duration": 0,
    "start_time": "2023-08-31T07:37:01.570Z"
   },
   {
    "duration": 0,
    "start_time": "2023-08-31T07:37:01.571Z"
   },
   {
    "duration": 0,
    "start_time": "2023-08-31T07:37:01.572Z"
   },
   {
    "duration": 0,
    "start_time": "2023-08-31T07:37:01.572Z"
   },
   {
    "duration": 0,
    "start_time": "2023-08-31T07:37:01.574Z"
   },
   {
    "duration": 0,
    "start_time": "2023-08-31T07:37:01.575Z"
   },
   {
    "duration": 0,
    "start_time": "2023-08-31T07:37:01.576Z"
   },
   {
    "duration": 25,
    "start_time": "2023-08-31T07:37:46.664Z"
   },
   {
    "duration": 4,
    "start_time": "2023-08-31T07:37:52.908Z"
   },
   {
    "duration": 66,
    "start_time": "2023-08-31T07:37:52.914Z"
   },
   {
    "duration": 7,
    "start_time": "2023-08-31T07:37:52.982Z"
   },
   {
    "duration": 7,
    "start_time": "2023-08-31T07:37:52.991Z"
   },
   {
    "duration": 12,
    "start_time": "2023-08-31T07:37:53.000Z"
   },
   {
    "duration": 48,
    "start_time": "2023-08-31T07:37:53.014Z"
   },
   {
    "duration": 236,
    "start_time": "2023-08-31T07:37:53.063Z"
   },
   {
    "duration": 14,
    "start_time": "2023-08-31T07:37:53.300Z"
   },
   {
    "duration": 864,
    "start_time": "2023-08-31T07:37:53.316Z"
   },
   {
    "duration": 163,
    "start_time": "2023-08-31T07:37:54.182Z"
   },
   {
    "duration": 158,
    "start_time": "2023-08-31T07:37:54.347Z"
   },
   {
    "duration": 4,
    "start_time": "2023-08-31T07:37:54.509Z"
   },
   {
    "duration": 6,
    "start_time": "2023-08-31T07:37:54.515Z"
   },
   {
    "duration": 6,
    "start_time": "2023-08-31T07:37:54.523Z"
   },
   {
    "duration": 9,
    "start_time": "2023-08-31T07:37:54.531Z"
   },
   {
    "duration": 2,
    "start_time": "2023-08-31T07:37:54.542Z"
   },
   {
    "duration": 4,
    "start_time": "2023-08-31T07:37:54.545Z"
   },
   {
    "duration": 4,
    "start_time": "2023-08-31T07:37:54.551Z"
   },
   {
    "duration": 6,
    "start_time": "2023-08-31T07:37:54.556Z"
   },
   {
    "duration": 6,
    "start_time": "2023-08-31T07:37:54.564Z"
   },
   {
    "duration": 38,
    "start_time": "2023-08-31T07:37:54.571Z"
   },
   {
    "duration": 5,
    "start_time": "2023-08-31T07:37:54.611Z"
   },
   {
    "duration": 37,
    "start_time": "2023-08-31T07:37:54.618Z"
   },
   {
    "duration": 0,
    "start_time": "2023-08-31T07:37:54.657Z"
   },
   {
    "duration": 0,
    "start_time": "2023-08-31T07:37:54.658Z"
   },
   {
    "duration": 0,
    "start_time": "2023-08-31T07:37:54.659Z"
   },
   {
    "duration": 0,
    "start_time": "2023-08-31T07:37:54.660Z"
   },
   {
    "duration": 0,
    "start_time": "2023-08-31T07:37:54.661Z"
   },
   {
    "duration": 0,
    "start_time": "2023-08-31T07:37:54.662Z"
   },
   {
    "duration": 0,
    "start_time": "2023-08-31T07:37:54.663Z"
   },
   {
    "duration": 0,
    "start_time": "2023-08-31T07:37:54.664Z"
   },
   {
    "duration": 0,
    "start_time": "2023-08-31T07:37:54.665Z"
   },
   {
    "duration": 0,
    "start_time": "2023-08-31T07:37:54.666Z"
   },
   {
    "duration": 0,
    "start_time": "2023-08-31T07:37:54.667Z"
   },
   {
    "duration": 0,
    "start_time": "2023-08-31T07:37:54.668Z"
   },
   {
    "duration": 3,
    "start_time": "2023-08-31T07:38:17.390Z"
   },
   {
    "duration": 74,
    "start_time": "2023-08-31T07:38:17.395Z"
   },
   {
    "duration": 8,
    "start_time": "2023-08-31T07:38:17.471Z"
   },
   {
    "duration": 4,
    "start_time": "2023-08-31T07:38:17.480Z"
   },
   {
    "duration": 6,
    "start_time": "2023-08-31T07:38:17.487Z"
   },
   {
    "duration": 34,
    "start_time": "2023-08-31T07:38:17.495Z"
   },
   {
    "duration": 343,
    "start_time": "2023-08-31T07:38:17.530Z"
   },
   {
    "duration": 7,
    "start_time": "2023-08-31T07:38:17.875Z"
   },
   {
    "duration": 943,
    "start_time": "2023-08-31T07:38:17.884Z"
   },
   {
    "duration": 165,
    "start_time": "2023-08-31T07:38:18.829Z"
   },
   {
    "duration": 167,
    "start_time": "2023-08-31T07:38:18.997Z"
   },
   {
    "duration": 4,
    "start_time": "2023-08-31T07:38:19.166Z"
   },
   {
    "duration": 27,
    "start_time": "2023-08-31T07:38:19.172Z"
   },
   {
    "duration": 22,
    "start_time": "2023-08-31T07:38:19.201Z"
   },
   {
    "duration": 25,
    "start_time": "2023-08-31T07:38:19.225Z"
   },
   {
    "duration": 12,
    "start_time": "2023-08-31T07:38:19.252Z"
   },
   {
    "duration": 22,
    "start_time": "2023-08-31T07:38:19.266Z"
   },
   {
    "duration": 22,
    "start_time": "2023-08-31T07:38:19.290Z"
   },
   {
    "duration": 14,
    "start_time": "2023-08-31T07:38:19.314Z"
   },
   {
    "duration": 11,
    "start_time": "2023-08-31T07:38:19.330Z"
   },
   {
    "duration": 15,
    "start_time": "2023-08-31T07:38:19.343Z"
   },
   {
    "duration": 15,
    "start_time": "2023-08-31T07:38:19.360Z"
   },
   {
    "duration": 46243,
    "start_time": "2023-08-31T07:38:19.377Z"
   },
   {
    "duration": 0,
    "start_time": "2023-08-31T07:39:05.622Z"
   },
   {
    "duration": 0,
    "start_time": "2023-08-31T07:39:05.623Z"
   },
   {
    "duration": 0,
    "start_time": "2023-08-31T07:39:05.624Z"
   },
   {
    "duration": 0,
    "start_time": "2023-08-31T07:39:05.625Z"
   },
   {
    "duration": 0,
    "start_time": "2023-08-31T07:39:05.626Z"
   },
   {
    "duration": 0,
    "start_time": "2023-08-31T07:39:05.627Z"
   },
   {
    "duration": 0,
    "start_time": "2023-08-31T07:39:05.629Z"
   },
   {
    "duration": 0,
    "start_time": "2023-08-31T07:39:05.630Z"
   },
   {
    "duration": 0,
    "start_time": "2023-08-31T07:39:05.631Z"
   },
   {
    "duration": 0,
    "start_time": "2023-08-31T07:39:05.632Z"
   },
   {
    "duration": 0,
    "start_time": "2023-08-31T07:39:05.634Z"
   },
   {
    "duration": 0,
    "start_time": "2023-08-31T07:39:05.635Z"
   },
   {
    "duration": 23,
    "start_time": "2023-08-31T07:41:00.187Z"
   },
   {
    "duration": 4,
    "start_time": "2023-08-31T07:41:34.063Z"
   },
   {
    "duration": 60,
    "start_time": "2023-08-31T07:41:34.069Z"
   },
   {
    "duration": 7,
    "start_time": "2023-08-31T07:41:34.131Z"
   },
   {
    "duration": 19,
    "start_time": "2023-08-31T07:41:34.140Z"
   },
   {
    "duration": 11,
    "start_time": "2023-08-31T07:41:34.161Z"
   },
   {
    "duration": 47,
    "start_time": "2023-08-31T07:41:34.174Z"
   },
   {
    "duration": 258,
    "start_time": "2023-08-31T07:41:34.223Z"
   },
   {
    "duration": 9,
    "start_time": "2023-08-31T07:41:34.483Z"
   },
   {
    "duration": 964,
    "start_time": "2023-08-31T07:41:34.493Z"
   },
   {
    "duration": 246,
    "start_time": "2023-08-31T07:41:35.459Z"
   },
   {
    "duration": 159,
    "start_time": "2023-08-31T07:41:35.708Z"
   },
   {
    "duration": 4,
    "start_time": "2023-08-31T07:41:35.868Z"
   },
   {
    "duration": 18,
    "start_time": "2023-08-31T07:41:35.874Z"
   },
   {
    "duration": 16,
    "start_time": "2023-08-31T07:41:35.894Z"
   },
   {
    "duration": 13,
    "start_time": "2023-08-31T07:41:35.912Z"
   },
   {
    "duration": 12,
    "start_time": "2023-08-31T07:41:35.926Z"
   },
   {
    "duration": 20,
    "start_time": "2023-08-31T07:41:35.940Z"
   },
   {
    "duration": 17,
    "start_time": "2023-08-31T07:41:35.961Z"
   },
   {
    "duration": 26,
    "start_time": "2023-08-31T07:41:35.980Z"
   },
   {
    "duration": 24,
    "start_time": "2023-08-31T07:41:36.008Z"
   },
   {
    "duration": 29,
    "start_time": "2023-08-31T07:41:36.034Z"
   },
   {
    "duration": 23,
    "start_time": "2023-08-31T07:41:36.065Z"
   },
   {
    "duration": 4,
    "start_time": "2023-08-31T07:41:40.152Z"
   },
   {
    "duration": 50,
    "start_time": "2023-08-31T07:41:40.158Z"
   },
   {
    "duration": 9,
    "start_time": "2023-08-31T07:41:40.210Z"
   },
   {
    "duration": 5,
    "start_time": "2023-08-31T07:41:40.220Z"
   },
   {
    "duration": 6,
    "start_time": "2023-08-31T07:41:40.227Z"
   },
   {
    "duration": 29,
    "start_time": "2023-08-31T07:41:40.234Z"
   },
   {
    "duration": 282,
    "start_time": "2023-08-31T07:41:40.265Z"
   },
   {
    "duration": 8,
    "start_time": "2023-08-31T07:41:40.549Z"
   },
   {
    "duration": 925,
    "start_time": "2023-08-31T07:41:40.559Z"
   },
   {
    "duration": 168,
    "start_time": "2023-08-31T07:41:41.486Z"
   },
   {
    "duration": 155,
    "start_time": "2023-08-31T07:41:41.656Z"
   },
   {
    "duration": 4,
    "start_time": "2023-08-31T07:41:41.813Z"
   },
   {
    "duration": 4,
    "start_time": "2023-08-31T07:41:41.819Z"
   },
   {
    "duration": 5,
    "start_time": "2023-08-31T07:41:41.825Z"
   },
   {
    "duration": 8,
    "start_time": "2023-08-31T07:41:41.831Z"
   },
   {
    "duration": 2,
    "start_time": "2023-08-31T07:41:41.841Z"
   },
   {
    "duration": 4,
    "start_time": "2023-08-31T07:41:41.845Z"
   },
   {
    "duration": 5,
    "start_time": "2023-08-31T07:41:41.850Z"
   },
   {
    "duration": 5,
    "start_time": "2023-08-31T07:41:41.857Z"
   },
   {
    "duration": 5,
    "start_time": "2023-08-31T07:41:41.863Z"
   },
   {
    "duration": 6,
    "start_time": "2023-08-31T07:41:41.870Z"
   },
   {
    "duration": 3,
    "start_time": "2023-08-31T07:41:41.910Z"
   },
   {
    "duration": 32861,
    "start_time": "2023-08-31T07:41:41.915Z"
   },
   {
    "duration": 1,
    "start_time": "2023-08-31T07:42:14.777Z"
   },
   {
    "duration": 0,
    "start_time": "2023-08-31T07:42:14.779Z"
   },
   {
    "duration": 0,
    "start_time": "2023-08-31T07:42:14.781Z"
   },
   {
    "duration": 0,
    "start_time": "2023-08-31T07:42:14.781Z"
   },
   {
    "duration": 0,
    "start_time": "2023-08-31T07:42:14.782Z"
   },
   {
    "duration": 0,
    "start_time": "2023-08-31T07:42:14.783Z"
   },
   {
    "duration": 0,
    "start_time": "2023-08-31T07:42:14.785Z"
   },
   {
    "duration": 0,
    "start_time": "2023-08-31T07:42:14.786Z"
   },
   {
    "duration": 0,
    "start_time": "2023-08-31T07:42:14.810Z"
   },
   {
    "duration": 0,
    "start_time": "2023-08-31T07:42:14.811Z"
   },
   {
    "duration": 0,
    "start_time": "2023-08-31T07:42:14.812Z"
   },
   {
    "duration": 0,
    "start_time": "2023-08-31T07:42:14.813Z"
   },
   {
    "duration": 4,
    "start_time": "2023-08-31T07:46:24.336Z"
   },
   {
    "duration": 46,
    "start_time": "2023-08-31T07:46:24.393Z"
   },
   {
    "duration": 7,
    "start_time": "2023-08-31T07:46:24.441Z"
   },
   {
    "duration": 11,
    "start_time": "2023-08-31T07:46:24.450Z"
   },
   {
    "duration": 9,
    "start_time": "2023-08-31T07:46:24.463Z"
   },
   {
    "duration": 62,
    "start_time": "2023-08-31T07:46:24.475Z"
   },
   {
    "duration": 282,
    "start_time": "2023-08-31T07:46:24.538Z"
   },
   {
    "duration": 9,
    "start_time": "2023-08-31T07:46:24.822Z"
   },
   {
    "duration": 976,
    "start_time": "2023-08-31T07:46:24.833Z"
   },
   {
    "duration": 261,
    "start_time": "2023-08-31T07:46:25.811Z"
   },
   {
    "duration": 174,
    "start_time": "2023-08-31T07:46:26.074Z"
   },
   {
    "duration": 4,
    "start_time": "2023-08-31T07:46:26.250Z"
   },
   {
    "duration": 23,
    "start_time": "2023-08-31T07:46:26.255Z"
   },
   {
    "duration": 16,
    "start_time": "2023-08-31T07:46:26.279Z"
   },
   {
    "duration": 17,
    "start_time": "2023-08-31T07:46:26.298Z"
   },
   {
    "duration": 19,
    "start_time": "2023-08-31T07:46:26.316Z"
   },
   {
    "duration": 29,
    "start_time": "2023-08-31T07:46:26.336Z"
   },
   {
    "duration": 14,
    "start_time": "2023-08-31T07:46:26.367Z"
   },
   {
    "duration": 12,
    "start_time": "2023-08-31T07:46:26.383Z"
   },
   {
    "duration": 21,
    "start_time": "2023-08-31T07:46:26.396Z"
   },
   {
    "duration": 22,
    "start_time": "2023-08-31T07:46:26.419Z"
   },
   {
    "duration": 16,
    "start_time": "2023-08-31T07:46:26.443Z"
   },
   {
    "duration": 10974,
    "start_time": "2023-08-31T07:46:26.461Z"
   },
   {
    "duration": 4,
    "start_time": "2023-08-31T07:46:37.511Z"
   },
   {
    "duration": 845,
    "start_time": "2023-08-31T07:46:37.518Z"
   },
   {
    "duration": 3,
    "start_time": "2023-08-31T07:46:38.365Z"
   },
   {
    "duration": 13013,
    "start_time": "2023-08-31T07:46:38.369Z"
   },
   {
    "duration": 3,
    "start_time": "2023-08-31T07:46:51.383Z"
   },
   {
    "duration": 15,
    "start_time": "2023-08-31T07:46:51.388Z"
   },
   {
    "duration": 0,
    "start_time": "2023-08-31T07:47:21.313Z"
   },
   {
    "duration": 0,
    "start_time": "2023-08-31T07:47:21.315Z"
   },
   {
    "duration": 0,
    "start_time": "2023-08-31T07:47:21.315Z"
   },
   {
    "duration": 0,
    "start_time": "2023-08-31T07:47:21.317Z"
   },
   {
    "duration": 0,
    "start_time": "2023-08-31T07:47:21.318Z"
   },
   {
    "duration": 0,
    "start_time": "2023-08-31T07:47:21.319Z"
   },
   {
    "duration": 0,
    "start_time": "2023-08-31T07:47:21.320Z"
   },
   {
    "duration": 0,
    "start_time": "2023-08-31T07:47:21.322Z"
   },
   {
    "duration": 0,
    "start_time": "2023-08-31T07:47:21.323Z"
   },
   {
    "duration": 0,
    "start_time": "2023-08-31T07:47:21.324Z"
   },
   {
    "duration": 0,
    "start_time": "2023-08-31T07:47:21.325Z"
   },
   {
    "duration": 0,
    "start_time": "2023-08-31T07:47:21.326Z"
   },
   {
    "duration": 0,
    "start_time": "2023-08-31T07:47:21.328Z"
   },
   {
    "duration": 0,
    "start_time": "2023-08-31T07:47:21.329Z"
   },
   {
    "duration": 0,
    "start_time": "2023-08-31T07:47:21.330Z"
   },
   {
    "duration": 0,
    "start_time": "2023-08-31T07:47:21.332Z"
   },
   {
    "duration": 0,
    "start_time": "2023-08-31T07:47:21.334Z"
   },
   {
    "duration": 0,
    "start_time": "2023-08-31T07:47:21.335Z"
   },
   {
    "duration": 0,
    "start_time": "2023-08-31T07:47:21.337Z"
   },
   {
    "duration": 0,
    "start_time": "2023-08-31T07:47:21.339Z"
   },
   {
    "duration": 0,
    "start_time": "2023-08-31T07:47:21.340Z"
   },
   {
    "duration": 0,
    "start_time": "2023-08-31T07:47:21.341Z"
   },
   {
    "duration": 0,
    "start_time": "2023-08-31T07:47:21.342Z"
   },
   {
    "duration": 0,
    "start_time": "2023-08-31T07:47:21.344Z"
   },
   {
    "duration": 0,
    "start_time": "2023-08-31T07:47:21.346Z"
   },
   {
    "duration": 0,
    "start_time": "2023-08-31T07:47:21.347Z"
   },
   {
    "duration": 0,
    "start_time": "2023-08-31T07:47:21.410Z"
   },
   {
    "duration": 0,
    "start_time": "2023-08-31T07:47:21.412Z"
   },
   {
    "duration": 0,
    "start_time": "2023-08-31T07:47:21.414Z"
   },
   {
    "duration": 0,
    "start_time": "2023-08-31T07:47:21.415Z"
   },
   {
    "duration": 0,
    "start_time": "2023-08-31T07:47:21.416Z"
   },
   {
    "duration": 0,
    "start_time": "2023-08-31T07:47:21.418Z"
   },
   {
    "duration": 0,
    "start_time": "2023-08-31T07:47:21.421Z"
   },
   {
    "duration": 0,
    "start_time": "2023-08-31T07:47:21.422Z"
   },
   {
    "duration": 0,
    "start_time": "2023-08-31T07:47:21.424Z"
   },
   {
    "duration": 5,
    "start_time": "2023-08-31T07:47:27.724Z"
   },
   {
    "duration": 60,
    "start_time": "2023-08-31T07:47:27.731Z"
   },
   {
    "duration": 8,
    "start_time": "2023-08-31T07:47:27.793Z"
   },
   {
    "duration": 8,
    "start_time": "2023-08-31T07:47:27.803Z"
   },
   {
    "duration": 7,
    "start_time": "2023-08-31T07:47:27.814Z"
   },
   {
    "duration": 38,
    "start_time": "2023-08-31T07:47:27.823Z"
   },
   {
    "duration": 314,
    "start_time": "2023-08-31T07:47:27.863Z"
   },
   {
    "duration": 10,
    "start_time": "2023-08-31T07:47:28.180Z"
   },
   {
    "duration": 931,
    "start_time": "2023-08-31T07:47:28.192Z"
   },
   {
    "duration": 171,
    "start_time": "2023-08-31T07:47:29.125Z"
   },
   {
    "duration": 163,
    "start_time": "2023-08-31T07:47:29.298Z"
   },
   {
    "duration": 4,
    "start_time": "2023-08-31T07:47:29.463Z"
   },
   {
    "duration": 8,
    "start_time": "2023-08-31T07:47:29.471Z"
   },
   {
    "duration": 6,
    "start_time": "2023-08-31T07:47:29.481Z"
   },
   {
    "duration": 25,
    "start_time": "2023-08-31T07:47:29.489Z"
   },
   {
    "duration": 3,
    "start_time": "2023-08-31T07:47:29.515Z"
   },
   {
    "duration": 11,
    "start_time": "2023-08-31T07:47:29.520Z"
   },
   {
    "duration": 4,
    "start_time": "2023-08-31T07:47:29.533Z"
   },
   {
    "duration": 5,
    "start_time": "2023-08-31T07:47:29.539Z"
   },
   {
    "duration": 116,
    "start_time": "2023-08-31T07:47:29.546Z"
   },
   {
    "duration": 9,
    "start_time": "2023-08-31T07:47:29.664Z"
   },
   {
    "duration": 5,
    "start_time": "2023-08-31T07:47:29.674Z"
   },
   {
    "duration": 19035,
    "start_time": "2023-08-31T07:47:29.681Z"
   },
   {
    "duration": 92,
    "start_time": "2023-08-31T07:47:48.718Z"
   },
   {
    "duration": 889,
    "start_time": "2023-08-31T07:47:48.813Z"
   },
   {
    "duration": 3,
    "start_time": "2023-08-31T07:47:49.704Z"
   },
   {
    "duration": 11490,
    "start_time": "2023-08-31T07:47:49.709Z"
   },
   {
    "duration": 8,
    "start_time": "2023-08-31T07:48:01.202Z"
   },
   {
    "duration": 31,
    "start_time": "2023-08-31T07:48:01.212Z"
   },
   {
    "duration": 0,
    "start_time": "2023-08-31T07:48:56.417Z"
   },
   {
    "duration": 0,
    "start_time": "2023-08-31T07:48:56.418Z"
   },
   {
    "duration": 0,
    "start_time": "2023-08-31T07:48:56.420Z"
   },
   {
    "duration": 0,
    "start_time": "2023-08-31T07:48:56.422Z"
   },
   {
    "duration": 0,
    "start_time": "2023-08-31T07:48:56.423Z"
   },
   {
    "duration": 0,
    "start_time": "2023-08-31T07:48:56.424Z"
   },
   {
    "duration": 0,
    "start_time": "2023-08-31T07:48:56.426Z"
   },
   {
    "duration": 0,
    "start_time": "2023-08-31T07:48:56.427Z"
   },
   {
    "duration": 0,
    "start_time": "2023-08-31T07:48:56.428Z"
   },
   {
    "duration": 0,
    "start_time": "2023-08-31T07:48:56.429Z"
   },
   {
    "duration": 0,
    "start_time": "2023-08-31T07:48:56.431Z"
   },
   {
    "duration": 0,
    "start_time": "2023-08-31T07:48:56.432Z"
   },
   {
    "duration": 0,
    "start_time": "2023-08-31T07:48:56.433Z"
   },
   {
    "duration": 0,
    "start_time": "2023-08-31T07:48:56.434Z"
   },
   {
    "duration": 0,
    "start_time": "2023-08-31T07:48:56.435Z"
   },
   {
    "duration": 0,
    "start_time": "2023-08-31T07:48:56.436Z"
   },
   {
    "duration": 0,
    "start_time": "2023-08-31T07:48:56.437Z"
   },
   {
    "duration": 0,
    "start_time": "2023-08-31T07:48:56.438Z"
   },
   {
    "duration": 0,
    "start_time": "2023-08-31T07:48:56.439Z"
   },
   {
    "duration": 0,
    "start_time": "2023-08-31T07:48:56.440Z"
   },
   {
    "duration": 0,
    "start_time": "2023-08-31T07:48:56.441Z"
   },
   {
    "duration": 0,
    "start_time": "2023-08-31T07:48:56.442Z"
   },
   {
    "duration": 0,
    "start_time": "2023-08-31T07:48:56.443Z"
   },
   {
    "duration": 0,
    "start_time": "2023-08-31T07:48:56.444Z"
   },
   {
    "duration": 0,
    "start_time": "2023-08-31T07:48:56.446Z"
   },
   {
    "duration": 0,
    "start_time": "2023-08-31T07:48:56.447Z"
   },
   {
    "duration": 0,
    "start_time": "2023-08-31T07:48:56.448Z"
   },
   {
    "duration": 0,
    "start_time": "2023-08-31T07:48:56.449Z"
   },
   {
    "duration": 0,
    "start_time": "2023-08-31T07:48:56.450Z"
   },
   {
    "duration": 0,
    "start_time": "2023-08-31T07:48:56.451Z"
   },
   {
    "duration": 0,
    "start_time": "2023-08-31T07:48:56.510Z"
   },
   {
    "duration": 0,
    "start_time": "2023-08-31T07:48:56.512Z"
   },
   {
    "duration": 0,
    "start_time": "2023-08-31T07:48:56.513Z"
   },
   {
    "duration": 0,
    "start_time": "2023-08-31T07:48:56.514Z"
   },
   {
    "duration": 0,
    "start_time": "2023-08-31T07:48:56.515Z"
   },
   {
    "duration": 5,
    "start_time": "2023-08-31T07:49:00.233Z"
   },
   {
    "duration": 57,
    "start_time": "2023-08-31T07:49:00.240Z"
   },
   {
    "duration": 7,
    "start_time": "2023-08-31T07:49:00.299Z"
   },
   {
    "duration": 29,
    "start_time": "2023-08-31T07:49:00.308Z"
   },
   {
    "duration": 17,
    "start_time": "2023-08-31T07:49:00.339Z"
   },
   {
    "duration": 62,
    "start_time": "2023-08-31T07:49:00.358Z"
   },
   {
    "duration": 281,
    "start_time": "2023-08-31T07:49:00.421Z"
   },
   {
    "duration": 9,
    "start_time": "2023-08-31T07:49:00.710Z"
   },
   {
    "duration": 985,
    "start_time": "2023-08-31T07:49:00.723Z"
   },
   {
    "duration": 166,
    "start_time": "2023-08-31T07:49:01.711Z"
   },
   {
    "duration": 165,
    "start_time": "2023-08-31T07:49:01.879Z"
   },
   {
    "duration": 4,
    "start_time": "2023-08-31T07:49:02.046Z"
   },
   {
    "duration": 38,
    "start_time": "2023-08-31T07:49:02.052Z"
   },
   {
    "duration": 30,
    "start_time": "2023-08-31T07:49:02.092Z"
   },
   {
    "duration": 17,
    "start_time": "2023-08-31T07:49:02.124Z"
   },
   {
    "duration": 22,
    "start_time": "2023-08-31T07:49:02.143Z"
   },
   {
    "duration": 39,
    "start_time": "2023-08-31T07:49:02.167Z"
   },
   {
    "duration": 41,
    "start_time": "2023-08-31T07:49:02.208Z"
   },
   {
    "duration": 34,
    "start_time": "2023-08-31T07:49:02.252Z"
   },
   {
    "duration": 27,
    "start_time": "2023-08-31T07:49:02.288Z"
   },
   {
    "duration": 50,
    "start_time": "2023-08-31T07:49:02.317Z"
   },
   {
    "duration": 29,
    "start_time": "2023-08-31T07:49:02.369Z"
   },
   {
    "duration": 17309,
    "start_time": "2023-08-31T07:49:02.401Z"
   },
   {
    "duration": 92,
    "start_time": "2023-08-31T07:49:19.718Z"
   },
   {
    "duration": 679,
    "start_time": "2023-08-31T07:49:19.812Z"
   },
   {
    "duration": 3,
    "start_time": "2023-08-31T07:49:20.493Z"
   },
   {
    "duration": 11356,
    "start_time": "2023-08-31T07:49:20.497Z"
   },
   {
    "duration": 3,
    "start_time": "2023-08-31T07:49:31.855Z"
   },
   {
    "duration": 33,
    "start_time": "2023-08-31T07:49:31.859Z"
   },
   {
    "duration": 34918,
    "start_time": "2023-08-31T07:49:31.894Z"
   },
   {
    "duration": 0,
    "start_time": "2023-08-31T07:50:06.815Z"
   },
   {
    "duration": 0,
    "start_time": "2023-08-31T07:50:06.816Z"
   },
   {
    "duration": 0,
    "start_time": "2023-08-31T07:50:06.817Z"
   },
   {
    "duration": 0,
    "start_time": "2023-08-31T07:50:06.819Z"
   },
   {
    "duration": 0,
    "start_time": "2023-08-31T07:50:06.820Z"
   },
   {
    "duration": 0,
    "start_time": "2023-08-31T07:50:06.821Z"
   },
   {
    "duration": 4,
    "start_time": "2023-08-31T07:50:26.300Z"
   },
   {
    "duration": 51,
    "start_time": "2023-08-31T07:50:26.308Z"
   },
   {
    "duration": 8,
    "start_time": "2023-08-31T07:50:26.361Z"
   },
   {
    "duration": 17,
    "start_time": "2023-08-31T07:50:26.371Z"
   },
   {
    "duration": 14,
    "start_time": "2023-08-31T07:50:26.390Z"
   },
   {
    "duration": 45,
    "start_time": "2023-08-31T07:50:26.405Z"
   },
   {
    "duration": 269,
    "start_time": "2023-08-31T07:50:26.452Z"
   },
   {
    "duration": 9,
    "start_time": "2023-08-31T07:50:26.722Z"
   },
   {
    "duration": 996,
    "start_time": "2023-08-31T07:50:26.732Z"
   },
   {
    "duration": 174,
    "start_time": "2023-08-31T07:50:27.730Z"
   },
   {
    "duration": 171,
    "start_time": "2023-08-31T07:50:27.916Z"
   },
   {
    "duration": 4,
    "start_time": "2023-08-31T07:50:28.088Z"
   },
   {
    "duration": 5,
    "start_time": "2023-08-31T07:50:28.094Z"
   },
   {
    "duration": 17,
    "start_time": "2023-08-31T07:50:28.110Z"
   },
   {
    "duration": 16,
    "start_time": "2023-08-31T07:50:28.129Z"
   },
   {
    "duration": 9,
    "start_time": "2023-08-31T07:50:28.147Z"
   },
   {
    "duration": 17,
    "start_time": "2023-08-31T07:50:28.158Z"
   },
   {
    "duration": 4,
    "start_time": "2023-08-31T07:50:28.178Z"
   },
   {
    "duration": 10,
    "start_time": "2023-08-31T07:50:28.184Z"
   },
   {
    "duration": 8,
    "start_time": "2023-08-31T07:50:28.196Z"
   },
   {
    "duration": 6,
    "start_time": "2023-08-31T07:50:28.206Z"
   },
   {
    "duration": 6,
    "start_time": "2023-08-31T07:50:28.214Z"
   },
   {
    "duration": 17991,
    "start_time": "2023-08-31T07:50:28.222Z"
   },
   {
    "duration": 193,
    "start_time": "2023-08-31T07:50:46.216Z"
   },
   {
    "duration": 3,
    "start_time": "2023-08-31T07:50:46.411Z"
   },
   {
    "duration": 683,
    "start_time": "2023-08-31T07:50:46.416Z"
   },
   {
    "duration": 9,
    "start_time": "2023-08-31T07:50:47.101Z"
   },
   {
    "duration": 11171,
    "start_time": "2023-08-31T07:50:47.112Z"
   },
   {
    "duration": 3,
    "start_time": "2023-08-31T07:50:58.286Z"
   },
   {
    "duration": 23,
    "start_time": "2023-08-31T07:50:58.292Z"
   },
   {
    "duration": 80490,
    "start_time": "2023-08-31T07:50:58.319Z"
   },
   {
    "duration": 17,
    "start_time": "2023-08-31T07:52:18.812Z"
   },
   {
    "duration": 10,
    "start_time": "2023-08-31T07:52:18.832Z"
   },
   {
    "duration": 670,
    "start_time": "2023-08-31T07:52:18.844Z"
   },
   {
    "duration": 176805,
    "start_time": "2023-08-31T07:52:19.521Z"
   },
   {
    "duration": 97,
    "start_time": "2023-08-31T07:55:16.328Z"
   },
   {
    "duration": 23,
    "start_time": "2023-08-31T07:55:25.437Z"
   },
   {
    "duration": 10,
    "start_time": "2023-08-31T07:55:38.880Z"
   },
   {
    "duration": 20,
    "start_time": "2023-08-31T07:55:43.854Z"
   },
   {
    "duration": 1693,
    "start_time": "2023-08-31T19:55:32.119Z"
   },
   {
    "duration": 218,
    "start_time": "2023-08-31T19:55:38.256Z"
   },
   {
    "duration": 10,
    "start_time": "2023-08-31T19:55:41.030Z"
   },
   {
    "duration": 4,
    "start_time": "2023-08-31T19:55:42.464Z"
   },
   {
    "duration": 4,
    "start_time": "2023-08-31T19:55:43.915Z"
   },
   {
    "duration": 36,
    "start_time": "2023-08-31T19:55:44.982Z"
   },
   {
    "duration": 260,
    "start_time": "2023-08-31T19:55:48.389Z"
   },
   {
    "duration": 8,
    "start_time": "2023-08-31T19:55:53.267Z"
   },
   {
    "duration": 1194,
    "start_time": "2023-08-31T19:55:54.447Z"
   },
   {
    "duration": 173,
    "start_time": "2023-08-31T19:56:01.046Z"
   },
   {
    "duration": 148,
    "start_time": "2023-08-31T19:56:03.888Z"
   },
   {
    "duration": 4,
    "start_time": "2023-08-31T19:56:16.191Z"
   },
   {
    "duration": 9,
    "start_time": "2023-08-31T20:04:42.157Z"
   },
   {
    "duration": 19989,
    "start_time": "2023-08-31T20:04:43.865Z"
   },
   {
    "duration": 20303,
    "start_time": "2023-08-31T20:05:51.447Z"
   },
   {
    "duration": 5,
    "start_time": "2023-08-31T20:07:02.268Z"
   },
   {
    "duration": 19014,
    "start_time": "2023-08-31T20:07:03.156Z"
   },
   {
    "duration": 93,
    "start_time": "2023-08-31T20:07:28.898Z"
   },
   {
    "duration": 12,
    "start_time": "2023-08-31T20:07:53.239Z"
   },
   {
    "duration": 15,
    "start_time": "2023-08-31T20:07:55.764Z"
   },
   {
    "duration": 38,
    "start_time": "2023-08-31T20:08:24.901Z"
   },
   {
    "duration": 2,
    "start_time": "2023-08-31T20:09:20.931Z"
   },
   {
    "duration": 138,
    "start_time": "2023-08-31T20:09:22.120Z"
   },
   {
    "duration": 5,
    "start_time": "2023-08-31T20:09:26.170Z"
   },
   {
    "duration": 1089,
    "start_time": "2023-08-31T20:09:33.064Z"
   },
   {
    "duration": 3,
    "start_time": "2023-08-31T20:09:42.898Z"
   },
   {
    "duration": 18692,
    "start_time": "2023-08-31T20:09:45.512Z"
   },
   {
    "duration": 7,
    "start_time": "2023-08-31T20:14:03.260Z"
   },
   {
    "duration": 3,
    "start_time": "2023-08-31T20:14:24.631Z"
   },
   {
    "duration": 321,
    "start_time": "2023-08-31T20:14:26.233Z"
   },
   {
    "duration": 456,
    "start_time": "2023-08-31T20:15:08.733Z"
   },
   {
    "duration": 3,
    "start_time": "2023-08-31T20:15:46.709Z"
   },
   {
    "duration": 8018,
    "start_time": "2023-08-31T20:15:48.954Z"
   },
   {
    "duration": 4,
    "start_time": "2023-08-31T20:17:07.837Z"
   },
   {
    "duration": 66,
    "start_time": "2023-08-31T20:17:07.848Z"
   },
   {
    "duration": 6,
    "start_time": "2023-08-31T20:17:07.917Z"
   },
   {
    "duration": 33,
    "start_time": "2023-08-31T20:17:07.925Z"
   },
   {
    "duration": 37,
    "start_time": "2023-08-31T20:17:07.961Z"
   },
   {
    "duration": 82,
    "start_time": "2023-08-31T20:17:08.000Z"
   },
   {
    "duration": 297,
    "start_time": "2023-08-31T20:17:08.083Z"
   },
   {
    "duration": 7,
    "start_time": "2023-08-31T20:17:08.382Z"
   },
   {
    "duration": 1121,
    "start_time": "2023-08-31T20:17:08.391Z"
   },
   {
    "duration": 185,
    "start_time": "2023-08-31T20:17:09.514Z"
   },
   {
    "duration": 187,
    "start_time": "2023-08-31T20:17:09.701Z"
   },
   {
    "duration": 4,
    "start_time": "2023-08-31T20:17:09.890Z"
   },
   {
    "duration": 6,
    "start_time": "2023-08-31T20:17:09.896Z"
   },
   {
    "duration": 319,
    "start_time": "2023-08-31T20:17:09.904Z"
   },
   {
    "duration": 0,
    "start_time": "2023-08-31T20:17:10.226Z"
   },
   {
    "duration": 0,
    "start_time": "2023-08-31T20:17:10.227Z"
   },
   {
    "duration": 0,
    "start_time": "2023-08-31T20:17:10.228Z"
   },
   {
    "duration": 0,
    "start_time": "2023-08-31T20:17:10.230Z"
   },
   {
    "duration": 0,
    "start_time": "2023-08-31T20:17:10.231Z"
   },
   {
    "duration": 20996,
    "start_time": "2023-08-31T20:17:23.552Z"
   },
   {
    "duration": 100,
    "start_time": "2023-08-31T20:17:57.300Z"
   },
   {
    "duration": 12,
    "start_time": "2023-08-31T20:17:59.406Z"
   },
   {
    "duration": 12,
    "start_time": "2023-08-31T20:18:01.315Z"
   },
   {
    "duration": 2,
    "start_time": "2023-08-31T20:18:05.426Z"
   },
   {
    "duration": 3,
    "start_time": "2023-08-31T20:18:07.154Z"
   },
   {
    "duration": 181,
    "start_time": "2023-08-31T20:18:10.369Z"
   },
   {
    "duration": 3,
    "start_time": "2023-08-31T20:18:16.230Z"
   },
   {
    "duration": 487,
    "start_time": "2023-08-31T20:18:18.587Z"
   },
   {
    "duration": 3,
    "start_time": "2023-08-31T20:18:22.635Z"
   },
   {
    "duration": 7959,
    "start_time": "2023-08-31T20:18:23.955Z"
   },
   {
    "duration": 4,
    "start_time": "2023-08-31T20:20:39.258Z"
   },
   {
    "duration": 200204,
    "start_time": "2023-08-31T20:20:40.344Z"
   },
   {
    "duration": 9,
    "start_time": "2023-08-31T20:25:16.309Z"
   },
   {
    "duration": 8,
    "start_time": "2023-08-31T20:29:14.310Z"
   },
   {
    "duration": 76,
    "start_time": "2023-08-31T20:32:12.531Z"
   },
   {
    "duration": 3,
    "start_time": "2023-08-31T20:32:24.414Z"
   },
   {
    "duration": 176,
    "start_time": "2023-08-31T20:32:25.574Z"
   },
   {
    "duration": 2,
    "start_time": "2023-08-31T20:32:51.589Z"
   },
   {
    "duration": 221,
    "start_time": "2023-08-31T20:32:52.230Z"
   },
   {
    "duration": 4,
    "start_time": "2023-08-31T20:35:54.902Z"
   },
   {
    "duration": 48,
    "start_time": "2023-08-31T20:35:54.909Z"
   },
   {
    "duration": 7,
    "start_time": "2023-08-31T20:35:54.960Z"
   },
   {
    "duration": 11,
    "start_time": "2023-08-31T20:35:54.968Z"
   },
   {
    "duration": 4,
    "start_time": "2023-08-31T20:35:54.982Z"
   },
   {
    "duration": 40,
    "start_time": "2023-08-31T20:35:54.987Z"
   },
   {
    "duration": 286,
    "start_time": "2023-08-31T20:35:55.046Z"
   },
   {
    "duration": 15,
    "start_time": "2023-08-31T20:35:55.335Z"
   },
   {
    "duration": 972,
    "start_time": "2023-08-31T20:35:55.352Z"
   },
   {
    "duration": 166,
    "start_time": "2023-08-31T20:35:56.325Z"
   },
   {
    "duration": 162,
    "start_time": "2023-08-31T20:35:56.495Z"
   },
   {
    "duration": 5,
    "start_time": "2023-08-31T20:35:56.659Z"
   },
   {
    "duration": 8,
    "start_time": "2023-08-31T20:35:56.666Z"
   },
   {
    "duration": 15377,
    "start_time": "2023-08-31T20:35:56.675Z"
   },
   {
    "duration": 267,
    "start_time": "2023-08-31T20:36:12.054Z"
   },
   {
    "duration": 31,
    "start_time": "2023-08-31T20:36:12.323Z"
   },
   {
    "duration": 11,
    "start_time": "2023-08-31T20:36:12.356Z"
   },
   {
    "duration": 7,
    "start_time": "2023-08-31T20:36:12.369Z"
   },
   {
    "duration": 4,
    "start_time": "2023-08-31T20:36:12.378Z"
   },
   {
    "duration": 12,
    "start_time": "2023-08-31T20:36:12.383Z"
   },
   {
    "duration": 254,
    "start_time": "2023-08-31T20:36:12.396Z"
   },
   {
    "duration": 5,
    "start_time": "2023-08-31T20:36:12.653Z"
   },
   {
    "duration": 604,
    "start_time": "2023-08-31T20:36:12.661Z"
   },
   {
    "duration": 3,
    "start_time": "2023-08-31T20:36:13.267Z"
   },
   {
    "duration": 7409,
    "start_time": "2023-08-31T20:36:13.271Z"
   },
   {
    "duration": 3,
    "start_time": "2023-08-31T20:36:20.681Z"
   },
   {
    "duration": 2769,
    "start_time": "2023-08-31T20:36:20.686Z"
   },
   {
    "duration": 8,
    "start_time": "2023-08-31T20:36:23.456Z"
   },
   {
    "duration": 32,
    "start_time": "2023-08-31T20:36:23.467Z"
   },
   {
    "duration": 13,
    "start_time": "2023-08-31T20:36:23.500Z"
   },
   {
    "duration": 15737,
    "start_time": "2023-08-31T20:36:23.514Z"
   },
   {
    "duration": 10,
    "start_time": "2023-08-31T20:47:54.326Z"
   },
   {
    "duration": 10,
    "start_time": "2023-08-31T20:48:11.476Z"
   },
   {
    "duration": 6,
    "start_time": "2023-08-31T20:48:17.824Z"
   },
   {
    "duration": 6,
    "start_time": "2023-08-31T20:49:32.772Z"
   },
   {
    "duration": 61,
    "start_time": "2023-08-31T20:49:32.781Z"
   },
   {
    "duration": 11,
    "start_time": "2023-08-31T20:49:32.844Z"
   },
   {
    "duration": 16,
    "start_time": "2023-08-31T20:49:32.857Z"
   },
   {
    "duration": 15,
    "start_time": "2023-08-31T20:49:32.876Z"
   },
   {
    "duration": 35,
    "start_time": "2023-08-31T20:49:32.892Z"
   },
   {
    "duration": 298,
    "start_time": "2023-08-31T20:49:32.928Z"
   },
   {
    "duration": 8,
    "start_time": "2023-08-31T20:49:33.227Z"
   },
   {
    "duration": 1048,
    "start_time": "2023-08-31T20:49:33.248Z"
   },
   {
    "duration": 193,
    "start_time": "2023-08-31T20:49:34.298Z"
   },
   {
    "duration": 168,
    "start_time": "2023-08-31T20:49:34.494Z"
   },
   {
    "duration": 4,
    "start_time": "2023-08-31T20:49:34.664Z"
   },
   {
    "duration": 17,
    "start_time": "2023-08-31T20:49:34.670Z"
   },
   {
    "duration": 20068,
    "start_time": "2023-08-31T20:49:34.689Z"
   },
   {
    "duration": 116,
    "start_time": "2023-08-31T20:49:54.772Z"
   },
   {
    "duration": 63,
    "start_time": "2023-08-31T20:49:54.890Z"
   },
   {
    "duration": 14,
    "start_time": "2023-08-31T20:49:54.955Z"
   },
   {
    "duration": 7,
    "start_time": "2023-08-31T20:49:54.971Z"
   },
   {
    "duration": 11,
    "start_time": "2023-08-31T20:49:54.979Z"
   },
   {
    "duration": 6,
    "start_time": "2023-08-31T20:49:54.991Z"
   },
   {
    "duration": 351,
    "start_time": "2023-08-31T20:49:54.999Z"
   },
   {
    "duration": 9,
    "start_time": "2023-08-31T20:49:55.353Z"
   },
   {
    "duration": 613,
    "start_time": "2023-08-31T20:49:55.365Z"
   },
   {
    "duration": 4,
    "start_time": "2023-08-31T20:49:55.980Z"
   },
   {
    "duration": 10388,
    "start_time": "2023-08-31T20:49:55.986Z"
   },
   {
    "duration": 3,
    "start_time": "2023-08-31T20:50:06.376Z"
   },
   {
    "duration": 115296,
    "start_time": "2023-08-31T20:50:06.380Z"
   },
   {
    "duration": 0,
    "start_time": "2023-08-31T20:52:01.678Z"
   },
   {
    "duration": 0,
    "start_time": "2023-08-31T20:52:01.679Z"
   },
   {
    "duration": 0,
    "start_time": "2023-08-31T20:52:01.681Z"
   },
   {
    "duration": 0,
    "start_time": "2023-08-31T20:52:01.682Z"
   },
   {
    "duration": 0,
    "start_time": "2023-08-31T20:52:01.684Z"
   },
   {
    "duration": 5,
    "start_time": "2023-08-31T20:53:46.383Z"
   },
   {
    "duration": 59,
    "start_time": "2023-08-31T20:53:46.392Z"
   },
   {
    "duration": 9,
    "start_time": "2023-08-31T20:53:46.460Z"
   },
   {
    "duration": 7,
    "start_time": "2023-08-31T20:53:46.471Z"
   },
   {
    "duration": 5,
    "start_time": "2023-08-31T20:53:46.481Z"
   },
   {
    "duration": 39,
    "start_time": "2023-08-31T20:53:46.487Z"
   },
   {
    "duration": 268,
    "start_time": "2023-08-31T20:53:46.547Z"
   },
   {
    "duration": 8,
    "start_time": "2023-08-31T20:53:46.816Z"
   },
   {
    "duration": 1092,
    "start_time": "2023-08-31T20:53:46.826Z"
   },
   {
    "duration": 193,
    "start_time": "2023-08-31T20:53:47.920Z"
   },
   {
    "duration": 190,
    "start_time": "2023-08-31T20:53:48.117Z"
   },
   {
    "duration": 4,
    "start_time": "2023-08-31T20:53:48.310Z"
   },
   {
    "duration": 59,
    "start_time": "2023-08-31T20:53:48.316Z"
   },
   {
    "duration": 22070,
    "start_time": "2023-08-31T20:53:48.377Z"
   },
   {
    "duration": 130,
    "start_time": "2023-08-31T20:54:10.455Z"
   },
   {
    "duration": 13,
    "start_time": "2023-08-31T20:54:10.586Z"
   },
   {
    "duration": 12,
    "start_time": "2023-08-31T20:54:10.600Z"
   },
   {
    "duration": 2,
    "start_time": "2023-08-31T20:54:10.614Z"
   },
   {
    "duration": 29,
    "start_time": "2023-08-31T20:54:10.618Z"
   },
   {
    "duration": 4,
    "start_time": "2023-08-31T20:54:10.649Z"
   },
   {
    "duration": 197,
    "start_time": "2023-08-31T20:54:10.657Z"
   },
   {
    "duration": 6,
    "start_time": "2023-08-31T20:54:10.859Z"
   },
   {
    "duration": 618,
    "start_time": "2023-08-31T20:54:10.871Z"
   },
   {
    "duration": 4,
    "start_time": "2023-08-31T20:54:11.491Z"
   },
   {
    "duration": 8105,
    "start_time": "2023-08-31T20:54:11.497Z"
   },
   {
    "duration": 2,
    "start_time": "2023-08-31T20:54:19.604Z"
   },
   {
    "duration": 163056,
    "start_time": "2023-08-31T20:54:19.608Z"
   },
   {
    "duration": 90,
    "start_time": "2023-08-31T20:57:02.668Z"
   },
   {
    "duration": 11,
    "start_time": "2023-08-31T20:57:02.766Z"
   },
   {
    "duration": 6,
    "start_time": "2023-08-31T20:57:02.779Z"
   },
   {
    "duration": 53062,
    "start_time": "2023-08-31T20:57:02.787Z"
   },
   {
    "duration": 5,
    "start_time": "2023-08-31T20:57:55.851Z"
   },
   {
    "duration": 83,
    "start_time": "2023-08-31T21:16:33.682Z"
   },
   {
    "duration": 4,
    "start_time": "2023-08-31T21:21:20.717Z"
   },
   {
    "duration": 54,
    "start_time": "2023-08-31T21:21:20.724Z"
   },
   {
    "duration": 7,
    "start_time": "2023-08-31T21:21:20.781Z"
   },
   {
    "duration": 4,
    "start_time": "2023-08-31T21:21:20.790Z"
   },
   {
    "duration": 5,
    "start_time": "2023-08-31T21:21:20.796Z"
   },
   {
    "duration": 55,
    "start_time": "2023-08-31T21:21:20.802Z"
   },
   {
    "duration": 329,
    "start_time": "2023-08-31T21:21:20.860Z"
   },
   {
    "duration": 7,
    "start_time": "2023-08-31T21:21:21.191Z"
   },
   {
    "duration": 1128,
    "start_time": "2023-08-31T21:21:21.200Z"
   },
   {
    "duration": 191,
    "start_time": "2023-08-31T21:21:22.330Z"
   },
   {
    "duration": 184,
    "start_time": "2023-08-31T21:21:22.525Z"
   },
   {
    "duration": 5,
    "start_time": "2023-08-31T21:21:22.710Z"
   },
   {
    "duration": 8,
    "start_time": "2023-08-31T21:21:22.717Z"
   },
   {
    "duration": 16857,
    "start_time": "2023-08-31T21:21:22.727Z"
   },
   {
    "duration": 113,
    "start_time": "2023-08-31T21:21:39.586Z"
   },
   {
    "duration": 46,
    "start_time": "2023-08-31T21:21:39.701Z"
   },
   {
    "duration": 21,
    "start_time": "2023-08-31T21:21:39.750Z"
   },
   {
    "duration": 16,
    "start_time": "2023-08-31T21:21:39.773Z"
   },
   {
    "duration": 1,
    "start_time": "2023-08-31T21:21:39.790Z"
   },
   {
    "duration": 0,
    "start_time": "2023-08-31T21:21:39.792Z"
   },
   {
    "duration": 0,
    "start_time": "2023-08-31T21:21:39.793Z"
   },
   {
    "duration": 0,
    "start_time": "2023-08-31T21:21:39.794Z"
   },
   {
    "duration": 0,
    "start_time": "2023-08-31T21:21:39.795Z"
   },
   {
    "duration": 0,
    "start_time": "2023-08-31T21:21:39.796Z"
   },
   {
    "duration": 0,
    "start_time": "2023-08-31T21:21:39.797Z"
   },
   {
    "duration": 0,
    "start_time": "2023-08-31T21:21:39.799Z"
   },
   {
    "duration": 0,
    "start_time": "2023-08-31T21:21:39.800Z"
   },
   {
    "duration": 0,
    "start_time": "2023-08-31T21:21:39.801Z"
   },
   {
    "duration": 0,
    "start_time": "2023-08-31T21:21:39.802Z"
   },
   {
    "duration": 0,
    "start_time": "2023-08-31T21:21:39.803Z"
   },
   {
    "duration": 0,
    "start_time": "2023-08-31T21:21:39.804Z"
   },
   {
    "duration": 0,
    "start_time": "2023-08-31T21:21:39.847Z"
   },
   {
    "duration": 4,
    "start_time": "2023-08-31T21:22:46.437Z"
   },
   {
    "duration": 47,
    "start_time": "2023-08-31T21:22:47.369Z"
   },
   {
    "duration": 7,
    "start_time": "2023-08-31T21:22:47.418Z"
   },
   {
    "duration": 5,
    "start_time": "2023-08-31T21:22:47.427Z"
   },
   {
    "duration": 6,
    "start_time": "2023-08-31T21:22:47.434Z"
   },
   {
    "duration": 48,
    "start_time": "2023-08-31T21:22:47.443Z"
   },
   {
    "duration": 315,
    "start_time": "2023-08-31T21:22:47.493Z"
   },
   {
    "duration": 8,
    "start_time": "2023-08-31T21:22:47.809Z"
   },
   {
    "duration": 1108,
    "start_time": "2023-08-31T21:22:47.818Z"
   },
   {
    "duration": 193,
    "start_time": "2023-08-31T21:22:48.928Z"
   },
   {
    "duration": 192,
    "start_time": "2023-08-31T21:22:49.124Z"
   },
   {
    "duration": 4,
    "start_time": "2023-08-31T21:22:49.318Z"
   },
   {
    "duration": 17,
    "start_time": "2023-08-31T21:22:49.324Z"
   },
   {
    "duration": 18417,
    "start_time": "2023-08-31T21:22:49.343Z"
   },
   {
    "duration": 218,
    "start_time": "2023-08-31T21:23:07.767Z"
   },
   {
    "duration": 11,
    "start_time": "2023-08-31T21:23:07.987Z"
   },
   {
    "duration": 13,
    "start_time": "2023-08-31T21:23:07.999Z"
   },
   {
    "duration": 117,
    "start_time": "2023-08-31T21:23:08.013Z"
   },
   {
    "duration": 3,
    "start_time": "2023-08-31T21:23:08.133Z"
   },
   {
    "duration": 16,
    "start_time": "2023-08-31T21:23:08.138Z"
   },
   {
    "duration": 297,
    "start_time": "2023-08-31T21:23:08.157Z"
   },
   {
    "duration": 7,
    "start_time": "2023-08-31T21:23:08.457Z"
   },
   {
    "duration": 564,
    "start_time": "2023-08-31T21:23:08.547Z"
   },
   {
    "duration": 3,
    "start_time": "2023-08-31T21:23:09.113Z"
   },
   {
    "duration": 7904,
    "start_time": "2023-08-31T21:23:09.117Z"
   },
   {
    "duration": 3,
    "start_time": "2023-08-31T21:23:17.023Z"
   },
   {
    "duration": 113443,
    "start_time": "2023-08-31T21:23:17.027Z"
   },
   {
    "duration": 81,
    "start_time": "2023-08-31T21:25:10.472Z"
   },
   {
    "duration": 18,
    "start_time": "2023-08-31T21:25:10.556Z"
   },
   {
    "duration": 21,
    "start_time": "2023-08-31T21:25:10.576Z"
   },
   {
    "duration": 101272,
    "start_time": "2023-08-31T21:25:10.599Z"
   },
   {
    "duration": 0,
    "start_time": "2023-08-31T21:26:51.873Z"
   },
   {
    "duration": 18,
    "start_time": "2023-08-31T21:32:30.034Z"
   },
   {
    "duration": 4,
    "start_time": "2023-08-31T21:33:16.023Z"
   },
   {
    "duration": 59,
    "start_time": "2023-08-31T21:33:16.029Z"
   },
   {
    "duration": 9,
    "start_time": "2023-08-31T21:33:16.091Z"
   },
   {
    "duration": 3,
    "start_time": "2023-08-31T21:33:16.102Z"
   },
   {
    "duration": 5,
    "start_time": "2023-08-31T21:33:16.107Z"
   },
   {
    "duration": 67,
    "start_time": "2023-08-31T21:33:16.114Z"
   },
   {
    "duration": 5,
    "start_time": "2023-08-31T21:33:16.182Z"
   },
   {
    "duration": 306,
    "start_time": "2023-08-31T21:33:16.188Z"
   },
   {
    "duration": 7,
    "start_time": "2023-08-31T21:33:16.496Z"
   },
   {
    "duration": 1089,
    "start_time": "2023-08-31T21:33:16.504Z"
   },
   {
    "duration": 166,
    "start_time": "2023-08-31T21:33:17.596Z"
   },
   {
    "duration": 176,
    "start_time": "2023-08-31T21:33:17.765Z"
   },
   {
    "duration": 7,
    "start_time": "2023-08-31T21:33:17.947Z"
   },
   {
    "duration": 6,
    "start_time": "2023-08-31T21:33:17.956Z"
   },
   {
    "duration": 15085,
    "start_time": "2023-08-31T21:33:17.964Z"
   },
   {
    "duration": 139,
    "start_time": "2023-08-31T21:33:33.051Z"
   },
   {
    "duration": 11,
    "start_time": "2023-08-31T21:33:33.192Z"
   },
   {
    "duration": 24,
    "start_time": "2023-08-31T21:33:33.205Z"
   },
   {
    "duration": 20,
    "start_time": "2023-08-31T21:33:33.231Z"
   },
   {
    "duration": 6,
    "start_time": "2023-08-31T21:33:33.254Z"
   },
   {
    "duration": 184,
    "start_time": "2023-08-31T21:33:33.264Z"
   },
   {
    "duration": 4,
    "start_time": "2023-08-31T21:33:33.450Z"
   },
   {
    "duration": 447,
    "start_time": "2023-08-31T21:33:33.456Z"
   },
   {
    "duration": 3,
    "start_time": "2023-08-31T21:33:33.905Z"
   },
   {
    "duration": 7617,
    "start_time": "2023-08-31T21:33:33.909Z"
   },
   {
    "duration": 3,
    "start_time": "2023-08-31T21:33:41.528Z"
   },
   {
    "duration": 142132,
    "start_time": "2023-08-31T21:33:41.532Z"
   },
   {
    "duration": 8,
    "start_time": "2023-08-31T21:36:03.666Z"
   },
   {
    "duration": 24,
    "start_time": "2023-08-31T21:36:03.678Z"
   },
   {
    "duration": 13,
    "start_time": "2023-08-31T21:36:03.747Z"
   },
   {
    "duration": 146096,
    "start_time": "2023-08-31T21:36:03.762Z"
   },
   {
    "duration": 5,
    "start_time": "2023-08-31T21:38:29.861Z"
   },
   {
    "duration": 2734,
    "start_time": "2023-08-31T21:51:19.518Z"
   },
   {
    "duration": 48,
    "start_time": "2023-08-31T21:51:22.254Z"
   },
   {
    "duration": 8,
    "start_time": "2023-08-31T21:51:22.304Z"
   },
   {
    "duration": 3,
    "start_time": "2023-08-31T21:51:22.314Z"
   },
   {
    "duration": 4,
    "start_time": "2023-08-31T21:51:22.319Z"
   },
   {
    "duration": 32,
    "start_time": "2023-08-31T21:51:22.325Z"
   },
   {
    "duration": 5,
    "start_time": "2023-08-31T21:51:22.358Z"
   },
   {
    "duration": 244,
    "start_time": "2023-08-31T21:51:22.364Z"
   },
   {
    "duration": 17,
    "start_time": "2023-08-31T21:51:22.610Z"
   },
   {
    "duration": 902,
    "start_time": "2023-08-31T21:51:22.629Z"
   },
   {
    "duration": 147,
    "start_time": "2023-08-31T21:51:23.532Z"
   },
   {
    "duration": 135,
    "start_time": "2023-08-31T21:51:23.681Z"
   },
   {
    "duration": 4,
    "start_time": "2023-08-31T21:51:23.823Z"
   },
   {
    "duration": 5,
    "start_time": "2023-08-31T21:51:23.828Z"
   },
   {
    "duration": 14492,
    "start_time": "2023-08-31T21:51:23.834Z"
   },
   {
    "duration": 117,
    "start_time": "2023-08-31T21:51:38.329Z"
   },
   {
    "duration": 10,
    "start_time": "2023-08-31T21:51:38.448Z"
   },
   {
    "duration": 12,
    "start_time": "2023-08-31T21:51:38.460Z"
   },
   {
    "duration": 12,
    "start_time": "2023-08-31T21:51:38.474Z"
   },
   {
    "duration": 19,
    "start_time": "2023-08-31T21:51:38.488Z"
   },
   {
    "duration": 124,
    "start_time": "2023-08-31T21:51:38.508Z"
   },
   {
    "duration": 97,
    "start_time": "2023-08-31T21:51:38.634Z"
   },
   {
    "duration": 452,
    "start_time": "2023-08-31T21:51:38.733Z"
   },
   {
    "duration": 3,
    "start_time": "2023-08-31T21:51:39.186Z"
   },
   {
    "duration": 6480,
    "start_time": "2023-08-31T21:51:39.191Z"
   },
   {
    "duration": 2,
    "start_time": "2023-08-31T21:51:45.673Z"
   },
   {
    "duration": 2554,
    "start_time": "2023-08-31T21:51:45.676Z"
   },
   {
    "duration": 8,
    "start_time": "2023-08-31T21:51:48.233Z"
   },
   {
    "duration": 9,
    "start_time": "2023-08-31T21:51:48.243Z"
   },
   {
    "duration": 8,
    "start_time": "2023-08-31T21:51:48.254Z"
   },
   {
    "duration": 13763,
    "start_time": "2023-08-31T21:51:48.264Z"
   },
   {
    "duration": 5,
    "start_time": "2023-08-31T21:52:02.028Z"
   },
   {
    "duration": 1737,
    "start_time": "2023-09-01T11:44:44.646Z"
   },
   {
    "duration": 188,
    "start_time": "2023-09-01T11:44:46.386Z"
   },
   {
    "duration": 14,
    "start_time": "2023-09-01T11:44:46.575Z"
   },
   {
    "duration": 3,
    "start_time": "2023-09-01T11:44:46.591Z"
   },
   {
    "duration": 7,
    "start_time": "2023-09-01T11:44:46.597Z"
   },
   {
    "duration": 43,
    "start_time": "2023-09-01T11:44:46.606Z"
   },
   {
    "duration": 4,
    "start_time": "2023-09-01T11:44:46.651Z"
   },
   {
    "duration": 343,
    "start_time": "2023-09-01T11:44:46.680Z"
   },
   {
    "duration": 16,
    "start_time": "2023-09-01T11:44:52.156Z"
   },
   {
    "duration": 1078,
    "start_time": "2023-09-01T11:44:58.563Z"
   },
   {
    "duration": 168,
    "start_time": "2023-09-01T11:45:03.339Z"
   },
   {
    "duration": 180,
    "start_time": "2023-09-01T11:45:23.831Z"
   },
   {
    "duration": 85,
    "start_time": "2023-09-01T11:45:52.822Z"
   },
   {
    "duration": 5,
    "start_time": "2023-09-01T12:01:01.975Z"
   },
   {
    "duration": 84,
    "start_time": "2023-09-01T12:01:01.984Z"
   },
   {
    "duration": 9,
    "start_time": "2023-09-01T12:01:02.070Z"
   },
   {
    "duration": 36,
    "start_time": "2023-09-01T12:01:02.081Z"
   },
   {
    "duration": 21,
    "start_time": "2023-09-01T12:01:02.120Z"
   },
   {
    "duration": 65,
    "start_time": "2023-09-01T12:01:02.143Z"
   },
   {
    "duration": 5,
    "start_time": "2023-09-01T12:01:02.211Z"
   },
   {
    "duration": 275,
    "start_time": "2023-09-01T12:01:02.218Z"
   },
   {
    "duration": 9,
    "start_time": "2023-09-01T12:01:02.494Z"
   },
   {
    "duration": 998,
    "start_time": "2023-09-01T12:01:02.505Z"
   },
   {
    "duration": 257,
    "start_time": "2023-09-01T12:01:03.506Z"
   },
   {
    "duration": 168,
    "start_time": "2023-09-01T12:01:03.765Z"
   },
   {
    "duration": 7,
    "start_time": "2023-09-01T12:01:23.923Z"
   },
   {
    "duration": 8,
    "start_time": "2023-09-01T12:02:13.766Z"
   },
   {
    "duration": 8,
    "start_time": "2023-09-01T12:03:19.962Z"
   },
   {
    "duration": 1050,
    "start_time": "2023-09-01T12:03:36.171Z"
   },
   {
    "duration": 168,
    "start_time": "2023-09-01T12:04:46.379Z"
   },
   {
    "duration": 150,
    "start_time": "2023-09-01T12:04:57.622Z"
   },
   {
    "duration": 235,
    "start_time": "2023-09-01T12:05:02.560Z"
   },
   {
    "duration": 96,
    "start_time": "2023-09-01T12:17:35.500Z"
   },
   {
    "duration": 110,
    "start_time": "2023-09-01T12:18:12.278Z"
   },
   {
    "duration": 4,
    "start_time": "2023-09-01T12:18:35.708Z"
   },
   {
    "duration": 4,
    "start_time": "2023-09-01T12:18:43.265Z"
   },
   {
    "duration": 36,
    "start_time": "2023-09-01T12:22:52.080Z"
   },
   {
    "duration": 9,
    "start_time": "2023-09-01T12:23:00.333Z"
   },
   {
    "duration": 193,
    "start_time": "2023-09-01T12:23:24.887Z"
   },
   {
    "duration": 4,
    "start_time": "2023-09-01T12:25:14.131Z"
   },
   {
    "duration": 9,
    "start_time": "2023-09-01T12:25:36.366Z"
   },
   {
    "duration": 179,
    "start_time": "2023-09-01T12:26:10.409Z"
   },
   {
    "duration": 106,
    "start_time": "2023-09-01T12:26:14.757Z"
   },
   {
    "duration": 3,
    "start_time": "2023-09-01T12:26:31.624Z"
   },
   {
    "duration": 5,
    "start_time": "2023-09-01T12:26:32.804Z"
   },
   {
    "duration": 4,
    "start_time": "2023-09-01T12:27:46.625Z"
   },
   {
    "duration": 120,
    "start_time": "2023-09-01T12:31:29.349Z"
   },
   {
    "duration": 3,
    "start_time": "2023-09-01T12:32:13.496Z"
   },
   {
    "duration": 23,
    "start_time": "2023-09-01T12:32:14.762Z"
   },
   {
    "duration": 575,
    "start_time": "2023-09-01T12:32:31.610Z"
   },
   {
    "duration": 349,
    "start_time": "2023-09-01T12:32:36.733Z"
   },
   {
    "duration": 548,
    "start_time": "2023-09-01T12:33:11.537Z"
   },
   {
    "duration": 3,
    "start_time": "2023-09-01T12:33:57.326Z"
   },
   {
    "duration": 328,
    "start_time": "2023-09-01T12:34:00.528Z"
   },
   {
    "duration": 4,
    "start_time": "2023-09-01T12:34:09.173Z"
   },
   {
    "duration": 6018,
    "start_time": "2023-09-01T12:34:51.943Z"
   },
   {
    "duration": 3,
    "start_time": "2023-09-01T12:35:52.153Z"
   },
   {
    "duration": 2432,
    "start_time": "2023-09-01T12:35:57.056Z"
   },
   {
    "duration": 8,
    "start_time": "2023-09-01T12:36:58.349Z"
   },
   {
    "duration": 11,
    "start_time": "2023-09-01T12:38:52.128Z"
   },
   {
    "duration": 3,
    "start_time": "2023-09-01T12:55:01.281Z"
   },
   {
    "duration": 81,
    "start_time": "2023-09-01T12:55:01.290Z"
   },
   {
    "duration": 21,
    "start_time": "2023-09-01T12:55:01.373Z"
   },
   {
    "duration": 77,
    "start_time": "2023-09-01T12:55:01.395Z"
   },
   {
    "duration": 132,
    "start_time": "2023-09-01T12:55:01.474Z"
   },
   {
    "duration": 181,
    "start_time": "2023-09-01T12:55:01.608Z"
   },
   {
    "duration": 64,
    "start_time": "2023-09-01T12:55:01.791Z"
   },
   {
    "duration": 288,
    "start_time": "2023-09-01T12:55:01.857Z"
   },
   {
    "duration": 8,
    "start_time": "2023-09-01T12:55:02.146Z"
   },
   {
    "duration": 975,
    "start_time": "2023-09-01T12:55:02.155Z"
   },
   {
    "duration": 168,
    "start_time": "2023-09-01T12:55:03.134Z"
   },
   {
    "duration": 165,
    "start_time": "2023-09-01T12:55:03.304Z"
   },
   {
    "duration": 11,
    "start_time": "2023-09-01T12:55:03.470Z"
   },
   {
    "duration": 12,
    "start_time": "2023-09-01T12:55:03.483Z"
   },
   {
    "duration": 853,
    "start_time": "2023-09-01T12:55:03.496Z"
   },
   {
    "duration": 184,
    "start_time": "2023-09-01T12:55:04.351Z"
   },
   {
    "duration": 3,
    "start_time": "2023-09-01T12:55:04.537Z"
   },
   {
    "duration": 44,
    "start_time": "2023-09-01T12:55:04.541Z"
   },
   {
    "duration": 37,
    "start_time": "2023-09-01T12:55:04.587Z"
   },
   {
    "duration": 10,
    "start_time": "2023-09-01T12:55:04.626Z"
   },
   {
    "duration": 29,
    "start_time": "2023-09-01T12:55:04.637Z"
   },
   {
    "duration": 13,
    "start_time": "2023-09-01T12:55:04.668Z"
   },
   {
    "duration": 8,
    "start_time": "2023-09-01T12:55:04.683Z"
   },
   {
    "duration": 6,
    "start_time": "2023-09-01T12:55:04.693Z"
   },
   {
    "duration": 12,
    "start_time": "2023-09-01T12:55:04.701Z"
   },
   {
    "duration": 0,
    "start_time": "2023-09-01T12:55:04.714Z"
   },
   {
    "duration": 0,
    "start_time": "2023-09-01T12:55:04.716Z"
   },
   {
    "duration": 0,
    "start_time": "2023-09-01T12:55:04.717Z"
   },
   {
    "duration": 0,
    "start_time": "2023-09-01T12:55:04.718Z"
   },
   {
    "duration": 0,
    "start_time": "2023-09-01T12:55:04.719Z"
   },
   {
    "duration": 0,
    "start_time": "2023-09-01T12:55:04.720Z"
   },
   {
    "duration": 0,
    "start_time": "2023-09-01T12:55:04.721Z"
   },
   {
    "duration": 0,
    "start_time": "2023-09-01T12:55:04.722Z"
   },
   {
    "duration": 0,
    "start_time": "2023-09-01T12:55:04.723Z"
   },
   {
    "duration": 4,
    "start_time": "2023-09-01T12:55:51.620Z"
   },
   {
    "duration": 4,
    "start_time": "2023-09-01T12:55:55.428Z"
   },
   {
    "duration": 51,
    "start_time": "2023-09-01T12:55:55.436Z"
   },
   {
    "duration": 7,
    "start_time": "2023-09-01T12:55:55.489Z"
   },
   {
    "duration": 7,
    "start_time": "2023-09-01T12:55:55.497Z"
   },
   {
    "duration": 19,
    "start_time": "2023-09-01T12:55:55.506Z"
   },
   {
    "duration": 58,
    "start_time": "2023-09-01T12:55:55.526Z"
   },
   {
    "duration": 6,
    "start_time": "2023-09-01T12:55:55.585Z"
   },
   {
    "duration": 343,
    "start_time": "2023-09-01T12:55:55.592Z"
   },
   {
    "duration": 7,
    "start_time": "2023-09-01T12:55:55.937Z"
   },
   {
    "duration": 880,
    "start_time": "2023-09-01T12:55:55.946Z"
   },
   {
    "duration": 211,
    "start_time": "2023-09-01T12:55:56.830Z"
   },
   {
    "duration": 211,
    "start_time": "2023-09-01T12:55:57.043Z"
   },
   {
    "duration": 11,
    "start_time": "2023-09-01T12:55:57.256Z"
   },
   {
    "duration": 18,
    "start_time": "2023-09-01T12:55:57.269Z"
   },
   {
    "duration": 799,
    "start_time": "2023-09-01T12:55:57.289Z"
   },
   {
    "duration": 185,
    "start_time": "2023-09-01T12:55:58.090Z"
   },
   {
    "duration": 4,
    "start_time": "2023-09-01T12:55:58.277Z"
   },
   {
    "duration": 7,
    "start_time": "2023-09-01T12:55:58.283Z"
   },
   {
    "duration": 140,
    "start_time": "2023-09-01T12:55:58.291Z"
   },
   {
    "duration": 8,
    "start_time": "2023-09-01T12:55:58.433Z"
   },
   {
    "duration": 15,
    "start_time": "2023-09-01T12:55:58.443Z"
   },
   {
    "duration": 29,
    "start_time": "2023-09-01T12:55:58.460Z"
   },
   {
    "duration": 19,
    "start_time": "2023-09-01T12:55:58.491Z"
   },
   {
    "duration": 47,
    "start_time": "2023-09-01T12:55:58.512Z"
   },
   {
    "duration": 721,
    "start_time": "2023-09-01T12:55:58.561Z"
   },
   {
    "duration": 93,
    "start_time": "2023-09-01T12:55:59.287Z"
   },
   {
    "duration": 329,
    "start_time": "2023-09-01T12:55:59.382Z"
   },
   {
    "duration": 3,
    "start_time": "2023-09-01T12:55:59.714Z"
   },
   {
    "duration": 5838,
    "start_time": "2023-09-01T12:55:59.719Z"
   },
   {
    "duration": 3,
    "start_time": "2023-09-01T12:56:05.559Z"
   },
   {
    "duration": 2322,
    "start_time": "2023-09-01T12:56:05.565Z"
   },
   {
    "duration": 9,
    "start_time": "2023-09-01T12:56:07.889Z"
   },
   {
    "duration": 81,
    "start_time": "2023-09-01T12:56:07.900Z"
   },
   {
    "duration": 11,
    "start_time": "2023-09-01T12:56:07.983Z"
   },
   {
    "duration": 10,
    "start_time": "2023-09-01T12:56:39.701Z"
   },
   {
    "duration": 13,
    "start_time": "2023-09-01T12:57:51.627Z"
   },
   {
    "duration": 1176,
    "start_time": "2023-09-01T12:58:22.608Z"
   },
   {
    "duration": 14,
    "start_time": "2023-09-01T12:58:32.781Z"
   },
   {
    "duration": 15,
    "start_time": "2023-09-01T12:58:42.898Z"
   },
   {
    "duration": 6,
    "start_time": "2023-09-01T12:59:02.997Z"
   },
   {
    "duration": 4,
    "start_time": "2023-09-01T12:59:31.780Z"
   },
   {
    "duration": 56,
    "start_time": "2023-09-01T12:59:31.789Z"
   },
   {
    "duration": 9,
    "start_time": "2023-09-01T12:59:31.847Z"
   },
   {
    "duration": 21,
    "start_time": "2023-09-01T12:59:31.858Z"
   },
   {
    "duration": 22,
    "start_time": "2023-09-01T12:59:31.882Z"
   },
   {
    "duration": 149,
    "start_time": "2023-09-01T12:59:31.906Z"
   },
   {
    "duration": 39,
    "start_time": "2023-09-01T12:59:32.057Z"
   },
   {
    "duration": 297,
    "start_time": "2023-09-01T12:59:32.098Z"
   },
   {
    "duration": 8,
    "start_time": "2023-09-01T12:59:32.397Z"
   },
   {
    "duration": 961,
    "start_time": "2023-09-01T12:59:32.407Z"
   },
   {
    "duration": 167,
    "start_time": "2023-09-01T12:59:33.381Z"
   },
   {
    "duration": 167,
    "start_time": "2023-09-01T12:59:33.550Z"
   },
   {
    "duration": 8,
    "start_time": "2023-09-01T12:59:33.719Z"
   },
   {
    "duration": 16,
    "start_time": "2023-09-01T12:59:33.728Z"
   },
   {
    "duration": 901,
    "start_time": "2023-09-01T12:59:33.746Z"
   },
   {
    "duration": 218,
    "start_time": "2023-09-01T12:59:34.649Z"
   },
   {
    "duration": 6,
    "start_time": "2023-09-01T12:59:34.869Z"
   },
   {
    "duration": 11,
    "start_time": "2023-09-01T12:59:34.881Z"
   },
   {
    "duration": 57,
    "start_time": "2023-09-01T12:59:34.894Z"
   },
   {
    "duration": 9,
    "start_time": "2023-09-01T12:59:34.953Z"
   },
   {
    "duration": 24,
    "start_time": "2023-09-01T12:59:34.964Z"
   },
   {
    "duration": 10,
    "start_time": "2023-09-01T12:59:34.989Z"
   },
   {
    "duration": 10,
    "start_time": "2023-09-01T12:59:35.001Z"
   },
   {
    "duration": 8,
    "start_time": "2023-09-01T12:59:35.012Z"
   },
   {
    "duration": 972,
    "start_time": "2023-09-01T12:59:35.021Z"
   },
   {
    "duration": 86,
    "start_time": "2023-09-01T12:59:35.995Z"
   },
   {
    "duration": 460,
    "start_time": "2023-09-01T12:59:36.084Z"
   },
   {
    "duration": 3,
    "start_time": "2023-09-01T12:59:36.546Z"
   },
   {
    "duration": 6158,
    "start_time": "2023-09-01T12:59:36.552Z"
   },
   {
    "duration": 3,
    "start_time": "2023-09-01T12:59:42.712Z"
   },
   {
    "duration": 57486,
    "start_time": "2023-09-01T12:59:42.717Z"
   },
   {
    "duration": 0,
    "start_time": "2023-09-01T13:00:40.205Z"
   },
   {
    "duration": 0,
    "start_time": "2023-09-01T13:00:40.206Z"
   },
   {
    "duration": 0,
    "start_time": "2023-09-01T13:00:40.207Z"
   },
   {
    "duration": 6,
    "start_time": "2023-09-01T13:01:06.780Z"
   },
   {
    "duration": 59,
    "start_time": "2023-09-01T13:01:06.792Z"
   },
   {
    "duration": 9,
    "start_time": "2023-09-01T13:01:06.854Z"
   },
   {
    "duration": 4,
    "start_time": "2023-09-01T13:01:06.865Z"
   },
   {
    "duration": 16,
    "start_time": "2023-09-01T13:01:06.872Z"
   },
   {
    "duration": 71,
    "start_time": "2023-09-01T13:01:06.890Z"
   },
   {
    "duration": 7,
    "start_time": "2023-09-01T13:01:06.963Z"
   },
   {
    "duration": 326,
    "start_time": "2023-09-01T13:01:06.973Z"
   },
   {
    "duration": 9,
    "start_time": "2023-09-01T13:01:07.301Z"
   },
   {
    "duration": 930,
    "start_time": "2023-09-01T13:01:07.312Z"
   },
   {
    "duration": 175,
    "start_time": "2023-09-01T13:01:08.244Z"
   },
   {
    "duration": 173,
    "start_time": "2023-09-01T13:01:08.421Z"
   },
   {
    "duration": 8,
    "start_time": "2023-09-01T13:01:08.596Z"
   },
   {
    "duration": 10,
    "start_time": "2023-09-01T13:01:08.606Z"
   },
   {
    "duration": 928,
    "start_time": "2023-09-01T13:01:08.618Z"
   },
   {
    "duration": 211,
    "start_time": "2023-09-01T13:01:09.548Z"
   },
   {
    "duration": 4,
    "start_time": "2023-09-01T13:01:09.761Z"
   },
   {
    "duration": 22,
    "start_time": "2023-09-01T13:01:09.767Z"
   },
   {
    "duration": 38,
    "start_time": "2023-09-01T13:01:09.792Z"
   },
   {
    "duration": 8,
    "start_time": "2023-09-01T13:01:09.832Z"
   },
   {
    "duration": 9,
    "start_time": "2023-09-01T13:01:09.841Z"
   },
   {
    "duration": 6,
    "start_time": "2023-09-01T13:01:09.852Z"
   },
   {
    "duration": 21,
    "start_time": "2023-09-01T13:01:09.860Z"
   },
   {
    "duration": 6,
    "start_time": "2023-09-01T13:01:09.884Z"
   },
   {
    "duration": 892,
    "start_time": "2023-09-01T13:01:09.892Z"
   },
   {
    "duration": 88,
    "start_time": "2023-09-01T13:01:10.794Z"
   },
   {
    "duration": 442,
    "start_time": "2023-09-01T13:01:10.885Z"
   },
   {
    "duration": 3,
    "start_time": "2023-09-01T13:01:11.328Z"
   },
   {
    "duration": 6088,
    "start_time": "2023-09-01T13:01:11.336Z"
   },
   {
    "duration": 3,
    "start_time": "2023-09-01T13:01:17.426Z"
   },
   {
    "duration": 179789,
    "start_time": "2023-09-01T13:01:17.430Z"
   },
   {
    "duration": 0,
    "start_time": "2023-09-01T13:04:17.221Z"
   },
   {
    "duration": 0,
    "start_time": "2023-09-01T13:04:17.222Z"
   },
   {
    "duration": 0,
    "start_time": "2023-09-01T13:04:17.223Z"
   },
   {
    "duration": 82,
    "start_time": "2023-09-01T13:04:51.800Z"
   },
   {
    "duration": 695,
    "start_time": "2023-09-01T13:07:12.733Z"
   },
   {
    "duration": 718,
    "start_time": "2023-09-01T13:07:46.431Z"
   },
   {
    "duration": 211,
    "start_time": "2023-09-01T13:08:17.457Z"
   },
   {
    "duration": 204,
    "start_time": "2023-09-01T13:08:40.382Z"
   },
   {
    "duration": 184,
    "start_time": "2023-09-01T13:08:49.602Z"
   },
   {
    "duration": 184,
    "start_time": "2023-09-01T13:08:55.782Z"
   },
   {
    "duration": 199,
    "start_time": "2023-09-01T13:09:01.758Z"
   },
   {
    "duration": 197,
    "start_time": "2023-09-01T13:09:04.868Z"
   },
   {
    "duration": 238,
    "start_time": "2023-09-01T13:09:11.944Z"
   },
   {
    "duration": 322,
    "start_time": "2023-09-01T13:10:10.590Z"
   },
   {
    "duration": 252,
    "start_time": "2023-09-01T13:10:15.491Z"
   },
   {
    "duration": 221,
    "start_time": "2023-09-01T13:10:53.030Z"
   },
   {
    "duration": 219,
    "start_time": "2023-09-01T13:10:59.500Z"
   },
   {
    "duration": 4,
    "start_time": "2023-09-01T13:13:04.161Z"
   },
   {
    "duration": 60,
    "start_time": "2023-09-01T13:13:04.166Z"
   },
   {
    "duration": 7,
    "start_time": "2023-09-01T13:13:04.227Z"
   },
   {
    "duration": 9,
    "start_time": "2023-09-01T13:13:04.236Z"
   },
   {
    "duration": 16,
    "start_time": "2023-09-01T13:13:04.247Z"
   },
   {
    "duration": 28,
    "start_time": "2023-09-01T13:13:04.265Z"
   },
   {
    "duration": 5,
    "start_time": "2023-09-01T13:13:04.294Z"
   },
   {
    "duration": 255,
    "start_time": "2023-09-01T13:13:04.301Z"
   },
   {
    "duration": 7,
    "start_time": "2023-09-01T13:13:04.558Z"
   },
   {
    "duration": 907,
    "start_time": "2023-09-01T13:13:04.567Z"
   },
   {
    "duration": 173,
    "start_time": "2023-09-01T13:13:05.476Z"
   },
   {
    "duration": 173,
    "start_time": "2023-09-01T13:13:05.652Z"
   },
   {
    "duration": 8,
    "start_time": "2023-09-01T13:13:05.826Z"
   },
   {
    "duration": 11,
    "start_time": "2023-09-01T13:13:05.836Z"
   },
   {
    "duration": 909,
    "start_time": "2023-09-01T13:13:05.849Z"
   },
   {
    "duration": 232,
    "start_time": "2023-09-01T13:13:06.760Z"
   },
   {
    "duration": 4,
    "start_time": "2023-09-01T13:13:06.994Z"
   },
   {
    "duration": 9,
    "start_time": "2023-09-01T13:13:06.999Z"
   },
   {
    "duration": 42,
    "start_time": "2023-09-01T13:13:07.010Z"
   },
   {
    "duration": 8,
    "start_time": "2023-09-01T13:13:07.054Z"
   },
   {
    "duration": 21,
    "start_time": "2023-09-01T13:13:07.064Z"
   },
   {
    "duration": 5,
    "start_time": "2023-09-01T13:13:07.086Z"
   },
   {
    "duration": 8,
    "start_time": "2023-09-01T13:13:07.093Z"
   },
   {
    "duration": 7,
    "start_time": "2023-09-01T13:13:07.102Z"
   },
   {
    "duration": 574,
    "start_time": "2023-09-01T13:13:07.111Z"
   },
   {
    "duration": 3,
    "start_time": "2023-09-01T13:13:07.688Z"
   },
   {
    "duration": 429,
    "start_time": "2023-09-01T13:13:07.783Z"
   },
   {
    "duration": 3,
    "start_time": "2023-09-01T13:13:08.214Z"
   },
   {
    "duration": 5846,
    "start_time": "2023-09-01T13:13:08.219Z"
   },
   {
    "duration": 3,
    "start_time": "2023-09-01T13:13:14.070Z"
   },
   {
    "duration": 2411,
    "start_time": "2023-09-01T13:13:14.080Z"
   },
   {
    "duration": 89,
    "start_time": "2023-09-01T13:13:16.493Z"
   },
   {
    "duration": 13,
    "start_time": "2023-09-01T13:13:16.584Z"
   },
   {
    "duration": 99,
    "start_time": "2023-09-01T13:13:16.683Z"
   },
   {
    "duration": 12,
    "start_time": "2023-09-01T13:18:14.734Z"
   },
   {
    "duration": 3,
    "start_time": "2023-09-01T13:28:04.568Z"
   },
   {
    "duration": 57,
    "start_time": "2023-09-01T13:28:04.573Z"
   },
   {
    "duration": 7,
    "start_time": "2023-09-01T13:28:04.632Z"
   },
   {
    "duration": 4,
    "start_time": "2023-09-01T13:28:04.641Z"
   },
   {
    "duration": 9,
    "start_time": "2023-09-01T13:28:04.648Z"
   },
   {
    "duration": 37,
    "start_time": "2023-09-01T13:28:04.659Z"
   },
   {
    "duration": 5,
    "start_time": "2023-09-01T13:28:04.698Z"
   },
   {
    "duration": 262,
    "start_time": "2023-09-01T13:28:04.705Z"
   },
   {
    "duration": 18,
    "start_time": "2023-09-01T13:28:04.969Z"
   },
   {
    "duration": 896,
    "start_time": "2023-09-01T13:28:04.989Z"
   },
   {
    "duration": 163,
    "start_time": "2023-09-01T13:28:05.888Z"
   },
   {
    "duration": 162,
    "start_time": "2023-09-01T13:28:06.053Z"
   },
   {
    "duration": 7,
    "start_time": "2023-09-01T13:28:06.216Z"
   },
   {
    "duration": 5,
    "start_time": "2023-09-01T13:28:06.225Z"
   },
   {
    "duration": 873,
    "start_time": "2023-09-01T13:28:06.232Z"
   },
   {
    "duration": 213,
    "start_time": "2023-09-01T13:28:07.107Z"
   },
   {
    "duration": 5,
    "start_time": "2023-09-01T13:28:07.322Z"
   },
   {
    "duration": 7,
    "start_time": "2023-09-01T13:28:07.329Z"
   },
   {
    "duration": 173,
    "start_time": "2023-09-01T13:28:07.338Z"
   },
   {
    "duration": 8,
    "start_time": "2023-09-01T13:28:07.513Z"
   },
   {
    "duration": 8,
    "start_time": "2023-09-01T13:28:07.523Z"
   },
   {
    "duration": 4,
    "start_time": "2023-09-01T13:28:07.533Z"
   },
   {
    "duration": 12,
    "start_time": "2023-09-01T13:28:07.538Z"
   },
   {
    "duration": 7,
    "start_time": "2023-09-01T13:28:07.552Z"
   },
   {
    "duration": 1025,
    "start_time": "2023-09-01T13:28:07.560Z"
   },
   {
    "duration": 95,
    "start_time": "2023-09-01T13:28:08.587Z"
   },
   {
    "duration": 426,
    "start_time": "2023-09-01T13:28:08.684Z"
   },
   {
    "duration": 4,
    "start_time": "2023-09-01T13:28:09.112Z"
   },
   {
    "duration": 5870,
    "start_time": "2023-09-01T13:28:09.119Z"
   },
   {
    "duration": 3,
    "start_time": "2023-09-01T13:28:14.990Z"
   },
   {
    "duration": 2687,
    "start_time": "2023-09-01T13:28:14.995Z"
   },
   {
    "duration": 9,
    "start_time": "2023-09-01T13:28:17.684Z"
   },
   {
    "duration": 88,
    "start_time": "2023-09-01T13:28:17.696Z"
   },
   {
    "duration": 95,
    "start_time": "2023-09-01T13:28:17.787Z"
   },
   {
    "duration": 4,
    "start_time": "2023-09-01T13:30:18.772Z"
   },
   {
    "duration": 49,
    "start_time": "2023-09-01T13:30:18.783Z"
   },
   {
    "duration": 8,
    "start_time": "2023-09-01T13:30:18.834Z"
   },
   {
    "duration": 4,
    "start_time": "2023-09-01T13:30:18.844Z"
   },
   {
    "duration": 6,
    "start_time": "2023-09-01T13:30:18.850Z"
   },
   {
    "duration": 30,
    "start_time": "2023-09-01T13:30:18.858Z"
   },
   {
    "duration": 4,
    "start_time": "2023-09-01T13:30:18.890Z"
   },
   {
    "duration": 266,
    "start_time": "2023-09-01T13:30:18.896Z"
   },
   {
    "duration": 19,
    "start_time": "2023-09-01T13:30:19.164Z"
   },
   {
    "duration": 880,
    "start_time": "2023-09-01T13:30:19.186Z"
   },
   {
    "duration": 153,
    "start_time": "2023-09-01T13:30:20.068Z"
   },
   {
    "duration": 170,
    "start_time": "2023-09-01T13:30:20.223Z"
   },
   {
    "duration": 10,
    "start_time": "2023-09-01T13:30:20.395Z"
   },
   {
    "duration": 12,
    "start_time": "2023-09-01T13:30:20.406Z"
   },
   {
    "duration": 803,
    "start_time": "2023-09-01T13:30:20.420Z"
   },
   {
    "duration": 180,
    "start_time": "2023-09-01T13:30:21.225Z"
   },
   {
    "duration": 5,
    "start_time": "2023-09-01T13:30:21.407Z"
   },
   {
    "duration": 43,
    "start_time": "2023-09-01T13:30:21.414Z"
   },
   {
    "duration": 44,
    "start_time": "2023-09-01T13:30:21.459Z"
   },
   {
    "duration": 33,
    "start_time": "2023-09-01T13:30:21.505Z"
   },
   {
    "duration": 37,
    "start_time": "2023-09-01T13:30:21.540Z"
   },
   {
    "duration": 35,
    "start_time": "2023-09-01T13:30:21.579Z"
   },
   {
    "duration": 27,
    "start_time": "2023-09-01T13:30:21.616Z"
   },
   {
    "duration": 5,
    "start_time": "2023-09-01T13:30:21.646Z"
   },
   {
    "duration": 833,
    "start_time": "2023-09-01T13:30:21.652Z"
   },
   {
    "duration": 93,
    "start_time": "2023-09-01T13:30:22.488Z"
   },
   {
    "duration": 418,
    "start_time": "2023-09-01T13:30:22.583Z"
   },
   {
    "duration": 3,
    "start_time": "2023-09-01T13:30:23.002Z"
   },
   {
    "duration": 6039,
    "start_time": "2023-09-01T13:30:23.007Z"
   },
   {
    "duration": 3,
    "start_time": "2023-09-01T13:30:29.048Z"
   },
   {
    "duration": 2633,
    "start_time": "2023-09-01T13:30:29.053Z"
   },
   {
    "duration": 7,
    "start_time": "2023-09-01T13:30:31.688Z"
   },
   {
    "duration": 86,
    "start_time": "2023-09-01T13:30:31.697Z"
   },
   {
    "duration": 99,
    "start_time": "2023-09-01T13:30:31.786Z"
   },
   {
    "duration": 4,
    "start_time": "2023-09-01T13:31:51.439Z"
   },
   {
    "duration": 74,
    "start_time": "2023-09-01T13:31:51.453Z"
   },
   {
    "duration": 8,
    "start_time": "2023-09-01T13:31:51.530Z"
   },
   {
    "duration": 8,
    "start_time": "2023-09-01T13:31:51.540Z"
   },
   {
    "duration": 24,
    "start_time": "2023-09-01T13:31:51.550Z"
   },
   {
    "duration": 36,
    "start_time": "2023-09-01T13:31:51.576Z"
   },
   {
    "duration": 378,
    "start_time": "2023-09-01T13:31:51.613Z"
   },
   {
    "duration": 7,
    "start_time": "2023-09-01T13:31:51.993Z"
   },
   {
    "duration": 868,
    "start_time": "2023-09-01T13:31:52.001Z"
   },
   {
    "duration": 168,
    "start_time": "2023-09-01T13:31:52.871Z"
   },
   {
    "duration": 171,
    "start_time": "2023-09-01T13:31:53.041Z"
   },
   {
    "duration": 9,
    "start_time": "2023-09-01T13:31:53.215Z"
   },
   {
    "duration": 7,
    "start_time": "2023-09-01T13:31:53.226Z"
   },
   {
    "duration": 767,
    "start_time": "2023-09-01T13:31:53.235Z"
   },
   {
    "duration": 188,
    "start_time": "2023-09-01T13:31:54.005Z"
   },
   {
    "duration": 4,
    "start_time": "2023-09-01T13:31:54.195Z"
   },
   {
    "duration": 12,
    "start_time": "2023-09-01T13:31:54.201Z"
   },
   {
    "duration": 42,
    "start_time": "2023-09-01T13:31:54.215Z"
   },
   {
    "duration": 9,
    "start_time": "2023-09-01T13:31:54.259Z"
   },
   {
    "duration": 19,
    "start_time": "2023-09-01T13:31:54.269Z"
   },
   {
    "duration": 7,
    "start_time": "2023-09-01T13:31:54.290Z"
   },
   {
    "duration": 12,
    "start_time": "2023-09-01T13:31:54.298Z"
   },
   {
    "duration": 5,
    "start_time": "2023-09-01T13:31:54.312Z"
   },
   {
    "duration": 873,
    "start_time": "2023-09-01T13:31:54.319Z"
   },
   {
    "duration": 6,
    "start_time": "2023-09-01T13:31:55.283Z"
   },
   {
    "duration": 443,
    "start_time": "2023-09-01T13:31:55.291Z"
   },
   {
    "duration": 3,
    "start_time": "2023-09-01T13:31:55.735Z"
   },
   {
    "duration": 6095,
    "start_time": "2023-09-01T13:31:55.740Z"
   },
   {
    "duration": 3,
    "start_time": "2023-09-01T13:32:01.838Z"
   },
   {
    "duration": 2247,
    "start_time": "2023-09-01T13:32:01.843Z"
   },
   {
    "duration": 90,
    "start_time": "2023-09-01T13:32:04.092Z"
   },
   {
    "duration": 19,
    "start_time": "2023-09-01T13:32:04.184Z"
   },
   {
    "duration": 177,
    "start_time": "2023-09-01T13:32:04.205Z"
   },
   {
    "duration": 4,
    "start_time": "2023-09-01T13:35:48.431Z"
   },
   {
    "duration": 50,
    "start_time": "2023-09-01T13:35:48.437Z"
   },
   {
    "duration": 7,
    "start_time": "2023-09-01T13:35:48.488Z"
   },
   {
    "duration": 3,
    "start_time": "2023-09-01T13:35:48.497Z"
   },
   {
    "duration": 11,
    "start_time": "2023-09-01T13:35:48.502Z"
   },
   {
    "duration": 37,
    "start_time": "2023-09-01T13:35:48.515Z"
   },
   {
    "duration": 260,
    "start_time": "2023-09-01T13:35:48.553Z"
   },
   {
    "duration": 8,
    "start_time": "2023-09-01T13:35:48.815Z"
   },
   {
    "duration": 1026,
    "start_time": "2023-09-01T13:35:48.825Z"
   },
   {
    "duration": 163,
    "start_time": "2023-09-01T13:35:49.853Z"
   },
   {
    "duration": 166,
    "start_time": "2023-09-01T13:35:50.017Z"
   },
   {
    "duration": 7,
    "start_time": "2023-09-01T13:35:50.185Z"
   },
   {
    "duration": 11,
    "start_time": "2023-09-01T13:35:50.194Z"
   },
   {
    "duration": 783,
    "start_time": "2023-09-01T13:35:50.207Z"
   },
   {
    "duration": 178,
    "start_time": "2023-09-01T13:35:50.992Z"
   },
   {
    "duration": 5,
    "start_time": "2023-09-01T13:35:51.181Z"
   },
   {
    "duration": 34,
    "start_time": "2023-09-01T13:35:51.192Z"
   },
   {
    "duration": 35,
    "start_time": "2023-09-01T13:35:51.228Z"
   },
   {
    "duration": 13,
    "start_time": "2023-09-01T13:35:51.265Z"
   },
   {
    "duration": 10,
    "start_time": "2023-09-01T13:35:51.280Z"
   },
   {
    "duration": 17,
    "start_time": "2023-09-01T13:35:51.292Z"
   },
   {
    "duration": 15,
    "start_time": "2023-09-01T13:35:51.311Z"
   },
   {
    "duration": 9,
    "start_time": "2023-09-01T13:35:51.328Z"
   },
   {
    "duration": 542,
    "start_time": "2023-09-01T13:35:51.339Z"
   },
   {
    "duration": 4,
    "start_time": "2023-09-01T13:35:51.884Z"
   },
   {
    "duration": 434,
    "start_time": "2023-09-01T13:35:51.890Z"
   },
   {
    "duration": 3,
    "start_time": "2023-09-01T13:35:52.326Z"
   },
   {
    "duration": 5846,
    "start_time": "2023-09-01T13:35:52.332Z"
   },
   {
    "duration": 2,
    "start_time": "2023-09-01T13:35:58.181Z"
   },
   {
    "duration": 2203,
    "start_time": "2023-09-01T13:35:58.184Z"
   },
   {
    "duration": 8,
    "start_time": "2023-09-01T13:36:00.389Z"
   },
   {
    "duration": 130,
    "start_time": "2023-09-01T13:36:00.399Z"
   },
   {
    "duration": 103,
    "start_time": "2023-09-01T13:36:00.581Z"
   },
   {
    "duration": 4,
    "start_time": "2023-09-01T13:42:50.596Z"
   },
   {
    "duration": 94,
    "start_time": "2023-09-01T13:42:50.604Z"
   },
   {
    "duration": 7,
    "start_time": "2023-09-01T13:42:50.700Z"
   },
   {
    "duration": 39,
    "start_time": "2023-09-01T13:42:50.708Z"
   },
   {
    "duration": 5,
    "start_time": "2023-09-01T13:42:50.749Z"
   },
   {
    "duration": 37,
    "start_time": "2023-09-01T13:42:50.755Z"
   },
   {
    "duration": 259,
    "start_time": "2023-09-01T13:42:50.794Z"
   },
   {
    "duration": 7,
    "start_time": "2023-09-01T13:42:51.055Z"
   },
   {
    "duration": 1114,
    "start_time": "2023-09-01T13:42:51.064Z"
   },
   {
    "duration": 179,
    "start_time": "2023-09-01T13:42:52.180Z"
   },
   {
    "duration": 158,
    "start_time": "2023-09-01T13:42:52.363Z"
   },
   {
    "duration": 10,
    "start_time": "2023-09-01T13:42:52.524Z"
   },
   {
    "duration": 17,
    "start_time": "2023-09-01T13:42:52.536Z"
   },
   {
    "duration": 880,
    "start_time": "2023-09-01T13:42:52.555Z"
   },
   {
    "duration": 193,
    "start_time": "2023-09-01T13:42:53.437Z"
   },
   {
    "duration": 7,
    "start_time": "2023-09-01T13:42:53.631Z"
   },
   {
    "duration": 41,
    "start_time": "2023-09-01T13:42:53.639Z"
   },
   {
    "duration": 50,
    "start_time": "2023-09-01T13:42:53.682Z"
   },
   {
    "duration": 7,
    "start_time": "2023-09-01T13:42:53.734Z"
   },
   {
    "duration": 11,
    "start_time": "2023-09-01T13:42:53.743Z"
   },
   {
    "duration": 6,
    "start_time": "2023-09-01T13:42:53.755Z"
   },
   {
    "duration": 27,
    "start_time": "2023-09-01T13:42:53.763Z"
   },
   {
    "duration": 34,
    "start_time": "2023-09-01T13:42:53.792Z"
   },
   {
    "duration": 1269,
    "start_time": "2023-09-01T13:42:53.828Z"
   },
   {
    "duration": 83,
    "start_time": "2023-09-01T13:42:55.100Z"
   },
   {
    "duration": 423,
    "start_time": "2023-09-01T13:42:55.185Z"
   },
   {
    "duration": 3,
    "start_time": "2023-09-01T13:42:55.610Z"
   },
   {
    "duration": 6057,
    "start_time": "2023-09-01T13:42:55.614Z"
   },
   {
    "duration": 7,
    "start_time": "2023-09-01T13:43:01.674Z"
   },
   {
    "duration": 14607,
    "start_time": "2023-09-01T13:43:01.682Z"
   },
   {
    "duration": 8,
    "start_time": "2023-09-01T13:43:16.291Z"
   },
   {
    "duration": 180,
    "start_time": "2023-09-01T13:43:16.301Z"
   },
   {
    "duration": 6,
    "start_time": "2023-09-01T13:43:16.483Z"
   },
   {
    "duration": 2716,
    "start_time": "2023-09-01T21:13:08.889Z"
   },
   {
    "duration": 118,
    "start_time": "2023-09-01T21:13:11.607Z"
   },
   {
    "duration": 9,
    "start_time": "2023-09-01T21:13:11.727Z"
   },
   {
    "duration": 142,
    "start_time": "2023-09-01T21:13:11.737Z"
   },
   {
    "duration": 98,
    "start_time": "2023-09-01T21:13:11.881Z"
   },
   {
    "duration": 154,
    "start_time": "2023-09-01T21:13:11.981Z"
   },
   {
    "duration": 255,
    "start_time": "2023-09-01T21:13:12.136Z"
   },
   {
    "duration": 7,
    "start_time": "2023-09-01T21:13:12.393Z"
   },
   {
    "duration": 923,
    "start_time": "2023-09-01T21:13:12.402Z"
   },
   {
    "duration": 156,
    "start_time": "2023-09-01T21:13:13.328Z"
   },
   {
    "duration": 158,
    "start_time": "2023-09-01T21:13:13.486Z"
   },
   {
    "duration": 7,
    "start_time": "2023-09-01T21:13:13.646Z"
   },
   {
    "duration": 106,
    "start_time": "2023-09-01T21:13:13.655Z"
   },
   {
    "duration": 761,
    "start_time": "2023-09-01T21:13:13.763Z"
   },
   {
    "duration": 173,
    "start_time": "2023-09-01T21:13:14.525Z"
   },
   {
    "duration": 3,
    "start_time": "2023-09-01T21:13:14.700Z"
   },
   {
    "duration": 39,
    "start_time": "2023-09-01T21:13:14.704Z"
   },
   {
    "duration": 34,
    "start_time": "2023-09-01T21:13:14.745Z"
   },
   {
    "duration": 8,
    "start_time": "2023-09-01T21:13:14.781Z"
   },
   {
    "duration": 17,
    "start_time": "2023-09-01T21:13:14.790Z"
   },
   {
    "duration": 13,
    "start_time": "2023-09-01T21:13:14.809Z"
   },
   {
    "duration": 14,
    "start_time": "2023-09-01T21:13:14.824Z"
   },
   {
    "duration": 30,
    "start_time": "2023-09-01T21:13:14.839Z"
   },
   {
    "duration": 755,
    "start_time": "2023-09-01T21:13:14.870Z"
   },
   {
    "duration": 4,
    "start_time": "2023-09-01T21:13:15.627Z"
   },
   {
    "duration": 433,
    "start_time": "2023-09-01T21:13:15.633Z"
   },
   {
    "duration": 3,
    "start_time": "2023-09-01T21:13:16.067Z"
   },
   {
    "duration": 5499,
    "start_time": "2023-09-01T21:13:16.073Z"
   },
   {
    "duration": 2,
    "start_time": "2023-09-01T21:13:21.574Z"
   },
   {
    "duration": 2552,
    "start_time": "2023-09-01T21:13:21.578Z"
   },
   {
    "duration": 7,
    "start_time": "2023-09-01T21:13:24.132Z"
   },
   {
    "duration": 86,
    "start_time": "2023-09-01T21:13:24.141Z"
   },
   {
    "duration": 95,
    "start_time": "2023-09-01T21:13:24.231Z"
   },
   {
    "duration": 1521,
    "start_time": "2023-09-01T21:34:26.052Z"
   },
   {
    "duration": 143,
    "start_time": "2023-09-01T21:34:27.576Z"
   },
   {
    "duration": 10,
    "start_time": "2023-09-01T21:34:27.720Z"
   },
   {
    "duration": 5,
    "start_time": "2023-09-01T21:34:27.732Z"
   },
   {
    "duration": 6,
    "start_time": "2023-09-01T21:34:27.738Z"
   },
   {
    "duration": 42,
    "start_time": "2023-09-01T21:34:27.746Z"
   },
   {
    "duration": 224,
    "start_time": "2023-09-01T21:34:27.790Z"
   },
   {
    "duration": 7,
    "start_time": "2023-09-01T21:34:28.016Z"
   },
   {
    "duration": 858,
    "start_time": "2023-09-01T21:34:28.024Z"
   },
   {
    "duration": 130,
    "start_time": "2023-09-01T21:34:28.885Z"
   },
   {
    "duration": 153,
    "start_time": "2023-09-01T21:34:29.017Z"
   },
   {
    "duration": 8,
    "start_time": "2023-09-01T21:34:29.172Z"
   },
   {
    "duration": 6,
    "start_time": "2023-09-01T21:34:29.182Z"
   },
   {
    "duration": 721,
    "start_time": "2023-09-01T21:34:29.190Z"
   },
   {
    "duration": 173,
    "start_time": "2023-09-01T21:34:29.913Z"
   },
   {
    "duration": 4,
    "start_time": "2023-09-01T21:34:30.088Z"
   },
   {
    "duration": 74,
    "start_time": "2023-09-01T21:34:30.094Z"
   },
   {
    "duration": 75,
    "start_time": "2023-09-01T21:34:30.169Z"
   },
   {
    "duration": 17,
    "start_time": "2023-09-01T21:34:30.245Z"
   },
   {
    "duration": 39,
    "start_time": "2023-09-01T21:34:30.263Z"
   },
   {
    "duration": 21,
    "start_time": "2023-09-01T21:34:30.303Z"
   },
   {
    "duration": 20,
    "start_time": "2023-09-01T21:34:30.325Z"
   },
   {
    "duration": 18,
    "start_time": "2023-09-01T21:34:30.347Z"
   },
   {
    "duration": 986,
    "start_time": "2023-09-01T21:34:30.366Z"
   },
   {
    "duration": 3,
    "start_time": "2023-09-01T21:34:31.354Z"
   },
   {
    "duration": 403,
    "start_time": "2023-09-01T21:34:31.446Z"
   },
   {
    "duration": 3,
    "start_time": "2023-09-01T21:34:31.850Z"
   },
   {
    "duration": 5231,
    "start_time": "2023-09-01T21:34:31.856Z"
   },
   {
    "duration": 4,
    "start_time": "2023-09-01T21:34:37.089Z"
   },
   {
    "duration": 8750,
    "start_time": "2023-09-01T21:34:37.095Z"
   },
   {
    "duration": 8,
    "start_time": "2023-09-01T21:34:45.847Z"
   },
   {
    "duration": 13,
    "start_time": "2023-09-01T21:34:45.857Z"
   },
   {
    "duration": 5,
    "start_time": "2023-09-01T21:34:46.043Z"
   }
  ],
  "kernelspec": {
   "display_name": "Python 3 (ipykernel)",
   "language": "python",
   "name": "python3"
  },
  "language_info": {
   "codemirror_mode": {
    "name": "ipython",
    "version": 3
   },
   "file_extension": ".py",
   "mimetype": "text/x-python",
   "name": "python",
   "nbconvert_exporter": "python",
   "pygments_lexer": "ipython3",
   "version": "3.9.18"
  },
  "toc": {
   "base_numbering": 1,
   "nav_menu": {},
   "number_sections": true,
   "sideBar": true,
   "skip_h1_title": true,
   "title_cell": "Содержание",
   "title_sidebar": "Contents",
   "toc_cell": true,
   "toc_position": {
    "height": "calc(100% - 180px)",
    "left": "10px",
    "top": "150px",
    "width": "301.594px"
   },
   "toc_section_display": true,
   "toc_window_display": true
  }
 },
 "nbformat": 4,
 "nbformat_minor": 4
}
