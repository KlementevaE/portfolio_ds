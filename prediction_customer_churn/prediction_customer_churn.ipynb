{
 "cells": [
  {
   "cell_type": "markdown",
   "metadata": {},
   "source": [
    "# Прогнозирование оттока клиентов банка"
   ]
  },
  {
   "cell_type": "markdown",
   "metadata": {},
   "source": [
    "Из банка стали уходить клиенты. Каждый месяц. Немного, но заметно. Банковские маркетологи посчитали: сохранять текущих клиентов дешевле, чем привлекать новых. Нужно спрогнозировать, уйдёт клиент из банка в ближайшее время или нет. \n",
    "В распоряжении имеются исторические данные о поведении клиентов и расторжении договоров с банком и содержат следующие <b>признаки</b>:\n",
    "- `RowNumber` — индекс строки в данных;\n",
    "- `CustomerId` — уникальный идентификатор клиента;\n",
    "- `Surname` — фамилия;\n",
    "- `CreditScore` — кредитный рейтинг;\n",
    "- `Geography` — страна проживания;\n",
    "- `Gender` — пол;\n",
    "- `Age` — возраст;\n",
    "- `Tenure` — сколько лет человек является клиентом банка;\n",
    "- `Balance` — баланс на счёте;\n",
    "- `NumOfProducts` — количество продуктов банка, используемых клиентом;\n",
    "- `HasCrCard` — наличие кредитной карты;\n",
    "- `IsActiveMember` — активность клиента;\n",
    "- `EstimatedSalary` — предполагаемая зарплата;\n",
    "\n",
    "Exited — факт ухода клиента\n",
    "\n",
    "и <b>целевой признак</b>:\n",
    "- `Exited` — факт ухода клиента.\n",
    "\n",
    "Примечания:\n",
    "- Для оценки качества моделей необходимо применять метрику *F1*-меры.\n",
    "- Дополнительно необходимо измерять *AUC-ROC*, сравнивайте её значение с *F1*-мерой.\n",
    "\n",
    "\n",
    "Источник данных: [https://www.kaggle.com/barelydedicated/bank-customer-churn-modeling](https://www.kaggle.com/barelydedicated/bank-customer-churn-modeling)"
   ]
  },
  {
   "cell_type": "markdown",
   "metadata": {},
   "source": [
    "Импорт необходимых библиотек:"
   ]
  },
  {
   "cell_type": "code",
   "execution_count": 313,
   "metadata": {},
   "outputs": [],
   "source": [
    "import numpy as np\n",
    "import optuna\n",
    "import pandas as pd\n",
    "import phik\n",
    "import re\n",
    "\n",
    "from imblearn.combine import SMOTETomek\n",
    "from imblearn.over_sampling import SMOTE\n",
    "from imblearn.under_sampling import TomekLinks\n",
    "from imblearn.pipeline import Pipeline\n",
    "\n",
    "from matplotlib import pyplot as plt\n",
    "from sklearn.compose import make_column_transformer\n",
    "from sklearn.ensemble import RandomForestClassifier\n",
    "from sklearn.linear_model import LogisticRegression\n",
    "from sklearn.metrics import f1_score, roc_auc_score\n",
    "from sklearn.model_selection import cross_val_score, train_test_split\n",
    "from sklearn.pipeline import make_pipeline\n",
    "from sklearn.preprocessing import OneHotEncoder, StandardScaler\n",
    "from sklearn.tree import DecisionTreeClassifier\n",
    "from sklearn.utils import shuffle"
   ]
  },
  {
   "cell_type": "markdown",
   "metadata": {},
   "source": [
    "## 1. Подготовка данных"
   ]
  },
  {
   "cell_type": "markdown",
   "metadata": {},
   "source": [
    "### 1.1. Загрузка данных и вывод основной информации"
   ]
  },
  {
   "cell_type": "markdown",
   "metadata": {},
   "source": [
    "Чтение csv-файла и сохранение в переменную data"
   ]
  },
  {
   "cell_type": "code",
   "execution_count": 314,
   "metadata": {},
   "outputs": [],
   "source": [
    "data = pd.read_csv('churn.csv')"
   ]
  },
  {
   "cell_type": "code",
   "execution_count": 315,
   "metadata": {
    "scrolled": true
   },
   "outputs": [],
   "source": [
    "# Функция, выводящая основную информацию о датафрейме\n",
    "def about_df(data, size=5):\n",
    "    print(f'Вывод первых {size} строк датафрейма:')\n",
    "    pd.set_option('display.max_columns', 30)\n",
    "    display(data.head(size))\n",
    "    print('\\nВывод основной информации о датафрейме:')\n",
    "    data.info()\n",
    "    print('\\nКоличество пропусков в датафрейме:')\n",
    "    print(pd.DataFrame(np.array([data.isna().sum(), data.isna().mean()*100]).T, \n",
    "                                columns=['количество пропусков', 'доля пропусков, %'], index=data.columns))\n",
    "    print(f'\\nСуммарное количество пропусков в датафрейме: {data.isna().sum().sum()}, '\n",
    "          + f'доля пропусков: {round(data.isna().mean().sum()*100, 2)} %')\n",
    "    display(data.describe())\n",
    "    print('\\n')\n",
    "    for categ in data.columns[data.dtypes == 'object']:\n",
    "        print(f'Уникальные значения столбца {categ}: {(data[categ].unique())}\\n')"
   ]
  },
  {
   "cell_type": "code",
   "execution_count": 316,
   "metadata": {},
   "outputs": [
    {
     "name": "stdout",
     "output_type": "stream",
     "text": [
      "Вывод первых 5 строк датафрейма:\n"
     ]
    },
    {
     "data": {
      "text/html": [
       "<div>\n",
       "<style scoped>\n",
       "    .dataframe tbody tr th:only-of-type {\n",
       "        vertical-align: middle;\n",
       "    }\n",
       "\n",
       "    .dataframe tbody tr th {\n",
       "        vertical-align: top;\n",
       "    }\n",
       "\n",
       "    .dataframe thead th {\n",
       "        text-align: right;\n",
       "    }\n",
       "</style>\n",
       "<table border=\"1\" class=\"dataframe\">\n",
       "  <thead>\n",
       "    <tr style=\"text-align: right;\">\n",
       "      <th></th>\n",
       "      <th>RowNumber</th>\n",
       "      <th>CustomerId</th>\n",
       "      <th>Surname</th>\n",
       "      <th>CreditScore</th>\n",
       "      <th>Geography</th>\n",
       "      <th>Gender</th>\n",
       "      <th>Age</th>\n",
       "      <th>Tenure</th>\n",
       "      <th>Balance</th>\n",
       "      <th>NumOfProducts</th>\n",
       "      <th>HasCrCard</th>\n",
       "      <th>IsActiveMember</th>\n",
       "      <th>EstimatedSalary</th>\n",
       "      <th>Exited</th>\n",
       "    </tr>\n",
       "  </thead>\n",
       "  <tbody>\n",
       "    <tr>\n",
       "      <th>0</th>\n",
       "      <td>1</td>\n",
       "      <td>15634602</td>\n",
       "      <td>Hargrave</td>\n",
       "      <td>619</td>\n",
       "      <td>France</td>\n",
       "      <td>Female</td>\n",
       "      <td>42</td>\n",
       "      <td>2.0</td>\n",
       "      <td>0.00</td>\n",
       "      <td>1</td>\n",
       "      <td>1</td>\n",
       "      <td>1</td>\n",
       "      <td>101348.88</td>\n",
       "      <td>1</td>\n",
       "    </tr>\n",
       "    <tr>\n",
       "      <th>1</th>\n",
       "      <td>2</td>\n",
       "      <td>15647311</td>\n",
       "      <td>Hill</td>\n",
       "      <td>608</td>\n",
       "      <td>Spain</td>\n",
       "      <td>Female</td>\n",
       "      <td>41</td>\n",
       "      <td>1.0</td>\n",
       "      <td>83807.86</td>\n",
       "      <td>1</td>\n",
       "      <td>0</td>\n",
       "      <td>1</td>\n",
       "      <td>112542.58</td>\n",
       "      <td>0</td>\n",
       "    </tr>\n",
       "    <tr>\n",
       "      <th>2</th>\n",
       "      <td>3</td>\n",
       "      <td>15619304</td>\n",
       "      <td>Onio</td>\n",
       "      <td>502</td>\n",
       "      <td>France</td>\n",
       "      <td>Female</td>\n",
       "      <td>42</td>\n",
       "      <td>8.0</td>\n",
       "      <td>159660.80</td>\n",
       "      <td>3</td>\n",
       "      <td>1</td>\n",
       "      <td>0</td>\n",
       "      <td>113931.57</td>\n",
       "      <td>1</td>\n",
       "    </tr>\n",
       "    <tr>\n",
       "      <th>3</th>\n",
       "      <td>4</td>\n",
       "      <td>15701354</td>\n",
       "      <td>Boni</td>\n",
       "      <td>699</td>\n",
       "      <td>France</td>\n",
       "      <td>Female</td>\n",
       "      <td>39</td>\n",
       "      <td>1.0</td>\n",
       "      <td>0.00</td>\n",
       "      <td>2</td>\n",
       "      <td>0</td>\n",
       "      <td>0</td>\n",
       "      <td>93826.63</td>\n",
       "      <td>0</td>\n",
       "    </tr>\n",
       "    <tr>\n",
       "      <th>4</th>\n",
       "      <td>5</td>\n",
       "      <td>15737888</td>\n",
       "      <td>Mitchell</td>\n",
       "      <td>850</td>\n",
       "      <td>Spain</td>\n",
       "      <td>Female</td>\n",
       "      <td>43</td>\n",
       "      <td>2.0</td>\n",
       "      <td>125510.82</td>\n",
       "      <td>1</td>\n",
       "      <td>1</td>\n",
       "      <td>1</td>\n",
       "      <td>79084.10</td>\n",
       "      <td>0</td>\n",
       "    </tr>\n",
       "  </tbody>\n",
       "</table>\n",
       "</div>"
      ],
      "text/plain": [
       "   RowNumber  CustomerId   Surname  CreditScore Geography  Gender  Age  \\\n",
       "0          1    15634602  Hargrave          619    France  Female   42   \n",
       "1          2    15647311      Hill          608     Spain  Female   41   \n",
       "2          3    15619304      Onio          502    France  Female   42   \n",
       "3          4    15701354      Boni          699    France  Female   39   \n",
       "4          5    15737888  Mitchell          850     Spain  Female   43   \n",
       "\n",
       "   Tenure    Balance  NumOfProducts  HasCrCard  IsActiveMember  \\\n",
       "0     2.0       0.00              1          1               1   \n",
       "1     1.0   83807.86              1          0               1   \n",
       "2     8.0  159660.80              3          1               0   \n",
       "3     1.0       0.00              2          0               0   \n",
       "4     2.0  125510.82              1          1               1   \n",
       "\n",
       "   EstimatedSalary  Exited  \n",
       "0        101348.88       1  \n",
       "1        112542.58       0  \n",
       "2        113931.57       1  \n",
       "3         93826.63       0  \n",
       "4         79084.10       0  "
      ]
     },
     "metadata": {},
     "output_type": "display_data"
    },
    {
     "name": "stdout",
     "output_type": "stream",
     "text": [
      "\n",
      "Вывод основной информации о датафрейме:\n",
      "<class 'pandas.core.frame.DataFrame'>\n",
      "RangeIndex: 10000 entries, 0 to 9999\n",
      "Data columns (total 14 columns):\n",
      " #   Column           Non-Null Count  Dtype  \n",
      "---  ------           --------------  -----  \n",
      " 0   RowNumber        10000 non-null  int64  \n",
      " 1   CustomerId       10000 non-null  int64  \n",
      " 2   Surname          10000 non-null  object \n",
      " 3   CreditScore      10000 non-null  int64  \n",
      " 4   Geography        10000 non-null  object \n",
      " 5   Gender           10000 non-null  object \n",
      " 6   Age              10000 non-null  int64  \n",
      " 7   Tenure           9091 non-null   float64\n",
      " 8   Balance          10000 non-null  float64\n",
      " 9   NumOfProducts    10000 non-null  int64  \n",
      " 10  HasCrCard        10000 non-null  int64  \n",
      " 11  IsActiveMember   10000 non-null  int64  \n",
      " 12  EstimatedSalary  10000 non-null  float64\n",
      " 13  Exited           10000 non-null  int64  \n",
      "dtypes: float64(3), int64(8), object(3)\n",
      "memory usage: 1.1+ MB\n",
      "\n",
      "Количество пропусков в датафрейме:\n",
      "                 количество пропусков  доля пропусков, %\n",
      "RowNumber                         0.0               0.00\n",
      "CustomerId                        0.0               0.00\n",
      "Surname                           0.0               0.00\n",
      "CreditScore                       0.0               0.00\n",
      "Geography                         0.0               0.00\n",
      "Gender                            0.0               0.00\n",
      "Age                               0.0               0.00\n",
      "Tenure                          909.0               9.09\n",
      "Balance                           0.0               0.00\n",
      "NumOfProducts                     0.0               0.00\n",
      "HasCrCard                         0.0               0.00\n",
      "IsActiveMember                    0.0               0.00\n",
      "EstimatedSalary                   0.0               0.00\n",
      "Exited                            0.0               0.00\n",
      "\n",
      "Суммарное количество пропусков в датафрейме: 909, доля пропусков: 9.09 %\n"
     ]
    },
    {
     "data": {
      "text/html": [
       "<div>\n",
       "<style scoped>\n",
       "    .dataframe tbody tr th:only-of-type {\n",
       "        vertical-align: middle;\n",
       "    }\n",
       "\n",
       "    .dataframe tbody tr th {\n",
       "        vertical-align: top;\n",
       "    }\n",
       "\n",
       "    .dataframe thead th {\n",
       "        text-align: right;\n",
       "    }\n",
       "</style>\n",
       "<table border=\"1\" class=\"dataframe\">\n",
       "  <thead>\n",
       "    <tr style=\"text-align: right;\">\n",
       "      <th></th>\n",
       "      <th>RowNumber</th>\n",
       "      <th>CustomerId</th>\n",
       "      <th>CreditScore</th>\n",
       "      <th>Age</th>\n",
       "      <th>Tenure</th>\n",
       "      <th>Balance</th>\n",
       "      <th>NumOfProducts</th>\n",
       "      <th>HasCrCard</th>\n",
       "      <th>IsActiveMember</th>\n",
       "      <th>EstimatedSalary</th>\n",
       "      <th>Exited</th>\n",
       "    </tr>\n",
       "  </thead>\n",
       "  <tbody>\n",
       "    <tr>\n",
       "      <th>count</th>\n",
       "      <td>10000.00000</td>\n",
       "      <td>1.000000e+04</td>\n",
       "      <td>10000.000000</td>\n",
       "      <td>10000.000000</td>\n",
       "      <td>9091.000000</td>\n",
       "      <td>10000.000000</td>\n",
       "      <td>10000.000000</td>\n",
       "      <td>10000.00000</td>\n",
       "      <td>10000.000000</td>\n",
       "      <td>10000.000000</td>\n",
       "      <td>10000.000000</td>\n",
       "    </tr>\n",
       "    <tr>\n",
       "      <th>mean</th>\n",
       "      <td>5000.50000</td>\n",
       "      <td>1.569094e+07</td>\n",
       "      <td>650.528800</td>\n",
       "      <td>38.921800</td>\n",
       "      <td>4.997690</td>\n",
       "      <td>76485.889288</td>\n",
       "      <td>1.530200</td>\n",
       "      <td>0.70550</td>\n",
       "      <td>0.515100</td>\n",
       "      <td>100090.239881</td>\n",
       "      <td>0.203700</td>\n",
       "    </tr>\n",
       "    <tr>\n",
       "      <th>std</th>\n",
       "      <td>2886.89568</td>\n",
       "      <td>7.193619e+04</td>\n",
       "      <td>96.653299</td>\n",
       "      <td>10.487806</td>\n",
       "      <td>2.894723</td>\n",
       "      <td>62397.405202</td>\n",
       "      <td>0.581654</td>\n",
       "      <td>0.45584</td>\n",
       "      <td>0.499797</td>\n",
       "      <td>57510.492818</td>\n",
       "      <td>0.402769</td>\n",
       "    </tr>\n",
       "    <tr>\n",
       "      <th>min</th>\n",
       "      <td>1.00000</td>\n",
       "      <td>1.556570e+07</td>\n",
       "      <td>350.000000</td>\n",
       "      <td>18.000000</td>\n",
       "      <td>0.000000</td>\n",
       "      <td>0.000000</td>\n",
       "      <td>1.000000</td>\n",
       "      <td>0.00000</td>\n",
       "      <td>0.000000</td>\n",
       "      <td>11.580000</td>\n",
       "      <td>0.000000</td>\n",
       "    </tr>\n",
       "    <tr>\n",
       "      <th>25%</th>\n",
       "      <td>2500.75000</td>\n",
       "      <td>1.562853e+07</td>\n",
       "      <td>584.000000</td>\n",
       "      <td>32.000000</td>\n",
       "      <td>2.000000</td>\n",
       "      <td>0.000000</td>\n",
       "      <td>1.000000</td>\n",
       "      <td>0.00000</td>\n",
       "      <td>0.000000</td>\n",
       "      <td>51002.110000</td>\n",
       "      <td>0.000000</td>\n",
       "    </tr>\n",
       "    <tr>\n",
       "      <th>50%</th>\n",
       "      <td>5000.50000</td>\n",
       "      <td>1.569074e+07</td>\n",
       "      <td>652.000000</td>\n",
       "      <td>37.000000</td>\n",
       "      <td>5.000000</td>\n",
       "      <td>97198.540000</td>\n",
       "      <td>1.000000</td>\n",
       "      <td>1.00000</td>\n",
       "      <td>1.000000</td>\n",
       "      <td>100193.915000</td>\n",
       "      <td>0.000000</td>\n",
       "    </tr>\n",
       "    <tr>\n",
       "      <th>75%</th>\n",
       "      <td>7500.25000</td>\n",
       "      <td>1.575323e+07</td>\n",
       "      <td>718.000000</td>\n",
       "      <td>44.000000</td>\n",
       "      <td>7.000000</td>\n",
       "      <td>127644.240000</td>\n",
       "      <td>2.000000</td>\n",
       "      <td>1.00000</td>\n",
       "      <td>1.000000</td>\n",
       "      <td>149388.247500</td>\n",
       "      <td>0.000000</td>\n",
       "    </tr>\n",
       "    <tr>\n",
       "      <th>max</th>\n",
       "      <td>10000.00000</td>\n",
       "      <td>1.581569e+07</td>\n",
       "      <td>850.000000</td>\n",
       "      <td>92.000000</td>\n",
       "      <td>10.000000</td>\n",
       "      <td>250898.090000</td>\n",
       "      <td>4.000000</td>\n",
       "      <td>1.00000</td>\n",
       "      <td>1.000000</td>\n",
       "      <td>199992.480000</td>\n",
       "      <td>1.000000</td>\n",
       "    </tr>\n",
       "  </tbody>\n",
       "</table>\n",
       "</div>"
      ],
      "text/plain": [
       "         RowNumber    CustomerId   CreditScore           Age       Tenure  \\\n",
       "count  10000.00000  1.000000e+04  10000.000000  10000.000000  9091.000000   \n",
       "mean    5000.50000  1.569094e+07    650.528800     38.921800     4.997690   \n",
       "std     2886.89568  7.193619e+04     96.653299     10.487806     2.894723   \n",
       "min        1.00000  1.556570e+07    350.000000     18.000000     0.000000   \n",
       "25%     2500.75000  1.562853e+07    584.000000     32.000000     2.000000   \n",
       "50%     5000.50000  1.569074e+07    652.000000     37.000000     5.000000   \n",
       "75%     7500.25000  1.575323e+07    718.000000     44.000000     7.000000   \n",
       "max    10000.00000  1.581569e+07    850.000000     92.000000    10.000000   \n",
       "\n",
       "             Balance  NumOfProducts    HasCrCard  IsActiveMember  \\\n",
       "count   10000.000000   10000.000000  10000.00000    10000.000000   \n",
       "mean    76485.889288       1.530200      0.70550        0.515100   \n",
       "std     62397.405202       0.581654      0.45584        0.499797   \n",
       "min         0.000000       1.000000      0.00000        0.000000   \n",
       "25%         0.000000       1.000000      0.00000        0.000000   \n",
       "50%     97198.540000       1.000000      1.00000        1.000000   \n",
       "75%    127644.240000       2.000000      1.00000        1.000000   \n",
       "max    250898.090000       4.000000      1.00000        1.000000   \n",
       "\n",
       "       EstimatedSalary        Exited  \n",
       "count     10000.000000  10000.000000  \n",
       "mean     100090.239881      0.203700  \n",
       "std       57510.492818      0.402769  \n",
       "min          11.580000      0.000000  \n",
       "25%       51002.110000      0.000000  \n",
       "50%      100193.915000      0.000000  \n",
       "75%      149388.247500      0.000000  \n",
       "max      199992.480000      1.000000  "
      ]
     },
     "metadata": {},
     "output_type": "display_data"
    },
    {
     "name": "stdout",
     "output_type": "stream",
     "text": [
      "\n",
      "\n",
      "Уникальные значения столбца Surname: ['Hargrave' 'Hill' 'Onio' ... 'Kashiwagi' 'Aldridge' 'Burbidge']\n",
      "\n",
      "Уникальные значения столбца Geography: ['France' 'Spain' 'Germany']\n",
      "\n",
      "Уникальные значения столбца Gender: ['Female' 'Male']\n",
      "\n"
     ]
    }
   ],
   "source": [
    "about_df(data)"
   ]
  },
  {
   "cell_type": "markdown",
   "metadata": {},
   "source": [
    "<b>Вывод:</b>\n",
    "- датафрейм содержит 10000 строк и 14 столбцов;\n",
    "- заголовки стобцов записаны в стиле Camel Case;\n",
    "- столбец Gender имеет тип object;\n",
    "- столбец Tenure (сколько лет человек является клиентом банка) содержит 909 пропущенных значений(9% от всех данных);\n",
    "- столбец Exited - категориальный целевой признак (target), что соответствует задачи классификации;\n",
    "- столбцы CreditScore, Geography, Gender, Age, Tenure, Balance, NumOfProducts, HasCrCard, IsActiveMember, EstimatedSalary являются признаками для обучения (features);\n",
    "- столбцы RowNumber, CustomerId, Surname не являются информативными для целей нашего исследования."
   ]
  },
  {
   "cell_type": "markdown",
   "metadata": {},
   "source": [
    "### 1.2. Предобработка данных"
   ]
  },
  {
   "cell_type": "markdown",
   "metadata": {},
   "source": [
    "#### 1.2.1. Изменение стиля заголовков столбцов"
   ]
  },
  {
   "cell_type": "markdown",
   "metadata": {},
   "source": [
    "Изменим стиль заголовков столбцов на Snake Case"
   ]
  },
  {
   "cell_type": "code",
   "execution_count": 317,
   "metadata": {
    "scrolled": true
   },
   "outputs": [],
   "source": [
    "# Функция, изменяющая стиль заголовка из Camel Case в Snake Case\n",
    "def camel_to_snake(string):\n",
    "    string = re.sub('(.)([A-Z][a-z]+)', r'\\1_\\2', string)\n",
    "    string = re.sub('(.)([0-9]+)', r'\\1_\\2', string)\n",
    "    return re.sub('([a-z0-9])([A-Z])', r'\\1_\\2', string).lower()\n",
    "new_name = []\n",
    "for i in data.columns:\n",
    "    new_name.append(camel_to_snake(i))\n",
    "data = data.rename(columns=dict(zip(data.columns, new_name)))"
   ]
  },
  {
   "cell_type": "markdown",
   "metadata": {},
   "source": [
    "Проверка изменения стиля заголовков столбцов:"
   ]
  },
  {
   "cell_type": "code",
   "execution_count": 318,
   "metadata": {
    "scrolled": true
   },
   "outputs": [
    {
     "data": {
      "text/plain": [
       "Index(['row_number', 'customer_id', 'surname', 'credit_score', 'geography',\n",
       "       'gender', 'age', 'tenure', 'balance', 'num_of_products', 'has_cr_card',\n",
       "       'is_active_member', 'estimated_salary', 'exited'],\n",
       "      dtype='object')"
      ]
     },
     "execution_count": 318,
     "metadata": {},
     "output_type": "execute_result"
    }
   ],
   "source": [
    "data.columns"
   ]
  },
  {
   "cell_type": "markdown",
   "metadata": {},
   "source": [
    "#### 1.2.2. Обработка пропущенных значений"
   ]
  },
  {
   "cell_type": "markdown",
   "metadata": {},
   "source": [
    "Так как доля пропущенных значений в столбце tenure составляет небольшую часть от всех данных (9%), удалим их:"
   ]
  },
  {
   "cell_type": "code",
   "execution_count": 319,
   "metadata": {},
   "outputs": [
    {
     "data": {
      "text/plain": [
       "9091"
      ]
     },
     "execution_count": 319,
     "metadata": {},
     "output_type": "execute_result"
    }
   ],
   "source": [
    "data = data.dropna(subset=['tenure']).reset_index(drop=True)\n",
    "data.shape[0]"
   ]
  },
  {
   "cell_type": "markdown",
   "metadata": {},
   "source": [
    "#### 1.2.3. Обработка дубликатов"
   ]
  },
  {
   "cell_type": "markdown",
   "metadata": {},
   "source": [
    "Поиск явных дубликатов в датафрейме"
   ]
  },
  {
   "cell_type": "code",
   "execution_count": 320,
   "metadata": {},
   "outputs": [
    {
     "data": {
      "text/plain": [
       "0"
      ]
     },
     "execution_count": 320,
     "metadata": {},
     "output_type": "execute_result"
    }
   ],
   "source": [
    "data.duplicated().sum()"
   ]
  },
  {
   "cell_type": "markdown",
   "metadata": {},
   "source": [
    "Поиск неявных дубликатов в датафрейме:"
   ]
  },
  {
   "cell_type": "code",
   "execution_count": 321,
   "metadata": {
    "scrolled": true
   },
   "outputs": [
    {
     "data": {
      "text/html": [
       "<div>\n",
       "<style scoped>\n",
       "    .dataframe tbody tr th:only-of-type {\n",
       "        vertical-align: middle;\n",
       "    }\n",
       "\n",
       "    .dataframe tbody tr th {\n",
       "        vertical-align: top;\n",
       "    }\n",
       "\n",
       "    .dataframe thead th {\n",
       "        text-align: right;\n",
       "    }\n",
       "</style>\n",
       "<table border=\"1\" class=\"dataframe\">\n",
       "  <thead>\n",
       "    <tr style=\"text-align: right;\">\n",
       "      <th></th>\n",
       "      <th>row_number</th>\n",
       "      <th>customer_id</th>\n",
       "      <th>surname</th>\n",
       "      <th>credit_score</th>\n",
       "      <th>geography</th>\n",
       "      <th>gender</th>\n",
       "      <th>age</th>\n",
       "      <th>tenure</th>\n",
       "      <th>balance</th>\n",
       "      <th>num_of_products</th>\n",
       "      <th>has_cr_card</th>\n",
       "      <th>is_active_member</th>\n",
       "      <th>estimated_salary</th>\n",
       "      <th>exited</th>\n",
       "    </tr>\n",
       "  </thead>\n",
       "  <tbody>\n",
       "  </tbody>\n",
       "</table>\n",
       "</div>"
      ],
      "text/plain": [
       "Empty DataFrame\n",
       "Columns: [row_number, customer_id, surname, credit_score, geography, gender, age, tenure, balance, num_of_products, has_cr_card, is_active_member, estimated_salary, exited]\n",
       "Index: []"
      ]
     },
     "execution_count": 321,
     "metadata": {},
     "output_type": "execute_result"
    }
   ],
   "source": [
    "data[data[['surname', 'geography', 'gender', 'age', 'tenure', 'balance', 'estimated_salary']].\n",
    "     duplicated(keep=False)].sort_values(by='surname')"
   ]
  },
  {
   "cell_type": "markdown",
   "metadata": {},
   "source": [
    "#### Обработка аномальныз значений"
   ]
  },
  {
   "cell_type": "markdown",
   "metadata": {},
   "source": [
    "Вывод количество значений столбца tenure:"
   ]
  },
  {
   "cell_type": "code",
   "execution_count": 322,
   "metadata": {},
   "outputs": [
    {
     "data": {
      "text/plain": [
       "1.0     952\n",
       "2.0     950\n",
       "8.0     933\n",
       "3.0     928\n",
       "5.0     927\n",
       "7.0     925\n",
       "4.0     885\n",
       "9.0     882\n",
       "6.0     881\n",
       "10.0    446\n",
       "0.0     382\n",
       "Name: tenure, dtype: int64"
      ]
     },
     "execution_count": 322,
     "metadata": {},
     "output_type": "execute_result"
    }
   ],
   "source": [
    "data['tenure'].value_counts()"
   ]
  },
  {
   "cell_type": "markdown",
   "metadata": {},
   "source": [
    "Вывод уникальных значений столбца has_cr_card:"
   ]
  },
  {
   "cell_type": "code",
   "execution_count": 323,
   "metadata": {
    "scrolled": true
   },
   "outputs": [
    {
     "data": {
      "text/plain": [
       "array([1, 0])"
      ]
     },
     "execution_count": 323,
     "metadata": {},
     "output_type": "execute_result"
    }
   ],
   "source": [
    "data['has_cr_card'].unique()"
   ]
  },
  {
   "cell_type": "markdown",
   "metadata": {},
   "source": [
    "Вывод уникальных значений столбца is_active_member:"
   ]
  },
  {
   "cell_type": "code",
   "execution_count": 324,
   "metadata": {},
   "outputs": [
    {
     "data": {
      "text/plain": [
       "array([1, 0])"
      ]
     },
     "execution_count": 324,
     "metadata": {},
     "output_type": "execute_result"
    }
   ],
   "source": [
    "data['is_active_member'].unique()"
   ]
  },
  {
   "cell_type": "markdown",
   "metadata": {},
   "source": [
    "Выведем строки со значением estimated_salary менее 100:"
   ]
  },
  {
   "cell_type": "code",
   "execution_count": 325,
   "metadata": {
    "scrolled": true
   },
   "outputs": [
    {
     "data": {
      "text/html": [
       "<div>\n",
       "<style scoped>\n",
       "    .dataframe tbody tr th:only-of-type {\n",
       "        vertical-align: middle;\n",
       "    }\n",
       "\n",
       "    .dataframe tbody tr th {\n",
       "        vertical-align: top;\n",
       "    }\n",
       "\n",
       "    .dataframe thead th {\n",
       "        text-align: right;\n",
       "    }\n",
       "</style>\n",
       "<table border=\"1\" class=\"dataframe\">\n",
       "  <thead>\n",
       "    <tr style=\"text-align: right;\">\n",
       "      <th></th>\n",
       "      <th>row_number</th>\n",
       "      <th>customer_id</th>\n",
       "      <th>surname</th>\n",
       "      <th>credit_score</th>\n",
       "      <th>geography</th>\n",
       "      <th>gender</th>\n",
       "      <th>age</th>\n",
       "      <th>tenure</th>\n",
       "      <th>balance</th>\n",
       "      <th>num_of_products</th>\n",
       "      <th>has_cr_card</th>\n",
       "      <th>is_active_member</th>\n",
       "      <th>estimated_salary</th>\n",
       "      <th>exited</th>\n",
       "    </tr>\n",
       "  </thead>\n",
       "  <tbody>\n",
       "    <tr>\n",
       "      <th>2129</th>\n",
       "      <td>2363</td>\n",
       "      <td>15791053</td>\n",
       "      <td>Lucciano</td>\n",
       "      <td>709</td>\n",
       "      <td>Germany</td>\n",
       "      <td>Male</td>\n",
       "      <td>45</td>\n",
       "      <td>4.0</td>\n",
       "      <td>122917.71</td>\n",
       "      <td>1</td>\n",
       "      <td>1</td>\n",
       "      <td>1</td>\n",
       "      <td>11.58</td>\n",
       "      <td>1</td>\n",
       "    </tr>\n",
       "    <tr>\n",
       "      <th>5027</th>\n",
       "      <td>5549</td>\n",
       "      <td>15639662</td>\n",
       "      <td>Phillips</td>\n",
       "      <td>710</td>\n",
       "      <td>France</td>\n",
       "      <td>Male</td>\n",
       "      <td>38</td>\n",
       "      <td>2.0</td>\n",
       "      <td>0.00</td>\n",
       "      <td>2</td>\n",
       "      <td>1</td>\n",
       "      <td>0</td>\n",
       "      <td>96.27</td>\n",
       "      <td>0</td>\n",
       "    </tr>\n",
       "    <tr>\n",
       "      <th>8184</th>\n",
       "      <td>9011</td>\n",
       "      <td>15786463</td>\n",
       "      <td>Hsing</td>\n",
       "      <td>645</td>\n",
       "      <td>Germany</td>\n",
       "      <td>Female</td>\n",
       "      <td>59</td>\n",
       "      <td>8.0</td>\n",
       "      <td>121669.93</td>\n",
       "      <td>2</td>\n",
       "      <td>0</td>\n",
       "      <td>0</td>\n",
       "      <td>91.75</td>\n",
       "      <td>1</td>\n",
       "    </tr>\n",
       "    <tr>\n",
       "      <th>8764</th>\n",
       "      <td>9648</td>\n",
       "      <td>15679693</td>\n",
       "      <td>Walker</td>\n",
       "      <td>625</td>\n",
       "      <td>France</td>\n",
       "      <td>Male</td>\n",
       "      <td>31</td>\n",
       "      <td>5.0</td>\n",
       "      <td>0.00</td>\n",
       "      <td>2</td>\n",
       "      <td>0</td>\n",
       "      <td>1</td>\n",
       "      <td>90.07</td>\n",
       "      <td>0</td>\n",
       "    </tr>\n",
       "  </tbody>\n",
       "</table>\n",
       "</div>"
      ],
      "text/plain": [
       "      row_number  customer_id   surname  credit_score geography  gender  age  \\\n",
       "2129        2363     15791053  Lucciano           709   Germany    Male   45   \n",
       "5027        5549     15639662  Phillips           710    France    Male   38   \n",
       "8184        9011     15786463     Hsing           645   Germany  Female   59   \n",
       "8764        9648     15679693    Walker           625    France    Male   31   \n",
       "\n",
       "      tenure    balance  num_of_products  has_cr_card  is_active_member  \\\n",
       "2129     4.0  122917.71                1            1                 1   \n",
       "5027     2.0       0.00                2            1                 0   \n",
       "8184     8.0  121669.93                2            0                 0   \n",
       "8764     5.0       0.00                2            0                 1   \n",
       "\n",
       "      estimated_salary  exited  \n",
       "2129             11.58       1  \n",
       "5027             96.27       0  \n",
       "8184             91.75       1  \n",
       "8764             90.07       0  "
      ]
     },
     "execution_count": 325,
     "metadata": {},
     "output_type": "execute_result"
    }
   ],
   "source": [
    "data.query('estimated_salary <= 100')"
   ]
  },
  {
   "cell_type": "markdown",
   "metadata": {},
   "source": [
    "Т.к. таких значений немного, то удалим строки, в которых estimated_salary <= 100:"
   ]
  },
  {
   "cell_type": "code",
   "execution_count": 326,
   "metadata": {},
   "outputs": [],
   "source": [
    "data = data.query('estimated_salary > 100')"
   ]
  },
  {
   "cell_type": "markdown",
   "metadata": {},
   "source": [
    "#### 1.2.4. Удаление неинформативных признаков"
   ]
  },
  {
   "cell_type": "markdown",
   "metadata": {},
   "source": [
    "Из выведенных характеристик в п. 1.1 и понимания области исследования, удалим неинформативные признаки:"
   ]
  },
  {
   "cell_type": "code",
   "execution_count": 327,
   "metadata": {},
   "outputs": [],
   "source": [
    "data_edit = data.drop(['row_number', 'customer_id', 'surname'], axis=1)"
   ]
  },
  {
   "cell_type": "markdown",
   "metadata": {},
   "source": [
    "#### 1.2.5. Проверка на мультиколлинеарность"
   ]
  },
  {
   "cell_type": "code",
   "execution_count": 328,
   "metadata": {},
   "outputs": [
    {
     "name": "stdout",
     "output_type": "stream",
     "text": [
      "interval columns not set, guessing: ['credit_score', 'age', 'tenure', 'balance', 'num_of_products', 'has_cr_card', 'is_active_member', 'estimated_salary', 'exited']\n"
     ]
    },
    {
     "data": {
      "text/html": [
       "<style  type=\"text/css\" >\n",
       "#T_005af_row0_col0,#T_005af_row1_col1,#T_005af_row2_col2,#T_005af_row3_col3,#T_005af_row4_col4,#T_005af_row5_col5,#T_005af_row6_col6,#T_005af_row7_col7,#T_005af_row8_col8,#T_005af_row9_col9,#T_005af_row10_col10{\n",
       "            background-color:  #023858;\n",
       "            color:  #f1f1f1;\n",
       "        }#T_005af_row0_col1,#T_005af_row1_col0,#T_005af_row1_col6,#T_005af_row3_col4,#T_005af_row4_col3{\n",
       "            background-color:  #f8f1f8;\n",
       "            color:  #000000;\n",
       "        }#T_005af_row0_col2,#T_005af_row0_col3,#T_005af_row0_col4,#T_005af_row0_col5,#T_005af_row2_col0,#T_005af_row2_col7,#T_005af_row3_col0,#T_005af_row4_col0,#T_005af_row4_col1,#T_005af_row4_col9,#T_005af_row5_col0,#T_005af_row5_col8,#T_005af_row5_col9,#T_005af_row6_col7,#T_005af_row7_col1,#T_005af_row7_col2,#T_005af_row7_col6,#T_005af_row7_col8,#T_005af_row7_col9,#T_005af_row7_col10,#T_005af_row8_col1,#T_005af_row8_col5,#T_005af_row8_col7,#T_005af_row9_col4,#T_005af_row9_col5,#T_005af_row9_col7,#T_005af_row9_col10,#T_005af_row10_col7,#T_005af_row10_col9{\n",
       "            background-color:  #fff7fb;\n",
       "            color:  #000000;\n",
       "        }#T_005af_row0_col6,#T_005af_row0_col8,#T_005af_row0_col9,#T_005af_row6_col0,#T_005af_row6_col1,#T_005af_row8_col0,#T_005af_row9_col0{\n",
       "            background-color:  #f9f2f8;\n",
       "            color:  #000000;\n",
       "        }#T_005af_row0_col7,#T_005af_row7_col0{\n",
       "            background-color:  #fef6fa;\n",
       "            color:  #000000;\n",
       "        }#T_005af_row0_col10,#T_005af_row10_col0{\n",
       "            background-color:  #f1ebf5;\n",
       "            color:  #000000;\n",
       "        }#T_005af_row1_col2,#T_005af_row2_col5,#T_005af_row5_col2,#T_005af_row9_col1{\n",
       "            background-color:  #fdf5fa;\n",
       "            color:  #000000;\n",
       "        }#T_005af_row1_col3{\n",
       "            background-color:  #f2ecf5;\n",
       "            color:  #000000;\n",
       "        }#T_005af_row1_col4,#T_005af_row1_col7,#T_005af_row1_col8,#T_005af_row2_col1{\n",
       "            background-color:  #fef6fb;\n",
       "            color:  #000000;\n",
       "        }#T_005af_row1_col5,#T_005af_row5_col1{\n",
       "            background-color:  #83afd3;\n",
       "            color:  #000000;\n",
       "        }#T_005af_row1_col9,#T_005af_row4_col10,#T_005af_row6_col9,#T_005af_row9_col6,#T_005af_row10_col4{\n",
       "            background-color:  #fcf4fa;\n",
       "            color:  #000000;\n",
       "        }#T_005af_row1_col10{\n",
       "            background-color:  #efe9f3;\n",
       "            color:  #000000;\n",
       "        }#T_005af_row2_col3,#T_005af_row2_col8,#T_005af_row3_col2,#T_005af_row3_col7,#T_005af_row4_col7,#T_005af_row7_col3,#T_005af_row7_col4,#T_005af_row8_col2{\n",
       "            background-color:  #faf3f9;\n",
       "            color:  #000000;\n",
       "        }#T_005af_row2_col4,#T_005af_row2_col9,#T_005af_row3_col5,#T_005af_row4_col2,#T_005af_row4_col8,#T_005af_row5_col3,#T_005af_row8_col4,#T_005af_row9_col2{\n",
       "            background-color:  #fbf3f9;\n",
       "            color:  #000000;\n",
       "        }#T_005af_row2_col6,#T_005af_row6_col2{\n",
       "            background-color:  #f5eef6;\n",
       "            color:  #000000;\n",
       "        }#T_005af_row2_col10,#T_005af_row10_col2{\n",
       "            background-color:  #e2dfee;\n",
       "            color:  #000000;\n",
       "        }#T_005af_row3_col1{\n",
       "            background-color:  #f4edf6;\n",
       "            color:  #000000;\n",
       "        }#T_005af_row3_col6,#T_005af_row6_col3{\n",
       "            background-color:  #e7e3f0;\n",
       "            color:  #000000;\n",
       "        }#T_005af_row3_col8,#T_005af_row8_col3{\n",
       "            background-color:  #dedcec;\n",
       "            color:  #000000;\n",
       "        }#T_005af_row3_col9,#T_005af_row5_col7,#T_005af_row6_col8,#T_005af_row7_col5,#T_005af_row8_col6,#T_005af_row9_col3{\n",
       "            background-color:  #f7f0f7;\n",
       "            color:  #000000;\n",
       "        }#T_005af_row3_col10,#T_005af_row10_col3{\n",
       "            background-color:  #79abd0;\n",
       "            color:  #000000;\n",
       "        }#T_005af_row4_col5,#T_005af_row5_col4{\n",
       "            background-color:  #f5eff6;\n",
       "            color:  #000000;\n",
       "        }#T_005af_row4_col6,#T_005af_row6_col4{\n",
       "            background-color:  #f6eff7;\n",
       "            color:  #000000;\n",
       "        }#T_005af_row5_col6,#T_005af_row6_col5{\n",
       "            background-color:  #a7bddb;\n",
       "            color:  #000000;\n",
       "        }#T_005af_row5_col10,#T_005af_row10_col5{\n",
       "            background-color:  #dfddec;\n",
       "            color:  #000000;\n",
       "        }#T_005af_row6_col10,#T_005af_row10_col6{\n",
       "            background-color:  #569dc8;\n",
       "            color:  #000000;\n",
       "        }#T_005af_row8_col9,#T_005af_row9_col8{\n",
       "            background-color:  #faf2f8;\n",
       "            color:  #000000;\n",
       "        }#T_005af_row8_col10,#T_005af_row10_col8{\n",
       "            background-color:  #d2d3e7;\n",
       "            color:  #000000;\n",
       "        }#T_005af_row10_col1{\n",
       "            background-color:  #f0eaf4;\n",
       "            color:  #000000;\n",
       "        }</style><table id=\"T_005af_\" ><thead>    <tr>        <th class=\"blank level0\" ></th>        <th class=\"col_heading level0 col0\" >credit_score</th>        <th class=\"col_heading level0 col1\" >geography</th>        <th class=\"col_heading level0 col2\" >gender</th>        <th class=\"col_heading level0 col3\" >age</th>        <th class=\"col_heading level0 col4\" >tenure</th>        <th class=\"col_heading level0 col5\" >balance</th>        <th class=\"col_heading level0 col6\" >num_of_products</th>        <th class=\"col_heading level0 col7\" >has_cr_card</th>        <th class=\"col_heading level0 col8\" >is_active_member</th>        <th class=\"col_heading level0 col9\" >estimated_salary</th>        <th class=\"col_heading level0 col10\" >exited</th>    </tr></thead><tbody>\n",
       "                <tr>\n",
       "                        <th id=\"T_005af_level0_row0\" class=\"row_heading level0 row0\" >credit_score</th>\n",
       "                        <td id=\"T_005af_row0_col0\" class=\"data row0 col0\" >1.000000</td>\n",
       "                        <td id=\"T_005af_row0_col1\" class=\"data row0 col1\" >0.049256</td>\n",
       "                        <td id=\"T_005af_row0_col2\" class=\"data row0 col2\" >0.000000</td>\n",
       "                        <td id=\"T_005af_row0_col3\" class=\"data row0 col3\" >0.000000</td>\n",
       "                        <td id=\"T_005af_row0_col4\" class=\"data row0 col4\" >0.000000</td>\n",
       "                        <td id=\"T_005af_row0_col5\" class=\"data row0 col5\" >0.000000</td>\n",
       "                        <td id=\"T_005af_row0_col6\" class=\"data row0 col6\" >0.040050</td>\n",
       "                        <td id=\"T_005af_row0_col7\" class=\"data row0 col7\" >0.009501</td>\n",
       "                        <td id=\"T_005af_row0_col8\" class=\"data row0 col8\" >0.041057</td>\n",
       "                        <td id=\"T_005af_row0_col9\" class=\"data row0 col9\" >0.040395</td>\n",
       "                        <td id=\"T_005af_row0_col10\" class=\"data row0 col10\" >0.092580</td>\n",
       "            </tr>\n",
       "            <tr>\n",
       "                        <th id=\"T_005af_level0_row1\" class=\"row_heading level0 row1\" >geography</th>\n",
       "                        <td id=\"T_005af_row1_col0\" class=\"data row1 col0\" >0.049256</td>\n",
       "                        <td id=\"T_005af_row1_col1\" class=\"data row1 col1\" >1.000000</td>\n",
       "                        <td id=\"T_005af_row1_col2\" class=\"data row1 col2\" >0.012060</td>\n",
       "                        <td id=\"T_005af_row1_col3\" class=\"data row1 col3\" >0.083283</td>\n",
       "                        <td id=\"T_005af_row1_col4\" class=\"data row1 col4\" >0.006453</td>\n",
       "                        <td id=\"T_005af_row1_col5\" class=\"data row1 col5\" >0.464560</td>\n",
       "                        <td id=\"T_005af_row1_col6\" class=\"data row1 col6\" >0.049015</td>\n",
       "                        <td id=\"T_005af_row1_col7\" class=\"data row1 col7\" >0.006391</td>\n",
       "                        <td id=\"T_005af_row1_col8\" class=\"data row1 col8\" >0.007569</td>\n",
       "                        <td id=\"T_005af_row1_col9\" class=\"data row1 col9\" >0.023363</td>\n",
       "                        <td id=\"T_005af_row1_col10\" class=\"data row1 col10\" >0.106876</td>\n",
       "            </tr>\n",
       "            <tr>\n",
       "                        <th id=\"T_005af_level0_row2\" class=\"row_heading level0 row2\" >gender</th>\n",
       "                        <td id=\"T_005af_row2_col0\" class=\"data row2 col0\" >0.000000</td>\n",
       "                        <td id=\"T_005af_row2_col1\" class=\"data row2 col1\" >0.012060</td>\n",
       "                        <td id=\"T_005af_row2_col2\" class=\"data row2 col2\" >1.000000</td>\n",
       "                        <td id=\"T_005af_row2_col3\" class=\"data row2 col3\" >0.032036</td>\n",
       "                        <td id=\"T_005af_row2_col4\" class=\"data row2 col4\" >0.031210</td>\n",
       "                        <td id=\"T_005af_row2_col5\" class=\"data row2 col5\" >0.011852</td>\n",
       "                        <td id=\"T_005af_row2_col6\" class=\"data row2 col6\" >0.069776</td>\n",
       "                        <td id=\"T_005af_row2_col7\" class=\"data row2 col7\" >0.000000</td>\n",
       "                        <td id=\"T_005af_row2_col8\" class=\"data row2 col8\" >0.034933</td>\n",
       "                        <td id=\"T_005af_row2_col9\" class=\"data row2 col9\" >0.027471</td>\n",
       "                        <td id=\"T_005af_row2_col10\" class=\"data row2 col10\" >0.171329</td>\n",
       "            </tr>\n",
       "            <tr>\n",
       "                        <th id=\"T_005af_level0_row3\" class=\"row_heading level0 row3\" >age</th>\n",
       "                        <td id=\"T_005af_row3_col0\" class=\"data row3 col0\" >0.000000</td>\n",
       "                        <td id=\"T_005af_row3_col1\" class=\"data row3 col1\" >0.083283</td>\n",
       "                        <td id=\"T_005af_row3_col2\" class=\"data row3 col2\" >0.032036</td>\n",
       "                        <td id=\"T_005af_row3_col3\" class=\"data row3 col3\" >1.000000</td>\n",
       "                        <td id=\"T_005af_row3_col4\" class=\"data row3 col4\" >0.046701</td>\n",
       "                        <td id=\"T_005af_row3_col5\" class=\"data row3 col5\" >0.027472</td>\n",
       "                        <td id=\"T_005af_row3_col6\" class=\"data row3 col6\" >0.144903</td>\n",
       "                        <td id=\"T_005af_row3_col7\" class=\"data row3 col7\" >0.032573</td>\n",
       "                        <td id=\"T_005af_row3_col8\" class=\"data row3 col8\" >0.189010</td>\n",
       "                        <td id=\"T_005af_row3_col9\" class=\"data row3 col9\" >0.057268</td>\n",
       "                        <td id=\"T_005af_row3_col10\" class=\"data row3 col10\" >0.486067</td>\n",
       "            </tr>\n",
       "            <tr>\n",
       "                        <th id=\"T_005af_level0_row4\" class=\"row_heading level0 row4\" >tenure</th>\n",
       "                        <td id=\"T_005af_row4_col0\" class=\"data row4 col0\" >0.000000</td>\n",
       "                        <td id=\"T_005af_row4_col1\" class=\"data row4 col1\" >0.006453</td>\n",
       "                        <td id=\"T_005af_row4_col2\" class=\"data row4 col2\" >0.031210</td>\n",
       "                        <td id=\"T_005af_row4_col3\" class=\"data row4 col3\" >0.046701</td>\n",
       "                        <td id=\"T_005af_row4_col4\" class=\"data row4 col4\" >1.000000</td>\n",
       "                        <td id=\"T_005af_row4_col5\" class=\"data row4 col5\" >0.063897</td>\n",
       "                        <td id=\"T_005af_row4_col6\" class=\"data row4 col6\" >0.060155</td>\n",
       "                        <td id=\"T_005af_row4_col7\" class=\"data row4 col7\" >0.031622</td>\n",
       "                        <td id=\"T_005af_row4_col8\" class=\"data row4 col8\" >0.027497</td>\n",
       "                        <td id=\"T_005af_row4_col9\" class=\"data row4 col9\" >0.000000</td>\n",
       "                        <td id=\"T_005af_row4_col10\" class=\"data row4 col10\" >0.020652</td>\n",
       "            </tr>\n",
       "            <tr>\n",
       "                        <th id=\"T_005af_level0_row5\" class=\"row_heading level0 row5\" >balance</th>\n",
       "                        <td id=\"T_005af_row5_col0\" class=\"data row5 col0\" >0.000000</td>\n",
       "                        <td id=\"T_005af_row5_col1\" class=\"data row5 col1\" >0.464560</td>\n",
       "                        <td id=\"T_005af_row5_col2\" class=\"data row5 col2\" >0.011852</td>\n",
       "                        <td id=\"T_005af_row5_col3\" class=\"data row5 col3\" >0.027472</td>\n",
       "                        <td id=\"T_005af_row5_col4\" class=\"data row5 col4\" >0.063897</td>\n",
       "                        <td id=\"T_005af_row5_col5\" class=\"data row5 col5\" >1.000000</td>\n",
       "                        <td id=\"T_005af_row5_col6\" class=\"data row5 col6\" >0.374208</td>\n",
       "                        <td id=\"T_005af_row5_col7\" class=\"data row5 col7\" >0.053755</td>\n",
       "                        <td id=\"T_005af_row5_col8\" class=\"data row5 col8\" >0.000000</td>\n",
       "                        <td id=\"T_005af_row5_col9\" class=\"data row5 col9\" >0.000000</td>\n",
       "                        <td id=\"T_005af_row5_col10\" class=\"data row5 col10\" >0.184441</td>\n",
       "            </tr>\n",
       "            <tr>\n",
       "                        <th id=\"T_005af_level0_row6\" class=\"row_heading level0 row6\" >num_of_products</th>\n",
       "                        <td id=\"T_005af_row6_col0\" class=\"data row6 col0\" >0.040050</td>\n",
       "                        <td id=\"T_005af_row6_col1\" class=\"data row6 col1\" >0.049015</td>\n",
       "                        <td id=\"T_005af_row6_col2\" class=\"data row6 col2\" >0.069776</td>\n",
       "                        <td id=\"T_005af_row6_col3\" class=\"data row6 col3\" >0.144903</td>\n",
       "                        <td id=\"T_005af_row6_col4\" class=\"data row6 col4\" >0.060155</td>\n",
       "                        <td id=\"T_005af_row6_col5\" class=\"data row6 col5\" >0.374208</td>\n",
       "                        <td id=\"T_005af_row6_col6\" class=\"data row6 col6\" >1.000000</td>\n",
       "                        <td id=\"T_005af_row6_col7\" class=\"data row6 col7\" >0.000000</td>\n",
       "                        <td id=\"T_005af_row6_col8\" class=\"data row6 col8\" >0.058286</td>\n",
       "                        <td id=\"T_005af_row6_col9\" class=\"data row6 col9\" >0.019758</td>\n",
       "                        <td id=\"T_005af_row6_col10\" class=\"data row6 col10\" >0.561223</td>\n",
       "            </tr>\n",
       "            <tr>\n",
       "                        <th id=\"T_005af_level0_row7\" class=\"row_heading level0 row7\" >has_cr_card</th>\n",
       "                        <td id=\"T_005af_row7_col0\" class=\"data row7 col0\" >0.009501</td>\n",
       "                        <td id=\"T_005af_row7_col1\" class=\"data row7 col1\" >0.006391</td>\n",
       "                        <td id=\"T_005af_row7_col2\" class=\"data row7 col2\" >0.000000</td>\n",
       "                        <td id=\"T_005af_row7_col3\" class=\"data row7 col3\" >0.032573</td>\n",
       "                        <td id=\"T_005af_row7_col4\" class=\"data row7 col4\" >0.031622</td>\n",
       "                        <td id=\"T_005af_row7_col5\" class=\"data row7 col5\" >0.053755</td>\n",
       "                        <td id=\"T_005af_row7_col6\" class=\"data row7 col6\" >0.000000</td>\n",
       "                        <td id=\"T_005af_row7_col7\" class=\"data row7 col7\" >1.000000</td>\n",
       "                        <td id=\"T_005af_row7_col8\" class=\"data row7 col8\" >0.000000</td>\n",
       "                        <td id=\"T_005af_row7_col9\" class=\"data row7 col9\" >0.000000</td>\n",
       "                        <td id=\"T_005af_row7_col10\" class=\"data row7 col10\" >0.000000</td>\n",
       "            </tr>\n",
       "            <tr>\n",
       "                        <th id=\"T_005af_level0_row8\" class=\"row_heading level0 row8\" >is_active_member</th>\n",
       "                        <td id=\"T_005af_row8_col0\" class=\"data row8 col0\" >0.041057</td>\n",
       "                        <td id=\"T_005af_row8_col1\" class=\"data row8 col1\" >0.007569</td>\n",
       "                        <td id=\"T_005af_row8_col2\" class=\"data row8 col2\" >0.034933</td>\n",
       "                        <td id=\"T_005af_row8_col3\" class=\"data row8 col3\" >0.189010</td>\n",
       "                        <td id=\"T_005af_row8_col4\" class=\"data row8 col4\" >0.027497</td>\n",
       "                        <td id=\"T_005af_row8_col5\" class=\"data row8 col5\" >0.000000</td>\n",
       "                        <td id=\"T_005af_row8_col6\" class=\"data row8 col6\" >0.058286</td>\n",
       "                        <td id=\"T_005af_row8_col7\" class=\"data row8 col7\" >0.000000</td>\n",
       "                        <td id=\"T_005af_row8_col8\" class=\"data row8 col8\" >1.000000</td>\n",
       "                        <td id=\"T_005af_row8_col9\" class=\"data row8 col9\" >0.038773</td>\n",
       "                        <td id=\"T_005af_row8_col10\" class=\"data row8 col10\" >0.240370</td>\n",
       "            </tr>\n",
       "            <tr>\n",
       "                        <th id=\"T_005af_level0_row9\" class=\"row_heading level0 row9\" >estimated_salary</th>\n",
       "                        <td id=\"T_005af_row9_col0\" class=\"data row9 col0\" >0.040395</td>\n",
       "                        <td id=\"T_005af_row9_col1\" class=\"data row9 col1\" >0.023363</td>\n",
       "                        <td id=\"T_005af_row9_col2\" class=\"data row9 col2\" >0.027471</td>\n",
       "                        <td id=\"T_005af_row9_col3\" class=\"data row9 col3\" >0.057268</td>\n",
       "                        <td id=\"T_005af_row9_col4\" class=\"data row9 col4\" >0.000000</td>\n",
       "                        <td id=\"T_005af_row9_col5\" class=\"data row9 col5\" >0.000000</td>\n",
       "                        <td id=\"T_005af_row9_col6\" class=\"data row9 col6\" >0.019758</td>\n",
       "                        <td id=\"T_005af_row9_col7\" class=\"data row9 col7\" >0.000000</td>\n",
       "                        <td id=\"T_005af_row9_col8\" class=\"data row9 col8\" >0.038773</td>\n",
       "                        <td id=\"T_005af_row9_col9\" class=\"data row9 col9\" >1.000000</td>\n",
       "                        <td id=\"T_005af_row9_col10\" class=\"data row9 col10\" >0.000000</td>\n",
       "            </tr>\n",
       "            <tr>\n",
       "                        <th id=\"T_005af_level0_row10\" class=\"row_heading level0 row10\" >exited</th>\n",
       "                        <td id=\"T_005af_row10_col0\" class=\"data row10 col0\" >0.092580</td>\n",
       "                        <td id=\"T_005af_row10_col1\" class=\"data row10 col1\" >0.106876</td>\n",
       "                        <td id=\"T_005af_row10_col2\" class=\"data row10 col2\" >0.171329</td>\n",
       "                        <td id=\"T_005af_row10_col3\" class=\"data row10 col3\" >0.486067</td>\n",
       "                        <td id=\"T_005af_row10_col4\" class=\"data row10 col4\" >0.020652</td>\n",
       "                        <td id=\"T_005af_row10_col5\" class=\"data row10 col5\" >0.184441</td>\n",
       "                        <td id=\"T_005af_row10_col6\" class=\"data row10 col6\" >0.561223</td>\n",
       "                        <td id=\"T_005af_row10_col7\" class=\"data row10 col7\" >0.000000</td>\n",
       "                        <td id=\"T_005af_row10_col8\" class=\"data row10 col8\" >0.240370</td>\n",
       "                        <td id=\"T_005af_row10_col9\" class=\"data row10 col9\" >0.000000</td>\n",
       "                        <td id=\"T_005af_row10_col10\" class=\"data row10 col10\" >1.000000</td>\n",
       "            </tr>\n",
       "    </tbody></table>"
      ],
      "text/plain": [
       "<pandas.io.formats.style.Styler at 0x7f284daa9f40>"
      ]
     },
     "execution_count": 328,
     "metadata": {},
     "output_type": "execute_result"
    }
   ],
   "source": [
    "phik_overview = data_edit.phik_matrix()\n",
    "phik_overview.style.background_gradient()"
   ]
  },
  {
   "cell_type": "markdown",
   "metadata": {},
   "source": [
    "<b>Вывод:</b> В результате предобработки данных были:\n",
    "- изменен стиль заголовков столбцов из Camel Case на Snake Case;\n",
    "- удалены пропуски в столбце tenure;\n",
    "- дубликатов значений не обнаружено;\n",
    "- удалены строки с аномально низкими значениями в столбце estimated_salary;\n",
    "- cильной корреляции между признаками не выявлено."
   ]
  },
  {
   "cell_type": "markdown",
   "metadata": {},
   "source": [
    "## 2.  Исследование задачи"
   ]
  },
  {
   "cell_type": "markdown",
   "metadata": {},
   "source": [
    "Выведем соотношение между классами:"
   ]
  },
  {
   "cell_type": "code",
   "execution_count": 329,
   "metadata": {},
   "outputs": [
    {
     "name": "stdout",
     "output_type": "stream",
     "text": [
      "Распределение классов:\n",
      "0    0.796192\n",
      "1    0.203808\n",
      "Name: exited, dtype: float64\n"
     ]
    },
    {
     "data": {
      "image/png": "[encoded data removed]",
      "text/plain": [
       "<Figure size 432x288 with 1 Axes>"
      ]
     },
     "metadata": {
      "needs_background": "light"
     },
     "output_type": "display_data"
    }
   ],
   "source": [
    "print('Распределение классов:')\n",
    "class_frequency = data['exited'].value_counts(normalize=True)\n",
    "print(class_frequency)\n",
    "class_frequency.plot(kind='bar')\n",
    "plt.title('Столбчатая диаграмма по классам')\n",
    "plt.show()"
   ]
  },
  {
   "cell_type": "markdown",
   "metadata": {},
   "source": [
    "Соотношение класса 0 к классу 1:"
   ]
  },
  {
   "cell_type": "code",
   "execution_count": 330,
   "metadata": {},
   "outputs": [
    {
     "data": {
      "text/plain": [
       "3.9065874730021592"
      ]
     },
     "execution_count": 330,
     "metadata": {},
     "output_type": "execute_result"
    }
   ],
   "source": [
    "class_frequency[0]/class_frequency[1]"
   ]
  },
  {
   "cell_type": "markdown",
   "metadata": {},
   "source": [
    "<b>Вывод:</b>\n",
    "- классы несбалансированны, их соотношение составляет примерно 4:1. "
   ]
  },
  {
   "cell_type": "markdown",
   "metadata": {},
   "source": [
    "### 2.1. Подготовка признаков для построения модели"
   ]
  },
  {
   "cell_type": "code",
   "execution_count": 331,
   "metadata": {},
   "outputs": [],
   "source": [
    "# Функция, преобразующая техникой OHE категориальные признаки в числовые\n",
    "def features_ohe(ohe_variable, df_features, features_categ):\n",
    "    df_features_ohe = pd.DataFrame(\n",
    "        data=ohe_variable.transform(df_features[features_categ]), \n",
    "        index=df_features.index,\n",
    "        columns=ohe_variable.get_feature_names()\n",
    "    )\n",
    "\n",
    "    df_features = df_features.drop(features_categ, axis=1)\n",
    "    df_features = df_features.join(df_features_ohe)\n",
    "    return df_features    "
   ]
  },
  {
   "cell_type": "markdown",
   "metadata": {},
   "source": [
    "Создание переменной features с признаками для обучения:"
   ]
  },
  {
   "cell_type": "code",
   "execution_count": 332,
   "metadata": {},
   "outputs": [],
   "source": [
    "features = data_edit.drop('exited', axis=1)"
   ]
  },
  {
   "cell_type": "markdown",
   "metadata": {},
   "source": [
    "Создание переменной target с целевым признаком exited:"
   ]
  },
  {
   "cell_type": "code",
   "execution_count": 333,
   "metadata": {},
   "outputs": [],
   "source": [
    "target = data_edit['exited']"
   ]
  },
  {
   "cell_type": "markdown",
   "metadata": {},
   "source": [
    "Разобьем выборку на две части: обучающую и тестовую(20%)."
   ]
  },
  {
   "cell_type": "code",
   "execution_count": 334,
   "metadata": {},
   "outputs": [
    {
     "name": "stdout",
     "output_type": "stream",
     "text": [
      "(7269, 10) (7269,)\n"
     ]
    },
    {
     "data": {
      "text/plain": [
       "((1818, 10), (1818,))"
      ]
     },
     "execution_count": 334,
     "metadata": {},
     "output_type": "execute_result"
    }
   ],
   "source": [
    "# Выделение 20% от исходных данных для тестовой выборки, остальное - для обучающей\n",
    "features_train, features_test, target_train, target_test = train_test_split(\n",
    "   features, target, test_size=0.2, random_state=12345, stratify=target)\n",
    "print(features_train.shape, target_train.shape)\n",
    "features_test.shape, target_test.shape"
   ]
  },
  {
   "cell_type": "markdown",
   "metadata": {},
   "source": [
    "Списки категориальных и числовых признаков:"
   ]
  },
  {
   "cell_type": "code",
   "execution_count": 335,
   "metadata": {},
   "outputs": [],
   "source": [
    "categorical = features.select_dtypes(include='object').columns.tolist()\n",
    "numeric = features.select_dtypes(include='number').columns.tolist()"
   ]
  },
  {
   "cell_type": "code",
   "execution_count": 336,
   "metadata": {},
   "outputs": [
    {
     "data": {
      "text/html": [
       "<style>#sk-container-id-9 {color: black;}#sk-container-id-9 pre{padding: 0;}#sk-container-id-9 div.sk-toggleable {background-color: white;}#sk-container-id-9 label.sk-toggleable__label {cursor: pointer;display: block;width: 100%;margin-bottom: 0;padding: 0.3em;box-sizing: border-box;text-align: center;}#sk-container-id-9 label.sk-toggleable__label-arrow:before {content: \"▸\";float: left;margin-right: 0.25em;color: #696969;}#sk-container-id-9 label.sk-toggleable__label-arrow:hover:before {color: black;}#sk-container-id-9 div.sk-estimator:hover label.sk-toggleable__label-arrow:before {color: black;}#sk-container-id-9 div.sk-toggleable__content {max-height: 0;max-width: 0;overflow: hidden;text-align: left;background-color: #f0f8ff;}#sk-container-id-9 div.sk-toggleable__content pre {margin: 0.2em;color: black;border-radius: 0.25em;background-color: #f0f8ff;}#sk-container-id-9 input.sk-toggleable__control:checked~div.sk-toggleable__content {max-height: 200px;max-width: 100%;overflow: auto;}#sk-container-id-9 input.sk-toggleable__control:checked~label.sk-toggleable__label-arrow:before {content: \"▾\";}#sk-container-id-9 div.sk-estimator input.sk-toggleable__control:checked~label.sk-toggleable__label {background-color: #d4ebff;}#sk-container-id-9 div.sk-label input.sk-toggleable__control:checked~label.sk-toggleable__label {background-color: #d4ebff;}#sk-container-id-9 input.sk-hidden--visually {border: 0;clip: rect(1px 1px 1px 1px);clip: rect(1px, 1px, 1px, 1px);height: 1px;margin: -1px;overflow: hidden;padding: 0;position: absolute;width: 1px;}#sk-container-id-9 div.sk-estimator {font-family: monospace;background-color: #f0f8ff;border: 1px dotted black;border-radius: 0.25em;box-sizing: border-box;margin-bottom: 0.5em;}#sk-container-id-9 div.sk-estimator:hover {background-color: #d4ebff;}#sk-container-id-9 div.sk-parallel-item::after {content: \"\";width: 100%;border-bottom: 1px solid gray;flex-grow: 1;}#sk-container-id-9 div.sk-label:hover label.sk-toggleable__label {background-color: #d4ebff;}#sk-container-id-9 div.sk-serial::before {content: \"\";position: absolute;border-left: 1px solid gray;box-sizing: border-box;top: 0;bottom: 0;left: 50%;z-index: 0;}#sk-container-id-9 div.sk-serial {display: flex;flex-direction: column;align-items: center;background-color: white;padding-right: 0.2em;padding-left: 0.2em;position: relative;}#sk-container-id-9 div.sk-item {position: relative;z-index: 1;}#sk-container-id-9 div.sk-parallel {display: flex;align-items: stretch;justify-content: center;background-color: white;position: relative;}#sk-container-id-9 div.sk-item::before, #sk-container-id-9 div.sk-parallel-item::before {content: \"\";position: absolute;border-left: 1px solid gray;box-sizing: border-box;top: 0;bottom: 0;left: 50%;z-index: -1;}#sk-container-id-9 div.sk-parallel-item {display: flex;flex-direction: column;z-index: 1;position: relative;background-color: white;}#sk-container-id-9 div.sk-parallel-item:first-child::after {align-self: flex-end;width: 50%;}#sk-container-id-9 div.sk-parallel-item:last-child::after {align-self: flex-start;width: 50%;}#sk-container-id-9 div.sk-parallel-item:only-child::after {width: 0;}#sk-container-id-9 div.sk-dashed-wrapped {border: 1px dashed gray;margin: 0 0.4em 0.5em 0.4em;box-sizing: border-box;padding-bottom: 0.4em;background-color: white;}#sk-container-id-9 div.sk-label label {font-family: monospace;font-weight: bold;display: inline-block;line-height: 1.2em;}#sk-container-id-9 div.sk-label-container {text-align: center;}#sk-container-id-9 div.sk-container {/* jupyter's `normalize.less` sets `[hidden] { display: none; }` but bootstrap.min.css set `[hidden] { display: none !important; }` so we also need the `!important` here to be able to override the default hidden behavior on the sphinx rendered scikit-learn.org. See: https://github.com/scikit-learn/scikit-learn/issues/21755 */display: inline-block !important;position: relative;}#sk-container-id-9 div.sk-text-repr-fallback {display: none;}</style><div id=\"sk-container-id-9\" class=\"sk-top-container\"><div class=\"sk-text-repr-fallback\"><pre>ColumnTransformer(n_jobs=-1, remainder=&#x27;passthrough&#x27;,\n",
       "                  transformers=[(&#x27;standardscaler&#x27;, StandardScaler(),\n",
       "                                 [&#x27;credit_score&#x27;, &#x27;age&#x27;, &#x27;tenure&#x27;, &#x27;balance&#x27;,\n",
       "                                  &#x27;num_of_products&#x27;, &#x27;has_cr_card&#x27;,\n",
       "                                  &#x27;is_active_member&#x27;, &#x27;estimated_salary&#x27;]),\n",
       "                                (&#x27;onehotencoder&#x27;,\n",
       "                                 OneHotEncoder(drop=&#x27;first&#x27;,\n",
       "                                               sparse_output=False),\n",
       "                                 [&#x27;geography&#x27;, &#x27;gender&#x27;])])</pre><b>In a Jupyter environment, please rerun this cell to show the HTML representation or trust the notebook. <br />On GitHub, the HTML representation is unable to render, please try loading this page with nbviewer.org.</b></div><div class=\"sk-container\" hidden><div class=\"sk-item sk-dashed-wrapped\"><div class=\"sk-label-container\"><div class=\"sk-label sk-toggleable\"><input class=\"sk-toggleable__control sk-hidden--visually\" id=\"sk-estimator-id-64\" type=\"checkbox\" ><label for=\"sk-estimator-id-64\" class=\"sk-toggleable__label sk-toggleable__label-arrow\">ColumnTransformer</label><div class=\"sk-toggleable__content\"><pre>ColumnTransformer(n_jobs=-1, remainder=&#x27;passthrough&#x27;,\n",
       "                  transformers=[(&#x27;standardscaler&#x27;, StandardScaler(),\n",
       "                                 [&#x27;credit_score&#x27;, &#x27;age&#x27;, &#x27;tenure&#x27;, &#x27;balance&#x27;,\n",
       "                                  &#x27;num_of_products&#x27;, &#x27;has_cr_card&#x27;,\n",
       "                                  &#x27;is_active_member&#x27;, &#x27;estimated_salary&#x27;]),\n",
       "                                (&#x27;onehotencoder&#x27;,\n",
       "                                 OneHotEncoder(drop=&#x27;first&#x27;,\n",
       "                                               sparse_output=False),\n",
       "                                 [&#x27;geography&#x27;, &#x27;gender&#x27;])])</pre></div></div></div><div class=\"sk-parallel\"><div class=\"sk-parallel-item\"><div class=\"sk-item\"><div class=\"sk-label-container\"><div class=\"sk-label sk-toggleable\"><input class=\"sk-toggleable__control sk-hidden--visually\" id=\"sk-estimator-id-65\" type=\"checkbox\" ><label for=\"sk-estimator-id-65\" class=\"sk-toggleable__label sk-toggleable__label-arrow\">standardscaler</label><div class=\"sk-toggleable__content\"><pre>[&#x27;credit_score&#x27;, &#x27;age&#x27;, &#x27;tenure&#x27;, &#x27;balance&#x27;, &#x27;num_of_products&#x27;, &#x27;has_cr_card&#x27;, &#x27;is_active_member&#x27;, &#x27;estimated_salary&#x27;]</pre></div></div></div><div class=\"sk-serial\"><div class=\"sk-item\"><div class=\"sk-estimator sk-toggleable\"><input class=\"sk-toggleable__control sk-hidden--visually\" id=\"sk-estimator-id-66\" type=\"checkbox\" ><label for=\"sk-estimator-id-66\" class=\"sk-toggleable__label sk-toggleable__label-arrow\">StandardScaler</label><div class=\"sk-toggleable__content\"><pre>StandardScaler()</pre></div></div></div></div></div></div><div class=\"sk-parallel-item\"><div class=\"sk-item\"><div class=\"sk-label-container\"><div class=\"sk-label sk-toggleable\"><input class=\"sk-toggleable__control sk-hidden--visually\" id=\"sk-estimator-id-67\" type=\"checkbox\" ><label for=\"sk-estimator-id-67\" class=\"sk-toggleable__label sk-toggleable__label-arrow\">onehotencoder</label><div class=\"sk-toggleable__content\"><pre>[&#x27;geography&#x27;, &#x27;gender&#x27;]</pre></div></div></div><div class=\"sk-serial\"><div class=\"sk-item\"><div class=\"sk-estimator sk-toggleable\"><input class=\"sk-toggleable__control sk-hidden--visually\" id=\"sk-estimator-id-68\" type=\"checkbox\" ><label for=\"sk-estimator-id-68\" class=\"sk-toggleable__label sk-toggleable__label-arrow\">OneHotEncoder</label><div class=\"sk-toggleable__content\"><pre>OneHotEncoder(drop=&#x27;first&#x27;, sparse_output=False)</pre></div></div></div></div></div></div><div class=\"sk-parallel-item\"><div class=\"sk-item\"><div class=\"sk-label-container\"><div class=\"sk-label sk-toggleable\"><input class=\"sk-toggleable__control sk-hidden--visually\" id=\"sk-estimator-id-69\" type=\"checkbox\" ><label for=\"sk-estimator-id-69\" class=\"sk-toggleable__label sk-toggleable__label-arrow\">remainder</label><div class=\"sk-toggleable__content\"><pre></pre></div></div></div><div class=\"sk-serial\"><div class=\"sk-item\"><div class=\"sk-estimator sk-toggleable\"><input class=\"sk-toggleable__control sk-hidden--visually\" id=\"sk-estimator-id-70\" type=\"checkbox\" ><label for=\"sk-estimator-id-70\" class=\"sk-toggleable__label sk-toggleable__label-arrow\">passthrough</label><div class=\"sk-toggleable__content\"><pre>passthrough</pre></div></div></div></div></div></div></div></div></div></div>"
      ],
      "text/plain": [
       "ColumnTransformer(n_jobs=-1, remainder='passthrough',\n",
       "                  transformers=[('standardscaler', StandardScaler(),\n",
       "                                 ['credit_score', 'age', 'tenure', 'balance',\n",
       "                                  'num_of_products', 'has_cr_card',\n",
       "                                  'is_active_member', 'estimated_salary']),\n",
       "                                ('onehotencoder',\n",
       "                                 OneHotEncoder(drop='first',\n",
       "                                               sparse_output=False),\n",
       "                                 ['geography', 'gender'])])"
      ]
     },
     "execution_count": 336,
     "metadata": {},
     "output_type": "execute_result"
    }
   ],
   "source": [
    "col_trans = make_column_transformer((StandardScaler(), numeric),\n",
    "                                    (OneHotEncoder(drop='first', sparse_output=False), categorical),\n",
    "                                    remainder='passthrough',\n",
    "                                    n_jobs=-1)\n",
    "col_trans"
   ]
  },
  {
   "cell_type": "markdown",
   "metadata": {},
   "source": [
    "<b>Вывод:</b> В ходе подготовки признаков для построения моделей:\n",
    "- cоздана переменная features с признаками для обучения;\n",
    "- создана переменная target с целевым признаком exited;\n",
    "- выборка разбита на 2 части: обучающую (80%) и тестовую(20%);\n",
    "- составлен pipepline, в котором задано масштабирование числовых признаков StandartScaler и преобразование категориальных признаков в числовые техникой OHE."
   ]
  },
  {
   "cell_type": "markdown",
   "metadata": {},
   "source": [
    "### 2.2. Построение моделей (без учета дисбаланса)"
   ]
  },
  {
   "cell_type": "markdown",
   "metadata": {},
   "source": [
    "Исследуем три модели: логистическую регрессию, решающее дерево и случайный лес (без учета дисбаланса)."
   ]
  },
  {
   "cell_type": "code",
   "execution_count": 337,
   "metadata": {},
   "outputs": [],
   "source": [
    "RANDOM_STATE = 12345\n",
    "sampler = optuna.samplers.TPESampler(seed = RANDOM_STATE)"
   ]
  },
  {
   "cell_type": "markdown",
   "metadata": {},
   "source": [
    "#### 2.2.1. Модель - логистическая регрессия"
   ]
  },
  {
   "cell_type": "code",
   "execution_count": 338,
   "metadata": {},
   "outputs": [
    {
     "name": "stderr",
     "output_type": "stream",
     "text": [
      "[I 2023-10-18 11:07:41,704] A new study created in memory with name: no-name-504bc7f6-a83c-4512-ad80-88f29581f37a\n",
      "[I 2023-10-18 11:07:43,225] Trial 0 finished with values: [0.052743639977985333, 0.7372895903423643] and parameters: {'penalty': 'l2', 'C': 2.9604006672021068e-06}. \n",
      "[I 2023-10-18 11:07:44,638] Trial 1 finished with values: [0.07652875621426933, 0.7559416474069789] and parameters: {'penalty': 'l1', 'C': 0.005812428503452589}. \n",
      "[I 2023-10-18 11:07:45,513] Trial 2 finished with values: [0.3104566951334362, 0.769650084310677] and parameters: {'penalty': 'l2', 'C': 0.09800609837618245}. \n",
      "[I 2023-10-18 11:07:46,120] Trial 3 finished with values: [0.3174533202173568, 0.7694444150977597] and parameters: {'penalty': 'l1', 'C': 4.902909631584979}. \n",
      "[I 2023-10-18 11:07:46,708] Trial 4 finished with values: [0.0, 0.5] and parameters: {'penalty': 'l1', 'C': 2.4526168642455173e-05}. \n"
     ]
    }
   ],
   "source": [
    "def objective(trial):\n",
    "    param = {\n",
    "        'penalty': trial.suggest_categorical('penalty', ['l2', 'l1']),\n",
    "        'C': trial.suggest_float('C', 1e-7, 10.0, log=True),\n",
    "    }\n",
    "    model_lr= LogisticRegression(**param, random_state=RANDOM_STATE, solver='liblinear')\n",
    "    pipeline_lr = make_pipeline(col_trans,  model_lr)\n",
    "    \n",
    "    f1_lr = cross_val_score(pipeline_lr, features_train, target_train, cv=5, scoring= 'f1').mean()\n",
    "    roc_auc_lr = cross_val_score(pipeline_lr, features_train, target_train, cv=5, scoring= 'roc_auc').mean()\n",
    "    return f1_lr, roc_auc_lr\n",
    "study_lr = optuna.create_study(directions=['maximize', 'maximize'], sampler=sampler)\n",
    "study_lr.optimize(objective, n_trials=5)"
   ]
  },
  {
   "cell_type": "code",
   "execution_count": 339,
   "metadata": {},
   "outputs": [
    {
     "name": "stdout",
     "output_type": "stream",
     "text": [
      "Наилучшие параметры модели: {'penalty': 'l2', 'C': 0.09800609837618245}\n",
      "F1 для логистической регрессии: 0.3104566951334362\n",
      "AUC-ROC для логистической регрессии: 0.769650084310677\n"
     ]
    }
   ],
   "source": [
    "print(f'Наилучшие параметры модели: {study_lr.best_trials[0].params}\\n' +\n",
    "      f'F1 для логистической регрессии: {study_lr.best_trials[0].values[0]}\\n' +\n",
    "      f'AUC-ROC для логистической регрессии: {study_lr.best_trials[0].values[1]}')"
   ]
  },
  {
   "cell_type": "markdown",
   "metadata": {},
   "source": [
    "#### 2.2.2. Модель - решающее дерево"
   ]
  },
  {
   "cell_type": "code",
   "execution_count": 340,
   "metadata": {},
   "outputs": [
    {
     "name": "stderr",
     "output_type": "stream",
     "text": [
      "[I 2023-10-18 11:07:46,726] A new study created in memory with name: no-name-677e083c-5c5d-48b2-a665-025f92dfb317\n",
      "[I 2023-10-18 11:07:47,574] Trial 0 finished with values: [0.5098637833507158, 0.7341606823111888] and parameters: {'min_samples_split': 11, 'max_depth': 34}. \n",
      "[I 2023-10-18 11:07:48,836] Trial 1 finished with values: [0.5184332505900869, 0.7434774423571215] and parameters: {'min_samples_split': 14, 'max_depth': 39}. \n",
      "[I 2023-10-18 11:07:49,929] Trial 2 finished with values: [0.518019621543907, 0.7407861147218282] and parameters: {'min_samples_split': 12, 'max_depth': 28}. \n",
      "[I 2023-10-18 11:07:50,942] Trial 3 finished with values: [0.5145334398702245, 0.7386353532846662] and parameters: {'min_samples_split': 12, 'max_depth': 21}. \n",
      "[I 2023-10-18 11:07:51,825] Trial 4 finished with values: [0.49344918488701595, 0.7118694839487906] and parameters: {'min_samples_split': 6, 'max_depth': 20}. \n"
     ]
    }
   ],
   "source": [
    "def objective(trial):\n",
    "    param = {\n",
    "        'min_samples_split': trial.suggest_int('min_samples_split', 2, 15),\n",
    "        'max_depth': trial.suggest_int('max_depth', 5, 40),\n",
    "    }\n",
    "    model_dt= DecisionTreeClassifier(**param, random_state=RANDOM_STATE)\n",
    "    pipeline_dt = make_pipeline(col_trans,  model_dt)\n",
    "    f1_dt = cross_val_score(pipeline_dt, features_train, target_train, cv=5, scoring= 'f1').mean()\n",
    "    roc_auc_dt = cross_val_score(pipeline_dt, features_train, target_train, cv=5, scoring= 'roc_auc').mean()\n",
    "    return f1_dt, roc_auc_dt\n",
    "study_dt = optuna.create_study(directions=['maximize', 'maximize'], sampler=sampler)\n",
    "study_dt.optimize(objective, n_trials=5)"
   ]
  },
  {
   "cell_type": "code",
   "execution_count": 341,
   "metadata": {},
   "outputs": [
    {
     "name": "stdout",
     "output_type": "stream",
     "text": [
      "Наилучшие параметры модели: {'min_samples_split': 14, 'max_depth': 39}\n",
      "F1 для решающего дерева: 0.5184332505900869\n",
      "AUC-ROC для решающего дерева: 0.7434774423571215\n"
     ]
    }
   ],
   "source": [
    "print(f'Наилучшие параметры модели: {study_dt.best_trials[0].params}\\n' +\n",
    "      f'F1 для решающего дерева: {study_dt.best_trials[0].values[0]}\\n' +\n",
    "      f'AUC-ROC для решающего дерева: {study_dt.best_trials[0].values[1]}')"
   ]
  },
  {
   "cell_type": "markdown",
   "metadata": {},
   "source": [
    "#### 2.2.3. Модель - случайный лес"
   ]
  },
  {
   "cell_type": "code",
   "execution_count": 342,
   "metadata": {},
   "outputs": [
    {
     "name": "stderr",
     "output_type": "stream",
     "text": [
      "[I 2023-10-18 11:07:51,839] A new study created in memory with name: no-name-9980835d-e3be-4fe5-9205-78bed0343516\n",
      "[I 2023-10-18 11:08:25,097] Trial 0 finished with values: [0.576581783008109, 0.8532081930055965] and parameters: {'n_estimators': 516, 'max_depth': 50}. \n",
      "[I 2023-10-18 11:08:55,247] Trial 1 finished with values: [0.5764964859287918, 0.8531755466883109] and parameters: {'n_estimators': 480, 'max_depth': 42}. \n",
      "[I 2023-10-18 11:09:05,763] Trial 2 finished with values: [0.5699047086360155, 0.8594825132237078] and parameters: {'n_estimators': 136, 'max_depth': 11}. \n",
      "[I 2023-10-18 11:09:55,828] Trial 3 finished with values: [0.5737415566023282, 0.8533916856251956] and parameters: {'n_estimators': 565, 'max_depth': 47}. \n",
      "[I 2023-10-18 11:09:59,407] Trial 4 finished with values: [0.5664364458754507, 0.8414650065134724] and parameters: {'n_estimators': 36, 'max_depth': 30}. \n"
     ]
    }
   ],
   "source": [
    "def objective(trial):\n",
    "    param = {\n",
    "        'n_estimators': trial.suggest_int('n_estimators', 20, 700),\n",
    "        'max_depth': trial.suggest_int('max_depth', 10, 50),\n",
    "    }\n",
    "    model_rf = RandomForestClassifier(**param, random_state=RANDOM_STATE)\n",
    "    \n",
    "    pipeline_rf = make_pipeline(col_trans, model_rf)\n",
    "    \n",
    "    f1_rf = cross_val_score(pipeline_rf, features_train, target_train, cv=5, scoring= 'f1').mean()\n",
    "    roc_auc_rf = cross_val_score(pipeline_rf, features_train, target_train, cv=5, scoring= 'roc_auc').mean()\n",
    "    return f1_rf, roc_auc_rf\n",
    "study_rf = optuna.create_study(directions=['maximize', 'maximize'], sampler=sampler)\n",
    "study_rf.optimize(objective, n_trials=5)"
   ]
  },
  {
   "cell_type": "code",
   "execution_count": 343,
   "metadata": {},
   "outputs": [
    {
     "name": "stdout",
     "output_type": "stream",
     "text": [
      "Наилучшие параметры модели: {'n_estimators': 516, 'max_depth': 50}\n",
      "F1 для случайного леса: 0.576581783008109\n",
      "AUC-ROC для случайного леса: 0.8532081930055965\n"
     ]
    }
   ],
   "source": [
    "print(f'Наилучшие параметры модели: {study_rf.best_trials[0].params}\\n' +\n",
    "      f'F1 для случайного леса: {study_rf.best_trials[0].values[0]}\\n' +\n",
    "      f'AUC-ROC для случайного леса: {study_rf.best_trials[0].values[1]}')"
   ]
  },
  {
   "cell_type": "markdown",
   "metadata": {},
   "source": [
    "<b>Вывод:</b> Сравним построенные модели по качеству (F1-мера и AUC-ROC) без учета дисбаланса:\n",
    "- самое высокое качество у случайного леса, F1 равно <b>0.58</b>, AUC-ROC равно <b>0.85</b>, с гиперпараметрами:\n",
    "    - n_estimators (количество деревьев) = 516, \n",
    "    - max_depth (максимальная глубина деревьев) = 50;\n",
    "- на втором месте — дерево решений, F1 равно <b>0.52</b>, AUC-ROC равно <b>0.74</b> с гиперпараметрами:\n",
    "    - max_depth (максимальная глубина дерева) = 39;\n",
    "    - min_samples_split (минимальное количество выборок) = 14;\n",
    "- самое низкое качество предсказания у логистической регрессии, F1 равно <b>0.31</b>, AUC-ROC равно <b>0.77</b>."
   ]
  },
  {
   "cell_type": "markdown",
   "metadata": {},
   "source": [
    "### 2.3. Борьба с дисбалансом"
   ]
  },
  {
   "cell_type": "markdown",
   "metadata": {},
   "source": [
    "Исследуем три модели: логистическую регрессию, решающее дерево и случайный лес. \n",
    "\n",
    "Для каждой модели рассмотрим четыре способа устранения проблемы дисбаланса классов:\n",
    "- взвешиванием классов;\n",
    "- upsampling c помощью TomekLinks;\n",
    "- downsampling с помощью SMOTE\n",
    "- комбинированный способ SMOTETomek."
   ]
  },
  {
   "cell_type": "code",
   "execution_count": 344,
   "metadata": {},
   "outputs": [],
   "source": [
    "tomek_links = TomekLinks()\n",
    "smote = SMOTE(random_state=RANDOM_STATE)\n",
    "smotetomek = SMOTETomek(tomek=TomekLinks(sampling_strategy='majority'), random_state=RANDOM_STATE)"
   ]
  },
  {
   "cell_type": "markdown",
   "metadata": {},
   "source": [
    "#### 2.3.1. Построение модели - логистическая регрессия (с учетом дисбаланса)"
   ]
  },
  {
   "cell_type": "markdown",
   "metadata": {},
   "source": [
    "#### Способ 1 - взвешивание классов"
   ]
  },
  {
   "cell_type": "code",
   "execution_count": 345,
   "metadata": {},
   "outputs": [
    {
     "name": "stderr",
     "output_type": "stream",
     "text": [
      "[I 2023-10-18 11:09:59,426] A new study created in memory with name: no-name-c2f02e49-2120-41a1-bc2b-c928a3e22c53\n",
      "[I 2023-10-18 11:09:59,972] Trial 0 finished with values: [0.0, 0.5] and parameters: {'penalty': 'l1', 'C': 2.60411620928796e-07}. \n",
      "[I 2023-10-18 11:10:00,619] Trial 1 finished with values: [0.4973965071932239, 0.7728756855394219] and parameters: {'penalty': 'l2', 'C': 0.35220870951536204}. \n",
      "[I 2023-10-18 11:10:01,161] Trial 2 finished with values: [0.0, 0.5] and parameters: {'penalty': 'l1', 'C': 5.857984334574289e-07}. \n",
      "[I 2023-10-18 11:10:01,727] Trial 3 finished with values: [0.0, 0.5] and parameters: {'penalty': 'l1', 'C': 0.0005557072100843502}. \n",
      "[I 2023-10-18 11:10:02,281] Trial 4 finished with values: [0.0, 0.5] and parameters: {'penalty': 'l1', 'C': 2.657198796497881e-06}. \n"
     ]
    }
   ],
   "source": [
    "def objective(trial):\n",
    "    param = {\n",
    "        'penalty': trial.suggest_categorical('penalty', ['l2', 'l1']),\n",
    "        'C': trial.suggest_float('C', 1e-7, 10.0, log=True),\n",
    "    }\n",
    "    model_lr_1 = LogisticRegression(**param, random_state=RANDOM_STATE, solver='liblinear', class_weight='balanced')\n",
    "    \n",
    "    pipeline_lr_1 = make_pipeline(col_trans,  model_lr_1)\n",
    "    \n",
    "    f1_lr_1 = cross_val_score(pipeline_lr_1, features_train, target_train, cv=5, scoring= 'f1').mean()\n",
    "    roc_auc_lr_1 = cross_val_score(pipeline_lr_1, features_train, target_train, cv=5, scoring= 'roc_auc').mean()\n",
    "    return f1_lr_1, roc_auc_lr_1\n",
    "study_lr_1 = optuna.create_study(directions=['maximize', 'maximize'], sampler=sampler)\n",
    "study_lr_1.optimize(objective, n_trials=5)"
   ]
  },
  {
   "cell_type": "code",
   "execution_count": 346,
   "metadata": {},
   "outputs": [
    {
     "name": "stdout",
     "output_type": "stream",
     "text": [
      "Наилучшие параметры модели: {'penalty': 'l2', 'C': 0.35220870951536204}\n",
      "F1 для логистической регрессии: 0.4973965071932239\n",
      "AUC-ROC для логистической регрессии: 0.7728756855394219\n"
     ]
    }
   ],
   "source": [
    "print(f'Наилучшие параметры модели: {study_lr_1.best_trials[0].params}\\n' +\n",
    "      f'F1 для логистической регрессии: {study_lr_1.best_trials[0].values[0]}\\n' +\n",
    "      f'AUC-ROC для логистической регрессии: {study_lr_1.best_trials[0].values[1]}')"
   ]
  },
  {
   "cell_type": "markdown",
   "metadata": {},
   "source": [
    "#### Способ 2 - upsampling"
   ]
  },
  {
   "cell_type": "code",
   "execution_count": 347,
   "metadata": {},
   "outputs": [
    {
     "name": "stderr",
     "output_type": "stream",
     "text": [
      "[I 2023-10-18 11:10:02,334] A new study created in memory with name: no-name-325017d5-56a9-4767-86ba-c2f1d5bf1bb6\n",
      "[I 2023-10-18 11:10:03,511] Trial 0 finished with values: [0.5002442899453625, 0.7721890324411138] and parameters: {'penalty': 'l2', 'C': 0.1414201674849644}. \n",
      "[I 2023-10-18 11:10:04,636] Trial 1 finished with values: [0.4644393968368837, 0.7564243032536391] and parameters: {'penalty': 'l2', 'C': 1.590259348686956e-06}. \n",
      "[I 2023-10-18 11:10:05,865] Trial 2 finished with values: [0.5003700824529914, 0.7721592585764153] and parameters: {'penalty': 'l2', 'C': 0.6149096318532045}. \n",
      "[I 2023-10-18 11:10:06,904] Trial 3 finished with values: [0.466876315532299, 0.7576672705740645] and parameters: {'penalty': 'l2', 'C': 3.3416982187394594e-05}. \n",
      "[I 2023-10-18 11:10:07,924] Trial 4 finished with values: [0.4645629270903284, 0.7563957146007272] and parameters: {'penalty': 'l2', 'C': 1.0156225865123087e-06}. \n"
     ]
    }
   ],
   "source": [
    "def objective(trial):\n",
    "    param = {\n",
    "        'penalty': trial.suggest_categorical('penalty', ['l2', 'l1']),\n",
    "        'C': trial.suggest_float('C', 1e-7, 10.0, log=True),\n",
    "    }\n",
    "    model_lr_2 = LogisticRegression(**param, random_state=RANDOM_STATE, solver='liblinear')\n",
    "    pipeline_lr_2 = Pipeline([\n",
    "      ('col_trans', col_trans),\n",
    "      ('smote', smote),\n",
    "      ('model_lr_2', model_lr_2)\n",
    "    ])\n",
    "    f1_lr_2 = cross_val_score(pipeline_lr_2, features_train, target_train, cv=5, scoring= 'f1').mean()\n",
    "    roc_auc_lr_2 = cross_val_score(pipeline_lr_2, features_train, target_train, cv=5, scoring= 'roc_auc').mean()\n",
    "    return f1_lr_2, roc_auc_lr_2\n",
    "study_lr_2 = optuna.create_study(directions=['maximize', 'maximize'], sampler=sampler)\n",
    "study_lr_2.optimize(objective, n_trials=5)"
   ]
  },
  {
   "cell_type": "code",
   "execution_count": 348,
   "metadata": {},
   "outputs": [
    {
     "name": "stdout",
     "output_type": "stream",
     "text": [
      "Наилучшие параметры модели: {'penalty': 'l2', 'C': 0.1414201674849644}\n",
      "F1 для логистической регрессии: 0.5002442899453625\n",
      "AUC-ROC для логистической регрессии: 0.7721890324411138\n"
     ]
    }
   ],
   "source": [
    "print(f'Наилучшие параметры модели: {study_lr_2.best_trials[0].params}\\n' +\n",
    "      f'F1 для логистической регрессии: {study_lr_2.best_trials[0].values[0]}\\n' +\n",
    "      f'AUC-ROC для логистической регрессии: {study_lr_2.best_trials[0].values[1]}')"
   ]
  },
  {
   "cell_type": "markdown",
   "metadata": {},
   "source": [
    "#### Способ 3 - downsampling"
   ]
  },
  {
   "cell_type": "code",
   "execution_count": 349,
   "metadata": {},
   "outputs": [
    {
     "name": "stderr",
     "output_type": "stream",
     "text": [
      "[I 2023-10-18 11:10:07,947] A new study created in memory with name: no-name-da4deb85-597c-4b47-b809-8edfd9934a20\n",
      "[I 2023-10-18 11:10:10,725] Trial 0 finished with values: [0.04130568050387627, 0.7484941953861147] and parameters: {'penalty': 'l1', 'C': 0.003875185724387857}. \n",
      "[I 2023-10-18 11:10:13,482] Trial 1 finished with values: [0.358024746577334, 0.7688300125134265] and parameters: {'penalty': 'l2', 'C': 1.2804829452967423}. \n",
      "[I 2023-10-18 11:10:16,256] Trial 2 finished with values: [0.34545025068510815, 0.768953510576029] and parameters: {'penalty': 'l2', 'C': 0.051741968633726654}. \n",
      "[I 2023-10-18 11:10:18,955] Trial 3 finished with values: [0.09406537023034084, 0.7418533843753614] and parameters: {'penalty': 'l2', 'C': 9.115815400556657e-06}. \n",
      "[I 2023-10-18 11:10:21,935] Trial 4 finished with values: [0.35785908080802364, 0.7688206844142107] and parameters: {'penalty': 'l2', 'C': 2.0929043815656247}. \n"
     ]
    }
   ],
   "source": [
    "def objective(trial):\n",
    "    param = {\n",
    "        'penalty': trial.suggest_categorical('penalty', ['l2', 'l1']),\n",
    "        'C': trial.suggest_float('C', 1e-7, 10.0, log=True),\n",
    "    }\n",
    "    model_lr_3 = LogisticRegression(**param, random_state=RANDOM_STATE, solver='liblinear')\n",
    "    pipeline_lr_3 = Pipeline([\n",
    "      ('col_trans', col_trans),\n",
    "      ('tomek_links', tomek_links),\n",
    "      ('model_lr_3', model_lr_3)\n",
    "    ])\n",
    "    f1_lr_3 = cross_val_score(pipeline_lr_3, features_train, target_train, cv=5, scoring= 'f1').mean()\n",
    "    roc_auc_lr_3 = cross_val_score(pipeline_lr_3, features_train, target_train, cv=5, scoring= 'roc_auc').mean()\n",
    "    return f1_lr_3, roc_auc_lr_3\n",
    "study_lr_3 = optuna.create_study(directions=['maximize', 'maximize'], sampler=sampler)\n",
    "study_lr_3.optimize(objective, n_trials=5)"
   ]
  },
  {
   "cell_type": "code",
   "execution_count": 350,
   "metadata": {},
   "outputs": [
    {
     "name": "stdout",
     "output_type": "stream",
     "text": [
      "Наилучшие параметры модели: {'penalty': 'l2', 'C': 1.2804829452967423}\n",
      "F1 для логистической регрессии: 0.358024746577334\n",
      "AUC-ROC для логистической регрессии: 0.7688300125134265\n"
     ]
    }
   ],
   "source": [
    "print(f'Наилучшие параметры модели: {study_lr_3.best_trials[0].params}\\n' +\n",
    "      f'F1 для логистической регрессии: {study_lr_3.best_trials[0].values[0]}\\n' +\n",
    "      f'AUC-ROC для логистической регрессии: {study_lr_3.best_trials[0].values[1]}')"
   ]
  },
  {
   "cell_type": "markdown",
   "metadata": {},
   "source": [
    "#### Способ 4 - комбинированный"
   ]
  },
  {
   "cell_type": "code",
   "execution_count": 351,
   "metadata": {},
   "outputs": [
    {
     "name": "stderr",
     "output_type": "stream",
     "text": [
      "[I 2023-10-18 11:10:21,961] A new study created in memory with name: no-name-07d00a7f-cd2a-4d70-b4a6-936abb90ec4b\n",
      "[I 2023-10-18 11:10:25,530] Trial 0 finished with values: [0.46405013146860197, 0.756505949678506] and parameters: {'penalty': 'l2', 'C': 1.0469857155393844e-05}. \n",
      "[I 2023-10-18 11:10:29,100] Trial 1 finished with values: [0.48715551967604076, 0.7675057199210137] and parameters: {'penalty': 'l2', 'C': 0.0009754107626848873}. \n",
      "[I 2023-10-18 11:10:32,712] Trial 2 finished with values: [0.49973285036183457, 0.7729048526750395] and parameters: {'penalty': 'l1', 'C': 0.01609957060343895}. \n",
      "[I 2023-10-18 11:10:36,461] Trial 3 finished with values: [0.5001111168048945, 0.7722734501741313] and parameters: {'penalty': 'l1', 'C': 0.17976155944725253}. \n",
      "[I 2023-10-18 11:10:40,073] Trial 4 finished with values: [0.0, 0.5] and parameters: {'penalty': 'l1', 'C': 7.220766438348848e-07}. \n"
     ]
    }
   ],
   "source": [
    "def objective(trial):\n",
    "    param = {\n",
    "        'penalty': trial.suggest_categorical('penalty', ['l2', 'l1']),\n",
    "        'C': trial.suggest_float('C', 1e-7, 10.0, log=True),\n",
    "    }\n",
    "    model_lr_4 = LogisticRegression(**param, random_state=RANDOM_STATE, solver='liblinear')\n",
    "    pipeline_lr_4 = Pipeline([\n",
    "      ('col_trans', col_trans),\n",
    "      ('smotetomek', smotetomek),\n",
    "      ('model_lr_4', model_lr_4)\n",
    "    ])\n",
    "    f1_lr_4 = cross_val_score(pipeline_lr_4, features_train, target_train, cv=5, scoring= 'f1').mean()\n",
    "    roc_auc_lr_4 = cross_val_score(pipeline_lr_4, features_train, target_train, cv=5, scoring= 'roc_auc').mean()\n",
    "    return f1_lr_4, roc_auc_lr_4\n",
    "study_lr_4 = optuna.create_study(directions=['maximize', 'maximize'], sampler=sampler)\n",
    "study_lr_4.optimize(objective, n_trials=5)"
   ]
  },
  {
   "cell_type": "code",
   "execution_count": 352,
   "metadata": {},
   "outputs": [
    {
     "name": "stdout",
     "output_type": "stream",
     "text": [
      "Наилучшие параметры модели: {'penalty': 'l1', 'C': 0.01609957060343895}\n",
      "F1 для логистической регрессии: 0.49973285036183457\n",
      "AUC-ROC для логистической регрессии: 0.7729048526750395\n"
     ]
    }
   ],
   "source": [
    "print(f'Наилучшие параметры модели: {study_lr_4.best_trials[0].params}\\n' +\n",
    "      f'F1 для логистической регрессии: {study_lr_4.best_trials[0].values[0]}\\n' +\n",
    "      f'AUC-ROC для логистической регрессии: {study_lr_4.best_trials[0].values[1]}')"
   ]
  },
  {
   "cell_type": "markdown",
   "metadata": {},
   "source": [
    "#### 2.3.2. Построение модели - решающее дерево (с учетом дисбаланса)"
   ]
  },
  {
   "cell_type": "markdown",
   "metadata": {},
   "source": [
    "#### Способ 1 - взвешивание классов"
   ]
  },
  {
   "cell_type": "code",
   "execution_count": 353,
   "metadata": {},
   "outputs": [
    {
     "name": "stderr",
     "output_type": "stream",
     "text": [
      "[I 2023-10-18 11:10:40,099] A new study created in memory with name: no-name-1bc3d7b1-a265-4ef2-a5fc-729af682e7ef\n",
      "[I 2023-10-18 11:10:40,859] Trial 0 finished with values: [0.5162522393122446, 0.7422574164241802] and parameters: {'min_samples_split': 14, 'max_depth': 17}. \n",
      "[I 2023-10-18 11:10:41,638] Trial 1 finished with values: [0.5136404883178989, 0.7383687193370927] and parameters: {'min_samples_split': 13, 'max_depth': 37}. \n",
      "[I 2023-10-18 11:10:42,346] Trial 2 finished with values: [0.5213627234503116, 0.7165030595129711] and parameters: {'min_samples_split': 2, 'max_depth': 12}. \n",
      "[I 2023-10-18 11:10:43,186] Trial 3 finished with values: [0.5050862929779, 0.7062407887551976] and parameters: {'min_samples_split': 6, 'max_depth': 27}. \n",
      "[I 2023-10-18 11:10:44,136] Trial 4 finished with values: [0.5506472141214187, 0.7564266174340692] and parameters: {'min_samples_split': 3, 'max_depth': 10}. \n"
     ]
    }
   ],
   "source": [
    "def objective(trial):\n",
    "    param = {\n",
    "        'min_samples_split': trial.suggest_int('min_samples_split', 2, 15),\n",
    "        'max_depth': trial.suggest_int('max_depth', 5, 40),\n",
    "    }\n",
    "    model_dt_1= DecisionTreeClassifier(**param, random_state=RANDOM_STATE, class_weight='balanced')\n",
    "    pipeline_dt_1 = make_pipeline(col_trans,  model_dt_1)\n",
    "    f1_dt_1 = cross_val_score(pipeline_dt_1, features_train, target_train, cv=5, scoring= 'f1').mean()\n",
    "    roc_auc_dt_1 = cross_val_score(pipeline_dt_1, features_train, target_train, cv=5, scoring= 'roc_auc').mean()\n",
    "    return f1_dt_1, roc_auc_dt_1\n",
    "study_dt_1 = optuna.create_study(directions=['maximize', 'maximize'], sampler=sampler)\n",
    "study_dt_1.optimize(objective, n_trials=5)"
   ]
  },
  {
   "cell_type": "code",
   "execution_count": 354,
   "metadata": {},
   "outputs": [
    {
     "name": "stdout",
     "output_type": "stream",
     "text": [
      "Наилучшие параметры модели: {'min_samples_split': 3, 'max_depth': 10}\n",
      "F1 для решающего дерева: 0.5506472141214187\n",
      "AUC-ROC для решающего дерева: 0.7564266174340692\n"
     ]
    }
   ],
   "source": [
    "print(f'Наилучшие параметры модели: {study_dt_1.best_trials[0].params}\\n' +\n",
    "      f'F1 для решающего дерева: {study_dt_1.best_trials[0].values[0]}\\n' +\n",
    "      f'AUC-ROC для решающего дерева: {study_dt_1.best_trials[0].values[1]}')"
   ]
  },
  {
   "cell_type": "markdown",
   "metadata": {},
   "source": [
    "#### Способ 2 - upsampling"
   ]
  },
  {
   "cell_type": "code",
   "execution_count": 355,
   "metadata": {},
   "outputs": [
    {
     "name": "stderr",
     "output_type": "stream",
     "text": [
      "[I 2023-10-18 11:10:44,152] A new study created in memory with name: no-name-fbb83068-660c-4700-b11d-a83d75cfb1dc\n",
      "[I 2023-10-18 11:10:45,695] Trial 0 finished with values: [0.5302912246534325, 0.7502764665464061] and parameters: {'min_samples_split': 9, 'max_depth': 29}. \n",
      "[I 2023-10-18 11:10:47,058] Trial 1 finished with values: [0.5299539127807669, 0.7621980902217556] and parameters: {'min_samples_split': 13, 'max_depth': 28}. \n",
      "[I 2023-10-18 11:10:48,584] Trial 2 finished with values: [0.5305792117711015, 0.7512516561244512] and parameters: {'min_samples_split': 10, 'max_depth': 30}. \n",
      "[I 2023-10-18 11:10:49,959] Trial 3 finished with values: [0.5190003383081682, 0.7253064284290633] and parameters: {'min_samples_split': 5, 'max_depth': 37}. \n",
      "[I 2023-10-18 11:10:50,956] Trial 4 finished with values: [0.5432731344372608, 0.8192842397360065] and parameters: {'min_samples_split': 8, 'max_depth': 5}. \n"
     ]
    }
   ],
   "source": [
    "def objective(trial):\n",
    "    param = {\n",
    "        'min_samples_split': trial.suggest_int('min_samples_split', 2, 15),\n",
    "        'max_depth': trial.suggest_int('max_depth', 5, 40),\n",
    "    }\n",
    "    model_dt_2= DecisionTreeClassifier(**param, random_state=RANDOM_STATE)\n",
    "    pipeline_dt_2 = Pipeline([\n",
    "      ('col_trans', col_trans),\n",
    "      ('smote', smote),\n",
    "      ('model_dt_2', model_dt_2)\n",
    "    ])\n",
    "    f1_dt_2 = cross_val_score(pipeline_dt_2, features_train, target_train, cv=5, scoring= 'f1').mean()\n",
    "    roc_auc_dt_2 = cross_val_score(pipeline_dt_2, features_train, target_train, cv=5, scoring= 'roc_auc').mean()\n",
    "    return f1_dt_2, roc_auc_dt_2\n",
    "study_dt_2 = optuna.create_study(directions=['maximize', 'maximize'], sampler=sampler)\n",
    "study_dt_2.optimize(objective, n_trials=5)"
   ]
  },
  {
   "cell_type": "code",
   "execution_count": 356,
   "metadata": {},
   "outputs": [
    {
     "name": "stdout",
     "output_type": "stream",
     "text": [
      "Наилучшие параметры модели: {'min_samples_split': 8, 'max_depth': 5}\n",
      "F1 для решающего дерева: 0.5432731344372608\n",
      "AUC-ROC для решающего дерева: 0.8192842397360065\n"
     ]
    }
   ],
   "source": [
    "print(f'Наилучшие параметры модели: {study_dt_2.best_trials[0].params}\\n' +\n",
    "      f'F1 для решающего дерева: {study_dt_2.best_trials[0].values[0]}\\n' +\n",
    "      f'AUC-ROC для решающего дерева: {study_dt_2.best_trials[0].values[1]}')"
   ]
  },
  {
   "cell_type": "markdown",
   "metadata": {},
   "source": [
    "#### Способ 3 - downsampling"
   ]
  },
  {
   "cell_type": "code",
   "execution_count": 357,
   "metadata": {},
   "outputs": [
    {
     "name": "stderr",
     "output_type": "stream",
     "text": [
      "[I 2023-10-18 11:10:50,971] A new study created in memory with name: no-name-691eb8d1-50fa-4039-8f03-f212483c666d\n",
      "[I 2023-10-18 11:10:53,792] Trial 0 finished with values: [0.5297762139770569, 0.769010911578371] and parameters: {'min_samples_split': 15, 'max_depth': 28}. \n",
      "[I 2023-10-18 11:10:56,497] Trial 1 finished with values: [0.5202066362532785, 0.7402214966537899] and parameters: {'min_samples_split': 9, 'max_depth': 29}. \n",
      "[I 2023-10-18 11:10:59,209] Trial 2 finished with values: [0.5209481815084405, 0.7352604867202877] and parameters: {'min_samples_split': 8, 'max_depth': 38}. \n",
      "[I 2023-10-18 11:11:01,693] Trial 3 finished with values: [0.5902168700347609, 0.8332849045055047] and parameters: {'min_samples_split': 9, 'max_depth': 7}. \n",
      "[I 2023-10-18 11:11:04,340] Trial 4 finished with values: [0.5202066362532785, 0.7402214966537899] and parameters: {'min_samples_split': 9, 'max_depth': 27}. \n"
     ]
    }
   ],
   "source": [
    "def objective(trial):\n",
    "    param = {\n",
    "        'min_samples_split': trial.suggest_int('min_samples_split', 2, 15),\n",
    "        'max_depth': trial.suggest_int('max_depth', 5, 40),\n",
    "    }\n",
    "    model_dt_3= DecisionTreeClassifier(**param, random_state=RANDOM_STATE)\n",
    "    pipeline_dt_3 = Pipeline([\n",
    "      ('col_trans', col_trans),\n",
    "      ('tomek_links', tomek_links),\n",
    "      ('model_dt_3', model_dt_3)\n",
    "    ])\n",
    "    f1_dt_3 = cross_val_score(pipeline_dt_3, features_train, target_train, cv=5, scoring= 'f1').mean()\n",
    "    roc_auc_dt_3 = cross_val_score(pipeline_dt_3, features_train, target_train, cv=5, scoring= 'roc_auc').mean()\n",
    "    return f1_dt_3, roc_auc_dt_3\n",
    "study_dt_3 = optuna.create_study(directions=['maximize', 'maximize'], sampler=sampler)\n",
    "study_dt_3.optimize(objective, n_trials=5)"
   ]
  },
  {
   "cell_type": "code",
   "execution_count": 358,
   "metadata": {},
   "outputs": [
    {
     "name": "stdout",
     "output_type": "stream",
     "text": [
      "Наилучшие параметры модели: {'min_samples_split': 9, 'max_depth': 7}\n",
      "F1 для решающего дерева: 0.5902168700347609\n",
      "AUC-ROC для решающего дерева: 0.8332849045055047\n"
     ]
    }
   ],
   "source": [
    "print(f'Наилучшие параметры модели: {study_dt_3.best_trials[0].params}\\n' +\n",
    "      f'F1 для решающего дерева: {study_dt_3.best_trials[0].values[0]}\\n' +\n",
    "      f'AUC-ROC для решающего дерева: {study_dt_3.best_trials[0].values[1]}')"
   ]
  },
  {
   "cell_type": "markdown",
   "metadata": {},
   "source": [
    "#### Способ 4 - комбинированный"
   ]
  },
  {
   "cell_type": "code",
   "execution_count": 359,
   "metadata": {},
   "outputs": [
    {
     "name": "stderr",
     "output_type": "stream",
     "text": [
      "[I 2023-10-18 11:11:04,355] A new study created in memory with name: no-name-ab6a56e1-f339-4b88-bf0e-cb66da87092c\n",
      "[I 2023-10-18 11:11:08,184] Trial 0 finished with values: [0.5209590008295342, 0.7650051864379164] and parameters: {'min_samples_split': 15, 'max_depth': 19}. \n",
      "[I 2023-10-18 11:11:11,893] Trial 1 finished with values: [0.5799206209773267, 0.8118144151062442] and parameters: {'min_samples_split': 5, 'max_depth': 8}. \n",
      "[I 2023-10-18 11:11:15,785] Trial 2 finished with values: [0.5081861188806789, 0.7402316556523489] and parameters: {'min_samples_split': 8, 'max_depth': 21}. \n",
      "[I 2023-10-18 11:11:19,609] Trial 3 finished with values: [0.5066007359610387, 0.6961479833983765] and parameters: {'min_samples_split': 2, 'max_depth': 29}. \n",
      "[I 2023-10-18 11:11:23,420] Trial 4 finished with values: [0.515649208601143, 0.7547040834296321] and parameters: {'min_samples_split': 12, 'max_depth': 31}. \n"
     ]
    }
   ],
   "source": [
    "def objective(trial):\n",
    "    param = {\n",
    "        'min_samples_split': trial.suggest_int('min_samples_split', 2, 15),\n",
    "        'max_depth': trial.suggest_int('max_depth', 5, 40),\n",
    "    }\n",
    "    model_dt_4= DecisionTreeClassifier(**param, random_state=RANDOM_STATE)\n",
    "    pipeline_dt_4 = Pipeline([\n",
    "      ('col_trans', col_trans),\n",
    "      ('smotetomek', smotetomek),\n",
    "      ('model_dt_4', model_dt_4)\n",
    "    ])\n",
    "    f1_dt_4 = cross_val_score(pipeline_dt_4, features_train, target_train, cv=5, scoring= 'f1').mean()\n",
    "    roc_auc_dt_4 = cross_val_score(pipeline_dt_4, features_train, target_train, cv=5, scoring= 'roc_auc').mean()\n",
    "    return f1_dt_4, roc_auc_dt_4\n",
    "study_dt_4 = optuna.create_study(directions=['maximize', 'maximize'], sampler=sampler)\n",
    "study_dt_4.optimize(objective, n_trials=5)"
   ]
  },
  {
   "cell_type": "code",
   "execution_count": 360,
   "metadata": {},
   "outputs": [
    {
     "name": "stdout",
     "output_type": "stream",
     "text": [
      "Наилучшие параметры модели: {'min_samples_split': 5, 'max_depth': 8}\n",
      "F1 для решающего дерева: 0.5799206209773267\n",
      "AUC-ROC для решающего дерева: 0.8118144151062442\n"
     ]
    }
   ],
   "source": [
    "print(f'Наилучшие параметры модели: {study_dt_4.best_trials[0].params}\\n' +\n",
    "      f'F1 для решающего дерева: {study_dt_4.best_trials[0].values[0]}\\n' +\n",
    "      f'AUC-ROC для решающего дерева: {study_dt_4.best_trials[0].values[1]}')"
   ]
  },
  {
   "cell_type": "markdown",
   "metadata": {},
   "source": [
    "#### 2.3.3. Построение модели - случайный лес (с учетом дисбаланса)"
   ]
  },
  {
   "cell_type": "markdown",
   "metadata": {},
   "source": [
    "#### Способ 1 - взвешивание классов"
   ]
  },
  {
   "cell_type": "code",
   "execution_count": 372,
   "metadata": {},
   "outputs": [
    {
     "name": "stderr",
     "output_type": "stream",
     "text": [
      "[I 2023-10-18 11:33:16,624] A new study created in memory with name: no-name-60c4b599-3308-4473-9b47-29f24cd521c0\n",
      "[I 2023-10-18 11:33:43,106] Trial 0 finished with values: [0.5651460971242364, 0.8524643745087508] and parameters: {'n_estimators': 262, 'max_depth': 46}. \n",
      "[I 2023-10-18 11:34:35,460] Trial 1 finished with values: [0.5683025942811993, 0.853982651239521] and parameters: {'n_estimators': 611, 'max_depth': 49}. \n",
      "[I 2023-10-18 11:34:37,426] Trial 2 finished with values: [0.6079157603512404, 0.8480937512382176] and parameters: {'n_estimators': 20, 'max_depth': 10}. \n",
      "[I 2023-10-18 11:34:57,780] Trial 3 finished with values: [0.5668649001142698, 0.8525632575797768] and parameters: {'n_estimators': 233, 'max_depth': 50}. \n",
      "[I 2023-10-18 11:35:08,465] Trial 4 finished with values: [0.5741486707293242, 0.8517697420055953] and parameters: {'n_estimators': 121, 'max_depth': 16}. \n"
     ]
    }
   ],
   "source": [
    "def objective(trial):\n",
    "    param = {\n",
    "        'n_estimators': trial.suggest_int('n_estimators', 20, 700),\n",
    "        'max_depth': trial.suggest_int('max_depth', 10, 50),\n",
    "    }\n",
    "    model_rf_1 = RandomForestClassifier(**param, random_state=RANDOM_STATE, class_weight='balanced')\n",
    "    pipeline_rf_1 = make_pipeline(col_trans, model_rf_1)\n",
    "    f1_rf_1 = cross_val_score(pipeline_rf_1, features_train, target_train, cv=5, scoring= 'f1').mean()\n",
    "    roc_auc_rf_1 = cross_val_score(pipeline_rf_1, features_train, target_train, cv=5, scoring= 'roc_auc').mean()\n",
    "    return f1_rf_1, roc_auc_rf_1\n",
    "study_rf_1 = optuna.create_study(directions=['maximize', 'maximize'], sampler=sampler)\n",
    "study_rf_1.optimize(objective, n_trials=5)"
   ]
  },
  {
   "cell_type": "code",
   "execution_count": 374,
   "metadata": {},
   "outputs": [
    {
     "name": "stdout",
     "output_type": "stream",
     "text": [
      "Наилучшие параметры модели: {'n_estimators': 611, 'max_depth': 49}\n",
      "F1 для случайного леса: 0.5683025942811993\n",
      "AUC-ROC для случайного леса: 0.853982651239521\n"
     ]
    }
   ],
   "source": [
    "print(f'Наилучшие параметры модели: {study_rf_1.best_trials[0].params}\\n' +\n",
    "      f'F1 для случайного леса: {study_rf_1.best_trials[0].values[0]}\\n' +\n",
    "      f'AUC-ROC для случайного леса: {study_rf_1.best_trials[0].values[1]}')"
   ]
  },
  {
   "cell_type": "markdown",
   "metadata": {},
   "source": [
    "#### Способ 2 - upsampling"
   ]
  },
  {
   "cell_type": "code",
   "execution_count": 363,
   "metadata": {},
   "outputs": [
    {
     "name": "stderr",
     "output_type": "stream",
     "text": [
      "[I 2023-10-18 11:13:41,081] A new study created in memory with name: no-name-5f544c10-c87e-42d6-ac71-6e45f5ab2aaa\n",
      "[I 2023-10-18 11:15:17,766] Trial 0 finished with values: [0.6000743666741691, 0.8512665784755642] and parameters: {'n_estimators': 611, 'max_depth': 21}. \n",
      "[I 2023-10-18 11:16:23,435] Trial 1 finished with values: [0.5962923256088033, 0.8511964305489078] and parameters: {'n_estimators': 418, 'max_depth': 28}. \n",
      "[I 2023-10-18 11:17:11,024] Trial 2 finished with values: [0.5957698258185383, 0.8506376268634666] and parameters: {'n_estimators': 300, 'max_depth': 46}. \n",
      "[I 2023-10-18 11:18:28,823] Trial 3 finished with values: [0.5984712788793548, 0.8513279974368931] and parameters: {'n_estimators': 491, 'max_depth': 21}. \n",
      "[I 2023-10-18 11:18:39,289] Trial 4 finished with values: [0.5882969231922746, 0.8464411371314498] and parameters: {'n_estimators': 63, 'max_depth': 18}. \n"
     ]
    }
   ],
   "source": [
    "def objective(trial):\n",
    "    param = {\n",
    "        'n_estimators': trial.suggest_int('n_estimators', 20, 700),\n",
    "        'max_depth': trial.suggest_int('max_depth', 10, 50),\n",
    "    }\n",
    "    model_rf_2 = RandomForestClassifier(**param, random_state=RANDOM_STATE)\n",
    "    pipeline_rf_2 = Pipeline([\n",
    "      ('col_trans', col_trans),\n",
    "      ('smote', smote),\n",
    "      ('model_rf_2', model_rf_2)\n",
    "    ])\n",
    "    f1_rf_2 = cross_val_score(pipeline_rf_2, features_train, target_train, cv=5, scoring= 'f1').mean()\n",
    "    roc_auc_rf_2 = cross_val_score(pipeline_rf_2, features_train, target_train, cv=5, scoring= 'roc_auc').mean()\n",
    "    return f1_rf_2, roc_auc_rf_2\n",
    "study_rf_2 = optuna.create_study(directions=['maximize', 'maximize'], sampler=sampler)\n",
    "study_rf_2.optimize(objective, n_trials=5)"
   ]
  },
  {
   "cell_type": "code",
   "execution_count": 364,
   "metadata": {},
   "outputs": [
    {
     "name": "stdout",
     "output_type": "stream",
     "text": [
      "Наилучшие параметры модели: {'n_estimators': 611, 'max_depth': 21}\n",
      "F1 для случайного леса: 0.6000743666741691\n",
      "AUC-ROC для случайного леса: 0.8512665784755642\n"
     ]
    }
   ],
   "source": [
    "print(f'Наилучшие параметры модели: {study_rf_2.best_trials[0].params}\\n' +\n",
    "      f'F1 для случайного леса: {study_rf_2.best_trials[0].values[0]}\\n' +\n",
    "      f'AUC-ROC для случайного леса: {study_rf_2.best_trials[0].values[1]}')"
   ]
  },
  {
   "cell_type": "markdown",
   "metadata": {},
   "source": [
    "#### Способ 3 - downsampling"
   ]
  },
  {
   "cell_type": "code",
   "execution_count": 365,
   "metadata": {},
   "outputs": [
    {
     "name": "stderr",
     "output_type": "stream",
     "text": [
      "[I 2023-10-18 11:18:39,304] A new study created in memory with name: no-name-588ff4da-b945-472c-8de0-a94e55192910\n",
      "[I 2023-10-18 11:19:36,311] Trial 0 finished with values: [0.5983324778443473, 0.8546504126018156] and parameters: {'n_estimators': 654, 'max_depth': 45}. \n",
      "[I 2023-10-18 11:20:28,551] Trial 1 finished with values: [0.5967358487867165, 0.8603932410461489] and parameters: {'n_estimators': 670, 'max_depth': 12}. \n",
      "[I 2023-10-18 11:21:05,006] Trial 2 finished with values: [0.6010129168815472, 0.8543979932235303] and parameters: {'n_estimators': 414, 'max_depth': 29}. \n",
      "[I 2023-10-18 11:21:10,125] Trial 3 finished with values: [0.5893866401279019, 0.8457838648020285] and parameters: {'n_estimators': 34, 'max_depth': 25}. \n",
      "[I 2023-10-18 11:21:37,321] Trial 4 finished with values: [0.5991545920345093, 0.853723740189654] and parameters: {'n_estimators': 301, 'max_depth': 34}. \n"
     ]
    }
   ],
   "source": [
    "def objective(trial):\n",
    "    param = {\n",
    "        'n_estimators': trial.suggest_int('n_estimators', 20, 700),\n",
    "        'max_depth': trial.suggest_int('max_depth', 10, 50),\n",
    "    }\n",
    "    model_rf_3 = RandomForestClassifier(**param, random_state=RANDOM_STATE)\n",
    "    pipeline_rf_3 = Pipeline([\n",
    "      ('col_trans', col_trans),\n",
    "      ('tomek_links', tomek_links),\n",
    "      ('model_rf_3', model_rf_3)\n",
    "    ])\n",
    "    f1_rf_3 = cross_val_score(pipeline_rf_3, features_train, target_train, cv=5, scoring= 'f1').mean()\n",
    "    roc_auc_rf_3 = cross_val_score(pipeline_rf_3, features_train, target_train, cv=5, scoring= 'roc_auc').mean()\n",
    "    return f1_rf_3, roc_auc_rf_3\n",
    "study_rf_3 = optuna.create_study(directions=['maximize', 'maximize'], sampler=sampler)\n",
    "study_rf_3.optimize(objective, n_trials=5)"
   ]
  },
  {
   "cell_type": "code",
   "execution_count": 366,
   "metadata": {},
   "outputs": [
    {
     "name": "stdout",
     "output_type": "stream",
     "text": [
      "Наилучшие параметры модели: {'n_estimators': 654, 'max_depth': 45}\n",
      "F1 для случайного леса: 0.5983324778443473\n",
      "AUC-ROC для случайного леса: 0.8546504126018156\n"
     ]
    }
   ],
   "source": [
    "print(f'Наилучшие параметры модели: {study_rf_3.best_trials[0].params}\\n' +\n",
    "      f'F1 для случайного леса: {study_rf_3.best_trials[0].values[0]}\\n' +\n",
    "      f'AUC-ROC для случайного леса: {study_rf_3.best_trials[0].values[1]}')"
   ]
  },
  {
   "cell_type": "markdown",
   "metadata": {},
   "source": [
    "#### Способ 4 комбинированный"
   ]
  },
  {
   "cell_type": "code",
   "execution_count": 367,
   "metadata": {},
   "outputs": [
    {
     "name": "stderr",
     "output_type": "stream",
     "text": [
      "[I 2023-10-18 11:21:37,335] A new study created in memory with name: no-name-6692296d-94b2-4261-96d5-e3df314edec6\n",
      "[I 2023-10-18 11:22:53,760] Trial 0 finished with values: [0.5928690987637661, 0.8516538333441023] and parameters: {'n_estimators': 477, 'max_depth': 44}. \n",
      "[I 2023-10-18 11:24:21,541] Trial 1 finished with values: [0.5911933590413117, 0.851578402593932] and parameters: {'n_estimators': 550, 'max_depth': 26}. \n",
      "[I 2023-10-18 11:25:51,646] Trial 2 finished with values: [0.5918457395428677, 0.8516636134158839] and parameters: {'n_estimators': 561, 'max_depth': 46}. \n",
      "[I 2023-10-18 11:26:25,454] Trial 3 finished with values: [0.5936743524758353, 0.8501850176946236] and parameters: {'n_estimators': 198, 'max_depth': 50}. \n",
      "[I 2023-10-18 11:28:01,704] Trial 4 finished with values: [0.5919638376427856, 0.8516763093006035] and parameters: {'n_estimators': 601, 'max_depth': 39}. \n"
     ]
    }
   ],
   "source": [
    "def objective(trial):\n",
    "    param = {\n",
    "        'n_estimators': trial.suggest_int('n_estimators', 20, 700),\n",
    "        'max_depth': trial.suggest_int('max_depth', 10, 50),\n",
    "    }\n",
    "    model_rf_4 = RandomForestClassifier(**param, random_state=RANDOM_STATE)\n",
    "    pipeline_rf_4 = Pipeline([\n",
    "      ('col_trans', col_trans),\n",
    "      ('smotetomek', smotetomek),\n",
    "      ('model_rf_4', model_rf_4)\n",
    "    ])\n",
    "    f1_rf_4 = cross_val_score(pipeline_rf_4, features_train, target_train, cv=5, scoring= 'f1').mean()\n",
    "    roc_auc_rf_4 = cross_val_score(pipeline_rf_4, features_train, target_train, cv=5, scoring= 'roc_auc').mean()\n",
    "    return f1_rf_4, roc_auc_rf_4\n",
    "study_rf_4 = optuna.create_study(directions=['maximize', 'maximize'], sampler=sampler)\n",
    "study_rf_4.optimize(objective, n_trials=5)"
   ]
  },
  {
   "cell_type": "markdown",
   "metadata": {},
   "source": [
    "<b>Вывод:</b> Сравним построенные модели по качеству (F1-мера и AUC-ROC) с учетом дисбаланса:\n",
    "- самое высокое качество у случайного леса наилушее качество F1 равно <b>0.6001</b>, AUC-ROC равно <b>0.8513</b>, после  upsampling с гиперпараметрами:\n",
    "    - n_estimators = 611, \n",
    "    - max_depth = 21,\n",
    "- у модели - дерево решений наилучшее качество F1 равно <b>0.5902</b>, AUC-ROC равно <b>0.8333</b> после  downsampling с гиперпараметрами:\n",
    "    - max_depth = 7;\n",
    "    - min_samples_split = 9; \n",
    "- у модели - логистическая регрессия наилучшее качество F1 равно <b>0.5002</b>, AUC-ROC равно <b>0.7722</b> после upsampling."
   ]
  },
  {
   "cell_type": "markdown",
   "metadata": {},
   "source": [
    "<b>Полученные результаты из п.2 и п.3 представим в виде таблицы:</b>"
   ]
  },
  {
   "cell_type": "code",
   "execution_count": 375,
   "metadata": {},
   "outputs": [
    {
     "data": {
      "text/html": [
       "<div>\n",
       "<style scoped>\n",
       "    .dataframe tbody tr th:only-of-type {\n",
       "        vertical-align: middle;\n",
       "    }\n",
       "\n",
       "    .dataframe tbody tr th {\n",
       "        vertical-align: top;\n",
       "    }\n",
       "\n",
       "    .dataframe thead th {\n",
       "        text-align: right;\n",
       "    }\n",
       "</style>\n",
       "<table border=\"1\" class=\"dataframe\">\n",
       "  <thead>\n",
       "    <tr style=\"text-align: right;\">\n",
       "      <th></th>\n",
       "      <th>F1, AUC-ROC без уч. дисбаланса</th>\n",
       "      <th>F1, AUC-ROC взвеш.классов</th>\n",
       "      <th>F1, AUC-ROC upsampling</th>\n",
       "      <th>F1, AUC-ROC downsampling</th>\n",
       "      <th>F1, AUC-ROC комбинированный</th>\n",
       "    </tr>\n",
       "  </thead>\n",
       "  <tbody>\n",
       "    <tr>\n",
       "      <th>логистическая регрессия</th>\n",
       "      <td>[0.3105, 0.7697]</td>\n",
       "      <td>[0.4974, 0.7729]</td>\n",
       "      <td>[0.5002, 0.7722]</td>\n",
       "      <td>[0.358, 0.7688]</td>\n",
       "      <td>[0.4997, 0.7729]</td>\n",
       "    </tr>\n",
       "    <tr>\n",
       "      <th>решающее дерево</th>\n",
       "      <td>[0.5184, 0.7435]</td>\n",
       "      <td>[0.5506, 0.7564]</td>\n",
       "      <td>[0.5433, 0.8193]</td>\n",
       "      <td>[0.5902, 0.8333]</td>\n",
       "      <td>[0.5799, 0.8118]</td>\n",
       "    </tr>\n",
       "    <tr>\n",
       "      <th>случайный лес</th>\n",
       "      <td>[0.5766, 0.8532]</td>\n",
       "      <td>[0.5683, 0.854]</td>\n",
       "      <td>[0.6001, 0.8513]</td>\n",
       "      <td>[0.5983, 0.8547]</td>\n",
       "      <td>[0.5929, 0.8517]</td>\n",
       "    </tr>\n",
       "  </tbody>\n",
       "</table>\n",
       "</div>"
      ],
      "text/plain": [
       "                        F1, AUC-ROC без уч. дисбаланса  \\\n",
       "логистическая регрессия               [0.3105, 0.7697]   \n",
       "решающее дерево                       [0.5184, 0.7435]   \n",
       "случайный лес                         [0.5766, 0.8532]   \n",
       "\n",
       "                        F1, AUC-ROC взвеш.классов F1, AUC-ROC upsampling  \\\n",
       "логистическая регрессия          [0.4974, 0.7729]       [0.5002, 0.7722]   \n",
       "решающее дерево                  [0.5506, 0.7564]       [0.5433, 0.8193]   \n",
       "случайный лес                     [0.5683, 0.854]       [0.6001, 0.8513]   \n",
       "\n",
       "                        F1, AUC-ROC downsampling F1, AUC-ROC комбинированный  \n",
       "логистическая регрессия          [0.358, 0.7688]            [0.4997, 0.7729]  \n",
       "решающее дерево                 [0.5902, 0.8333]            [0.5799, 0.8118]  \n",
       "случайный лес                   [0.5983, 0.8547]            [0.5929, 0.8517]  "
      ]
     },
     "execution_count": 375,
     "metadata": {},
     "output_type": "execute_result"
    }
   ],
   "source": [
    "models = ['логистическая регрессия', 'решающее дерево', 'случайный лес']\n",
    "result = {\n",
    "    'F1, AUC-ROC без уч. дисбаланса': [[round(study_lr.best_trials[0].values[0], 4), round(study_lr.best_trials[0].values[1], 4)], \n",
    "                                       [round(study_dt.best_trials[0].values[0], 4), round(study_dt.best_trials[0].values[1], 4)], \n",
    "                                       [round(study_rf.best_trials[0].values[0], 4), round(study_rf.best_trials[0].values[1], 4)],\n",
    "                                      ],\n",
    "    'F1, AUC-ROC взвеш.классов': [[round(study_lr_1.best_trials[0].values[0], 4), round(study_lr_1.best_trials[0].values[1], 4)], \n",
    "                                  [round(study_dt_1.best_trials[0].values[0], 4), round(study_dt_1.best_trials[0].values[1], 4)], \n",
    "                                  [round(study_rf_1.best_trials[0].values[0], 4), round(study_rf_1.best_trials[0].values[1], 4)],\n",
    "                                 ],\n",
    "    'F1, AUC-ROC upsampling': [[round(study_lr_2.best_trials[0].values[0], 4), round(study_lr_2.best_trials[0].values[1], 4)], \n",
    "                               [round(study_dt_2.best_trials[0].values[0], 4), round(study_dt_2.best_trials[0].values[1], 4)], \n",
    "                               [round(study_rf_2.best_trials[0].values[0], 4), round(study_rf_2.best_trials[0].values[1], 4)],\n",
    "                              ],\n",
    "    'F1, AUC-ROC downsampling': [[round(study_lr_3.best_trials[0].values[0], 4), round(study_lr_3.best_trials[0].values[1], 4)], \n",
    "                                 [round(study_dt_3.best_trials[0].values[0], 4), round(study_dt_3.best_trials[0].values[1], 4)], \n",
    "                                 [round(study_rf_3.best_trials[0].values[0], 4), round(study_rf_3.best_trials[0].values[1], 4)],\n",
    "                                ],\n",
    "    'F1, AUC-ROC комбинированный': [[round(study_lr_4.best_trials[0].values[0], 4), round(study_lr_4.best_trials[0].values[1], 4)], \n",
    "                                    [round(study_dt_4.best_trials[0].values[0], 4), round(study_dt_4.best_trials[0].values[1], 4)], \n",
    "                                    [round(study_rf_4.best_trials[0].values[0], 4), round(study_rf_4.best_trials[0].values[1], 4)],\n",
    "                                   ],\n",
    "    \n",
    "}\n",
    "pd.DataFrame(data=result, index=models)"
   ]
  },
  {
   "cell_type": "markdown",
   "metadata": {},
   "source": [
    "<b>Вывод по п.2 и п.3:</b> \n",
    "- дисбаланс классов сильнее всего повлиял на метрику качества F1 для модели - логистическая регрессия;\n",
    "- метрика AUC-ROC более устойчива к дисбалансу классов по сравнению с F1."
   ]
  },
  {
   "cell_type": "markdown",
   "metadata": {},
   "source": [
    "## 3. Тестирование модели"
   ]
  },
  {
   "cell_type": "markdown",
   "metadata": {},
   "source": [
    "По итогам предыдущих пунктов наилучшее качество показала модель - случайный лес после upsampling. Проверим качество данной модели на тестовой выборке:"
   ]
  },
  {
   "cell_type": "code",
   "execution_count": 369,
   "metadata": {},
   "outputs": [
    {
     "data": {
      "text/html": [
       "<style>#sk-container-id-10 {color: black;}#sk-container-id-10 pre{padding: 0;}#sk-container-id-10 div.sk-toggleable {background-color: white;}#sk-container-id-10 label.sk-toggleable__label {cursor: pointer;display: block;width: 100%;margin-bottom: 0;padding: 0.3em;box-sizing: border-box;text-align: center;}#sk-container-id-10 label.sk-toggleable__label-arrow:before {content: \"▸\";float: left;margin-right: 0.25em;color: #696969;}#sk-container-id-10 label.sk-toggleable__label-arrow:hover:before {color: black;}#sk-container-id-10 div.sk-estimator:hover label.sk-toggleable__label-arrow:before {color: black;}#sk-container-id-10 div.sk-toggleable__content {max-height: 0;max-width: 0;overflow: hidden;text-align: left;background-color: #f0f8ff;}#sk-container-id-10 div.sk-toggleable__content pre {margin: 0.2em;color: black;border-radius: 0.25em;background-color: #f0f8ff;}#sk-container-id-10 input.sk-toggleable__control:checked~div.sk-toggleable__content {max-height: 200px;max-width: 100%;overflow: auto;}#sk-container-id-10 input.sk-toggleable__control:checked~label.sk-toggleable__label-arrow:before {content: \"▾\";}#sk-container-id-10 div.sk-estimator input.sk-toggleable__control:checked~label.sk-toggleable__label {background-color: #d4ebff;}#sk-container-id-10 div.sk-label input.sk-toggleable__control:checked~label.sk-toggleable__label {background-color: #d4ebff;}#sk-container-id-10 input.sk-hidden--visually {border: 0;clip: rect(1px 1px 1px 1px);clip: rect(1px, 1px, 1px, 1px);height: 1px;margin: -1px;overflow: hidden;padding: 0;position: absolute;width: 1px;}#sk-container-id-10 div.sk-estimator {font-family: monospace;background-color: #f0f8ff;border: 1px dotted black;border-radius: 0.25em;box-sizing: border-box;margin-bottom: 0.5em;}#sk-container-id-10 div.sk-estimator:hover {background-color: #d4ebff;}#sk-container-id-10 div.sk-parallel-item::after {content: \"\";width: 100%;border-bottom: 1px solid gray;flex-grow: 1;}#sk-container-id-10 div.sk-label:hover label.sk-toggleable__label {background-color: #d4ebff;}#sk-container-id-10 div.sk-serial::before {content: \"\";position: absolute;border-left: 1px solid gray;box-sizing: border-box;top: 0;bottom: 0;left: 50%;z-index: 0;}#sk-container-id-10 div.sk-serial {display: flex;flex-direction: column;align-items: center;background-color: white;padding-right: 0.2em;padding-left: 0.2em;position: relative;}#sk-container-id-10 div.sk-item {position: relative;z-index: 1;}#sk-container-id-10 div.sk-parallel {display: flex;align-items: stretch;justify-content: center;background-color: white;position: relative;}#sk-container-id-10 div.sk-item::before, #sk-container-id-10 div.sk-parallel-item::before {content: \"\";position: absolute;border-left: 1px solid gray;box-sizing: border-box;top: 0;bottom: 0;left: 50%;z-index: -1;}#sk-container-id-10 div.sk-parallel-item {display: flex;flex-direction: column;z-index: 1;position: relative;background-color: white;}#sk-container-id-10 div.sk-parallel-item:first-child::after {align-self: flex-end;width: 50%;}#sk-container-id-10 div.sk-parallel-item:last-child::after {align-self: flex-start;width: 50%;}#sk-container-id-10 div.sk-parallel-item:only-child::after {width: 0;}#sk-container-id-10 div.sk-dashed-wrapped {border: 1px dashed gray;margin: 0 0.4em 0.5em 0.4em;box-sizing: border-box;padding-bottom: 0.4em;background-color: white;}#sk-container-id-10 div.sk-label label {font-family: monospace;font-weight: bold;display: inline-block;line-height: 1.2em;}#sk-container-id-10 div.sk-label-container {text-align: center;}#sk-container-id-10 div.sk-container {/* jupyter's `normalize.less` sets `[hidden] { display: none; }` but bootstrap.min.css set `[hidden] { display: none !important; }` so we also need the `!important` here to be able to override the default hidden behavior on the sphinx rendered scikit-learn.org. See: https://github.com/scikit-learn/scikit-learn/issues/21755 */display: inline-block !important;position: relative;}#sk-container-id-10 div.sk-text-repr-fallback {display: none;}</style><div id=\"sk-container-id-10\" class=\"sk-top-container\"><div class=\"sk-text-repr-fallback\"><pre>Pipeline(steps=[(&#x27;col_trans&#x27;,\n",
       "                 ColumnTransformer(n_jobs=-1, remainder=&#x27;passthrough&#x27;,\n",
       "                                   transformers=[(&#x27;standardscaler&#x27;,\n",
       "                                                  StandardScaler(),\n",
       "                                                  [&#x27;credit_score&#x27;, &#x27;age&#x27;,\n",
       "                                                   &#x27;tenure&#x27;, &#x27;balance&#x27;,\n",
       "                                                   &#x27;num_of_products&#x27;,\n",
       "                                                   &#x27;has_cr_card&#x27;,\n",
       "                                                   &#x27;is_active_member&#x27;,\n",
       "                                                   &#x27;estimated_salary&#x27;]),\n",
       "                                                 (&#x27;onehotencoder&#x27;,\n",
       "                                                  OneHotEncoder(drop=&#x27;first&#x27;,\n",
       "                                                                sparse_output=False),\n",
       "                                                  [&#x27;geography&#x27;, &#x27;gender&#x27;])])),\n",
       "                (&#x27;smote&#x27;, SMOTE(random_state=12345)),\n",
       "                (&#x27;model_rf_2&#x27;,\n",
       "                 RandomForestClassifier(max_depth=21, n_estimators=611,\n",
       "                                        random_state=12345))])</pre><b>In a Jupyter environment, please rerun this cell to show the HTML representation or trust the notebook. <br />On GitHub, the HTML representation is unable to render, please try loading this page with nbviewer.org.</b></div><div class=\"sk-container\" hidden><div class=\"sk-item sk-dashed-wrapped\"><div class=\"sk-label-container\"><div class=\"sk-label sk-toggleable\"><input class=\"sk-toggleable__control sk-hidden--visually\" id=\"sk-estimator-id-71\" type=\"checkbox\" ><label for=\"sk-estimator-id-71\" class=\"sk-toggleable__label sk-toggleable__label-arrow\">Pipeline</label><div class=\"sk-toggleable__content\"><pre>Pipeline(steps=[(&#x27;col_trans&#x27;,\n",
       "                 ColumnTransformer(n_jobs=-1, remainder=&#x27;passthrough&#x27;,\n",
       "                                   transformers=[(&#x27;standardscaler&#x27;,\n",
       "                                                  StandardScaler(),\n",
       "                                                  [&#x27;credit_score&#x27;, &#x27;age&#x27;,\n",
       "                                                   &#x27;tenure&#x27;, &#x27;balance&#x27;,\n",
       "                                                   &#x27;num_of_products&#x27;,\n",
       "                                                   &#x27;has_cr_card&#x27;,\n",
       "                                                   &#x27;is_active_member&#x27;,\n",
       "                                                   &#x27;estimated_salary&#x27;]),\n",
       "                                                 (&#x27;onehotencoder&#x27;,\n",
       "                                                  OneHotEncoder(drop=&#x27;first&#x27;,\n",
       "                                                                sparse_output=False),\n",
       "                                                  [&#x27;geography&#x27;, &#x27;gender&#x27;])])),\n",
       "                (&#x27;smote&#x27;, SMOTE(random_state=12345)),\n",
       "                (&#x27;model_rf_2&#x27;,\n",
       "                 RandomForestClassifier(max_depth=21, n_estimators=611,\n",
       "                                        random_state=12345))])</pre></div></div></div><div class=\"sk-serial\"><div class=\"sk-item sk-dashed-wrapped\"><div class=\"sk-label-container\"><div class=\"sk-label sk-toggleable\"><input class=\"sk-toggleable__control sk-hidden--visually\" id=\"sk-estimator-id-72\" type=\"checkbox\" ><label for=\"sk-estimator-id-72\" class=\"sk-toggleable__label sk-toggleable__label-arrow\">col_trans: ColumnTransformer</label><div class=\"sk-toggleable__content\"><pre>ColumnTransformer(n_jobs=-1, remainder=&#x27;passthrough&#x27;,\n",
       "                  transformers=[(&#x27;standardscaler&#x27;, StandardScaler(),\n",
       "                                 [&#x27;credit_score&#x27;, &#x27;age&#x27;, &#x27;tenure&#x27;, &#x27;balance&#x27;,\n",
       "                                  &#x27;num_of_products&#x27;, &#x27;has_cr_card&#x27;,\n",
       "                                  &#x27;is_active_member&#x27;, &#x27;estimated_salary&#x27;]),\n",
       "                                (&#x27;onehotencoder&#x27;,\n",
       "                                 OneHotEncoder(drop=&#x27;first&#x27;,\n",
       "                                               sparse_output=False),\n",
       "                                 [&#x27;geography&#x27;, &#x27;gender&#x27;])])</pre></div></div></div><div class=\"sk-parallel\"><div class=\"sk-parallel-item\"><div class=\"sk-item\"><div class=\"sk-label-container\"><div class=\"sk-label sk-toggleable\"><input class=\"sk-toggleable__control sk-hidden--visually\" id=\"sk-estimator-id-73\" type=\"checkbox\" ><label for=\"sk-estimator-id-73\" class=\"sk-toggleable__label sk-toggleable__label-arrow\">standardscaler</label><div class=\"sk-toggleable__content\"><pre>[&#x27;credit_score&#x27;, &#x27;age&#x27;, &#x27;tenure&#x27;, &#x27;balance&#x27;, &#x27;num_of_products&#x27;, &#x27;has_cr_card&#x27;, &#x27;is_active_member&#x27;, &#x27;estimated_salary&#x27;]</pre></div></div></div><div class=\"sk-serial\"><div class=\"sk-item\"><div class=\"sk-estimator sk-toggleable\"><input class=\"sk-toggleable__control sk-hidden--visually\" id=\"sk-estimator-id-74\" type=\"checkbox\" ><label for=\"sk-estimator-id-74\" class=\"sk-toggleable__label sk-toggleable__label-arrow\">StandardScaler</label><div class=\"sk-toggleable__content\"><pre>StandardScaler()</pre></div></div></div></div></div></div><div class=\"sk-parallel-item\"><div class=\"sk-item\"><div class=\"sk-label-container\"><div class=\"sk-label sk-toggleable\"><input class=\"sk-toggleable__control sk-hidden--visually\" id=\"sk-estimator-id-75\" type=\"checkbox\" ><label for=\"sk-estimator-id-75\" class=\"sk-toggleable__label sk-toggleable__label-arrow\">onehotencoder</label><div class=\"sk-toggleable__content\"><pre>[&#x27;geography&#x27;, &#x27;gender&#x27;]</pre></div></div></div><div class=\"sk-serial\"><div class=\"sk-item\"><div class=\"sk-estimator sk-toggleable\"><input class=\"sk-toggleable__control sk-hidden--visually\" id=\"sk-estimator-id-76\" type=\"checkbox\" ><label for=\"sk-estimator-id-76\" class=\"sk-toggleable__label sk-toggleable__label-arrow\">OneHotEncoder</label><div class=\"sk-toggleable__content\"><pre>OneHotEncoder(drop=&#x27;first&#x27;, sparse_output=False)</pre></div></div></div></div></div></div><div class=\"sk-parallel-item\"><div class=\"sk-item\"><div class=\"sk-label-container\"><div class=\"sk-label sk-toggleable\"><input class=\"sk-toggleable__control sk-hidden--visually\" id=\"sk-estimator-id-77\" type=\"checkbox\" ><label for=\"sk-estimator-id-77\" class=\"sk-toggleable__label sk-toggleable__label-arrow\">remainder</label><div class=\"sk-toggleable__content\"><pre>[]</pre></div></div></div><div class=\"sk-serial\"><div class=\"sk-item\"><div class=\"sk-estimator sk-toggleable\"><input class=\"sk-toggleable__control sk-hidden--visually\" id=\"sk-estimator-id-78\" type=\"checkbox\" ><label for=\"sk-estimator-id-78\" class=\"sk-toggleable__label sk-toggleable__label-arrow\">passthrough</label><div class=\"sk-toggleable__content\"><pre>passthrough</pre></div></div></div></div></div></div></div></div><div class=\"sk-item\"><div class=\"sk-estimator sk-toggleable\"><input class=\"sk-toggleable__control sk-hidden--visually\" id=\"sk-estimator-id-79\" type=\"checkbox\" ><label for=\"sk-estimator-id-79\" class=\"sk-toggleable__label sk-toggleable__label-arrow\">SMOTE</label><div class=\"sk-toggleable__content\"><pre>SMOTE(random_state=12345)</pre></div></div></div><div class=\"sk-item\"><div class=\"sk-estimator sk-toggleable\"><input class=\"sk-toggleable__control sk-hidden--visually\" id=\"sk-estimator-id-80\" type=\"checkbox\" ><label for=\"sk-estimator-id-80\" class=\"sk-toggleable__label sk-toggleable__label-arrow\">RandomForestClassifier</label><div class=\"sk-toggleable__content\"><pre>RandomForestClassifier(max_depth=21, n_estimators=611, random_state=12345)</pre></div></div></div></div></div></div></div>"
      ],
      "text/plain": [
       "Pipeline(steps=[('col_trans',\n",
       "                 ColumnTransformer(n_jobs=-1, remainder='passthrough',\n",
       "                                   transformers=[('standardscaler',\n",
       "                                                  StandardScaler(),\n",
       "                                                  ['credit_score', 'age',\n",
       "                                                   'tenure', 'balance',\n",
       "                                                   'num_of_products',\n",
       "                                                   'has_cr_card',\n",
       "                                                   'is_active_member',\n",
       "                                                   'estimated_salary']),\n",
       "                                                 ('onehotencoder',\n",
       "                                                  OneHotEncoder(drop='first',\n",
       "                                                                sparse_output=False),\n",
       "                                                  ['geography', 'gender'])])),\n",
       "                ('smote', SMOTE(random_state=12345)),\n",
       "                ('model_rf_2',\n",
       "                 RandomForestClassifier(max_depth=21, n_estimators=611,\n",
       "                                        random_state=12345))])"
      ]
     },
     "execution_count": 369,
     "metadata": {},
     "output_type": "execute_result"
    }
   ],
   "source": [
    "model_rf_2 = RandomForestClassifier(**study_rf_2.best_trials[0].params, random_state=RANDOM_STATE)\n",
    "pipeline_rf_2 = Pipeline([\n",
    "      ('col_trans', col_trans),\n",
    "      ('smote', smote),\n",
    "      ('model_rf_2', model_rf_2)\n",
    "    ])\n",
    "pipeline_rf_2.fit(features_train, target_train)"
   ]
  },
  {
   "cell_type": "code",
   "execution_count": 370,
   "metadata": {},
   "outputs": [
    {
     "name": "stdout",
     "output_type": "stream",
     "text": [
      "F1: 0.6079545454545454\n"
     ]
    }
   ],
   "source": [
    "predictions_test = pipeline_rf_2.predict(features_test)\n",
    "result = f1_score(target_test, predictions_test)\n",
    "print('F1:', result)"
   ]
  },
  {
   "cell_type": "code",
   "execution_count": 371,
   "metadata": {
    "scrolled": true
   },
   "outputs": [
    {
     "name": "stdout",
     "output_type": "stream",
     "text": [
      "AUC-ROC: 0.8486719432527937\n"
     ]
    }
   ],
   "source": [
    "probabilities_test = pipeline_rf_2.predict_proba(features_test)\n",
    "probabilities_one_test = probabilities_test[:, 1]\n",
    "auc_roc = roc_auc_score(target_test, probabilities_one_test)\n",
    "print('AUC-ROC:', auc_roc)"
   ]
  },
  {
   "cell_type": "markdown",
   "metadata": {},
   "source": [
    "<b>Вывод:</b> По итогам тестирования модели случаный лес после upsampling:\n",
    "- F1-мера = 0.6080\n",
    "- AUC-ROC = 0.8487"
   ]
  },
  {
   "cell_type": "markdown",
   "metadata": {},
   "source": [
    "<b>ОБЩИЕ ВЫВОДЫ:</b> \n",
    "\n",
    "В результате исследования определено:\n",
    "1. по качеству (F1-мера и AUC-ROC) <b>без учета дисбаланса</b>:\n",
    " - самое высокое качество у случайного леса, F1 равно <b>0.58</b>, AUC-ROC равно <b>0.85</b>, с гиперпараметрами:\n",
    "    - n_estimators (количество деревьев) = 516, \n",
    "    - max_depth (максимальная глубина деревьев) = 50;\n",
    "- на втором месте — дерево решений, F1 равно <b>0.52</b>, AUC-ROC равно <b>0.74</b> с гиперпараметрами:\n",
    "    - max_depth (максимальная глубина дерева) = 39;\n",
    "    - min_samples_split (минимальное количество выборок) = 14;\n",
    "- самое низкое качество предсказания у логистической регрессии, F1 равно <b>0.31</b>, AUC-ROC равно <b>0.77</b>.\n",
    "\n",
    "2. по качеству (F1-мера и AUC-ROC) <b>с учетом дисбаланса</b>:\n",
    "- самое высокое качество у случайного леса наилушее качество F1 равно <b>0.6001</b>, AUC-ROC равно <b>0.8513</b>, после  upsampling с гиперпараметрами:\n",
    "    - n_estimators = 611, \n",
    "    - max_depth = 21,\n",
    "- у модели - дерево решений наилучшее качество F1 равно <b>0.5902</b>, AUC-ROC равно <b>0.8333</b> после  downsampling с гиперпараметрами:\n",
    "    - max_depth = 7;\n",
    "    - min_samples_split = 9; \n",
    "- у модели - логистическая регрессия наилучшее качество F1 равно <b>0.5002</b>, AUC-ROC равно <b>0.7722</b> после upsampling.\n",
    "\n",
    "    \n",
    "    \n",
    "3. дисбаланс классов сильнее всего повлиял на метрику качества F1 для модели - логистическая регрессия;\n",
    "\n",
    "\n",
    "4. метрика AUC-ROC более устойчива к дисбалансу классов по сравнению с F1;\n",
    "\n",
    "\n",
    "5. По итогам тестирования модели случаный лес после upsampling:\n",
    "- F1-мера = 0.6080\n",
    "- AUC-ROC = 0.8487"
   ]
  },
  {
   "cell_type": "code",
   "execution_count": null,
   "metadata": {},
   "outputs": [],
   "source": []
  }
 ],
 "metadata": {
  "ExecuteTimeLog": [
   {
    "duration": 473,
    "start_time": "2023-06-22T07:10:18.609Z"
   },
   {
    "duration": 66,
    "start_time": "2023-06-22T07:43:27.470Z"
   },
   {
    "duration": 92,
    "start_time": "2023-06-22T07:43:32.226Z"
   },
   {
    "duration": 10,
    "start_time": "2023-06-22T07:43:33.427Z"
   },
   {
    "duration": 21,
    "start_time": "2023-06-22T07:43:39.439Z"
   },
   {
    "duration": 19,
    "start_time": "2023-06-22T07:43:56.800Z"
   },
   {
    "duration": 31,
    "start_time": "2023-06-22T07:44:24.527Z"
   },
   {
    "duration": 48,
    "start_time": "2023-06-22T07:44:58.544Z"
   },
   {
    "duration": 179,
    "start_time": "2023-06-22T07:50:00.246Z"
   },
   {
    "duration": 1306,
    "start_time": "2023-06-22T07:50:09.307Z"
   },
   {
    "duration": 29,
    "start_time": "2023-06-22T07:50:29.932Z"
   },
   {
    "duration": 39,
    "start_time": "2023-06-22T07:52:48.418Z"
   },
   {
    "duration": 25,
    "start_time": "2023-06-22T07:53:16.501Z"
   },
   {
    "duration": 37,
    "start_time": "2023-06-22T07:54:30.844Z"
   },
   {
    "duration": 30,
    "start_time": "2023-06-22T07:54:38.194Z"
   },
   {
    "duration": 2,
    "start_time": "2023-06-22T08:06:03.232Z"
   },
   {
    "duration": 45,
    "start_time": "2023-06-22T10:58:08.917Z"
   },
   {
    "duration": 10,
    "start_time": "2023-06-22T10:58:20.563Z"
   },
   {
    "duration": 379,
    "start_time": "2023-06-22T10:58:33.108Z"
   },
   {
    "duration": 160,
    "start_time": "2023-06-22T10:58:35.249Z"
   },
   {
    "duration": 42,
    "start_time": "2023-06-22T10:58:38.755Z"
   },
   {
    "duration": 3,
    "start_time": "2023-06-22T10:58:51.921Z"
   },
   {
    "duration": 13,
    "start_time": "2023-06-22T10:59:20.309Z"
   },
   {
    "duration": 3,
    "start_time": "2023-06-22T11:04:29.017Z"
   },
   {
    "duration": 53,
    "start_time": "2023-06-22T11:04:31.451Z"
   },
   {
    "duration": 32,
    "start_time": "2023-06-22T11:04:32.332Z"
   },
   {
    "duration": 40,
    "start_time": "2023-06-22T11:04:35.994Z"
   },
   {
    "duration": 2,
    "start_time": "2023-06-22T11:24:24.928Z"
   },
   {
    "duration": 40,
    "start_time": "2023-06-22T11:24:27.480Z"
   },
   {
    "duration": 25,
    "start_time": "2023-06-22T11:24:28.542Z"
   },
   {
    "duration": 7,
    "start_time": "2023-06-22T11:34:12.813Z"
   },
   {
    "duration": 6,
    "start_time": "2023-06-22T11:34:23.070Z"
   },
   {
    "duration": 5,
    "start_time": "2023-06-22T12:25:42.905Z"
   },
   {
    "duration": 9,
    "start_time": "2023-06-22T12:28:46.847Z"
   },
   {
    "duration": 3,
    "start_time": "2023-06-22T12:29:08.323Z"
   },
   {
    "duration": 6,
    "start_time": "2023-06-22T12:33:15.307Z"
   },
   {
    "duration": 14,
    "start_time": "2023-06-22T12:33:44.514Z"
   },
   {
    "duration": 11,
    "start_time": "2023-06-22T12:34:06.551Z"
   },
   {
    "duration": 5,
    "start_time": "2023-06-22T12:34:44.812Z"
   },
   {
    "duration": 6,
    "start_time": "2023-06-22T12:35:03.020Z"
   },
   {
    "duration": 7,
    "start_time": "2023-06-22T12:35:21.039Z"
   },
   {
    "duration": 9,
    "start_time": "2023-06-22T12:35:37.721Z"
   },
   {
    "duration": 4,
    "start_time": "2023-06-22T12:36:07.967Z"
   },
   {
    "duration": 13,
    "start_time": "2023-06-22T12:36:12.531Z"
   },
   {
    "duration": 3,
    "start_time": "2023-06-22T12:36:58.156Z"
   },
   {
    "duration": 13,
    "start_time": "2023-06-22T12:37:01.031Z"
   },
   {
    "duration": 12,
    "start_time": "2023-06-22T13:38:12.952Z"
   },
   {
    "duration": 8,
    "start_time": "2023-06-22T13:43:39.755Z"
   },
   {
    "duration": 90,
    "start_time": "2023-06-22T13:47:13.540Z"
   },
   {
    "duration": 97,
    "start_time": "2023-06-22T13:48:52.099Z"
   },
   {
    "duration": 4,
    "start_time": "2023-06-22T13:49:04.250Z"
   },
   {
    "duration": 11,
    "start_time": "2023-06-22T13:50:16.567Z"
   },
   {
    "duration": 435,
    "start_time": "2023-06-23T02:08:26.558Z"
   },
   {
    "duration": 101,
    "start_time": "2023-06-23T02:08:29.297Z"
   },
   {
    "duration": 49,
    "start_time": "2023-06-23T02:08:30.460Z"
   },
   {
    "duration": 69,
    "start_time": "2023-06-23T02:13:17.076Z"
   },
   {
    "duration": 89,
    "start_time": "2023-06-23T02:13:39.554Z"
   },
   {
    "duration": 91,
    "start_time": "2023-06-23T02:14:18.626Z"
   },
   {
    "duration": 3,
    "start_time": "2023-06-23T02:15:12.472Z"
   },
   {
    "duration": 48,
    "start_time": "2023-06-23T02:15:15.710Z"
   },
   {
    "duration": 10,
    "start_time": "2023-06-23T02:16:54.414Z"
   },
   {
    "duration": 10,
    "start_time": "2023-06-23T02:17:02.724Z"
   },
   {
    "duration": 11,
    "start_time": "2023-06-23T02:17:19.197Z"
   },
   {
    "duration": 7,
    "start_time": "2023-06-23T02:17:30.170Z"
   },
   {
    "duration": 11,
    "start_time": "2023-06-23T02:17:38.595Z"
   },
   {
    "duration": 9,
    "start_time": "2023-06-23T02:17:42.572Z"
   },
   {
    "duration": 9,
    "start_time": "2023-06-23T02:17:59.628Z"
   },
   {
    "duration": 32,
    "start_time": "2023-06-23T02:18:44.226Z"
   },
   {
    "duration": 29,
    "start_time": "2023-06-23T02:19:13.439Z"
   },
   {
    "duration": 47,
    "start_time": "2023-06-23T02:21:41.231Z"
   },
   {
    "duration": 30,
    "start_time": "2023-06-23T02:21:52.748Z"
   },
   {
    "duration": 45,
    "start_time": "2023-06-23T02:22:16.109Z"
   },
   {
    "duration": 33,
    "start_time": "2023-06-23T02:22:39.088Z"
   },
   {
    "duration": 4,
    "start_time": "2023-06-23T02:27:57.249Z"
   },
   {
    "duration": 5,
    "start_time": "2023-06-23T02:29:06.299Z"
   },
   {
    "duration": 16,
    "start_time": "2023-06-23T02:30:07.499Z"
   },
   {
    "duration": 5,
    "start_time": "2023-06-23T02:30:18.167Z"
   },
   {
    "duration": 10,
    "start_time": "2023-06-23T02:30:24.053Z"
   },
   {
    "duration": 5,
    "start_time": "2023-06-23T02:30:37.643Z"
   },
   {
    "duration": 5,
    "start_time": "2023-06-23T02:31:19.272Z"
   },
   {
    "duration": 10,
    "start_time": "2023-06-23T02:32:24.709Z"
   },
   {
    "duration": 10,
    "start_time": "2023-06-23T02:33:06.859Z"
   },
   {
    "duration": 7,
    "start_time": "2023-06-23T02:33:26.175Z"
   },
   {
    "duration": 9,
    "start_time": "2023-06-23T02:33:42.635Z"
   },
   {
    "duration": 15,
    "start_time": "2023-06-23T02:34:11.317Z"
   },
   {
    "duration": 7,
    "start_time": "2023-06-23T02:37:24.479Z"
   },
   {
    "duration": 12,
    "start_time": "2023-06-23T02:37:26.905Z"
   },
   {
    "duration": 2,
    "start_time": "2023-06-23T02:41:42.751Z"
   },
   {
    "duration": 9,
    "start_time": "2023-06-23T02:43:33.688Z"
   },
   {
    "duration": 11,
    "start_time": "2023-06-23T02:43:44.526Z"
   },
   {
    "duration": 4,
    "start_time": "2023-06-23T02:44:21.204Z"
   },
   {
    "duration": 5,
    "start_time": "2023-06-23T02:48:44.391Z"
   },
   {
    "duration": 6,
    "start_time": "2023-06-23T02:49:00.127Z"
   },
   {
    "duration": 7,
    "start_time": "2023-06-23T02:49:23.390Z"
   },
   {
    "duration": 8,
    "start_time": "2023-06-23T02:50:20.063Z"
   },
   {
    "duration": 11,
    "start_time": "2023-06-23T02:52:29.757Z"
   },
   {
    "duration": 9,
    "start_time": "2023-06-23T02:52:47.840Z"
   },
   {
    "duration": 25,
    "start_time": "2023-06-23T02:54:56.341Z"
   },
   {
    "duration": 24,
    "start_time": "2023-06-23T02:55:58.460Z"
   },
   {
    "duration": 25,
    "start_time": "2023-06-23T02:56:49.421Z"
   },
   {
    "duration": 25,
    "start_time": "2023-06-23T02:57:51.261Z"
   },
   {
    "duration": 27,
    "start_time": "2023-06-23T02:58:35.531Z"
   },
   {
    "duration": 8,
    "start_time": "2023-06-23T03:09:35.344Z"
   },
   {
    "duration": 9,
    "start_time": "2023-06-23T03:10:00.796Z"
   },
   {
    "duration": 9,
    "start_time": "2023-06-23T03:10:59.008Z"
   },
   {
    "duration": 7,
    "start_time": "2023-06-23T03:11:47.624Z"
   },
   {
    "duration": 9,
    "start_time": "2023-06-23T03:13:14.221Z"
   },
   {
    "duration": 9,
    "start_time": "2023-06-23T03:15:21.535Z"
   },
   {
    "duration": 4,
    "start_time": "2023-06-23T03:20:38.903Z"
   },
   {
    "duration": 15,
    "start_time": "2023-06-23T03:20:50.218Z"
   },
   {
    "duration": 15,
    "start_time": "2023-06-23T03:21:15.571Z"
   },
   {
    "duration": 2,
    "start_time": "2023-06-23T03:23:45.476Z"
   },
   {
    "duration": 5,
    "start_time": "2023-06-23T03:31:11.606Z"
   },
   {
    "duration": 15,
    "start_time": "2023-06-23T03:33:59.350Z"
   },
   {
    "duration": 5,
    "start_time": "2023-06-23T03:34:18.113Z"
   },
   {
    "duration": 402,
    "start_time": "2023-06-24T01:14:02.036Z"
   },
   {
    "duration": 83,
    "start_time": "2023-06-24T01:14:04.925Z"
   },
   {
    "duration": 35,
    "start_time": "2023-06-24T01:14:09.799Z"
   },
   {
    "duration": 5,
    "start_time": "2023-06-24T01:14:15.161Z"
   },
   {
    "duration": 4,
    "start_time": "2023-06-24T01:14:18.201Z"
   },
   {
    "duration": 7,
    "start_time": "2023-06-24T01:14:22.828Z"
   },
   {
    "duration": 9,
    "start_time": "2023-06-24T01:14:25.717Z"
   },
   {
    "duration": 17,
    "start_time": "2023-06-24T01:16:46.116Z"
   },
   {
    "duration": 4,
    "start_time": "2023-06-24T01:18:01.397Z"
   },
   {
    "duration": 8,
    "start_time": "2023-06-24T01:18:07.782Z"
   },
   {
    "duration": 12,
    "start_time": "2023-06-24T01:18:11.300Z"
   },
   {
    "duration": 2,
    "start_time": "2023-06-24T01:18:17.402Z"
   },
   {
    "duration": 158,
    "start_time": "2023-06-24T01:27:19.090Z"
   },
   {
    "duration": 11,
    "start_time": "2023-06-24T01:27:20.593Z"
   },
   {
    "duration": 72,
    "start_time": "2023-06-24T01:27:38.401Z"
   },
   {
    "duration": 169,
    "start_time": "2023-06-24T01:28:30.789Z"
   },
   {
    "duration": 13,
    "start_time": "2023-06-24T01:29:22.847Z"
   },
   {
    "duration": 182,
    "start_time": "2023-06-24T01:31:07.226Z"
   },
   {
    "duration": 2,
    "start_time": "2023-06-24T01:31:51.266Z"
   },
   {
    "duration": 80,
    "start_time": "2023-06-24T01:31:51.289Z"
   },
   {
    "duration": 29,
    "start_time": "2023-06-24T01:31:51.371Z"
   },
   {
    "duration": 21,
    "start_time": "2023-06-24T01:31:51.401Z"
   },
   {
    "duration": 47,
    "start_time": "2023-06-24T01:31:51.424Z"
   },
   {
    "duration": 18,
    "start_time": "2023-06-24T01:31:51.473Z"
   },
   {
    "duration": 26,
    "start_time": "2023-06-24T01:31:51.492Z"
   },
   {
    "duration": 45,
    "start_time": "2023-06-24T01:31:51.520Z"
   },
   {
    "duration": 35,
    "start_time": "2023-06-24T01:31:51.566Z"
   },
   {
    "duration": 61,
    "start_time": "2023-06-24T01:31:51.602Z"
   },
   {
    "duration": 57,
    "start_time": "2023-06-24T01:31:51.665Z"
   },
   {
    "duration": 14,
    "start_time": "2023-06-24T01:31:56.192Z"
   },
   {
    "duration": 3,
    "start_time": "2023-06-24T01:42:30.797Z"
   },
   {
    "duration": 2,
    "start_time": "2023-06-24T01:42:33.408Z"
   },
   {
    "duration": 38,
    "start_time": "2023-06-24T01:42:38.057Z"
   },
   {
    "duration": 33,
    "start_time": "2023-06-24T01:42:41.608Z"
   },
   {
    "duration": 5,
    "start_time": "2023-06-24T01:43:49.300Z"
   },
   {
    "duration": 4,
    "start_time": "2023-06-24T01:43:50.258Z"
   },
   {
    "duration": 9,
    "start_time": "2023-06-24T01:43:56.715Z"
   },
   {
    "duration": 7,
    "start_time": "2023-06-24T01:44:14.164Z"
   },
   {
    "duration": 8,
    "start_time": "2023-06-24T01:44:23.549Z"
   },
   {
    "duration": 12,
    "start_time": "2023-06-24T01:44:33.124Z"
   },
   {
    "duration": 19,
    "start_time": "2023-06-24T01:44:56.746Z"
   },
   {
    "duration": 4,
    "start_time": "2023-06-24T01:44:59.690Z"
   },
   {
    "duration": 8,
    "start_time": "2023-06-24T01:48:27.241Z"
   },
   {
    "duration": 4,
    "start_time": "2023-06-24T01:48:37.883Z"
   },
   {
    "duration": 16,
    "start_time": "2023-06-24T01:48:51.411Z"
   },
   {
    "duration": 16,
    "start_time": "2023-06-24T01:49:44.784Z"
   },
   {
    "duration": 5,
    "start_time": "2023-06-24T01:50:17.367Z"
   },
   {
    "duration": 98,
    "start_time": "2023-06-24T02:01:50.397Z"
   },
   {
    "duration": 3,
    "start_time": "2023-06-24T02:12:38.502Z"
   },
   {
    "duration": 37,
    "start_time": "2023-06-24T02:12:41.311Z"
   },
   {
    "duration": 28,
    "start_time": "2023-06-24T02:12:43.145Z"
   },
   {
    "duration": 5,
    "start_time": "2023-06-24T02:12:51.239Z"
   },
   {
    "duration": 4,
    "start_time": "2023-06-24T02:12:52.160Z"
   },
   {
    "duration": 7,
    "start_time": "2023-06-24T02:13:00.316Z"
   },
   {
    "duration": 10,
    "start_time": "2023-06-24T02:13:12.030Z"
   },
   {
    "duration": 17,
    "start_time": "2023-06-24T02:13:13.635Z"
   },
   {
    "duration": 5,
    "start_time": "2023-06-24T02:13:18.296Z"
   },
   {
    "duration": 5,
    "start_time": "2023-06-24T02:13:19.201Z"
   },
   {
    "duration": 5,
    "start_time": "2023-06-24T02:14:28.562Z"
   },
   {
    "duration": 6,
    "start_time": "2023-06-24T02:15:36.899Z"
   },
   {
    "duration": 8,
    "start_time": "2023-06-24T02:16:21.998Z"
   },
   {
    "duration": 8,
    "start_time": "2023-06-24T02:16:33.957Z"
   },
   {
    "duration": 7,
    "start_time": "2023-06-24T02:16:40.496Z"
   },
   {
    "duration": 8,
    "start_time": "2023-06-24T02:16:56.455Z"
   },
   {
    "duration": 6,
    "start_time": "2023-06-24T02:17:01.609Z"
   },
   {
    "duration": 7,
    "start_time": "2023-06-24T02:17:16.342Z"
   },
   {
    "duration": 6,
    "start_time": "2023-06-24T02:17:26.342Z"
   },
   {
    "duration": 3,
    "start_time": "2023-06-24T02:21:35.434Z"
   },
   {
    "duration": 6,
    "start_time": "2023-06-24T02:21:46.295Z"
   },
   {
    "duration": 169,
    "start_time": "2023-06-24T02:22:25.455Z"
   },
   {
    "duration": 18,
    "start_time": "2023-06-24T02:22:35.794Z"
   },
   {
    "duration": 4,
    "start_time": "2023-06-24T02:22:52.039Z"
   },
   {
    "duration": 3,
    "start_time": "2023-06-24T02:23:19.365Z"
   },
   {
    "duration": 7,
    "start_time": "2023-06-24T02:23:28.700Z"
   },
   {
    "duration": 59,
    "start_time": "2023-06-24T02:24:23.335Z"
   },
   {
    "duration": 673,
    "start_time": "2023-06-24T02:24:27.229Z"
   },
   {
    "duration": 10,
    "start_time": "2023-06-24T02:24:33.490Z"
   },
   {
    "duration": 22,
    "start_time": "2023-06-24T02:24:38.978Z"
   },
   {
    "duration": 9,
    "start_time": "2023-06-24T02:25:06.991Z"
   },
   {
    "duration": 38,
    "start_time": "2023-06-24T02:25:50.077Z"
   },
   {
    "duration": 3,
    "start_time": "2023-06-24T02:26:14.093Z"
   },
   {
    "duration": 27,
    "start_time": "2023-06-24T02:26:22.554Z"
   },
   {
    "duration": 32,
    "start_time": "2023-06-24T02:26:55.253Z"
   },
   {
    "duration": 21,
    "start_time": "2023-06-24T02:27:11.384Z"
   },
   {
    "duration": 15,
    "start_time": "2023-06-24T02:28:38.091Z"
   },
   {
    "duration": 522,
    "start_time": "2023-06-24T02:31:07.288Z"
   },
   {
    "duration": 20,
    "start_time": "2023-06-24T02:50:24.414Z"
   },
   {
    "duration": 36,
    "start_time": "2023-06-24T02:51:08.807Z"
   },
   {
    "duration": 44,
    "start_time": "2023-06-24T02:51:14.011Z"
   },
   {
    "duration": 3,
    "start_time": "2023-06-24T02:54:13.205Z"
   },
   {
    "duration": 3,
    "start_time": "2023-06-24T02:54:38.533Z"
   },
   {
    "duration": 89,
    "start_time": "2023-06-24T02:58:15.050Z"
   },
   {
    "duration": 3,
    "start_time": "2023-06-24T02:58:25.810Z"
   },
   {
    "duration": 11,
    "start_time": "2023-06-24T02:58:31.292Z"
   },
   {
    "duration": 65,
    "start_time": "2023-06-24T02:59:40.343Z"
   },
   {
    "duration": 13,
    "start_time": "2023-06-24T02:59:46.436Z"
   },
   {
    "duration": 75,
    "start_time": "2023-06-24T03:07:46.394Z"
   },
   {
    "duration": 99,
    "start_time": "2023-06-24T03:08:04.334Z"
   },
   {
    "duration": 19,
    "start_time": "2023-06-24T03:08:10.302Z"
   },
   {
    "duration": 3,
    "start_time": "2023-06-24T03:08:37.495Z"
   },
   {
    "duration": 101,
    "start_time": "2023-06-24T03:08:45.137Z"
   },
   {
    "duration": 23,
    "start_time": "2023-06-24T03:11:20.147Z"
   },
   {
    "duration": 82,
    "start_time": "2023-06-24T03:13:12.753Z"
   },
   {
    "duration": 97,
    "start_time": "2023-06-24T03:21:16.140Z"
   },
   {
    "duration": 347,
    "start_time": "2023-06-24T03:39:08.795Z"
   },
   {
    "duration": 1254,
    "start_time": "2023-06-24T03:39:40.351Z"
   },
   {
    "duration": 1119,
    "start_time": "2023-06-24T03:40:02.696Z"
   },
   {
    "duration": 1303,
    "start_time": "2023-06-24T07:26:06.595Z"
   },
   {
    "duration": 240,
    "start_time": "2023-06-24T07:26:10.278Z"
   },
   {
    "duration": 42,
    "start_time": "2023-06-24T07:26:15.372Z"
   },
   {
    "duration": 7,
    "start_time": "2023-06-24T07:26:25.675Z"
   },
   {
    "duration": 6,
    "start_time": "2023-06-24T07:26:26.166Z"
   },
   {
    "duration": 15,
    "start_time": "2023-06-24T07:27:17.448Z"
   },
   {
    "duration": 4,
    "start_time": "2023-06-24T07:27:18.278Z"
   },
   {
    "duration": 12,
    "start_time": "2023-06-24T07:27:22.264Z"
   },
   {
    "duration": 16,
    "start_time": "2023-06-24T07:27:24.676Z"
   },
   {
    "duration": 47,
    "start_time": "2023-06-24T07:27:25.340Z"
   },
   {
    "duration": 23,
    "start_time": "2023-06-24T07:27:29.911Z"
   },
   {
    "duration": 30,
    "start_time": "2023-06-24T07:27:30.831Z"
   },
   {
    "duration": 23,
    "start_time": "2023-06-24T07:27:32.251Z"
   },
   {
    "duration": 999,
    "start_time": "2023-06-24T07:28:05.858Z"
   },
   {
    "duration": 13,
    "start_time": "2023-06-24T07:28:25.568Z"
   },
   {
    "duration": 58,
    "start_time": "2023-06-24T07:28:29.749Z"
   },
   {
    "duration": 18,
    "start_time": "2023-06-24T07:28:32.305Z"
   },
   {
    "duration": 4,
    "start_time": "2023-06-24T07:28:33.407Z"
   },
   {
    "duration": 26,
    "start_time": "2023-06-24T07:28:36.900Z"
   },
   {
    "duration": 34,
    "start_time": "2023-06-24T07:28:38.247Z"
   },
   {
    "duration": 65,
    "start_time": "2023-06-24T07:29:41.110Z"
   },
   {
    "duration": 174,
    "start_time": "2023-06-24T07:29:51.279Z"
   },
   {
    "duration": 52,
    "start_time": "2023-06-24T07:29:53.051Z"
   },
   {
    "duration": 161,
    "start_time": "2023-06-24T07:35:48.953Z"
   },
   {
    "duration": 71,
    "start_time": "2023-06-24T07:35:50.322Z"
   },
   {
    "duration": 2254,
    "start_time": "2023-06-24T07:36:08.771Z"
   },
   {
    "duration": 1964,
    "start_time": "2023-06-24T07:36:48.261Z"
   },
   {
    "duration": 298,
    "start_time": "2023-06-24T07:44:45.336Z"
   },
   {
    "duration": 18,
    "start_time": "2023-06-24T07:45:52.307Z"
   },
   {
    "duration": 304,
    "start_time": "2023-06-24T07:46:00.189Z"
   },
   {
    "duration": 4729,
    "start_time": "2023-06-24T07:47:01.144Z"
   },
   {
    "duration": 2150,
    "start_time": "2023-06-24T07:49:13.699Z"
   },
   {
    "duration": 1895,
    "start_time": "2023-06-24T07:50:02.876Z"
   },
   {
    "duration": 22,
    "start_time": "2023-06-24T07:52:19.175Z"
   },
   {
    "duration": 250,
    "start_time": "2023-06-24T07:55:44.263Z"
   },
   {
    "duration": 198,
    "start_time": "2023-06-24T08:01:14.843Z"
   },
   {
    "duration": 5157,
    "start_time": "2023-06-24T08:05:36.132Z"
   },
   {
    "duration": 16,
    "start_time": "2023-06-24T08:08:43.190Z"
   },
   {
    "duration": 313,
    "start_time": "2023-06-24T08:08:59.178Z"
   },
   {
    "duration": 3044,
    "start_time": "2023-06-24T08:09:12.532Z"
   },
   {
    "duration": 3840,
    "start_time": "2023-06-24T08:09:51.991Z"
   },
   {
    "duration": 13167,
    "start_time": "2023-06-24T08:10:22.302Z"
   },
   {
    "duration": 14783,
    "start_time": "2023-06-24T08:10:44.827Z"
   },
   {
    "duration": 44,
    "start_time": "2023-06-24T08:11:58.193Z"
   },
   {
    "duration": 23,
    "start_time": "2023-06-24T08:13:00.038Z"
   },
   {
    "duration": 9607,
    "start_time": "2023-06-24T08:13:08.030Z"
   },
   {
    "duration": 2646,
    "start_time": "2023-06-24T08:15:49.585Z"
   },
   {
    "duration": 21426,
    "start_time": "2023-06-24T08:16:08.979Z"
   },
   {
    "duration": 3371,
    "start_time": "2023-06-24T08:18:05.909Z"
   },
   {
    "duration": 13111,
    "start_time": "2023-06-24T08:18:17.823Z"
   },
   {
    "duration": 3493,
    "start_time": "2023-06-24T08:19:07.217Z"
   },
   {
    "duration": 6721,
    "start_time": "2023-06-24T08:19:11.968Z"
   },
   {
    "duration": 22022,
    "start_time": "2023-06-24T08:20:33.136Z"
   },
   {
    "duration": 78,
    "start_time": "2023-06-24T08:21:30.607Z"
   },
   {
    "duration": 126,
    "start_time": "2023-06-24T08:52:48.874Z"
   },
   {
    "duration": 114,
    "start_time": "2023-06-24T09:21:00.318Z"
   },
   {
    "duration": 1184,
    "start_time": "2023-06-25T01:03:35.590Z"
   },
   {
    "duration": 80,
    "start_time": "2023-06-25T01:03:38.375Z"
   },
   {
    "duration": 43,
    "start_time": "2023-06-25T01:03:39.494Z"
   },
   {
    "duration": 6,
    "start_time": "2023-06-25T01:04:22.806Z"
   },
   {
    "duration": 5,
    "start_time": "2023-06-25T01:04:23.989Z"
   },
   {
    "duration": 10,
    "start_time": "2023-06-25T01:04:31.439Z"
   },
   {
    "duration": 14,
    "start_time": "2023-06-25T01:04:37.654Z"
   },
   {
    "duration": 16,
    "start_time": "2023-06-25T01:05:19.444Z"
   },
   {
    "duration": 6,
    "start_time": "2023-06-25T01:05:45.274Z"
   },
   {
    "duration": 6,
    "start_time": "2023-06-25T01:05:46.719Z"
   },
   {
    "duration": 7,
    "start_time": "2023-06-25T01:05:51.916Z"
   },
   {
    "duration": 5,
    "start_time": "2023-06-25T01:10:35.865Z"
   },
   {
    "duration": 5,
    "start_time": "2023-06-25T01:10:37.685Z"
   },
   {
    "duration": 9,
    "start_time": "2023-06-25T01:10:49.901Z"
   },
   {
    "duration": 12,
    "start_time": "2023-06-25T01:10:51.779Z"
   },
   {
    "duration": 16,
    "start_time": "2023-06-25T01:10:52.781Z"
   },
   {
    "duration": 4,
    "start_time": "2023-06-25T01:15:24.175Z"
   },
   {
    "duration": 5,
    "start_time": "2023-06-25T01:15:26.175Z"
   },
   {
    "duration": 6,
    "start_time": "2023-06-25T01:15:35.172Z"
   },
   {
    "duration": 1457,
    "start_time": "2023-06-25T01:16:17.635Z"
   },
   {
    "duration": 6,
    "start_time": "2023-06-25T01:16:20.966Z"
   },
   {
    "duration": 10,
    "start_time": "2023-06-25T01:16:36.727Z"
   },
   {
    "duration": 8,
    "start_time": "2023-06-25T01:17:27.703Z"
   },
   {
    "duration": 10,
    "start_time": "2023-06-25T01:18:41.363Z"
   },
   {
    "duration": 9,
    "start_time": "2023-06-25T01:20:14.497Z"
   },
   {
    "duration": 24,
    "start_time": "2023-06-25T01:20:30.247Z"
   },
   {
    "duration": 24,
    "start_time": "2023-06-25T01:20:44.528Z"
   },
   {
    "duration": 29,
    "start_time": "2023-06-25T01:21:13.169Z"
   },
   {
    "duration": 14,
    "start_time": "2023-06-25T01:21:24.400Z"
   },
   {
    "duration": 15,
    "start_time": "2023-06-25T01:29:32.096Z"
   },
   {
    "duration": 6,
    "start_time": "2023-06-25T01:30:02.013Z"
   },
   {
    "duration": 12,
    "start_time": "2023-06-25T01:31:18.802Z"
   },
   {
    "duration": 653,
    "start_time": "2023-06-25T01:35:01.739Z"
   },
   {
    "duration": 4,
    "start_time": "2023-06-25T01:35:37.532Z"
   },
   {
    "duration": 110,
    "start_time": "2023-06-25T01:35:44.098Z"
   },
   {
    "duration": 122,
    "start_time": "2023-06-25T01:38:53.070Z"
   },
   {
    "duration": 5,
    "start_time": "2023-06-25T01:40:29.192Z"
   },
   {
    "duration": 22,
    "start_time": "2023-06-25T01:40:32.697Z"
   },
   {
    "duration": 21,
    "start_time": "2023-06-25T01:40:47.287Z"
   },
   {
    "duration": 6,
    "start_time": "2023-06-25T01:40:57.836Z"
   },
   {
    "duration": 3,
    "start_time": "2023-06-25T01:41:00.278Z"
   },
   {
    "duration": 10,
    "start_time": "2023-06-25T01:41:22.220Z"
   },
   {
    "duration": 11,
    "start_time": "2023-06-25T01:43:36.229Z"
   },
   {
    "duration": 10,
    "start_time": "2023-06-25T01:43:38.100Z"
   },
   {
    "duration": 32,
    "start_time": "2023-06-25T01:43:48.320Z"
   },
   {
    "duration": 25,
    "start_time": "2023-06-25T01:44:56.739Z"
   },
   {
    "duration": 10,
    "start_time": "2023-06-25T01:45:06.321Z"
   },
   {
    "duration": 23,
    "start_time": "2023-06-25T01:45:23.335Z"
   },
   {
    "duration": 10,
    "start_time": "2023-06-25T01:45:24.363Z"
   },
   {
    "duration": 1173,
    "start_time": "2023-06-25T01:45:28.000Z"
   },
   {
    "duration": 9,
    "start_time": "2023-06-25T01:46:13.651Z"
   },
   {
    "duration": 14448,
    "start_time": "2023-06-25T01:46:23.973Z"
   },
   {
    "duration": 26,
    "start_time": "2023-06-25T01:46:59.293Z"
   },
   {
    "duration": 21,
    "start_time": "2023-06-25T01:50:35.834Z"
   },
   {
    "duration": 48,
    "start_time": "2023-06-25T01:51:20.842Z"
   },
   {
    "duration": 50,
    "start_time": "2023-06-25T01:51:38.553Z"
   },
   {
    "duration": 93,
    "start_time": "2023-06-25T01:51:49.758Z"
   },
   {
    "duration": 21,
    "start_time": "2023-06-25T01:53:11.970Z"
   },
   {
    "duration": 1543,
    "start_time": "2023-06-25T06:09:00.474Z"
   },
   {
    "duration": 89,
    "start_time": "2023-06-25T06:09:08.406Z"
   },
   {
    "duration": 35,
    "start_time": "2023-06-25T06:09:11.053Z"
   },
   {
    "duration": 5,
    "start_time": "2023-06-25T06:09:24.668Z"
   },
   {
    "duration": 4,
    "start_time": "2023-06-25T06:09:25.565Z"
   },
   {
    "duration": 8,
    "start_time": "2023-06-25T06:09:32.368Z"
   },
   {
    "duration": 10,
    "start_time": "2023-06-25T06:09:33.717Z"
   },
   {
    "duration": 13,
    "start_time": "2023-06-25T06:09:36.191Z"
   },
   {
    "duration": 5,
    "start_time": "2023-06-25T06:09:38.414Z"
   },
   {
    "duration": 4,
    "start_time": "2023-06-25T06:09:39.068Z"
   },
   {
    "duration": 5,
    "start_time": "2023-06-25T06:09:39.741Z"
   },
   {
    "duration": 8,
    "start_time": "2023-06-25T06:09:41.945Z"
   },
   {
    "duration": 8,
    "start_time": "2023-06-25T06:09:42.720Z"
   },
   {
    "duration": 7,
    "start_time": "2023-06-25T06:09:43.648Z"
   },
   {
    "duration": 13,
    "start_time": "2023-06-25T06:09:46.302Z"
   },
   {
    "duration": 5,
    "start_time": "2023-06-25T06:09:48.210Z"
   },
   {
    "duration": 111,
    "start_time": "2023-06-25T06:09:58.644Z"
   },
   {
    "duration": 3,
    "start_time": "2023-06-25T06:10:24.906Z"
   },
   {
    "duration": 18,
    "start_time": "2023-06-25T06:10:26.837Z"
   },
   {
    "duration": 5,
    "start_time": "2023-06-25T06:10:30.254Z"
   },
   {
    "duration": 2,
    "start_time": "2023-06-25T06:10:31.466Z"
   },
   {
    "duration": 8,
    "start_time": "2023-06-25T06:10:37.121Z"
   },
   {
    "duration": 8,
    "start_time": "2023-06-25T06:10:37.936Z"
   },
   {
    "duration": 22,
    "start_time": "2023-06-25T06:11:20.778Z"
   },
   {
    "duration": 22,
    "start_time": "2023-06-25T06:11:39.454Z"
   },
   {
    "duration": 7,
    "start_time": "2023-06-25T06:11:41.037Z"
   },
   {
    "duration": 1192,
    "start_time": "2023-06-25T06:11:43.434Z"
   },
   {
    "duration": 7,
    "start_time": "2023-06-25T06:11:48.292Z"
   },
   {
    "duration": 13955,
    "start_time": "2023-06-25T06:12:18.864Z"
   },
   {
    "duration": 22,
    "start_time": "2023-06-25T06:12:57.903Z"
   },
   {
    "duration": 3,
    "start_time": "2023-06-25T06:17:36.803Z"
   },
   {
    "duration": 2,
    "start_time": "2023-06-25T06:22:05.535Z"
   },
   {
    "duration": 23,
    "start_time": "2023-06-25T06:23:35.711Z"
   },
   {
    "duration": 44,
    "start_time": "2023-06-25T06:23:45.718Z"
   },
   {
    "duration": 19,
    "start_time": "2023-06-25T06:23:48.468Z"
   },
   {
    "duration": 12,
    "start_time": "2023-06-25T06:24:02.640Z"
   },
   {
    "duration": 17,
    "start_time": "2023-06-25T06:24:18.982Z"
   },
   {
    "duration": 89,
    "start_time": "2023-06-25T06:24:48.012Z"
   },
   {
    "duration": 10,
    "start_time": "2023-06-25T06:24:52.030Z"
   },
   {
    "duration": 17,
    "start_time": "2023-06-25T06:25:48.119Z"
   },
   {
    "duration": 7,
    "start_time": "2023-06-25T06:25:49.310Z"
   },
   {
    "duration": 42,
    "start_time": "2023-06-25T06:26:05.107Z"
   },
   {
    "duration": 8,
    "start_time": "2023-06-25T06:26:26.169Z"
   },
   {
    "duration": 23,
    "start_time": "2023-06-25T06:27:30.674Z"
   },
   {
    "duration": 76,
    "start_time": "2023-06-25T06:27:51.281Z"
   },
   {
    "duration": 8,
    "start_time": "2023-06-25T06:27:56.697Z"
   },
   {
    "duration": 1275,
    "start_time": "2023-06-25T06:37:43.968Z"
   },
   {
    "duration": 1334,
    "start_time": "2023-06-25T06:38:29.958Z"
   },
   {
    "duration": 1303,
    "start_time": "2023-06-25T06:39:11.147Z"
   },
   {
    "duration": 5,
    "start_time": "2023-06-25T06:54:16.240Z"
   },
   {
    "duration": 4,
    "start_time": "2023-06-25T06:54:17.688Z"
   },
   {
    "duration": 28,
    "start_time": "2023-06-25T06:54:32.496Z"
   },
   {
    "duration": 10,
    "start_time": "2023-06-25T06:54:34.948Z"
   },
   {
    "duration": 68,
    "start_time": "2023-06-25T06:55:31.335Z"
   },
   {
    "duration": 14,
    "start_time": "2023-06-25T06:55:32.475Z"
   },
   {
    "duration": 16,
    "start_time": "2023-06-25T06:55:35.457Z"
   },
   {
    "duration": 12,
    "start_time": "2023-06-25T06:55:37.133Z"
   },
   {
    "duration": 1203,
    "start_time": "2023-06-25T06:55:44.116Z"
   },
   {
    "duration": 1185,
    "start_time": "2023-06-25T06:58:56.179Z"
   },
   {
    "duration": 8,
    "start_time": "2023-06-25T06:58:57.628Z"
   },
   {
    "duration": 11,
    "start_time": "2023-06-25T06:59:22.448Z"
   },
   {
    "duration": 1292,
    "start_time": "2023-06-25T07:02:03.968Z"
   },
   {
    "duration": 7,
    "start_time": "2023-06-25T07:02:06.429Z"
   },
   {
    "duration": 2265,
    "start_time": "2023-06-25T07:03:44.540Z"
   },
   {
    "duration": 9,
    "start_time": "2023-06-25T07:04:28.315Z"
   },
   {
    "duration": 518,
    "start_time": "2023-06-25T07:07:07.751Z"
   },
   {
    "duration": 9,
    "start_time": "2023-06-25T07:07:46.032Z"
   },
   {
    "duration": 15361,
    "start_time": "2023-06-25T07:14:48.468Z"
   },
   {
    "duration": 2057,
    "start_time": "2023-06-25T07:16:20.151Z"
   },
   {
    "duration": 8,
    "start_time": "2023-06-25T07:16:42.660Z"
   },
   {
    "duration": 538,
    "start_time": "2023-06-25T07:16:48.360Z"
   },
   {
    "duration": 2555,
    "start_time": "2023-06-25T07:17:13.899Z"
   },
   {
    "duration": 11,
    "start_time": "2023-06-25T07:17:18.235Z"
   },
   {
    "duration": 553,
    "start_time": "2023-06-25T07:17:28.238Z"
   },
   {
    "duration": 14,
    "start_time": "2023-06-25T07:17:32.526Z"
   },
   {
    "duration": 15294,
    "start_time": "2023-06-25T07:17:48.519Z"
   },
   {
    "duration": 28,
    "start_time": "2023-06-25T07:19:16.565Z"
   },
   {
    "duration": 26766,
    "start_time": "2023-06-25T07:23:47.502Z"
   },
   {
    "duration": 27194,
    "start_time": "2023-06-25T07:24:55.219Z"
   },
   {
    "duration": 27,
    "start_time": "2023-06-25T07:26:31.415Z"
   },
   {
    "duration": 7304,
    "start_time": "2023-06-25T07:31:46.825Z"
   },
   {
    "duration": 26,
    "start_time": "2023-06-25T07:32:00.090Z"
   },
   {
    "duration": 3,
    "start_time": "2023-06-25T07:37:34.386Z"
   },
   {
    "duration": 76,
    "start_time": "2023-06-25T07:37:34.391Z"
   },
   {
    "duration": 26,
    "start_time": "2023-06-25T07:37:34.469Z"
   },
   {
    "duration": 27,
    "start_time": "2023-06-25T07:37:34.497Z"
   },
   {
    "duration": 11,
    "start_time": "2023-06-25T07:37:34.538Z"
   },
   {
    "duration": 10,
    "start_time": "2023-06-25T07:37:34.550Z"
   },
   {
    "duration": 25,
    "start_time": "2023-06-25T07:37:34.561Z"
   },
   {
    "duration": 34,
    "start_time": "2023-06-25T07:37:34.588Z"
   },
   {
    "duration": 16,
    "start_time": "2023-06-25T07:37:34.632Z"
   },
   {
    "duration": 10,
    "start_time": "2023-06-25T07:37:34.650Z"
   },
   {
    "duration": 6,
    "start_time": "2023-06-25T07:37:34.662Z"
   },
   {
    "duration": 25,
    "start_time": "2023-06-25T07:37:34.669Z"
   },
   {
    "duration": 63,
    "start_time": "2023-06-25T07:37:34.696Z"
   },
   {
    "duration": 10,
    "start_time": "2023-06-25T07:37:34.760Z"
   },
   {
    "duration": 12,
    "start_time": "2023-06-25T07:37:34.772Z"
   },
   {
    "duration": 15,
    "start_time": "2023-06-25T07:37:34.786Z"
   },
   {
    "duration": 157,
    "start_time": "2023-06-25T07:37:34.815Z"
   },
   {
    "duration": 4,
    "start_time": "2023-06-25T07:37:34.973Z"
   },
   {
    "duration": 43,
    "start_time": "2023-06-25T07:37:34.978Z"
   },
   {
    "duration": 14,
    "start_time": "2023-06-25T07:37:35.022Z"
   },
   {
    "duration": 33,
    "start_time": "2023-06-25T07:37:35.037Z"
   },
   {
    "duration": 14,
    "start_time": "2023-06-25T07:37:35.071Z"
   },
   {
    "duration": 50,
    "start_time": "2023-06-25T07:37:35.087Z"
   },
   {
    "duration": 45,
    "start_time": "2023-06-25T07:37:35.145Z"
   },
   {
    "duration": 111,
    "start_time": "2023-06-25T07:37:35.192Z"
   },
   {
    "duration": 106,
    "start_time": "2023-06-25T07:37:35.306Z"
   },
   {
    "duration": 1442,
    "start_time": "2023-06-25T07:37:35.423Z"
   },
   {
    "duration": 6,
    "start_time": "2023-06-25T07:37:36.866Z"
   },
   {
    "duration": 15378,
    "start_time": "2023-06-25T07:37:36.875Z"
   },
   {
    "duration": 25,
    "start_time": "2023-06-25T07:37:52.255Z"
   },
   {
    "duration": 4,
    "start_time": "2023-06-25T07:37:52.282Z"
   },
   {
    "duration": 39,
    "start_time": "2023-06-25T07:37:52.287Z"
   },
   {
    "duration": 56,
    "start_time": "2023-06-25T07:37:52.328Z"
   },
   {
    "duration": 25,
    "start_time": "2023-06-25T07:37:52.385Z"
   },
   {
    "duration": 185,
    "start_time": "2023-06-25T07:37:52.414Z"
   },
   {
    "duration": 43,
    "start_time": "2023-06-25T07:37:52.621Z"
   },
   {
    "duration": 111,
    "start_time": "2023-06-25T07:37:52.703Z"
   },
   {
    "duration": 80,
    "start_time": "2023-06-25T07:37:52.821Z"
   },
   {
    "duration": 1682,
    "start_time": "2023-06-25T07:37:52.912Z"
   },
   {
    "duration": 19,
    "start_time": "2023-06-25T07:37:54.595Z"
   },
   {
    "duration": 2480,
    "start_time": "2023-06-25T07:37:54.615Z"
   },
   {
    "duration": 10,
    "start_time": "2023-06-25T07:37:57.099Z"
   },
   {
    "duration": 593,
    "start_time": "2023-06-25T07:37:57.137Z"
   },
   {
    "duration": 8,
    "start_time": "2023-06-25T07:37:57.731Z"
   },
   {
    "duration": 15705,
    "start_time": "2023-06-25T07:37:57.741Z"
   },
   {
    "duration": 19,
    "start_time": "2023-06-25T07:38:13.447Z"
   },
   {
    "duration": 28260,
    "start_time": "2023-06-25T07:38:13.468Z"
   },
   {
    "duration": 35,
    "start_time": "2023-06-25T07:38:41.746Z"
   },
   {
    "duration": 7269,
    "start_time": "2023-06-25T07:38:41.783Z"
   },
   {
    "duration": 9,
    "start_time": "2023-06-25T07:38:49.054Z"
   },
   {
    "duration": 19,
    "start_time": "2023-06-25T07:56:05.241Z"
   },
   {
    "duration": 20,
    "start_time": "2023-06-25T07:56:23.555Z"
   },
   {
    "duration": 21,
    "start_time": "2023-06-25T07:56:25.752Z"
   },
   {
    "duration": 20,
    "start_time": "2023-06-25T07:56:27.518Z"
   },
   {
    "duration": 21,
    "start_time": "2023-06-25T07:56:29.439Z"
   },
   {
    "duration": 24,
    "start_time": "2023-06-25T07:57:02.170Z"
   },
   {
    "duration": 10,
    "start_time": "2023-06-25T07:57:06.928Z"
   },
   {
    "duration": 8,
    "start_time": "2023-06-25T07:57:16.494Z"
   },
   {
    "duration": 9,
    "start_time": "2023-06-25T07:57:22.111Z"
   },
   {
    "duration": 8,
    "start_time": "2023-06-25T07:57:26.159Z"
   },
   {
    "duration": 7,
    "start_time": "2023-06-25T07:57:29.111Z"
   },
   {
    "duration": 24,
    "start_time": "2023-06-25T07:57:40.089Z"
   },
   {
    "duration": 14,
    "start_time": "2023-06-25T07:58:28.511Z"
   },
   {
    "duration": 11,
    "start_time": "2023-06-25T07:58:33.930Z"
   },
   {
    "duration": 15,
    "start_time": "2023-06-25T07:58:38.090Z"
   },
   {
    "duration": 8,
    "start_time": "2023-06-25T07:58:40.675Z"
   },
   {
    "duration": 20,
    "start_time": "2023-06-25T07:58:48.341Z"
   },
   {
    "duration": 23,
    "start_time": "2023-06-25T07:58:53.886Z"
   },
   {
    "duration": 4,
    "start_time": "2023-06-25T08:01:22.416Z"
   },
   {
    "duration": 47,
    "start_time": "2023-06-25T08:01:24.448Z"
   },
   {
    "duration": 28,
    "start_time": "2023-06-25T08:01:26.414Z"
   },
   {
    "duration": 5,
    "start_time": "2023-06-25T08:01:33.087Z"
   },
   {
    "duration": 3,
    "start_time": "2023-06-25T08:01:33.952Z"
   },
   {
    "duration": 9,
    "start_time": "2023-06-25T08:01:37.681Z"
   },
   {
    "duration": 16,
    "start_time": "2023-06-25T08:01:38.889Z"
   },
   {
    "duration": 16,
    "start_time": "2023-06-25T08:01:40.697Z"
   },
   {
    "duration": 4,
    "start_time": "2023-06-25T08:01:41.936Z"
   },
   {
    "duration": 4,
    "start_time": "2023-06-25T08:01:42.857Z"
   },
   {
    "duration": 5,
    "start_time": "2023-06-25T08:01:43.746Z"
   },
   {
    "duration": 8,
    "start_time": "2023-06-25T08:01:45.673Z"
   },
   {
    "duration": 8,
    "start_time": "2023-06-25T08:01:46.811Z"
   },
   {
    "duration": 7,
    "start_time": "2023-06-25T08:01:48.866Z"
   },
   {
    "duration": 13,
    "start_time": "2023-06-25T08:01:52.266Z"
   },
   {
    "duration": 7,
    "start_time": "2023-06-25T08:01:54.952Z"
   },
   {
    "duration": 121,
    "start_time": "2023-06-25T08:01:57.855Z"
   },
   {
    "duration": 11,
    "start_time": "2023-06-25T08:02:00.345Z"
   },
   {
    "duration": 4,
    "start_time": "2023-06-25T08:04:03.811Z"
   },
   {
    "duration": 23,
    "start_time": "2023-06-25T08:04:29.793Z"
   },
   {
    "duration": 7,
    "start_time": "2023-06-25T08:04:31.167Z"
   },
   {
    "duration": 2,
    "start_time": "2023-06-25T08:04:31.990Z"
   },
   {
    "duration": 9,
    "start_time": "2023-06-25T08:04:34.860Z"
   },
   {
    "duration": 16,
    "start_time": "2023-06-25T08:04:35.492Z"
   },
   {
    "duration": 96,
    "start_time": "2023-06-25T08:04:51.410Z"
   },
   {
    "duration": 12,
    "start_time": "2023-06-25T08:04:55.256Z"
   },
   {
    "duration": 1204,
    "start_time": "2023-06-25T08:04:59.246Z"
   },
   {
    "duration": 7,
    "start_time": "2023-06-25T08:05:03.978Z"
   },
   {
    "duration": 14394,
    "start_time": "2023-06-25T08:05:07.011Z"
   },
   {
    "duration": 26,
    "start_time": "2023-06-25T08:05:29.514Z"
   },
   {
    "duration": 6,
    "start_time": "2023-06-25T08:05:33.604Z"
   },
   {
    "duration": 5,
    "start_time": "2023-06-25T08:05:34.334Z"
   },
   {
    "duration": 26,
    "start_time": "2023-06-25T08:05:40.911Z"
   },
   {
    "duration": 10,
    "start_time": "2023-06-25T08:05:45.556Z"
   },
   {
    "duration": 74,
    "start_time": "2023-06-25T08:05:47.744Z"
   },
   {
    "duration": 10,
    "start_time": "2023-06-25T08:05:49.849Z"
   },
   {
    "duration": 25,
    "start_time": "2023-06-25T08:05:52.981Z"
   },
   {
    "duration": 8,
    "start_time": "2023-06-25T08:05:53.840Z"
   },
   {
    "duration": 1341,
    "start_time": "2023-06-25T08:05:57.993Z"
   },
   {
    "duration": 7,
    "start_time": "2023-06-25T08:06:00.716Z"
   },
   {
    "duration": 2050,
    "start_time": "2023-06-25T08:06:04.932Z"
   },
   {
    "duration": 8,
    "start_time": "2023-06-25T08:06:08.336Z"
   },
   {
    "duration": 468,
    "start_time": "2023-06-25T08:06:11.286Z"
   },
   {
    "duration": 15,
    "start_time": "2023-06-25T08:06:13.298Z"
   },
   {
    "duration": 14147,
    "start_time": "2023-06-25T08:06:19.814Z"
   },
   {
    "duration": 13,
    "start_time": "2023-06-25T08:06:35.517Z"
   },
   {
    "duration": 26103,
    "start_time": "2023-06-25T08:06:38.445Z"
   },
   {
    "duration": 24,
    "start_time": "2023-06-25T08:07:06.443Z"
   },
   {
    "duration": 6754,
    "start_time": "2023-06-25T08:07:09.057Z"
   },
   {
    "duration": 13,
    "start_time": "2023-06-25T08:07:15.813Z"
   },
   {
    "duration": 27,
    "start_time": "2023-06-25T08:07:23.897Z"
   },
   {
    "duration": 20,
    "start_time": "2023-06-25T08:07:25.214Z"
   },
   {
    "duration": 13,
    "start_time": "2023-06-25T08:07:26.284Z"
   },
   {
    "duration": 13,
    "start_time": "2023-06-25T08:07:27.526Z"
   },
   {
    "duration": 8,
    "start_time": "2023-06-25T08:07:39.697Z"
   },
   {
    "duration": 39,
    "start_time": "2023-06-25T08:07:41.738Z"
   },
   {
    "duration": 27,
    "start_time": "2023-06-25T08:07:42.711Z"
   },
   {
    "duration": 5,
    "start_time": "2023-06-25T08:07:46.983Z"
   },
   {
    "duration": 5,
    "start_time": "2023-06-25T08:07:47.711Z"
   },
   {
    "duration": 9,
    "start_time": "2023-06-25T08:07:51.947Z"
   },
   {
    "duration": 21,
    "start_time": "2023-06-25T08:07:53.200Z"
   },
   {
    "duration": 13,
    "start_time": "2023-06-25T08:07:54.714Z"
   },
   {
    "duration": 4,
    "start_time": "2023-06-25T08:07:57.676Z"
   },
   {
    "duration": 4,
    "start_time": "2023-06-25T08:07:58.314Z"
   },
   {
    "duration": 5,
    "start_time": "2023-06-25T08:07:58.928Z"
   },
   {
    "duration": 10,
    "start_time": "2023-06-25T08:08:00.694Z"
   },
   {
    "duration": 8,
    "start_time": "2023-06-25T08:08:01.519Z"
   },
   {
    "duration": 8,
    "start_time": "2023-06-25T08:08:02.436Z"
   },
   {
    "duration": 13,
    "start_time": "2023-06-25T08:08:04.267Z"
   },
   {
    "duration": 6,
    "start_time": "2023-06-25T08:08:05.189Z"
   },
   {
    "duration": 112,
    "start_time": "2023-06-25T08:08:08.036Z"
   },
   {
    "duration": 3,
    "start_time": "2023-06-25T08:08:13.833Z"
   },
   {
    "duration": 22,
    "start_time": "2023-06-25T08:08:16.113Z"
   },
   {
    "duration": 6,
    "start_time": "2023-06-25T08:08:18.093Z"
   },
   {
    "duration": 2,
    "start_time": "2023-06-25T08:08:20.695Z"
   },
   {
    "duration": 13,
    "start_time": "2023-06-25T08:08:23.397Z"
   },
   {
    "duration": 8,
    "start_time": "2023-06-25T08:08:24.241Z"
   },
   {
    "duration": 23,
    "start_time": "2023-06-25T08:08:27.337Z"
   },
   {
    "duration": 66,
    "start_time": "2023-06-25T08:08:32.934Z"
   },
   {
    "duration": 13,
    "start_time": "2023-06-25T08:08:41.438Z"
   },
   {
    "duration": 4120,
    "start_time": "2023-06-25T08:08:58.915Z"
   },
   {
    "duration": 7,
    "start_time": "2023-06-25T08:09:08.882Z"
   },
   {
    "duration": 89109,
    "start_time": "2023-06-25T08:09:23.324Z"
   },
   {
    "duration": 20,
    "start_time": "2023-06-25T08:11:09.664Z"
   },
   {
    "duration": 4,
    "start_time": "2023-06-25T08:11:14.673Z"
   },
   {
    "duration": 4,
    "start_time": "2023-06-25T08:11:16.417Z"
   },
   {
    "duration": 23,
    "start_time": "2023-06-25T08:11:57.038Z"
   },
   {
    "duration": 8,
    "start_time": "2023-06-25T08:12:06.312Z"
   },
   {
    "duration": 42,
    "start_time": "2023-06-25T08:12:17.933Z"
   },
   {
    "duration": 9,
    "start_time": "2023-06-25T08:12:20.270Z"
   },
   {
    "duration": 18,
    "start_time": "2023-06-25T08:14:11.476Z"
   },
   {
    "duration": 9,
    "start_time": "2023-06-25T08:14:12.152Z"
   },
   {
    "duration": 31,
    "start_time": "2023-06-25T08:14:15.823Z"
   },
   {
    "duration": 20,
    "start_time": "2023-06-25T08:14:19.095Z"
   },
   {
    "duration": 23,
    "start_time": "2023-06-25T08:19:01.015Z"
   },
   {
    "duration": 7,
    "start_time": "2023-06-25T08:19:04.158Z"
   },
   {
    "duration": 1237,
    "start_time": "2023-06-25T08:19:09.980Z"
   },
   {
    "duration": 7,
    "start_time": "2023-06-25T08:19:14.062Z"
   },
   {
    "duration": 1504,
    "start_time": "2023-06-25T08:19:36.966Z"
   },
   {
    "duration": 7,
    "start_time": "2023-06-25T08:19:41.846Z"
   },
   {
    "duration": 597,
    "start_time": "2023-06-25T08:19:50.437Z"
   },
   {
    "duration": 13,
    "start_time": "2023-06-25T08:19:53.492Z"
   },
   {
    "duration": 14277,
    "start_time": "2023-06-25T08:19:59.678Z"
   },
   {
    "duration": 20,
    "start_time": "2023-06-25T08:20:20.617Z"
   },
   {
    "duration": 19232,
    "start_time": "2023-06-25T08:20:27.654Z"
   },
   {
    "duration": 33,
    "start_time": "2023-06-25T08:20:56.581Z"
   },
   {
    "duration": 8064,
    "start_time": "2023-06-25T08:21:08.179Z"
   },
   {
    "duration": 23,
    "start_time": "2023-06-25T08:21:25.886Z"
   },
   {
    "duration": 30,
    "start_time": "2023-06-25T08:21:49.838Z"
   },
   {
    "duration": 22,
    "start_time": "2023-06-25T08:21:51.859Z"
   },
   {
    "duration": 26,
    "start_time": "2023-06-25T08:21:53.801Z"
   },
   {
    "duration": 23,
    "start_time": "2023-06-25T08:21:55.958Z"
   },
   {
    "duration": 22,
    "start_time": "2023-06-25T08:22:00.980Z"
   },
   {
    "duration": 19,
    "start_time": "2023-06-25T08:22:04.922Z"
   },
   {
    "duration": 15,
    "start_time": "2023-06-25T08:22:21.682Z"
   },
   {
    "duration": 21,
    "start_time": "2023-06-25T08:22:30.327Z"
   },
   {
    "duration": 24,
    "start_time": "2023-06-25T08:22:38.390Z"
   },
   {
    "duration": 21,
    "start_time": "2023-06-25T08:23:26.758Z"
   },
   {
    "duration": 20,
    "start_time": "2023-06-25T08:23:33.475Z"
   },
   {
    "duration": 22,
    "start_time": "2023-06-25T08:23:38.722Z"
   },
   {
    "duration": 4,
    "start_time": "2023-06-25T08:25:12.223Z"
   },
   {
    "duration": 5,
    "start_time": "2023-06-25T08:25:26.125Z"
   },
   {
    "duration": 4,
    "start_time": "2023-06-25T08:25:38.654Z"
   },
   {
    "duration": 3,
    "start_time": "2023-06-25T08:27:37.857Z"
   },
   {
    "duration": 73,
    "start_time": "2023-06-25T08:28:54.143Z"
   },
   {
    "duration": 4,
    "start_time": "2023-06-25T08:29:06.240Z"
   },
   {
    "duration": 121,
    "start_time": "2023-06-25T08:29:36.714Z"
   },
   {
    "duration": 6,
    "start_time": "2023-06-25T08:30:17.336Z"
   },
   {
    "duration": 20,
    "start_time": "2023-06-25T08:30:28.397Z"
   },
   {
    "duration": 4,
    "start_time": "2023-06-25T08:30:47.356Z"
   },
   {
    "duration": 27,
    "start_time": "2023-06-25T08:31:11.714Z"
   },
   {
    "duration": 15,
    "start_time": "2023-06-25T08:31:14.012Z"
   },
   {
    "duration": 20,
    "start_time": "2023-06-25T08:31:31.413Z"
   },
   {
    "duration": 11,
    "start_time": "2023-06-25T08:31:33.573Z"
   },
   {
    "duration": 1302,
    "start_time": "2023-06-25T08:31:38.019Z"
   },
   {
    "duration": 9,
    "start_time": "2023-06-25T08:31:41.819Z"
   },
   {
    "duration": 1461,
    "start_time": "2023-06-25T08:32:00.783Z"
   },
   {
    "duration": 8,
    "start_time": "2023-06-25T08:32:06.392Z"
   },
   {
    "duration": 621,
    "start_time": "2023-06-25T08:32:22.858Z"
   },
   {
    "duration": 9,
    "start_time": "2023-06-25T08:32:25.732Z"
   },
   {
    "duration": 14715,
    "start_time": "2023-06-25T08:32:29.790Z"
   },
   {
    "duration": 25,
    "start_time": "2023-06-25T08:33:49.598Z"
   },
   {
    "duration": 18574,
    "start_time": "2023-06-25T08:34:07.712Z"
   },
   {
    "duration": 34,
    "start_time": "2023-06-25T08:34:30.150Z"
   },
   {
    "duration": 8849,
    "start_time": "2023-06-25T08:34:49.797Z"
   },
   {
    "duration": 34,
    "start_time": "2023-06-25T08:35:04.879Z"
   },
   {
    "duration": 27,
    "start_time": "2023-06-25T08:35:09.113Z"
   },
   {
    "duration": 20,
    "start_time": "2023-06-25T08:35:10.348Z"
   },
   {
    "duration": 26,
    "start_time": "2023-06-25T08:35:11.397Z"
   },
   {
    "duration": 29,
    "start_time": "2023-06-25T08:35:14.102Z"
   },
   {
    "duration": 21,
    "start_time": "2023-06-25T08:35:21.718Z"
   },
   {
    "duration": 26,
    "start_time": "2023-06-25T08:44:33.093Z"
   },
   {
    "duration": 8,
    "start_time": "2023-06-25T08:45:20.654Z"
   },
   {
    "duration": 7,
    "start_time": "2023-06-25T08:45:25.767Z"
   },
   {
    "duration": 7,
    "start_time": "2023-06-25T08:45:29.884Z"
   },
   {
    "duration": 12,
    "start_time": "2023-06-25T08:45:35.017Z"
   },
   {
    "duration": 34,
    "start_time": "2023-06-25T08:46:01.278Z"
   },
   {
    "duration": 32,
    "start_time": "2023-06-25T08:46:07.895Z"
   },
   {
    "duration": 30,
    "start_time": "2023-06-25T08:46:12.249Z"
   },
   {
    "duration": 26568,
    "start_time": "2023-06-25T08:47:43.052Z"
   },
   {
    "duration": 23004,
    "start_time": "2023-06-25T08:48:19.159Z"
   },
   {
    "duration": 33,
    "start_time": "2023-06-25T08:48:49.315Z"
   },
   {
    "duration": 28521,
    "start_time": "2023-06-25T08:48:58.873Z"
   },
   {
    "duration": 51092,
    "start_time": "2023-06-25T08:49:40.769Z"
   },
   {
    "duration": 36,
    "start_time": "2023-06-25T08:50:45.597Z"
   },
   {
    "duration": 16803,
    "start_time": "2023-06-25T08:51:00.734Z"
   },
   {
    "duration": 32,
    "start_time": "2023-06-25T08:51:29.327Z"
   },
   {
    "duration": 9,
    "start_time": "2023-06-25T08:51:38.422Z"
   },
   {
    "duration": 21,
    "start_time": "2023-06-25T08:51:43.743Z"
   },
   {
    "duration": 34,
    "start_time": "2023-06-25T08:51:44.809Z"
   },
   {
    "duration": 38,
    "start_time": "2023-06-25T08:51:58.590Z"
   },
   {
    "duration": 34,
    "start_time": "2023-06-25T08:52:05.157Z"
   },
   {
    "duration": 38,
    "start_time": "2023-06-25T08:52:09.076Z"
   },
   {
    "duration": 1610,
    "start_time": "2023-06-25T10:37:11.063Z"
   },
   {
    "duration": 82,
    "start_time": "2023-06-25T10:37:16.738Z"
   },
   {
    "duration": 4,
    "start_time": "2023-06-25T10:37:37.370Z"
   },
   {
    "duration": 40,
    "start_time": "2023-06-25T10:38:13.146Z"
   },
   {
    "duration": 36,
    "start_time": "2023-06-25T10:38:54.041Z"
   },
   {
    "duration": 7,
    "start_time": "2023-06-25T10:42:36.361Z"
   },
   {
    "duration": 3,
    "start_time": "2023-06-25T10:42:39.670Z"
   },
   {
    "duration": 11,
    "start_time": "2023-06-25T10:42:48.826Z"
   },
   {
    "duration": 10,
    "start_time": "2023-06-25T10:42:54.440Z"
   },
   {
    "duration": 13,
    "start_time": "2023-06-25T10:43:00.910Z"
   },
   {
    "duration": 4,
    "start_time": "2023-06-25T10:43:03.970Z"
   },
   {
    "duration": 5,
    "start_time": "2023-06-25T10:43:08.616Z"
   },
   {
    "duration": 6,
    "start_time": "2023-06-25T10:43:12.752Z"
   },
   {
    "duration": 8,
    "start_time": "2023-06-25T10:43:25.416Z"
   },
   {
    "duration": 7,
    "start_time": "2023-06-25T10:43:45.167Z"
   },
   {
    "duration": 7,
    "start_time": "2023-06-25T10:43:58.912Z"
   },
   {
    "duration": 14,
    "start_time": "2023-06-25T10:44:02.823Z"
   },
   {
    "duration": 6,
    "start_time": "2023-06-25T10:44:04.780Z"
   },
   {
    "duration": 112,
    "start_time": "2023-06-25T10:44:19.650Z"
   },
   {
    "duration": 4,
    "start_time": "2023-06-25T10:47:49.628Z"
   },
   {
    "duration": 4,
    "start_time": "2023-06-25T10:48:05.890Z"
   },
   {
    "duration": 4,
    "start_time": "2023-06-25T10:48:31.075Z"
   },
   {
    "duration": 4,
    "start_time": "2023-06-25T10:50:56.159Z"
   },
   {
    "duration": 4,
    "start_time": "2023-06-25T10:51:20.575Z"
   },
   {
    "duration": 17,
    "start_time": "2023-06-25T10:51:31.164Z"
   },
   {
    "duration": 5,
    "start_time": "2023-06-25T10:51:42.966Z"
   },
   {
    "duration": 4,
    "start_time": "2023-06-25T10:51:44.909Z"
   },
   {
    "duration": 9,
    "start_time": "2023-06-25T10:51:47.742Z"
   },
   {
    "duration": 8,
    "start_time": "2023-06-25T10:51:50.402Z"
   },
   {
    "duration": 24,
    "start_time": "2023-06-25T10:52:23.768Z"
   },
   {
    "duration": 22,
    "start_time": "2023-06-25T10:52:42.533Z"
   },
   {
    "duration": 9,
    "start_time": "2023-06-25T10:52:45.239Z"
   },
   {
    "duration": 3695,
    "start_time": "2023-06-25T10:53:10.909Z"
   },
   {
    "duration": 8,
    "start_time": "2023-06-25T10:53:17.614Z"
   },
   {
    "duration": 13790,
    "start_time": "2023-06-25T10:53:30.253Z"
   },
   {
    "duration": 10155,
    "start_time": "2023-06-25T10:53:56.820Z"
   },
   {
    "duration": 24,
    "start_time": "2023-06-25T10:54:13.573Z"
   },
   {
    "duration": 4,
    "start_time": "2023-06-25T10:56:56.440Z"
   },
   {
    "duration": 4,
    "start_time": "2023-06-25T10:57:37.889Z"
   },
   {
    "duration": 25,
    "start_time": "2023-06-25T10:57:59.324Z"
   },
   {
    "duration": 9,
    "start_time": "2023-06-25T10:58:05.024Z"
   },
   {
    "duration": 30,
    "start_time": "2023-06-25T10:58:24.990Z"
   },
   {
    "duration": 7,
    "start_time": "2023-06-25T10:58:30.559Z"
   },
   {
    "duration": 20,
    "start_time": "2023-06-25T10:58:59.275Z"
   },
   {
    "duration": 9,
    "start_time": "2023-06-25T10:59:03.765Z"
   },
   {
    "duration": 1097,
    "start_time": "2023-06-25T10:59:24.141Z"
   },
   {
    "duration": 8,
    "start_time": "2023-06-25T10:59:31.458Z"
   },
   {
    "duration": 1352,
    "start_time": "2023-06-25T10:59:55.166Z"
   },
   {
    "duration": 7,
    "start_time": "2023-06-25T11:00:05.586Z"
   },
   {
    "duration": 541,
    "start_time": "2023-06-25T11:00:34.567Z"
   },
   {
    "duration": 7,
    "start_time": "2023-06-25T11:00:38.723Z"
   },
   {
    "duration": 7,
    "start_time": "2023-06-25T11:00:41.477Z"
   },
   {
    "duration": 15281,
    "start_time": "2023-06-25T11:01:14.196Z"
   },
   {
    "duration": 29,
    "start_time": "2023-06-25T11:01:34.236Z"
   },
   {
    "duration": 23964,
    "start_time": "2023-06-25T11:02:19.928Z"
   },
   {
    "duration": 29995,
    "start_time": "2023-06-25T11:02:59.748Z"
   },
   {
    "duration": 32,
    "start_time": "2023-06-25T11:03:36.989Z"
   },
   {
    "duration": 15077,
    "start_time": "2023-06-25T11:04:10.102Z"
   },
   {
    "duration": 16733,
    "start_time": "2023-06-25T11:04:43.030Z"
   },
   {
    "duration": 11879,
    "start_time": "2023-06-25T11:05:13.465Z"
   },
   {
    "duration": 37,
    "start_time": "2023-06-25T11:05:33.539Z"
   },
   {
    "duration": 29,
    "start_time": "2023-06-25T11:05:46.149Z"
   },
   {
    "duration": 24,
    "start_time": "2023-06-25T11:05:50.664Z"
   },
   {
    "duration": 32,
    "start_time": "2023-06-25T11:05:55.594Z"
   },
   {
    "duration": 34,
    "start_time": "2023-06-25T11:06:01.532Z"
   },
   {
    "duration": 30374,
    "start_time": "2023-06-25T11:08:13.417Z"
   },
   {
    "duration": 26360,
    "start_time": "2023-06-25T11:09:07.206Z"
   },
   {
    "duration": 45,
    "start_time": "2023-06-25T11:09:42.991Z"
   },
   {
    "duration": 44,
    "start_time": "2023-06-25T11:09:57.523Z"
   },
   {
    "duration": 37408,
    "start_time": "2023-06-25T11:10:42.792Z"
   },
   {
    "duration": 39,
    "start_time": "2023-06-25T11:11:33.951Z"
   },
   {
    "duration": 5,
    "start_time": "2023-06-25T11:12:08.802Z"
   },
   {
    "duration": 13569,
    "start_time": "2023-06-25T11:12:46.922Z"
   },
   {
    "duration": 43,
    "start_time": "2023-06-25T11:13:19.596Z"
   },
   {
    "duration": 3,
    "start_time": "2023-06-25T11:15:12.025Z"
   },
   {
    "duration": 3,
    "start_time": "2023-06-25T11:15:12.749Z"
   },
   {
    "duration": 49,
    "start_time": "2023-06-25T11:15:16.427Z"
   },
   {
    "duration": 12,
    "start_time": "2023-06-25T11:15:17.172Z"
   },
   {
    "duration": 31,
    "start_time": "2023-06-25T11:15:21.649Z"
   },
   {
    "duration": 13,
    "start_time": "2023-06-25T11:15:24.454Z"
   },
   {
    "duration": 27,
    "start_time": "2023-06-25T11:15:26.613Z"
   },
   {
    "duration": 9,
    "start_time": "2023-06-25T11:15:28.780Z"
   },
   {
    "duration": 1151,
    "start_time": "2023-06-25T11:15:33.028Z"
   },
   {
    "duration": 9,
    "start_time": "2023-06-25T11:15:38.531Z"
   },
   {
    "duration": 1409,
    "start_time": "2023-06-25T11:15:42.119Z"
   },
   {
    "duration": 7,
    "start_time": "2023-06-25T11:15:49.670Z"
   },
   {
    "duration": 549,
    "start_time": "2023-06-25T11:15:55.538Z"
   },
   {
    "duration": 8,
    "start_time": "2023-06-25T11:15:58.112Z"
   },
   {
    "duration": 15928,
    "start_time": "2023-06-25T11:16:03.082Z"
   },
   {
    "duration": 26,
    "start_time": "2023-06-25T11:16:27.947Z"
   },
   {
    "duration": 37559,
    "start_time": "2023-06-25T11:16:34.949Z"
   },
   {
    "duration": 40,
    "start_time": "2023-06-25T11:17:27.322Z"
   },
   {
    "duration": 12237,
    "start_time": "2023-06-25T11:17:40.943Z"
   },
   {
    "duration": 37,
    "start_time": "2023-06-25T11:17:59.027Z"
   },
   {
    "duration": 34,
    "start_time": "2023-06-25T11:18:09.571Z"
   },
   {
    "duration": 22,
    "start_time": "2023-06-25T11:18:24.475Z"
   },
   {
    "duration": 7,
    "start_time": "2023-06-25T11:18:51.394Z"
   },
   {
    "duration": 7,
    "start_time": "2023-06-25T11:18:57.404Z"
   },
   {
    "duration": 8,
    "start_time": "2023-06-25T11:19:02.811Z"
   },
   {
    "duration": 8,
    "start_time": "2023-06-25T11:19:06.536Z"
   },
   {
    "duration": 23,
    "start_time": "2023-06-25T11:19:12.961Z"
   },
   {
    "duration": 36,
    "start_time": "2023-06-25T11:19:16.465Z"
   },
   {
    "duration": 44,
    "start_time": "2023-06-25T11:19:22.778Z"
   },
   {
    "duration": 3,
    "start_time": "2023-06-25T11:20:04.073Z"
   },
   {
    "duration": 20,
    "start_time": "2023-06-25T11:21:19.402Z"
   },
   {
    "duration": 10,
    "start_time": "2023-06-25T11:21:21.754Z"
   },
   {
    "duration": 1118,
    "start_time": "2023-06-25T11:21:24.948Z"
   },
   {
    "duration": 8,
    "start_time": "2023-06-25T11:21:29.224Z"
   },
   {
    "duration": 1323,
    "start_time": "2023-06-25T11:21:32.564Z"
   },
   {
    "duration": 8,
    "start_time": "2023-06-25T11:21:37.313Z"
   },
   {
    "duration": 661,
    "start_time": "2023-06-25T11:21:42.503Z"
   },
   {
    "duration": 8,
    "start_time": "2023-06-25T11:21:46.698Z"
   },
   {
    "duration": 16150,
    "start_time": "2023-06-25T11:21:55.820Z"
   },
   {
    "duration": 28,
    "start_time": "2023-06-25T11:22:14.784Z"
   },
   {
    "duration": 38922,
    "start_time": "2023-06-25T11:22:17.235Z"
   },
   {
    "duration": 39,
    "start_time": "2023-06-25T11:23:02.231Z"
   },
   {
    "duration": 13560,
    "start_time": "2023-06-25T11:23:17.115Z"
   },
   {
    "duration": 41,
    "start_time": "2023-06-25T11:23:53.392Z"
   },
   {
    "duration": 41,
    "start_time": "2023-06-25T11:24:14.086Z"
   },
   {
    "duration": 24,
    "start_time": "2023-06-25T11:24:25.636Z"
   },
   {
    "duration": 29,
    "start_time": "2023-06-25T11:24:59.613Z"
   },
   {
    "duration": 32,
    "start_time": "2023-06-25T11:25:34.175Z"
   },
   {
    "duration": 40,
    "start_time": "2023-06-25T11:25:39.562Z"
   },
   {
    "duration": 43,
    "start_time": "2023-06-25T11:25:42.067Z"
   },
   {
    "duration": 13003,
    "start_time": "2023-06-25T11:39:38.623Z"
   },
   {
    "duration": 12077,
    "start_time": "2023-06-25T11:40:23.392Z"
   },
   {
    "duration": 12643,
    "start_time": "2023-06-25T11:40:49.721Z"
   },
   {
    "duration": 36,
    "start_time": "2023-06-25T11:41:15.584Z"
   },
   {
    "duration": 29,
    "start_time": "2023-06-25T11:43:59.243Z"
   },
   {
    "duration": 32,
    "start_time": "2023-06-25T11:43:59.999Z"
   },
   {
    "duration": 39,
    "start_time": "2023-06-25T11:44:01.383Z"
   },
   {
    "duration": 44,
    "start_time": "2023-06-25T11:44:02.149Z"
   },
   {
    "duration": 2371,
    "start_time": "2023-06-25T13:11:48.706Z"
   },
   {
    "duration": 324,
    "start_time": "2023-06-25T13:11:57.108Z"
   },
   {
    "duration": 83,
    "start_time": "2023-06-25T13:11:59.447Z"
   },
   {
    "duration": 7,
    "start_time": "2023-06-25T13:12:07.133Z"
   },
   {
    "duration": 18,
    "start_time": "2023-06-25T13:12:07.632Z"
   },
   {
    "duration": 11,
    "start_time": "2023-06-25T13:13:29.636Z"
   },
   {
    "duration": 15,
    "start_time": "2023-06-25T13:13:30.917Z"
   },
   {
    "duration": 24,
    "start_time": "2023-06-25T13:13:33.343Z"
   },
   {
    "duration": 6,
    "start_time": "2023-06-25T13:13:35.713Z"
   },
   {
    "duration": 6,
    "start_time": "2023-06-25T13:13:36.402Z"
   },
   {
    "duration": 9,
    "start_time": "2023-06-25T13:13:37.112Z"
   },
   {
    "duration": 19,
    "start_time": "2023-06-25T13:13:38.799Z"
   },
   {
    "duration": 10,
    "start_time": "2023-06-25T13:13:39.417Z"
   },
   {
    "duration": 12,
    "start_time": "2023-06-25T13:14:00.138Z"
   },
   {
    "duration": 2051,
    "start_time": "2023-06-25T13:14:35.702Z"
   },
   {
    "duration": 18,
    "start_time": "2023-06-25T13:14:42.995Z"
   },
   {
    "duration": 6,
    "start_time": "2023-06-25T13:15:35.635Z"
   },
   {
    "duration": 5,
    "start_time": "2023-06-25T13:16:07.070Z"
   },
   {
    "duration": 5,
    "start_time": "2023-06-25T13:16:18.222Z"
   },
   {
    "duration": 5,
    "start_time": "2023-06-25T13:16:29.976Z"
   },
   {
    "duration": 5,
    "start_time": "2023-06-25T13:16:51.838Z"
   },
   {
    "duration": 15,
    "start_time": "2023-06-25T13:16:56.430Z"
   },
   {
    "duration": 6,
    "start_time": "2023-06-25T13:16:59.002Z"
   },
   {
    "duration": 167,
    "start_time": "2023-06-25T13:17:13.214Z"
   },
   {
    "duration": 4,
    "start_time": "2023-06-25T13:17:17.915Z"
   },
   {
    "duration": 6,
    "start_time": "2023-06-25T13:17:39.197Z"
   },
   {
    "duration": 5,
    "start_time": "2023-06-25T13:18:19.694Z"
   },
   {
    "duration": 40,
    "start_time": "2023-06-25T13:18:24.197Z"
   },
   {
    "duration": 10,
    "start_time": "2023-06-25T13:18:25.272Z"
   },
   {
    "duration": 2,
    "start_time": "2023-06-25T13:18:25.925Z"
   },
   {
    "duration": 14,
    "start_time": "2023-06-25T13:18:27.105Z"
   },
   {
    "duration": 22,
    "start_time": "2023-06-25T13:18:27.656Z"
   },
   {
    "duration": 64,
    "start_time": "2023-06-25T13:18:29.135Z"
   },
   {
    "duration": 60,
    "start_time": "2023-06-25T13:20:20.156Z"
   },
   {
    "duration": 26,
    "start_time": "2023-06-25T13:20:21.697Z"
   },
   {
    "duration": 4895,
    "start_time": "2023-06-25T13:20:44.217Z"
   },
   {
    "duration": 12,
    "start_time": "2023-06-25T13:20:58.830Z"
   },
   {
    "duration": 14038,
    "start_time": "2023-06-25T13:21:20.696Z"
   },
   {
    "duration": 38,
    "start_time": "2023-06-25T13:21:53.339Z"
   },
   {
    "duration": 6,
    "start_time": "2023-06-25T13:23:00.896Z"
   },
   {
    "duration": 21,
    "start_time": "2023-06-25T13:23:01.554Z"
   },
   {
    "duration": 76,
    "start_time": "2023-06-25T13:23:06.381Z"
   },
   {
    "duration": 30,
    "start_time": "2023-06-25T13:23:11.145Z"
   },
   {
    "duration": 51,
    "start_time": "2023-06-25T13:23:19.917Z"
   },
   {
    "duration": 20,
    "start_time": "2023-06-25T13:23:20.907Z"
   },
   {
    "duration": 29,
    "start_time": "2023-06-25T13:23:24.315Z"
   },
   {
    "duration": 15,
    "start_time": "2023-06-25T13:23:25.945Z"
   },
   {
    "duration": 1789,
    "start_time": "2023-06-25T13:23:40.828Z"
   },
   {
    "duration": 19,
    "start_time": "2023-06-25T13:24:02.997Z"
   },
   {
    "duration": 2020,
    "start_time": "2023-06-25T13:24:41.535Z"
   },
   {
    "duration": 18,
    "start_time": "2023-06-25T13:24:52.887Z"
   },
   {
    "duration": 1007,
    "start_time": "2023-06-25T13:25:02.499Z"
   },
   {
    "duration": 10,
    "start_time": "2023-06-25T13:25:07.243Z"
   },
   {
    "duration": 24009,
    "start_time": "2023-06-25T13:25:25.397Z"
   },
   {
    "duration": 52,
    "start_time": "2023-06-25T13:25:52.681Z"
   },
   {
    "duration": 55561,
    "start_time": "2023-06-25T13:25:58.346Z"
   },
   {
    "duration": 51,
    "start_time": "2023-06-25T13:26:53.914Z"
   },
   {
    "duration": 19583,
    "start_time": "2023-06-25T13:27:05.253Z"
   },
   {
    "duration": 60,
    "start_time": "2023-06-25T13:27:27.460Z"
   },
   {
    "duration": 53,
    "start_time": "2023-06-25T13:27:42.338Z"
   },
   {
    "duration": 78,
    "start_time": "2023-06-25T13:27:52.625Z"
   },
   {
    "duration": 12,
    "start_time": "2023-06-25T13:28:09.432Z"
   },
   {
    "duration": 14,
    "start_time": "2023-06-25T13:28:32.539Z"
   },
   {
    "duration": 53,
    "start_time": "2023-06-25T13:28:45.846Z"
   },
   {
    "duration": 52,
    "start_time": "2023-06-25T13:28:54.694Z"
   },
   {
    "duration": 90,
    "start_time": "2023-06-25T13:28:55.263Z"
   },
   {
    "duration": 82,
    "start_time": "2023-06-25T13:28:55.833Z"
   },
   {
    "duration": 47,
    "start_time": "2023-06-25T13:28:56.917Z"
   },
   {
    "duration": 89,
    "start_time": "2023-06-25T13:30:40.276Z"
   },
   {
    "duration": 13,
    "start_time": "2023-06-25T13:30:55.116Z"
   },
   {
    "duration": 4706,
    "start_time": "2023-06-25T13:31:36.408Z"
   },
   {
    "duration": 4697,
    "start_time": "2023-06-25T13:32:17.836Z"
   },
   {
    "duration": 10,
    "start_time": "2023-06-25T13:32:58.209Z"
   },
   {
    "duration": 14541,
    "start_time": "2023-06-25T13:33:27.600Z"
   },
   {
    "duration": 14602,
    "start_time": "2023-06-25T13:34:07.709Z"
   },
   {
    "duration": 44,
    "start_time": "2023-06-25T13:34:39.734Z"
   },
   {
    "duration": 5,
    "start_time": "2023-06-25T13:34:48.115Z"
   },
   {
    "duration": 19,
    "start_time": "2023-06-25T13:34:49.260Z"
   },
   {
    "duration": 111,
    "start_time": "2023-06-25T13:40:08.105Z"
   },
   {
    "duration": 23,
    "start_time": "2023-06-25T13:40:17.002Z"
   },
   {
    "duration": 55,
    "start_time": "2023-06-25T13:40:28.913Z"
   },
   {
    "duration": 30,
    "start_time": "2023-06-25T13:41:45.677Z"
   },
   {
    "duration": 21,
    "start_time": "2023-06-25T13:41:46.973Z"
   },
   {
    "duration": 4334,
    "start_time": "2023-06-25T13:41:56.336Z"
   },
   {
    "duration": 4562,
    "start_time": "2023-06-25T13:42:11.552Z"
   },
   {
    "duration": 9,
    "start_time": "2023-06-25T13:42:21.847Z"
   },
   {
    "duration": 13040,
    "start_time": "2023-06-25T13:42:33.855Z"
   },
   {
    "duration": 34,
    "start_time": "2023-06-25T13:42:49.586Z"
   },
   {
    "duration": 4,
    "start_time": "2023-06-25T13:43:10.889Z"
   },
   {
    "duration": 5,
    "start_time": "2023-06-25T13:43:11.797Z"
   },
   {
    "duration": 43,
    "start_time": "2023-06-25T13:43:21.127Z"
   },
   {
    "duration": 25,
    "start_time": "2023-06-25T13:43:42.986Z"
   },
   {
    "duration": 12,
    "start_time": "2023-06-25T13:43:47.126Z"
   },
   {
    "duration": 4284,
    "start_time": "2023-06-25T13:44:09.651Z"
   },
   {
    "duration": 10,
    "start_time": "2023-06-25T13:44:16.442Z"
   },
   {
    "duration": 13099,
    "start_time": "2023-06-25T13:44:43.449Z"
   },
   {
    "duration": 30,
    "start_time": "2023-06-25T13:44:59.645Z"
   },
   {
    "duration": 6,
    "start_time": "2023-06-25T13:45:02.385Z"
   },
   {
    "duration": 5,
    "start_time": "2023-06-25T13:45:03.226Z"
   },
   {
    "duration": 23,
    "start_time": "2023-06-25T13:45:07.980Z"
   },
   {
    "duration": 18,
    "start_time": "2023-06-25T13:45:09.552Z"
   },
   {
    "duration": 33,
    "start_time": "2023-06-25T13:45:48.794Z"
   },
   {
    "duration": 10,
    "start_time": "2023-06-25T13:45:50.114Z"
   },
   {
    "duration": 5,
    "start_time": "2023-06-25T13:45:53.536Z"
   },
   {
    "duration": 32,
    "start_time": "2023-06-25T13:45:59.809Z"
   },
   {
    "duration": 13,
    "start_time": "2023-06-25T13:46:04.782Z"
   },
   {
    "duration": 176,
    "start_time": "2023-06-25T13:46:32.894Z"
   },
   {
    "duration": 39,
    "start_time": "2023-06-25T13:46:37.641Z"
   },
   {
    "duration": 17,
    "start_time": "2023-06-25T13:46:40.786Z"
   },
   {
    "duration": 1328,
    "start_time": "2023-06-25T13:48:11.885Z"
   },
   {
    "duration": 10,
    "start_time": "2023-06-25T13:48:29.817Z"
   },
   {
    "duration": 1507,
    "start_time": "2023-06-25T13:49:19.790Z"
   },
   {
    "duration": 1599,
    "start_time": "2023-06-25T13:49:58.709Z"
   },
   {
    "duration": 9,
    "start_time": "2023-06-25T13:50:12.920Z"
   },
   {
    "duration": 1616,
    "start_time": "2023-06-25T13:50:41.534Z"
   },
   {
    "duration": 15,
    "start_time": "2023-06-25T13:50:44.591Z"
   },
   {
    "duration": 818,
    "start_time": "2023-06-25T13:51:58.643Z"
   },
   {
    "duration": 8,
    "start_time": "2023-06-25T13:52:12.430Z"
   },
   {
    "duration": 20022,
    "start_time": "2023-06-25T13:53:21.772Z"
   },
   {
    "duration": 34,
    "start_time": "2023-06-25T13:54:05.898Z"
   },
   {
    "duration": 48519,
    "start_time": "2023-06-25T13:55:19.709Z"
   },
   {
    "duration": 57,
    "start_time": "2023-06-25T13:56:23.433Z"
   },
   {
    "duration": 16728,
    "start_time": "2023-06-25T13:57:08.456Z"
   },
   {
    "duration": 46,
    "start_time": "2023-06-25T13:57:43.718Z"
   },
   {
    "duration": 30,
    "start_time": "2023-06-25T14:06:49.095Z"
   },
   {
    "duration": 34,
    "start_time": "2023-06-25T14:07:12.834Z"
   },
   {
    "duration": 36,
    "start_time": "2023-06-25T14:07:32.879Z"
   },
   {
    "duration": 33,
    "start_time": "2023-06-25T14:07:38.708Z"
   },
   {
    "duration": 45,
    "start_time": "2023-06-25T14:07:42.353Z"
   },
   {
    "duration": 50,
    "start_time": "2023-06-25T14:07:48.886Z"
   },
   {
    "duration": 82,
    "start_time": "2023-06-25T14:20:49.763Z"
   },
   {
    "duration": 20,
    "start_time": "2023-06-25T14:21:03.618Z"
   },
   {
    "duration": 10,
    "start_time": "2023-06-25T14:22:59.788Z"
   },
   {
    "duration": 15,
    "start_time": "2023-06-25T14:24:20.607Z"
   },
   {
    "duration": 9,
    "start_time": "2023-06-25T14:28:35.029Z"
   },
   {
    "duration": 103,
    "start_time": "2023-06-25T14:29:29.435Z"
   },
   {
    "duration": 11,
    "start_time": "2023-06-25T14:29:45.299Z"
   },
   {
    "duration": 11,
    "start_time": "2023-06-25T14:31:11.208Z"
   },
   {
    "duration": 11,
    "start_time": "2023-06-25T14:31:24.607Z"
   },
   {
    "duration": 11,
    "start_time": "2023-06-25T14:31:38.588Z"
   },
   {
    "duration": 4,
    "start_time": "2023-06-25T14:31:54.328Z"
   },
   {
    "duration": 90,
    "start_time": "2023-06-25T14:32:00.512Z"
   },
   {
    "duration": 14,
    "start_time": "2023-06-25T14:32:09.404Z"
   },
   {
    "duration": 17,
    "start_time": "2023-06-25T14:32:50.657Z"
   },
   {
    "duration": 16,
    "start_time": "2023-06-25T14:38:31.252Z"
   },
   {
    "duration": 38,
    "start_time": "2023-06-25T14:39:13.537Z"
   },
   {
    "duration": 32,
    "start_time": "2023-06-25T14:39:31.760Z"
   },
   {
    "duration": 9,
    "start_time": "2023-06-25T14:39:44.350Z"
   },
   {
    "duration": 13,
    "start_time": "2023-06-25T14:39:53.989Z"
   },
   {
    "duration": 93,
    "start_time": "2023-06-25T14:42:27.595Z"
   },
   {
    "duration": 19,
    "start_time": "2023-06-25T14:42:52.427Z"
   },
   {
    "duration": 15,
    "start_time": "2023-06-25T14:43:57.806Z"
   },
   {
    "duration": 17,
    "start_time": "2023-06-25T14:44:24.900Z"
   },
   {
    "duration": 12,
    "start_time": "2023-06-25T14:44:45.934Z"
   },
   {
    "duration": 14,
    "start_time": "2023-06-25T14:45:20.336Z"
   },
   {
    "duration": 114,
    "start_time": "2023-06-25T14:45:53.756Z"
   },
   {
    "duration": 14,
    "start_time": "2023-06-25T14:46:06.811Z"
   },
   {
    "duration": 17,
    "start_time": "2023-06-25T14:47:20.214Z"
   },
   {
    "duration": 18,
    "start_time": "2023-06-25T14:47:38.500Z"
   },
   {
    "duration": 14,
    "start_time": "2023-06-25T14:48:36.397Z"
   },
   {
    "duration": 14,
    "start_time": "2023-06-25T14:48:50.914Z"
   },
   {
    "duration": 14,
    "start_time": "2023-06-25T14:49:50.000Z"
   },
   {
    "duration": 16,
    "start_time": "2023-06-25T14:50:51.024Z"
   },
   {
    "duration": 43,
    "start_time": "2023-06-25T14:55:11.462Z"
   },
   {
    "duration": 42,
    "start_time": "2023-06-25T14:55:45.300Z"
   },
   {
    "duration": 14,
    "start_time": "2023-06-25T14:57:44.386Z"
   },
   {
    "duration": 16,
    "start_time": "2023-06-25T14:58:19.785Z"
   },
   {
    "duration": 46,
    "start_time": "2023-06-25T15:22:41.642Z"
   },
   {
    "duration": 35,
    "start_time": "2023-06-25T15:22:46.679Z"
   },
   {
    "duration": 46,
    "start_time": "2023-06-25T15:23:03.314Z"
   },
   {
    "duration": 13,
    "start_time": "2023-06-25T15:23:09.969Z"
   },
   {
    "duration": 22,
    "start_time": "2023-06-25T15:23:23.788Z"
   },
   {
    "duration": 14,
    "start_time": "2023-06-25T15:23:27.605Z"
   },
   {
    "duration": 1589,
    "start_time": "2023-06-25T15:23:44.939Z"
   },
   {
    "duration": 1510,
    "start_time": "2023-06-25T15:23:50.589Z"
   },
   {
    "duration": 710,
    "start_time": "2023-06-25T15:24:07.113Z"
   },
   {
    "duration": 714,
    "start_time": "2023-06-25T15:24:13.505Z"
   },
   {
    "duration": 31,
    "start_time": "2023-06-25T15:27:31.219Z"
   },
   {
    "duration": 24,
    "start_time": "2023-06-25T15:33:14.089Z"
   },
   {
    "duration": 8,
    "start_time": "2023-06-25T15:35:01.200Z"
   },
   {
    "duration": 46,
    "start_time": "2023-06-25T15:35:04.128Z"
   },
   {
    "duration": 45,
    "start_time": "2023-06-25T15:35:05.925Z"
   },
   {
    "duration": 17,
    "start_time": "2023-06-25T15:35:21.163Z"
   },
   {
    "duration": 6,
    "start_time": "2023-06-25T15:35:21.853Z"
   },
   {
    "duration": 23,
    "start_time": "2023-06-25T15:35:27.155Z"
   },
   {
    "duration": 14,
    "start_time": "2023-06-25T15:35:28.610Z"
   },
   {
    "duration": 18,
    "start_time": "2023-06-25T15:35:29.345Z"
   },
   {
    "duration": 23,
    "start_time": "2023-06-25T15:37:20.016Z"
   },
   {
    "duration": 7,
    "start_time": "2023-06-25T15:37:24.420Z"
   },
   {
    "duration": 13,
    "start_time": "2023-06-25T15:37:25.270Z"
   },
   {
    "duration": 8,
    "start_time": "2023-06-25T15:37:27.317Z"
   },
   {
    "duration": 14,
    "start_time": "2023-06-25T15:37:29.531Z"
   },
   {
    "duration": 11,
    "start_time": "2023-06-25T15:37:30.311Z"
   },
   {
    "duration": 25,
    "start_time": "2023-06-25T15:37:32.850Z"
   },
   {
    "duration": 11,
    "start_time": "2023-06-25T15:37:35.604Z"
   },
   {
    "duration": 5,
    "start_time": "2023-06-25T15:37:37.107Z"
   },
   {
    "duration": 7,
    "start_time": "2023-06-25T15:38:05.245Z"
   },
   {
    "duration": 6,
    "start_time": "2023-06-25T15:38:26.199Z"
   },
   {
    "duration": 7,
    "start_time": "2023-06-25T15:38:56.332Z"
   },
   {
    "duration": 13,
    "start_time": "2023-06-25T15:39:39.062Z"
   },
   {
    "duration": 12,
    "start_time": "2023-06-25T15:39:51.375Z"
   },
   {
    "duration": 11,
    "start_time": "2023-06-25T15:40:14.422Z"
   },
   {
    "duration": 10,
    "start_time": "2023-06-25T15:40:36.242Z"
   },
   {
    "duration": 8,
    "start_time": "2023-06-25T15:41:13.356Z"
   },
   {
    "duration": 5,
    "start_time": "2023-06-25T15:41:45.506Z"
   },
   {
    "duration": 16,
    "start_time": "2023-06-25T15:42:09.754Z"
   },
   {
    "duration": 16,
    "start_time": "2023-06-25T15:42:21.773Z"
   },
   {
    "duration": 7,
    "start_time": "2023-06-25T15:42:31.339Z"
   },
   {
    "duration": 134,
    "start_time": "2023-06-25T15:42:37.736Z"
   },
   {
    "duration": 5,
    "start_time": "2023-06-25T15:42:41.419Z"
   },
   {
    "duration": 5,
    "start_time": "2023-06-25T15:43:01.590Z"
   },
   {
    "duration": 30,
    "start_time": "2023-06-25T15:43:03.332Z"
   },
   {
    "duration": 7,
    "start_time": "2023-06-25T15:43:04.144Z"
   },
   {
    "duration": 4,
    "start_time": "2023-06-25T15:43:04.803Z"
   },
   {
    "duration": 11,
    "start_time": "2023-06-25T15:43:07.100Z"
   },
   {
    "duration": 19,
    "start_time": "2023-06-25T15:43:07.648Z"
   },
   {
    "duration": 27,
    "start_time": "2023-06-25T15:43:10.318Z"
   },
   {
    "duration": 52,
    "start_time": "2023-06-25T15:43:59.530Z"
   },
   {
    "duration": 11,
    "start_time": "2023-06-25T15:44:08.120Z"
   },
   {
    "duration": 4099,
    "start_time": "2023-06-25T15:44:23.200Z"
   },
   {
    "duration": 12,
    "start_time": "2023-06-25T15:44:29.246Z"
   },
   {
    "duration": 11737,
    "start_time": "2023-06-25T15:44:34.155Z"
   },
   {
    "duration": 33,
    "start_time": "2023-06-25T15:44:49.007Z"
   },
   {
    "duration": 5,
    "start_time": "2023-06-25T15:45:17.794Z"
   },
   {
    "duration": 5,
    "start_time": "2023-06-25T15:45:19.487Z"
   },
   {
    "duration": 30,
    "start_time": "2023-06-25T15:45:40.974Z"
   },
   {
    "duration": 11,
    "start_time": "2023-06-25T15:45:43.299Z"
   },
   {
    "duration": 33,
    "start_time": "2023-06-25T15:45:54.801Z"
   },
   {
    "duration": 24,
    "start_time": "2023-06-25T15:46:07.553Z"
   },
   {
    "duration": 36,
    "start_time": "2023-06-25T15:46:20.749Z"
   },
   {
    "duration": 16,
    "start_time": "2023-06-25T15:46:22.006Z"
   },
   {
    "duration": 1350,
    "start_time": "2023-06-25T15:46:37.815Z"
   },
   {
    "duration": 9,
    "start_time": "2023-06-25T15:46:42.409Z"
   },
   {
    "duration": 1509,
    "start_time": "2023-06-25T15:46:45.337Z"
   },
   {
    "duration": 15,
    "start_time": "2023-06-25T15:46:48.952Z"
   },
   {
    "duration": 712,
    "start_time": "2023-06-25T15:46:51.803Z"
   },
   {
    "duration": 10,
    "start_time": "2023-06-25T15:46:54.922Z"
   },
   {
    "duration": 18549,
    "start_time": "2023-06-25T15:47:00.437Z"
   },
   {
    "duration": 31,
    "start_time": "2023-06-25T15:47:21.492Z"
   },
   {
    "duration": 44713,
    "start_time": "2023-06-25T15:47:25.013Z"
   },
   {
    "duration": 51,
    "start_time": "2023-06-25T15:48:11.914Z"
   },
   {
    "duration": 15166,
    "start_time": "2023-06-25T15:48:15.548Z"
   },
   {
    "duration": 41,
    "start_time": "2023-06-25T15:48:35.114Z"
   },
   {
    "duration": 19,
    "start_time": "2023-06-25T15:48:40.875Z"
   },
   {
    "duration": 29,
    "start_time": "2023-06-25T15:51:27.650Z"
   },
   {
    "duration": 29,
    "start_time": "2023-06-25T15:51:28.424Z"
   },
   {
    "duration": 46,
    "start_time": "2023-06-25T15:51:29.213Z"
   },
   {
    "duration": 32,
    "start_time": "2023-06-25T15:51:31.286Z"
   },
   {
    "duration": 49,
    "start_time": "2023-06-25T15:51:32.030Z"
   },
   {
    "duration": 45,
    "start_time": "2023-06-25T15:51:32.923Z"
   },
   {
    "duration": 6,
    "start_time": "2023-06-25T15:53:02.469Z"
   },
   {
    "duration": 47,
    "start_time": "2023-06-25T15:53:02.480Z"
   },
   {
    "duration": 38,
    "start_time": "2023-06-25T15:53:02.530Z"
   },
   {
    "duration": 14,
    "start_time": "2023-06-25T15:53:02.570Z"
   },
   {
    "duration": 10,
    "start_time": "2023-06-25T15:53:02.587Z"
   },
   {
    "duration": 12,
    "start_time": "2023-06-25T15:53:02.599Z"
   },
   {
    "duration": 13,
    "start_time": "2023-06-25T15:53:02.613Z"
   },
   {
    "duration": 46,
    "start_time": "2023-06-25T15:53:02.628Z"
   },
   {
    "duration": 5,
    "start_time": "2023-06-25T15:53:02.677Z"
   },
   {
    "duration": 11,
    "start_time": "2023-06-25T15:53:02.683Z"
   },
   {
    "duration": 14,
    "start_time": "2023-06-25T15:53:02.697Z"
   },
   {
    "duration": 21,
    "start_time": "2023-06-25T15:53:02.713Z"
   },
   {
    "duration": 16,
    "start_time": "2023-06-25T15:53:02.735Z"
   },
   {
    "duration": 14,
    "start_time": "2023-06-25T15:53:02.756Z"
   },
   {
    "duration": 23,
    "start_time": "2023-06-25T15:53:02.772Z"
   },
   {
    "duration": 7,
    "start_time": "2023-06-25T15:53:02.797Z"
   },
   {
    "duration": 6,
    "start_time": "2023-06-25T15:53:02.806Z"
   },
   {
    "duration": 17,
    "start_time": "2023-06-25T15:53:02.814Z"
   },
   {
    "duration": 34,
    "start_time": "2023-06-25T15:53:02.833Z"
   },
   {
    "duration": 12,
    "start_time": "2023-06-25T15:53:02.869Z"
   },
   {
    "duration": 123,
    "start_time": "2023-06-25T15:53:02.883Z"
   },
   {
    "duration": 5,
    "start_time": "2023-06-25T15:53:03.008Z"
   },
   {
    "duration": 8,
    "start_time": "2023-06-25T15:53:03.014Z"
   },
   {
    "duration": 41,
    "start_time": "2023-06-25T15:53:03.024Z"
   },
   {
    "duration": 5,
    "start_time": "2023-06-25T15:53:03.067Z"
   },
   {
    "duration": 13,
    "start_time": "2023-06-25T15:53:03.074Z"
   },
   {
    "duration": 10,
    "start_time": "2023-06-25T15:53:03.091Z"
   },
   {
    "duration": 14,
    "start_time": "2023-06-25T15:53:03.103Z"
   },
   {
    "duration": 46,
    "start_time": "2023-06-25T15:53:03.121Z"
   },
   {
    "duration": 33,
    "start_time": "2023-06-25T15:53:03.168Z"
   },
   {
    "duration": 84,
    "start_time": "2023-06-25T15:53:03.202Z"
   },
   {
    "duration": 4357,
    "start_time": "2023-06-25T15:53:03.288Z"
   },
   {
    "duration": 16,
    "start_time": "2023-06-25T15:53:07.646Z"
   },
   {
    "duration": 12112,
    "start_time": "2023-06-25T15:53:07.670Z"
   },
   {
    "duration": 29,
    "start_time": "2023-06-25T15:53:19.785Z"
   },
   {
    "duration": 4,
    "start_time": "2023-06-25T15:53:19.815Z"
   },
   {
    "duration": 8,
    "start_time": "2023-06-25T15:53:19.820Z"
   },
   {
    "duration": 51,
    "start_time": "2023-06-25T15:53:19.830Z"
   },
   {
    "duration": 81,
    "start_time": "2023-06-25T15:53:19.884Z"
   },
   {
    "duration": 202,
    "start_time": "2023-06-25T15:53:19.966Z"
   },
   {
    "duration": 85,
    "start_time": "2023-06-25T15:53:20.177Z"
   },
   {
    "duration": 112,
    "start_time": "2023-06-25T15:53:20.267Z"
   },
   {
    "duration": 91,
    "start_time": "2023-06-25T15:53:20.386Z"
   },
   {
    "duration": 1409,
    "start_time": "2023-06-25T15:53:20.479Z"
   },
   {
    "duration": 14,
    "start_time": "2023-06-25T15:53:21.893Z"
   },
   {
    "duration": 1502,
    "start_time": "2023-06-25T15:53:21.909Z"
   },
   {
    "duration": 8,
    "start_time": "2023-06-25T15:53:23.413Z"
   },
   {
    "duration": 727,
    "start_time": "2023-06-25T15:53:23.423Z"
   },
   {
    "duration": 19,
    "start_time": "2023-06-25T15:53:24.164Z"
   },
   {
    "duration": 18521,
    "start_time": "2023-06-25T15:53:24.184Z"
   },
   {
    "duration": 33,
    "start_time": "2023-06-25T15:53:42.707Z"
   },
   {
    "duration": 44449,
    "start_time": "2023-06-25T15:53:42.742Z"
   },
   {
    "duration": 48,
    "start_time": "2023-06-25T15:54:27.192Z"
   },
   {
    "duration": 15168,
    "start_time": "2023-06-25T15:54:27.242Z"
   },
   {
    "duration": 56,
    "start_time": "2023-06-25T15:54:42.411Z"
   },
   {
    "duration": 20,
    "start_time": "2023-06-25T15:54:42.474Z"
   },
   {
    "duration": 72,
    "start_time": "2023-06-25T15:54:42.496Z"
   },
   {
    "duration": 29,
    "start_time": "2023-06-25T15:54:42.569Z"
   },
   {
    "duration": 30,
    "start_time": "2023-06-25T15:54:42.599Z"
   },
   {
    "duration": 53,
    "start_time": "2023-06-25T15:54:42.631Z"
   },
   {
    "duration": 163,
    "start_time": "2023-06-25T15:54:42.686Z"
   },
   {
    "duration": 43,
    "start_time": "2023-06-25T15:54:42.851Z"
   },
   {
    "duration": 2124,
    "start_time": "2023-06-26T13:14:02.122Z"
   },
   {
    "duration": 7,
    "start_time": "2023-06-26T13:14:05.669Z"
   },
   {
    "duration": 175,
    "start_time": "2023-06-26T13:14:11.411Z"
   },
   {
    "duration": 55,
    "start_time": "2023-06-26T13:14:14.046Z"
   },
   {
    "duration": 57,
    "start_time": "2023-06-26T13:14:15.566Z"
   },
   {
    "duration": 7,
    "start_time": "2023-06-26T13:14:21.759Z"
   },
   {
    "duration": 5,
    "start_time": "2023-06-26T13:14:22.338Z"
   },
   {
    "duration": 10,
    "start_time": "2023-06-26T13:14:25.490Z"
   },
   {
    "duration": 15,
    "start_time": "2023-06-26T13:14:28.124Z"
   },
   {
    "duration": 18,
    "start_time": "2023-06-26T13:14:28.760Z"
   },
   {
    "duration": 5,
    "start_time": "2023-06-26T13:14:29.903Z"
   },
   {
    "duration": 4,
    "start_time": "2023-06-26T13:14:31.551Z"
   },
   {
    "duration": 6,
    "start_time": "2023-06-26T13:14:32.127Z"
   },
   {
    "duration": 10,
    "start_time": "2023-06-26T13:14:32.804Z"
   },
   {
    "duration": 9,
    "start_time": "2023-06-26T13:14:34.518Z"
   },
   {
    "duration": 9,
    "start_time": "2023-06-26T13:14:35.125Z"
   },
   {
    "duration": 4,
    "start_time": "2023-06-26T13:14:36.797Z"
   },
   {
    "duration": 5,
    "start_time": "2023-06-26T13:14:37.419Z"
   },
   {
    "duration": 7,
    "start_time": "2023-06-26T13:14:37.992Z"
   },
   {
    "duration": 9,
    "start_time": "2023-06-26T13:14:38.620Z"
   },
   {
    "duration": 16,
    "start_time": "2023-06-26T13:14:41.831Z"
   },
   {
    "duration": 6,
    "start_time": "2023-06-26T13:14:42.524Z"
   },
   {
    "duration": 171,
    "start_time": "2023-06-26T13:14:46.559Z"
   },
   {
    "duration": 6,
    "start_time": "2023-06-26T13:14:49.135Z"
   },
   {
    "duration": 5,
    "start_time": "2023-06-26T13:14:53.596Z"
   },
   {
    "duration": 131,
    "start_time": "2023-06-26T13:15:02.185Z"
   },
   {
    "duration": 7,
    "start_time": "2023-06-26T13:15:11.020Z"
   },
   {
    "duration": 3,
    "start_time": "2023-06-26T13:15:16.820Z"
   },
   {
    "duration": 14,
    "start_time": "2023-06-26T13:15:21.024Z"
   },
   {
    "duration": 11,
    "start_time": "2023-06-26T13:15:21.813Z"
   },
   {
    "duration": 19,
    "start_time": "2023-06-26T13:15:49.635Z"
   },
   {
    "duration": 5,
    "start_time": "2023-06-26T13:16:29.599Z"
   },
   {
    "duration": 2,
    "start_time": "2023-06-26T13:16:30.441Z"
   },
   {
    "duration": 9,
    "start_time": "2023-06-26T13:16:31.518Z"
   },
   {
    "duration": 9,
    "start_time": "2023-06-26T13:16:32.307Z"
   },
   {
    "duration": 22,
    "start_time": "2023-06-26T13:16:34.741Z"
   },
   {
    "duration": 31,
    "start_time": "2023-06-26T13:19:33.497Z"
   },
   {
    "duration": 17,
    "start_time": "2023-06-26T13:19:39.009Z"
   },
   {
    "duration": 3,
    "start_time": "2023-06-26T13:30:48.164Z"
   },
   {
    "duration": 33,
    "start_time": "2023-06-26T13:32:44.960Z"
   },
   {
    "duration": 210,
    "start_time": "2023-06-26T13:36:43.172Z"
   },
   {
    "duration": 4,
    "start_time": "2023-06-26T13:37:17.049Z"
   },
   {
    "duration": 219,
    "start_time": "2023-06-26T13:37:27.494Z"
   },
   {
    "duration": 23,
    "start_time": "2023-06-26T13:38:05.601Z"
   },
   {
    "duration": 22,
    "start_time": "2023-06-26T13:46:05.525Z"
   },
   {
    "duration": 17,
    "start_time": "2023-06-26T13:46:18.719Z"
   },
   {
    "duration": 126,
    "start_time": "2023-06-26T13:47:28.135Z"
   },
   {
    "duration": 20,
    "start_time": "2023-06-26T13:51:42.595Z"
   },
   {
    "duration": 18,
    "start_time": "2023-06-26T13:52:33.314Z"
   },
   {
    "duration": 17,
    "start_time": "2023-06-26T13:55:27.041Z"
   },
   {
    "duration": 101,
    "start_time": "2023-06-26T13:55:40.804Z"
   },
   {
    "duration": 24,
    "start_time": "2023-06-26T13:55:55.944Z"
   },
   {
    "duration": 26,
    "start_time": "2023-06-26T13:58:10.592Z"
   },
   {
    "duration": 23,
    "start_time": "2023-06-26T13:59:35.392Z"
   },
   {
    "duration": 8,
    "start_time": "2023-06-26T14:01:43.523Z"
   },
   {
    "duration": 17,
    "start_time": "2023-06-26T14:02:04.924Z"
   },
   {
    "duration": 1781,
    "start_time": "2023-06-26T14:04:30.339Z"
   },
   {
    "duration": 10342,
    "start_time": "2023-06-26T14:06:29.403Z"
   },
   {
    "duration": 12,
    "start_time": "2023-06-26T14:18:20.234Z"
   },
   {
    "duration": 4025,
    "start_time": "2023-06-26T14:21:09.505Z"
   },
   {
    "duration": 222,
    "start_time": "2023-06-26T14:21:13.532Z"
   },
   {
    "duration": 72,
    "start_time": "2023-06-26T14:21:13.756Z"
   },
   {
    "duration": 5,
    "start_time": "2023-06-26T14:21:18.054Z"
   },
   {
    "duration": 4,
    "start_time": "2023-06-26T14:21:18.612Z"
   },
   {
    "duration": 9,
    "start_time": "2023-06-26T14:21:21.648Z"
   },
   {
    "duration": 22,
    "start_time": "2023-06-26T14:21:23.981Z"
   },
   {
    "duration": 27,
    "start_time": "2023-06-26T14:21:24.493Z"
   },
   {
    "duration": 8,
    "start_time": "2023-06-26T14:21:25.763Z"
   },
   {
    "duration": 8,
    "start_time": "2023-06-26T14:21:26.189Z"
   },
   {
    "duration": 9,
    "start_time": "2023-06-26T14:21:26.689Z"
   },
   {
    "duration": 8,
    "start_time": "2023-06-26T14:21:28.158Z"
   },
   {
    "duration": 12,
    "start_time": "2023-06-26T14:21:28.796Z"
   },
   {
    "duration": 11,
    "start_time": "2023-06-26T14:21:29.304Z"
   },
   {
    "duration": 6,
    "start_time": "2023-06-26T14:21:30.911Z"
   },
   {
    "duration": 10,
    "start_time": "2023-06-26T14:21:31.417Z"
   },
   {
    "duration": 4,
    "start_time": "2023-06-26T14:21:31.937Z"
   },
   {
    "duration": 10,
    "start_time": "2023-06-26T14:21:32.515Z"
   },
   {
    "duration": 15,
    "start_time": "2023-06-26T14:21:34.736Z"
   },
   {
    "duration": 5,
    "start_time": "2023-06-26T14:21:36.636Z"
   },
   {
    "duration": 191,
    "start_time": "2023-06-26T14:21:39.905Z"
   },
   {
    "duration": 4,
    "start_time": "2023-06-26T14:21:41.850Z"
   },
   {
    "duration": 5,
    "start_time": "2023-06-26T14:21:47.235Z"
   },
   {
    "duration": 4,
    "start_time": "2023-06-26T14:25:16.852Z"
   },
   {
    "duration": 39,
    "start_time": "2023-06-26T14:25:21.214Z"
   },
   {
    "duration": 53,
    "start_time": "2023-06-26T14:25:21.860Z"
   },
   {
    "duration": 6,
    "start_time": "2023-06-26T14:25:27.024Z"
   },
   {
    "duration": 4,
    "start_time": "2023-06-26T14:25:28.803Z"
   },
   {
    "duration": 15,
    "start_time": "2023-06-26T14:25:30.689Z"
   },
   {
    "duration": 16,
    "start_time": "2023-06-26T14:25:32.289Z"
   },
   {
    "duration": 14,
    "start_time": "2023-06-26T14:25:33.847Z"
   },
   {
    "duration": 10,
    "start_time": "2023-06-26T14:25:35.493Z"
   },
   {
    "duration": 5,
    "start_time": "2023-06-26T14:25:37.228Z"
   },
   {
    "duration": 6,
    "start_time": "2023-06-26T14:25:37.717Z"
   },
   {
    "duration": 11,
    "start_time": "2023-06-26T14:25:39.285Z"
   },
   {
    "duration": 8,
    "start_time": "2023-06-26T14:25:39.749Z"
   },
   {
    "duration": 12,
    "start_time": "2023-06-26T14:25:40.386Z"
   },
   {
    "duration": 4,
    "start_time": "2023-06-26T14:25:42.206Z"
   },
   {
    "duration": 4,
    "start_time": "2023-06-26T14:25:42.749Z"
   },
   {
    "duration": 11,
    "start_time": "2023-06-26T14:25:43.197Z"
   },
   {
    "duration": 8,
    "start_time": "2023-06-26T14:25:43.843Z"
   },
   {
    "duration": 30,
    "start_time": "2023-06-26T14:25:45.393Z"
   },
   {
    "duration": 6,
    "start_time": "2023-06-26T14:25:45.863Z"
   },
   {
    "duration": 155,
    "start_time": "2023-06-26T14:25:48.954Z"
   },
   {
    "duration": 4,
    "start_time": "2023-06-26T14:25:50.533Z"
   },
   {
    "duration": 4,
    "start_time": "2023-06-26T14:25:53.206Z"
   },
   {
    "duration": 4,
    "start_time": "2023-06-26T14:26:00.360Z"
   },
   {
    "duration": 4,
    "start_time": "2023-06-26T14:26:01.193Z"
   },
   {
    "duration": 20,
    "start_time": "2023-06-26T14:26:02.269Z"
   },
   {
    "duration": 9,
    "start_time": "2023-06-26T14:26:03.137Z"
   },
   {
    "duration": 16,
    "start_time": "2023-06-26T14:26:06.824Z"
   },
   {
    "duration": 18,
    "start_time": "2023-06-26T14:26:29.438Z"
   },
   {
    "duration": 25,
    "start_time": "2023-06-26T14:26:48.727Z"
   },
   {
    "duration": 43,
    "start_time": "2023-06-26T14:35:13.354Z"
   },
   {
    "duration": 2142,
    "start_time": "2023-06-26T14:37:46.854Z"
   },
   {
    "duration": 2441,
    "start_time": "2023-06-26T14:38:31.994Z"
   },
   {
    "duration": 2174,
    "start_time": "2023-06-26T14:42:57.185Z"
   },
   {
    "duration": 22,
    "start_time": "2023-06-26T14:46:10.786Z"
   },
   {
    "duration": 4,
    "start_time": "2023-06-26T14:52:56.161Z"
   },
   {
    "duration": 65,
    "start_time": "2023-06-26T14:52:56.178Z"
   },
   {
    "duration": 54,
    "start_time": "2023-06-26T14:52:56.245Z"
   },
   {
    "duration": 9,
    "start_time": "2023-06-26T14:52:56.300Z"
   },
   {
    "duration": 8,
    "start_time": "2023-06-26T14:52:56.312Z"
   },
   {
    "duration": 13,
    "start_time": "2023-06-26T14:52:56.322Z"
   },
   {
    "duration": 14,
    "start_time": "2023-06-26T14:52:56.341Z"
   },
   {
    "duration": 33,
    "start_time": "2023-06-26T14:52:56.356Z"
   },
   {
    "duration": 13,
    "start_time": "2023-06-26T14:52:56.391Z"
   },
   {
    "duration": 6,
    "start_time": "2023-06-26T14:52:56.406Z"
   },
   {
    "duration": 13,
    "start_time": "2023-06-26T14:52:56.415Z"
   },
   {
    "duration": 19,
    "start_time": "2023-06-26T14:52:56.430Z"
   },
   {
    "duration": 11,
    "start_time": "2023-06-26T14:52:56.451Z"
   },
   {
    "duration": 14,
    "start_time": "2023-06-26T14:52:56.470Z"
   },
   {
    "duration": 5,
    "start_time": "2023-06-26T14:52:56.485Z"
   },
   {
    "duration": 9,
    "start_time": "2023-06-26T14:52:56.491Z"
   },
   {
    "duration": 24,
    "start_time": "2023-06-26T14:52:56.501Z"
   },
   {
    "duration": 11,
    "start_time": "2023-06-26T14:52:56.527Z"
   },
   {
    "duration": 19,
    "start_time": "2023-06-26T14:52:56.540Z"
   },
   {
    "duration": 20,
    "start_time": "2023-06-26T14:52:56.560Z"
   },
   {
    "duration": 177,
    "start_time": "2023-06-26T14:52:56.582Z"
   },
   {
    "duration": 4,
    "start_time": "2023-06-26T14:52:56.761Z"
   },
   {
    "duration": 11,
    "start_time": "2023-06-26T14:52:56.766Z"
   },
   {
    "duration": 4,
    "start_time": "2023-06-26T14:53:08.359Z"
   },
   {
    "duration": 3,
    "start_time": "2023-06-26T14:53:08.952Z"
   },
   {
    "duration": 12,
    "start_time": "2023-06-26T14:53:10.531Z"
   },
   {
    "duration": 12,
    "start_time": "2023-06-26T14:53:11.217Z"
   },
   {
    "duration": 19,
    "start_time": "2023-06-26T14:53:14.745Z"
   },
   {
    "duration": 39,
    "start_time": "2023-06-26T14:53:17.390Z"
   },
   {
    "duration": 11,
    "start_time": "2023-06-26T14:53:37.903Z"
   },
   {
    "duration": 57,
    "start_time": "2023-06-26T14:53:37.921Z"
   },
   {
    "duration": 62,
    "start_time": "2023-06-26T14:53:37.982Z"
   },
   {
    "duration": 5,
    "start_time": "2023-06-26T14:53:38.047Z"
   },
   {
    "duration": 22,
    "start_time": "2023-06-26T14:53:38.054Z"
   },
   {
    "duration": 14,
    "start_time": "2023-06-26T14:53:38.078Z"
   },
   {
    "duration": 29,
    "start_time": "2023-06-26T14:53:38.102Z"
   },
   {
    "duration": 20,
    "start_time": "2023-06-26T14:53:38.134Z"
   },
   {
    "duration": 20,
    "start_time": "2023-06-26T14:53:38.158Z"
   },
   {
    "duration": 11,
    "start_time": "2023-06-26T14:53:38.180Z"
   },
   {
    "duration": 27,
    "start_time": "2023-06-26T14:53:38.193Z"
   },
   {
    "duration": 11,
    "start_time": "2023-06-26T14:53:38.223Z"
   },
   {
    "duration": 11,
    "start_time": "2023-06-26T14:53:38.236Z"
   },
   {
    "duration": 22,
    "start_time": "2023-06-26T14:53:38.249Z"
   },
   {
    "duration": 21,
    "start_time": "2023-06-26T14:53:38.274Z"
   },
   {
    "duration": 7,
    "start_time": "2023-06-26T14:53:38.298Z"
   },
   {
    "duration": 22,
    "start_time": "2023-06-26T14:53:38.307Z"
   },
   {
    "duration": 26,
    "start_time": "2023-06-26T14:53:38.333Z"
   },
   {
    "duration": 37,
    "start_time": "2023-06-26T14:53:38.361Z"
   },
   {
    "duration": 14,
    "start_time": "2023-06-26T14:53:38.401Z"
   },
   {
    "duration": 178,
    "start_time": "2023-06-26T14:53:38.418Z"
   },
   {
    "duration": 12,
    "start_time": "2023-06-26T14:53:38.602Z"
   },
   {
    "duration": 47,
    "start_time": "2023-06-26T14:53:38.617Z"
   },
   {
    "duration": 6,
    "start_time": "2023-06-26T14:53:43.590Z"
   },
   {
    "duration": 3,
    "start_time": "2023-06-26T14:53:44.044Z"
   },
   {
    "duration": 9,
    "start_time": "2023-06-26T14:53:44.955Z"
   },
   {
    "duration": 12,
    "start_time": "2023-06-26T14:53:45.416Z"
   },
   {
    "duration": 18,
    "start_time": "2023-06-26T14:53:48.131Z"
   },
   {
    "duration": 26,
    "start_time": "2023-06-26T14:53:50.556Z"
   },
   {
    "duration": 22,
    "start_time": "2023-06-26T14:54:10.539Z"
   },
   {
    "duration": 27,
    "start_time": "2023-06-26T14:54:26.982Z"
   },
   {
    "duration": 3,
    "start_time": "2023-06-26T15:03:48.649Z"
   },
   {
    "duration": 51,
    "start_time": "2023-06-26T15:03:48.657Z"
   },
   {
    "duration": 106,
    "start_time": "2023-06-26T15:03:48.710Z"
   },
   {
    "duration": 5,
    "start_time": "2023-06-26T15:03:48.817Z"
   },
   {
    "duration": 16,
    "start_time": "2023-06-26T15:03:48.824Z"
   },
   {
    "duration": 9,
    "start_time": "2023-06-26T15:03:48.841Z"
   },
   {
    "duration": 29,
    "start_time": "2023-06-26T15:03:48.852Z"
   },
   {
    "duration": 20,
    "start_time": "2023-06-26T15:03:48.885Z"
   },
   {
    "duration": 4,
    "start_time": "2023-06-26T15:03:48.907Z"
   },
   {
    "duration": 18,
    "start_time": "2023-06-26T15:03:48.913Z"
   },
   {
    "duration": 6,
    "start_time": "2023-06-26T15:03:48.934Z"
   },
   {
    "duration": 8,
    "start_time": "2023-06-26T15:03:48.941Z"
   },
   {
    "duration": 29,
    "start_time": "2023-06-26T15:03:48.950Z"
   },
   {
    "duration": 14,
    "start_time": "2023-06-26T15:03:48.982Z"
   },
   {
    "duration": 7,
    "start_time": "2023-06-26T15:03:48.999Z"
   },
   {
    "duration": 13,
    "start_time": "2023-06-26T15:03:49.008Z"
   },
   {
    "duration": 15,
    "start_time": "2023-06-26T15:03:49.022Z"
   },
   {
    "duration": 8,
    "start_time": "2023-06-26T15:03:49.038Z"
   },
   {
    "duration": 37,
    "start_time": "2023-06-26T15:03:49.047Z"
   },
   {
    "duration": 11,
    "start_time": "2023-06-26T15:03:49.086Z"
   },
   {
    "duration": 137,
    "start_time": "2023-06-26T15:03:49.099Z"
   },
   {
    "duration": 4,
    "start_time": "2023-06-26T15:03:49.238Z"
   },
   {
    "duration": 9,
    "start_time": "2023-06-26T15:03:49.243Z"
   },
   {
    "duration": 5,
    "start_time": "2023-06-26T15:03:54.430Z"
   },
   {
    "duration": 3,
    "start_time": "2023-06-26T15:03:54.952Z"
   },
   {
    "duration": 12,
    "start_time": "2023-06-26T15:03:55.909Z"
   },
   {
    "duration": 17,
    "start_time": "2023-06-26T15:03:56.585Z"
   },
   {
    "duration": 20,
    "start_time": "2023-06-26T15:03:59.894Z"
   },
   {
    "duration": 23,
    "start_time": "2023-06-26T15:04:17.943Z"
   },
   {
    "duration": 36,
    "start_time": "2023-06-26T15:04:36.642Z"
   },
   {
    "duration": 165,
    "start_time": "2023-06-26T15:04:44.245Z"
   },
   {
    "duration": 82,
    "start_time": "2023-06-26T15:05:00.493Z"
   },
   {
    "duration": 10,
    "start_time": "2023-06-26T15:05:06.647Z"
   },
   {
    "duration": 4937,
    "start_time": "2023-06-26T15:05:21.939Z"
   },
   {
    "duration": 10,
    "start_time": "2023-06-26T15:05:35.801Z"
   },
   {
    "duration": 13151,
    "start_time": "2023-06-26T15:05:44.610Z"
   },
   {
    "duration": 46,
    "start_time": "2023-06-26T15:06:15.365Z"
   },
   {
    "duration": 4,
    "start_time": "2023-06-26T15:06:25.823Z"
   },
   {
    "duration": 5,
    "start_time": "2023-06-26T15:06:26.608Z"
   },
   {
    "duration": 70,
    "start_time": "2023-06-26T15:06:31.442Z"
   },
   {
    "duration": 73,
    "start_time": "2023-06-26T15:06:34.041Z"
   },
   {
    "duration": 31,
    "start_time": "2023-06-26T15:06:40.899Z"
   },
   {
    "duration": 1520,
    "start_time": "2023-06-27T05:43:36.709Z"
   },
   {
    "duration": 80,
    "start_time": "2023-06-27T05:43:38.230Z"
   },
   {
    "duration": 37,
    "start_time": "2023-06-27T05:43:38.311Z"
   },
   {
    "duration": 5,
    "start_time": "2023-06-27T05:43:38.351Z"
   },
   {
    "duration": 9,
    "start_time": "2023-06-27T05:43:38.357Z"
   },
   {
    "duration": 9,
    "start_time": "2023-06-27T05:43:38.367Z"
   },
   {
    "duration": 23,
    "start_time": "2023-06-27T05:43:38.377Z"
   },
   {
    "duration": 23,
    "start_time": "2023-06-27T05:43:38.402Z"
   },
   {
    "duration": 4,
    "start_time": "2023-06-27T05:43:38.426Z"
   },
   {
    "duration": 4,
    "start_time": "2023-06-27T05:43:38.434Z"
   },
   {
    "duration": 15,
    "start_time": "2023-06-27T05:43:38.440Z"
   },
   {
    "duration": 8,
    "start_time": "2023-06-27T05:43:38.457Z"
   },
   {
    "duration": 7,
    "start_time": "2023-06-27T05:43:38.466Z"
   },
   {
    "duration": 8,
    "start_time": "2023-06-27T05:43:38.502Z"
   },
   {
    "duration": 13,
    "start_time": "2023-06-27T05:43:38.511Z"
   },
   {
    "duration": 6,
    "start_time": "2023-06-27T05:43:38.526Z"
   },
   {
    "duration": 12,
    "start_time": "2023-06-27T05:43:38.533Z"
   },
   {
    "duration": 10,
    "start_time": "2023-06-27T05:43:38.546Z"
   },
   {
    "duration": 11,
    "start_time": "2023-06-27T05:43:38.557Z"
   },
   {
    "duration": 7,
    "start_time": "2023-06-27T05:43:38.569Z"
   },
   {
    "duration": 124,
    "start_time": "2023-06-27T05:43:38.578Z"
   },
   {
    "duration": 4,
    "start_time": "2023-06-27T05:43:38.703Z"
   },
   {
    "duration": 16,
    "start_time": "2023-06-27T05:43:38.708Z"
   },
   {
    "duration": 13,
    "start_time": "2023-06-27T05:43:38.725Z"
   },
   {
    "duration": 17,
    "start_time": "2023-06-27T05:43:38.739Z"
   },
   {
    "duration": 10,
    "start_time": "2023-06-27T05:43:38.758Z"
   },
   {
    "duration": 14,
    "start_time": "2023-06-27T05:43:38.770Z"
   },
   {
    "duration": 8,
    "start_time": "2023-06-27T05:43:38.787Z"
   },
   {
    "duration": 123,
    "start_time": "2023-06-27T05:50:06.026Z"
   },
   {
    "duration": 3,
    "start_time": "2023-06-27T05:53:38.862Z"
   },
   {
    "duration": 39,
    "start_time": "2023-06-27T05:53:38.872Z"
   },
   {
    "duration": 25,
    "start_time": "2023-06-27T05:53:38.913Z"
   },
   {
    "duration": 4,
    "start_time": "2023-06-27T05:53:38.939Z"
   },
   {
    "duration": 9,
    "start_time": "2023-06-27T05:53:38.944Z"
   },
   {
    "duration": 10,
    "start_time": "2023-06-27T05:53:38.954Z"
   },
   {
    "duration": 13,
    "start_time": "2023-06-27T05:53:38.966Z"
   },
   {
    "duration": 22,
    "start_time": "2023-06-27T05:53:38.980Z"
   },
   {
    "duration": 4,
    "start_time": "2023-06-27T05:53:39.003Z"
   },
   {
    "duration": 6,
    "start_time": "2023-06-27T05:53:39.008Z"
   },
   {
    "duration": 7,
    "start_time": "2023-06-27T05:53:39.015Z"
   },
   {
    "duration": 7,
    "start_time": "2023-06-27T05:53:39.023Z"
   },
   {
    "duration": 8,
    "start_time": "2023-06-27T05:53:39.032Z"
   },
   {
    "duration": 14,
    "start_time": "2023-06-27T05:53:39.041Z"
   },
   {
    "duration": 4,
    "start_time": "2023-06-27T05:53:39.057Z"
   },
   {
    "duration": 37,
    "start_time": "2023-06-27T05:53:39.062Z"
   },
   {
    "duration": 3,
    "start_time": "2023-06-27T05:53:39.102Z"
   },
   {
    "duration": 14,
    "start_time": "2023-06-27T05:53:39.107Z"
   },
   {
    "duration": 12,
    "start_time": "2023-06-27T05:53:39.123Z"
   },
   {
    "duration": 11,
    "start_time": "2023-06-27T05:53:39.137Z"
   },
   {
    "duration": 97,
    "start_time": "2023-06-27T05:53:39.149Z"
   },
   {
    "duration": 4,
    "start_time": "2023-06-27T05:53:39.247Z"
   },
   {
    "duration": 5,
    "start_time": "2023-06-27T05:53:39.252Z"
   },
   {
    "duration": 4,
    "start_time": "2023-06-27T05:53:39.258Z"
   },
   {
    "duration": 5,
    "start_time": "2023-06-27T05:53:39.263Z"
   },
   {
    "duration": 8,
    "start_time": "2023-06-27T05:53:39.270Z"
   },
   {
    "duration": 23,
    "start_time": "2023-06-27T05:53:39.280Z"
   },
   {
    "duration": 8,
    "start_time": "2023-06-27T05:53:39.304Z"
   },
   {
    "duration": 17,
    "start_time": "2023-06-27T05:53:44.481Z"
   },
   {
    "duration": 14,
    "start_time": "2023-06-27T05:53:49.967Z"
   },
   {
    "duration": 27,
    "start_time": "2023-06-27T05:54:07.333Z"
   },
   {
    "duration": 17,
    "start_time": "2023-06-27T05:54:25.764Z"
   },
   {
    "duration": 8,
    "start_time": "2023-06-27T05:54:27.677Z"
   },
   {
    "duration": 3930,
    "start_time": "2023-06-27T05:54:30.832Z"
   },
   {
    "duration": 7,
    "start_time": "2023-06-27T05:54:36.596Z"
   },
   {
    "duration": 10220,
    "start_time": "2023-06-27T05:54:42.414Z"
   },
   {
    "duration": 21,
    "start_time": "2023-06-27T05:54:54.546Z"
   },
   {
    "duration": 5,
    "start_time": "2023-06-27T05:54:58.924Z"
   },
   {
    "duration": 4,
    "start_time": "2023-06-27T05:55:00.575Z"
   },
   {
    "duration": 20,
    "start_time": "2023-06-27T05:55:10.971Z"
   },
   {
    "duration": 13,
    "start_time": "2023-06-27T05:55:12.242Z"
   },
   {
    "duration": 17,
    "start_time": "2023-06-27T05:55:21.313Z"
   },
   {
    "duration": 3,
    "start_time": "2023-06-27T06:10:10.315Z"
   },
   {
    "duration": 53,
    "start_time": "2023-06-27T06:10:10.320Z"
   },
   {
    "duration": 24,
    "start_time": "2023-06-27T06:10:10.374Z"
   },
   {
    "duration": 4,
    "start_time": "2023-06-27T06:10:10.400Z"
   },
   {
    "duration": 6,
    "start_time": "2023-06-27T06:10:10.405Z"
   },
   {
    "duration": 9,
    "start_time": "2023-06-27T06:10:10.413Z"
   },
   {
    "duration": 12,
    "start_time": "2023-06-27T06:10:10.423Z"
   },
   {
    "duration": 12,
    "start_time": "2023-06-27T06:10:10.437Z"
   },
   {
    "duration": 5,
    "start_time": "2023-06-27T06:10:10.451Z"
   },
   {
    "duration": 14,
    "start_time": "2023-06-27T06:10:10.457Z"
   },
   {
    "duration": 28,
    "start_time": "2023-06-27T06:10:10.472Z"
   },
   {
    "duration": 7,
    "start_time": "2023-06-27T06:10:10.501Z"
   },
   {
    "duration": 7,
    "start_time": "2023-06-27T06:10:10.511Z"
   },
   {
    "duration": 11,
    "start_time": "2023-06-27T06:10:10.519Z"
   },
   {
    "duration": 5,
    "start_time": "2023-06-27T06:10:10.531Z"
   },
   {
    "duration": 7,
    "start_time": "2023-06-27T06:10:10.537Z"
   },
   {
    "duration": 7,
    "start_time": "2023-06-27T06:10:10.545Z"
   },
   {
    "duration": 10,
    "start_time": "2023-06-27T06:10:10.553Z"
   },
   {
    "duration": 19,
    "start_time": "2023-06-27T06:10:10.564Z"
   },
   {
    "duration": 33,
    "start_time": "2023-06-27T06:10:10.584Z"
   },
   {
    "duration": 96,
    "start_time": "2023-06-27T06:10:10.618Z"
   },
   {
    "duration": 4,
    "start_time": "2023-06-27T06:10:10.715Z"
   },
   {
    "duration": 20,
    "start_time": "2023-06-27T06:10:10.721Z"
   },
   {
    "duration": 10,
    "start_time": "2023-06-27T06:10:10.743Z"
   },
   {
    "duration": 13,
    "start_time": "2023-06-27T06:10:10.754Z"
   },
   {
    "duration": 33,
    "start_time": "2023-06-27T06:10:10.768Z"
   },
   {
    "duration": 13,
    "start_time": "2023-06-27T06:10:10.802Z"
   },
   {
    "duration": 7,
    "start_time": "2023-06-27T06:10:10.816Z"
   },
   {
    "duration": 15,
    "start_time": "2023-06-27T06:10:15.560Z"
   },
   {
    "duration": 4,
    "start_time": "2023-06-27T06:10:54.617Z"
   },
   {
    "duration": 46,
    "start_time": "2023-06-27T06:10:54.622Z"
   },
   {
    "duration": 25,
    "start_time": "2023-06-27T06:10:54.670Z"
   },
   {
    "duration": 21,
    "start_time": "2023-06-27T06:10:54.696Z"
   },
   {
    "duration": 12,
    "start_time": "2023-06-27T06:10:54.719Z"
   },
   {
    "duration": 15,
    "start_time": "2023-06-27T06:10:54.733Z"
   },
   {
    "duration": 21,
    "start_time": "2023-06-27T06:10:54.750Z"
   },
   {
    "duration": 17,
    "start_time": "2023-06-27T06:10:54.773Z"
   },
   {
    "duration": 4,
    "start_time": "2023-06-27T06:10:54.791Z"
   },
   {
    "duration": 9,
    "start_time": "2023-06-27T06:10:54.797Z"
   },
   {
    "duration": 5,
    "start_time": "2023-06-27T06:10:54.855Z"
   },
   {
    "duration": 22,
    "start_time": "2023-06-27T06:10:54.861Z"
   },
   {
    "duration": 17,
    "start_time": "2023-06-27T06:10:54.884Z"
   },
   {
    "duration": 16,
    "start_time": "2023-06-27T06:10:54.902Z"
   },
   {
    "duration": 15,
    "start_time": "2023-06-27T06:10:54.919Z"
   },
   {
    "duration": 6,
    "start_time": "2023-06-27T06:10:54.936Z"
   },
   {
    "duration": 25,
    "start_time": "2023-06-27T06:10:54.943Z"
   },
   {
    "duration": 9,
    "start_time": "2023-06-27T06:10:54.970Z"
   },
   {
    "duration": 12,
    "start_time": "2023-06-27T06:10:54.980Z"
   },
   {
    "duration": 17,
    "start_time": "2023-06-27T06:10:54.994Z"
   },
   {
    "duration": 106,
    "start_time": "2023-06-27T06:10:55.012Z"
   },
   {
    "duration": 4,
    "start_time": "2023-06-27T06:10:55.119Z"
   },
   {
    "duration": 44,
    "start_time": "2023-06-27T06:10:55.124Z"
   },
   {
    "duration": 20,
    "start_time": "2023-06-27T06:10:55.170Z"
   },
   {
    "duration": 23,
    "start_time": "2023-06-27T06:10:55.192Z"
   },
   {
    "duration": 25,
    "start_time": "2023-06-27T06:10:55.217Z"
   },
   {
    "duration": 35,
    "start_time": "2023-06-27T06:10:55.244Z"
   },
   {
    "duration": 31,
    "start_time": "2023-06-27T06:10:55.280Z"
   },
   {
    "duration": 18,
    "start_time": "2023-06-27T06:10:58.775Z"
   },
   {
    "duration": 4,
    "start_time": "2023-06-27T06:11:44.433Z"
   },
   {
    "duration": 38,
    "start_time": "2023-06-27T06:11:44.443Z"
   },
   {
    "duration": 27,
    "start_time": "2023-06-27T06:11:44.482Z"
   },
   {
    "duration": 4,
    "start_time": "2023-06-27T06:11:44.510Z"
   },
   {
    "duration": 19,
    "start_time": "2023-06-27T06:11:44.516Z"
   },
   {
    "duration": 7,
    "start_time": "2023-06-27T06:11:44.536Z"
   },
   {
    "duration": 12,
    "start_time": "2023-06-27T06:11:44.545Z"
   },
   {
    "duration": 12,
    "start_time": "2023-06-27T06:11:44.559Z"
   },
   {
    "duration": 26,
    "start_time": "2023-06-27T06:11:44.574Z"
   },
   {
    "duration": 13,
    "start_time": "2023-06-27T06:11:44.602Z"
   },
   {
    "duration": 7,
    "start_time": "2023-06-27T06:11:44.617Z"
   },
   {
    "duration": 24,
    "start_time": "2023-06-27T06:11:44.625Z"
   },
   {
    "duration": 14,
    "start_time": "2023-06-27T06:11:44.650Z"
   },
   {
    "duration": 10,
    "start_time": "2023-06-27T06:11:44.666Z"
   },
   {
    "duration": 15,
    "start_time": "2023-06-27T06:11:44.678Z"
   },
   {
    "duration": 5,
    "start_time": "2023-06-27T06:11:44.695Z"
   },
   {
    "duration": 5,
    "start_time": "2023-06-27T06:11:44.701Z"
   },
   {
    "duration": 12,
    "start_time": "2023-06-27T06:11:44.708Z"
   },
   {
    "duration": 18,
    "start_time": "2023-06-27T06:11:44.722Z"
   },
   {
    "duration": 5,
    "start_time": "2023-06-27T06:11:44.743Z"
   },
   {
    "duration": 107,
    "start_time": "2023-06-27T06:11:44.749Z"
   },
   {
    "duration": 3,
    "start_time": "2023-06-27T06:11:44.857Z"
   },
   {
    "duration": 7,
    "start_time": "2023-06-27T06:11:44.861Z"
   },
   {
    "duration": 7,
    "start_time": "2023-06-27T06:11:44.869Z"
   },
   {
    "duration": 9,
    "start_time": "2023-06-27T06:11:44.877Z"
   },
   {
    "duration": 12,
    "start_time": "2023-06-27T06:11:44.888Z"
   },
   {
    "duration": 22,
    "start_time": "2023-06-27T06:11:44.901Z"
   },
   {
    "duration": 21,
    "start_time": "2023-06-27T06:11:44.924Z"
   },
   {
    "duration": 16,
    "start_time": "2023-06-27T06:11:48.218Z"
   },
   {
    "duration": 3,
    "start_time": "2023-06-27T06:14:36.755Z"
   },
   {
    "duration": 66,
    "start_time": "2023-06-27T06:14:36.764Z"
   },
   {
    "duration": 24,
    "start_time": "2023-06-27T06:14:36.831Z"
   },
   {
    "duration": 4,
    "start_time": "2023-06-27T06:14:36.856Z"
   },
   {
    "duration": 9,
    "start_time": "2023-06-27T06:14:36.862Z"
   },
   {
    "duration": 8,
    "start_time": "2023-06-27T06:14:36.872Z"
   },
   {
    "duration": 10,
    "start_time": "2023-06-27T06:14:36.881Z"
   },
   {
    "duration": 12,
    "start_time": "2023-06-27T06:14:36.899Z"
   },
   {
    "duration": 4,
    "start_time": "2023-06-27T06:14:36.912Z"
   },
   {
    "duration": 12,
    "start_time": "2023-06-27T06:14:36.919Z"
   },
   {
    "duration": 6,
    "start_time": "2023-06-27T06:14:36.933Z"
   },
   {
    "duration": 7,
    "start_time": "2023-06-27T06:14:36.941Z"
   },
   {
    "duration": 15,
    "start_time": "2023-06-27T06:14:36.949Z"
   },
   {
    "duration": 19,
    "start_time": "2023-06-27T06:14:36.965Z"
   },
   {
    "duration": 3,
    "start_time": "2023-06-27T06:14:36.985Z"
   },
   {
    "duration": 11,
    "start_time": "2023-06-27T06:14:36.990Z"
   },
   {
    "duration": 5,
    "start_time": "2023-06-27T06:14:37.003Z"
   },
   {
    "duration": 8,
    "start_time": "2023-06-27T06:14:37.009Z"
   },
   {
    "duration": 17,
    "start_time": "2023-06-27T06:14:37.018Z"
   },
   {
    "duration": 4,
    "start_time": "2023-06-27T06:14:37.037Z"
   },
   {
    "duration": 110,
    "start_time": "2023-06-27T06:14:37.043Z"
   },
   {
    "duration": 3,
    "start_time": "2023-06-27T06:14:37.154Z"
   },
   {
    "duration": 4,
    "start_time": "2023-06-27T06:14:37.159Z"
   },
   {
    "duration": 13,
    "start_time": "2023-06-27T06:14:37.164Z"
   },
   {
    "duration": 7,
    "start_time": "2023-06-27T06:14:37.178Z"
   },
   {
    "duration": 3,
    "start_time": "2023-06-27T06:14:37.187Z"
   },
   {
    "duration": 12,
    "start_time": "2023-06-27T06:14:37.192Z"
   },
   {
    "duration": 7,
    "start_time": "2023-06-27T06:14:37.205Z"
   },
   {
    "duration": 26,
    "start_time": "2023-06-27T06:14:42.261Z"
   },
   {
    "duration": 3,
    "start_time": "2023-06-27T06:18:24.391Z"
   },
   {
    "duration": 39,
    "start_time": "2023-06-27T06:18:24.417Z"
   },
   {
    "duration": 26,
    "start_time": "2023-06-27T06:18:24.457Z"
   },
   {
    "duration": 5,
    "start_time": "2023-06-27T06:18:24.485Z"
   },
   {
    "duration": 11,
    "start_time": "2023-06-27T06:18:24.492Z"
   },
   {
    "duration": 15,
    "start_time": "2023-06-27T06:18:24.505Z"
   },
   {
    "duration": 15,
    "start_time": "2023-06-27T06:18:24.521Z"
   },
   {
    "duration": 13,
    "start_time": "2023-06-27T06:18:24.538Z"
   },
   {
    "duration": 4,
    "start_time": "2023-06-27T06:18:24.553Z"
   },
   {
    "duration": 6,
    "start_time": "2023-06-27T06:18:24.559Z"
   },
   {
    "duration": 7,
    "start_time": "2023-06-27T06:18:24.568Z"
   },
   {
    "duration": 24,
    "start_time": "2023-06-27T06:18:24.576Z"
   },
   {
    "duration": 7,
    "start_time": "2023-06-27T06:18:24.601Z"
   },
   {
    "duration": 22,
    "start_time": "2023-06-27T06:18:24.609Z"
   },
   {
    "duration": 4,
    "start_time": "2023-06-27T06:18:24.632Z"
   },
   {
    "duration": 8,
    "start_time": "2023-06-27T06:18:24.638Z"
   },
   {
    "duration": 8,
    "start_time": "2023-06-27T06:18:24.647Z"
   },
   {
    "duration": 11,
    "start_time": "2023-06-27T06:18:24.656Z"
   },
   {
    "duration": 14,
    "start_time": "2023-06-27T06:18:24.668Z"
   },
   {
    "duration": 19,
    "start_time": "2023-06-27T06:18:24.683Z"
   },
   {
    "duration": 104,
    "start_time": "2023-06-27T06:18:24.704Z"
   },
   {
    "duration": 4,
    "start_time": "2023-06-27T06:18:24.809Z"
   },
   {
    "duration": 5,
    "start_time": "2023-06-27T06:18:24.815Z"
   },
   {
    "duration": 6,
    "start_time": "2023-06-27T06:18:24.823Z"
   },
   {
    "duration": 22,
    "start_time": "2023-06-27T06:18:24.831Z"
   },
   {
    "duration": 4,
    "start_time": "2023-06-27T06:18:24.855Z"
   },
   {
    "duration": 13,
    "start_time": "2023-06-27T06:18:24.860Z"
   },
   {
    "duration": 8,
    "start_time": "2023-06-27T06:18:24.875Z"
   },
   {
    "duration": 26,
    "start_time": "2023-06-27T06:18:29.320Z"
   },
   {
    "duration": 18,
    "start_time": "2023-06-27T06:20:23.337Z"
   },
   {
    "duration": 3,
    "start_time": "2023-06-27T06:28:09.929Z"
   },
   {
    "duration": 60,
    "start_time": "2023-06-27T06:28:09.933Z"
   },
   {
    "duration": 30,
    "start_time": "2023-06-27T06:28:09.995Z"
   },
   {
    "duration": 13,
    "start_time": "2023-06-27T06:28:10.028Z"
   },
   {
    "duration": 15,
    "start_time": "2023-06-27T06:28:10.043Z"
   },
   {
    "duration": 19,
    "start_time": "2023-06-27T06:28:10.060Z"
   },
   {
    "duration": 20,
    "start_time": "2023-06-27T06:28:10.080Z"
   },
   {
    "duration": 24,
    "start_time": "2023-06-27T06:28:10.101Z"
   },
   {
    "duration": 11,
    "start_time": "2023-06-27T06:28:10.128Z"
   },
   {
    "duration": 18,
    "start_time": "2023-06-27T06:28:10.140Z"
   },
   {
    "duration": 23,
    "start_time": "2023-06-27T06:28:10.159Z"
   },
   {
    "duration": 7,
    "start_time": "2023-06-27T06:28:10.183Z"
   },
   {
    "duration": 6,
    "start_time": "2023-06-27T06:28:10.191Z"
   },
   {
    "duration": 13,
    "start_time": "2023-06-27T06:28:10.199Z"
   },
   {
    "duration": 9,
    "start_time": "2023-06-27T06:28:10.213Z"
   },
   {
    "duration": 4,
    "start_time": "2023-06-27T06:28:10.224Z"
   },
   {
    "duration": 5,
    "start_time": "2023-06-27T06:28:10.229Z"
   },
   {
    "duration": 9,
    "start_time": "2023-06-27T06:28:10.235Z"
   },
   {
    "duration": 12,
    "start_time": "2023-06-27T06:28:10.245Z"
   },
   {
    "duration": 5,
    "start_time": "2023-06-27T06:28:10.258Z"
   },
   {
    "duration": 101,
    "start_time": "2023-06-27T06:28:10.264Z"
   },
   {
    "duration": 4,
    "start_time": "2023-06-27T06:28:10.367Z"
   },
   {
    "duration": 13,
    "start_time": "2023-06-27T06:28:10.372Z"
   },
   {
    "duration": 12,
    "start_time": "2023-06-27T06:28:10.388Z"
   },
   {
    "duration": 11,
    "start_time": "2023-06-27T06:28:10.401Z"
   },
   {
    "duration": 6,
    "start_time": "2023-06-27T06:28:10.414Z"
   },
   {
    "duration": 19,
    "start_time": "2023-06-27T06:28:10.422Z"
   },
   {
    "duration": 18,
    "start_time": "2023-06-27T06:28:10.443Z"
   },
   {
    "duration": 22,
    "start_time": "2023-06-27T06:28:17.638Z"
   },
   {
    "duration": 3,
    "start_time": "2023-06-27T06:28:53.486Z"
   },
   {
    "duration": 49,
    "start_time": "2023-06-27T06:28:53.496Z"
   },
   {
    "duration": 25,
    "start_time": "2023-06-27T06:28:53.546Z"
   },
   {
    "duration": 6,
    "start_time": "2023-06-27T06:28:53.572Z"
   },
   {
    "duration": 22,
    "start_time": "2023-06-27T06:28:53.580Z"
   },
   {
    "duration": 16,
    "start_time": "2023-06-27T06:28:53.604Z"
   },
   {
    "duration": 21,
    "start_time": "2023-06-27T06:28:53.621Z"
   },
   {
    "duration": 40,
    "start_time": "2023-06-27T06:28:53.643Z"
   },
   {
    "duration": 4,
    "start_time": "2023-06-27T06:28:53.685Z"
   },
   {
    "duration": 16,
    "start_time": "2023-06-27T06:28:53.690Z"
   },
   {
    "duration": 21,
    "start_time": "2023-06-27T06:28:53.708Z"
   },
   {
    "duration": 28,
    "start_time": "2023-06-27T06:28:53.731Z"
   },
   {
    "duration": 27,
    "start_time": "2023-06-27T06:28:53.760Z"
   },
   {
    "duration": 46,
    "start_time": "2023-06-27T06:28:53.788Z"
   },
   {
    "duration": 19,
    "start_time": "2023-06-27T06:28:53.836Z"
   },
   {
    "duration": 33,
    "start_time": "2023-06-27T06:28:53.856Z"
   },
   {
    "duration": 6,
    "start_time": "2023-06-27T06:28:53.890Z"
   },
   {
    "duration": 32,
    "start_time": "2023-06-27T06:28:53.897Z"
   },
   {
    "duration": 20,
    "start_time": "2023-06-27T06:28:53.930Z"
   },
   {
    "duration": 12,
    "start_time": "2023-06-27T06:28:53.951Z"
   },
   {
    "duration": 105,
    "start_time": "2023-06-27T06:28:53.965Z"
   },
   {
    "duration": 3,
    "start_time": "2023-06-27T06:28:54.071Z"
   },
   {
    "duration": 12,
    "start_time": "2023-06-27T06:28:54.076Z"
   },
   {
    "duration": 6,
    "start_time": "2023-06-27T06:28:54.089Z"
   },
   {
    "duration": 9,
    "start_time": "2023-06-27T06:28:54.098Z"
   },
   {
    "duration": 4,
    "start_time": "2023-06-27T06:28:54.110Z"
   },
   {
    "duration": 10,
    "start_time": "2023-06-27T06:28:54.115Z"
   },
   {
    "duration": 8,
    "start_time": "2023-06-27T06:28:54.126Z"
   },
   {
    "duration": 8,
    "start_time": "2023-06-27T06:28:57.422Z"
   },
   {
    "duration": 14,
    "start_time": "2023-06-27T06:29:14.672Z"
   },
   {
    "duration": 17,
    "start_time": "2023-06-27T06:29:28.186Z"
   },
   {
    "duration": 4,
    "start_time": "2023-06-27T06:33:14.620Z"
   },
   {
    "duration": 46,
    "start_time": "2023-06-27T06:33:14.625Z"
   },
   {
    "duration": 26,
    "start_time": "2023-06-27T06:33:14.672Z"
   },
   {
    "duration": 19,
    "start_time": "2023-06-27T06:33:14.699Z"
   },
   {
    "duration": 13,
    "start_time": "2023-06-27T06:33:14.719Z"
   },
   {
    "duration": 16,
    "start_time": "2023-06-27T06:33:14.733Z"
   },
   {
    "duration": 14,
    "start_time": "2023-06-27T06:33:14.751Z"
   },
   {
    "duration": 13,
    "start_time": "2023-06-27T06:33:14.766Z"
   },
   {
    "duration": 4,
    "start_time": "2023-06-27T06:33:14.781Z"
   },
   {
    "duration": 34,
    "start_time": "2023-06-27T06:33:14.786Z"
   },
   {
    "duration": 18,
    "start_time": "2023-06-27T06:33:14.822Z"
   },
   {
    "duration": 10,
    "start_time": "2023-06-27T06:33:14.841Z"
   },
   {
    "duration": 6,
    "start_time": "2023-06-27T06:33:14.853Z"
   },
   {
    "duration": 13,
    "start_time": "2023-06-27T06:33:14.860Z"
   },
   {
    "duration": 11,
    "start_time": "2023-06-27T06:33:14.874Z"
   },
   {
    "duration": 26,
    "start_time": "2023-06-27T06:33:14.886Z"
   },
   {
    "duration": 11,
    "start_time": "2023-06-27T06:33:14.914Z"
   },
   {
    "duration": 17,
    "start_time": "2023-06-27T06:33:14.926Z"
   },
   {
    "duration": 12,
    "start_time": "2023-06-27T06:33:14.944Z"
   },
   {
    "duration": 5,
    "start_time": "2023-06-27T06:33:14.957Z"
   },
   {
    "duration": 100,
    "start_time": "2023-06-27T06:33:14.963Z"
   },
   {
    "duration": 4,
    "start_time": "2023-06-27T06:33:15.064Z"
   },
   {
    "duration": 49,
    "start_time": "2023-06-27T06:33:15.069Z"
   },
   {
    "duration": 23,
    "start_time": "2023-06-27T06:33:15.120Z"
   },
   {
    "duration": 19,
    "start_time": "2023-06-27T06:33:15.145Z"
   },
   {
    "duration": 7,
    "start_time": "2023-06-27T06:33:15.165Z"
   },
   {
    "duration": 18,
    "start_time": "2023-06-27T06:33:15.174Z"
   },
   {
    "duration": 21,
    "start_time": "2023-06-27T06:33:15.193Z"
   },
   {
    "duration": 15,
    "start_time": "2023-06-27T06:33:20.373Z"
   },
   {
    "duration": 28,
    "start_time": "2023-06-27T06:33:21.886Z"
   },
   {
    "duration": 3,
    "start_time": "2023-06-27T06:35:45.571Z"
   },
   {
    "duration": 53,
    "start_time": "2023-06-27T06:35:45.580Z"
   },
   {
    "duration": 25,
    "start_time": "2023-06-27T06:35:45.634Z"
   },
   {
    "duration": 9,
    "start_time": "2023-06-27T06:35:45.660Z"
   },
   {
    "duration": 8,
    "start_time": "2023-06-27T06:35:45.671Z"
   },
   {
    "duration": 10,
    "start_time": "2023-06-27T06:35:45.681Z"
   },
   {
    "duration": 23,
    "start_time": "2023-06-27T06:35:45.692Z"
   },
   {
    "duration": 52,
    "start_time": "2023-06-27T06:35:45.717Z"
   },
   {
    "duration": 9,
    "start_time": "2023-06-27T06:35:45.770Z"
   },
   {
    "duration": 11,
    "start_time": "2023-06-27T06:35:45.780Z"
   },
   {
    "duration": 22,
    "start_time": "2023-06-27T06:35:45.794Z"
   },
   {
    "duration": 15,
    "start_time": "2023-06-27T06:35:45.817Z"
   },
   {
    "duration": 10,
    "start_time": "2023-06-27T06:35:45.833Z"
   },
   {
    "duration": 6,
    "start_time": "2023-06-27T06:35:45.844Z"
   },
   {
    "duration": 9,
    "start_time": "2023-06-27T06:35:45.852Z"
   },
   {
    "duration": 16,
    "start_time": "2023-06-27T06:35:45.862Z"
   },
   {
    "duration": 81,
    "start_time": "2023-06-27T06:35:45.879Z"
   },
   {
    "duration": 13,
    "start_time": "2023-06-27T06:35:45.962Z"
   },
   {
    "duration": 28,
    "start_time": "2023-06-27T06:35:45.976Z"
   },
   {
    "duration": 24,
    "start_time": "2023-06-27T06:35:46.005Z"
   },
   {
    "duration": 142,
    "start_time": "2023-06-27T06:35:46.031Z"
   },
   {
    "duration": 4,
    "start_time": "2023-06-27T06:35:46.176Z"
   },
   {
    "duration": 13,
    "start_time": "2023-06-27T06:35:46.182Z"
   },
   {
    "duration": 8,
    "start_time": "2023-06-27T06:35:46.199Z"
   },
   {
    "duration": 22,
    "start_time": "2023-06-27T06:35:46.209Z"
   },
   {
    "duration": 24,
    "start_time": "2023-06-27T06:35:46.233Z"
   },
   {
    "duration": 17,
    "start_time": "2023-06-27T06:35:46.259Z"
   },
   {
    "duration": 17,
    "start_time": "2023-06-27T06:35:46.277Z"
   },
   {
    "duration": 17,
    "start_time": "2023-06-27T06:35:49.496Z"
   },
   {
    "duration": 13,
    "start_time": "2023-06-27T06:35:51.397Z"
   },
   {
    "duration": 22,
    "start_time": "2023-06-27T06:36:04.050Z"
   },
   {
    "duration": 21,
    "start_time": "2023-06-27T06:36:28.654Z"
   },
   {
    "duration": 23,
    "start_time": "2023-06-27T06:36:35.360Z"
   },
   {
    "duration": 17,
    "start_time": "2023-06-27T06:37:02.485Z"
   },
   {
    "duration": 21,
    "start_time": "2023-06-27T06:37:25.037Z"
   },
   {
    "duration": 3,
    "start_time": "2023-06-27T06:47:44.735Z"
   },
   {
    "duration": 46,
    "start_time": "2023-06-27T06:47:44.740Z"
   },
   {
    "duration": 24,
    "start_time": "2023-06-27T06:47:44.788Z"
   },
   {
    "duration": 4,
    "start_time": "2023-06-27T06:47:44.814Z"
   },
   {
    "duration": 14,
    "start_time": "2023-06-27T06:47:44.820Z"
   },
   {
    "duration": 7,
    "start_time": "2023-06-27T06:47:44.836Z"
   },
   {
    "duration": 9,
    "start_time": "2023-06-27T06:47:44.844Z"
   },
   {
    "duration": 11,
    "start_time": "2023-06-27T06:47:44.854Z"
   },
   {
    "duration": 4,
    "start_time": "2023-06-27T06:47:44.866Z"
   },
   {
    "duration": 29,
    "start_time": "2023-06-27T06:47:44.871Z"
   },
   {
    "duration": 5,
    "start_time": "2023-06-27T06:47:44.902Z"
   },
   {
    "duration": 7,
    "start_time": "2023-06-27T06:47:44.909Z"
   },
   {
    "duration": 6,
    "start_time": "2023-06-27T06:47:44.918Z"
   },
   {
    "duration": 15,
    "start_time": "2023-06-27T06:47:44.925Z"
   },
   {
    "duration": 4,
    "start_time": "2023-06-27T06:47:44.941Z"
   },
   {
    "duration": 6,
    "start_time": "2023-06-27T06:47:44.946Z"
   },
   {
    "duration": 4,
    "start_time": "2023-06-27T06:47:44.953Z"
   },
   {
    "duration": 14,
    "start_time": "2023-06-27T06:47:44.959Z"
   },
   {
    "duration": 31,
    "start_time": "2023-06-27T06:47:44.974Z"
   },
   {
    "duration": 7,
    "start_time": "2023-06-27T06:47:45.007Z"
   },
   {
    "duration": 112,
    "start_time": "2023-06-27T06:47:45.016Z"
   },
   {
    "duration": 3,
    "start_time": "2023-06-27T06:47:45.129Z"
   },
   {
    "duration": 13,
    "start_time": "2023-06-27T06:47:45.134Z"
   },
   {
    "duration": 23,
    "start_time": "2023-06-27T06:47:45.149Z"
   },
   {
    "duration": 25,
    "start_time": "2023-06-27T06:47:45.175Z"
   },
   {
    "duration": 14,
    "start_time": "2023-06-27T06:47:45.202Z"
   },
   {
    "duration": 23,
    "start_time": "2023-06-27T06:47:45.217Z"
   },
   {
    "duration": 13,
    "start_time": "2023-06-27T06:47:45.241Z"
   },
   {
    "duration": 14,
    "start_time": "2023-06-27T06:47:50.415Z"
   },
   {
    "duration": 21,
    "start_time": "2023-06-27T06:47:51.762Z"
   },
   {
    "duration": 3,
    "start_time": "2023-06-27T06:50:33.655Z"
   },
   {
    "duration": 43,
    "start_time": "2023-06-27T06:50:33.663Z"
   },
   {
    "duration": 25,
    "start_time": "2023-06-27T06:50:33.708Z"
   },
   {
    "duration": 4,
    "start_time": "2023-06-27T06:50:33.734Z"
   },
   {
    "duration": 6,
    "start_time": "2023-06-27T06:50:33.739Z"
   },
   {
    "duration": 10,
    "start_time": "2023-06-27T06:50:33.746Z"
   },
   {
    "duration": 10,
    "start_time": "2023-06-27T06:50:33.757Z"
   },
   {
    "duration": 35,
    "start_time": "2023-06-27T06:50:33.768Z"
   },
   {
    "duration": 4,
    "start_time": "2023-06-27T06:50:33.804Z"
   },
   {
    "duration": 9,
    "start_time": "2023-06-27T06:50:33.810Z"
   },
   {
    "duration": 7,
    "start_time": "2023-06-27T06:50:33.820Z"
   },
   {
    "duration": 8,
    "start_time": "2023-06-27T06:50:33.828Z"
   },
   {
    "duration": 6,
    "start_time": "2023-06-27T06:50:33.837Z"
   },
   {
    "duration": 6,
    "start_time": "2023-06-27T06:50:33.844Z"
   },
   {
    "duration": 3,
    "start_time": "2023-06-27T06:50:33.852Z"
   },
   {
    "duration": 43,
    "start_time": "2023-06-27T06:50:33.857Z"
   },
   {
    "duration": 4,
    "start_time": "2023-06-27T06:50:33.902Z"
   },
   {
    "duration": 12,
    "start_time": "2023-06-27T06:50:33.907Z"
   },
   {
    "duration": 12,
    "start_time": "2023-06-27T06:50:33.921Z"
   },
   {
    "duration": 7,
    "start_time": "2023-06-27T06:50:33.934Z"
   },
   {
    "duration": 117,
    "start_time": "2023-06-27T06:50:33.942Z"
   },
   {
    "duration": 3,
    "start_time": "2023-06-27T06:50:34.061Z"
   },
   {
    "duration": 4,
    "start_time": "2023-06-27T06:50:34.066Z"
   },
   {
    "duration": 7,
    "start_time": "2023-06-27T06:50:34.072Z"
   },
   {
    "duration": 11,
    "start_time": "2023-06-27T06:50:34.080Z"
   },
   {
    "duration": 2,
    "start_time": "2023-06-27T06:50:34.099Z"
   },
   {
    "duration": 9,
    "start_time": "2023-06-27T06:50:34.103Z"
   },
   {
    "duration": 12,
    "start_time": "2023-06-27T06:50:34.113Z"
   },
   {
    "duration": 21,
    "start_time": "2023-06-27T06:50:42.971Z"
   },
   {
    "duration": 14,
    "start_time": "2023-06-27T06:50:44.331Z"
   },
   {
    "duration": 17,
    "start_time": "2023-06-27T06:50:46.226Z"
   },
   {
    "duration": 21,
    "start_time": "2023-06-27T06:51:16.278Z"
   },
   {
    "duration": 7,
    "start_time": "2023-06-27T06:51:17.631Z"
   },
   {
    "duration": 4099,
    "start_time": "2023-06-27T06:51:20.577Z"
   },
   {
    "duration": 6,
    "start_time": "2023-06-27T06:51:26.331Z"
   },
   {
    "duration": 9883,
    "start_time": "2023-06-27T06:51:28.884Z"
   },
   {
    "duration": 19,
    "start_time": "2023-06-27T06:51:38.769Z"
   },
   {
    "duration": 4,
    "start_time": "2023-06-27T06:51:46.447Z"
   },
   {
    "duration": 4,
    "start_time": "2023-06-27T06:51:47.629Z"
   },
   {
    "duration": 20,
    "start_time": "2023-06-27T06:51:51.865Z"
   },
   {
    "duration": 7,
    "start_time": "2023-06-27T06:51:53.724Z"
   },
   {
    "duration": 15,
    "start_time": "2023-06-27T06:52:00.165Z"
   },
   {
    "duration": 9,
    "start_time": "2023-06-27T06:52:02.964Z"
   },
   {
    "duration": 14,
    "start_time": "2023-06-27T06:52:07.201Z"
   },
   {
    "duration": 8,
    "start_time": "2023-06-27T06:52:09.287Z"
   },
   {
    "duration": 1185,
    "start_time": "2023-06-27T06:52:18.020Z"
   },
   {
    "duration": 6,
    "start_time": "2023-06-27T06:52:21.343Z"
   },
   {
    "duration": 16,
    "start_time": "2023-06-27T06:52:23.974Z"
   },
   {
    "duration": 113,
    "start_time": "2023-06-27T06:54:12.015Z"
   },
   {
    "duration": 4,
    "start_time": "2023-06-27T06:54:16.928Z"
   },
   {
    "duration": 28,
    "start_time": "2023-06-27T06:54:21.044Z"
   },
   {
    "duration": 4,
    "start_time": "2023-06-27T06:55:28.553Z"
   },
   {
    "duration": 19,
    "start_time": "2023-06-27T06:55:35.575Z"
   },
   {
    "duration": 3,
    "start_time": "2023-06-27T06:57:00.738Z"
   },
   {
    "duration": 17,
    "start_time": "2023-06-27T06:57:04.534Z"
   },
   {
    "duration": 3,
    "start_time": "2023-06-27T06:57:39.473Z"
   },
   {
    "duration": 18,
    "start_time": "2023-06-27T06:57:42.665Z"
   },
   {
    "duration": 4,
    "start_time": "2023-06-27T06:58:14.433Z"
   },
   {
    "duration": 17,
    "start_time": "2023-06-27T06:58:18.580Z"
   },
   {
    "duration": 4,
    "start_time": "2023-06-27T06:58:49.142Z"
   },
   {
    "duration": 16,
    "start_time": "2023-06-27T06:58:52.981Z"
   },
   {
    "duration": 3,
    "start_time": "2023-06-27T07:06:46.285Z"
   },
   {
    "duration": 37,
    "start_time": "2023-06-27T07:06:50.275Z"
   },
   {
    "duration": 27,
    "start_time": "2023-06-27T07:06:50.778Z"
   },
   {
    "duration": 5,
    "start_time": "2023-06-27T07:06:56.741Z"
   },
   {
    "duration": 3,
    "start_time": "2023-06-27T07:06:57.238Z"
   },
   {
    "duration": 7,
    "start_time": "2023-06-27T07:07:00.442Z"
   },
   {
    "duration": 9,
    "start_time": "2023-06-27T07:07:02.054Z"
   },
   {
    "duration": 12,
    "start_time": "2023-06-27T07:07:03.538Z"
   },
   {
    "duration": 4,
    "start_time": "2023-06-27T07:07:04.538Z"
   },
   {
    "duration": 4,
    "start_time": "2023-06-27T07:07:05.037Z"
   },
   {
    "duration": 6,
    "start_time": "2023-06-27T07:07:05.689Z"
   },
   {
    "duration": 8,
    "start_time": "2023-06-27T07:07:07.153Z"
   },
   {
    "duration": 7,
    "start_time": "2023-06-27T07:07:07.724Z"
   },
   {
    "duration": 7,
    "start_time": "2023-06-27T07:07:08.226Z"
   },
   {
    "duration": 4,
    "start_time": "2023-06-27T07:07:09.039Z"
   },
   {
    "duration": 4,
    "start_time": "2023-06-27T07:07:10.578Z"
   },
   {
    "duration": 3,
    "start_time": "2023-06-27T07:07:11.081Z"
   },
   {
    "duration": 7,
    "start_time": "2023-06-27T07:07:11.641Z"
   },
   {
    "duration": 12,
    "start_time": "2023-06-27T07:07:12.230Z"
   },
   {
    "duration": 5,
    "start_time": "2023-06-27T07:07:14.130Z"
   },
   {
    "duration": 96,
    "start_time": "2023-06-27T07:07:20.422Z"
   },
   {
    "duration": 4,
    "start_time": "2023-06-27T07:07:23.038Z"
   },
   {
    "duration": 4,
    "start_time": "2023-06-27T07:07:27.942Z"
   },
   {
    "duration": 17,
    "start_time": "2023-06-27T07:07:41.920Z"
   },
   {
    "duration": 5,
    "start_time": "2023-06-27T07:07:58.225Z"
   },
   {
    "duration": 3,
    "start_time": "2023-06-27T07:07:58.743Z"
   },
   {
    "duration": 9,
    "start_time": "2023-06-27T07:08:00.042Z"
   },
   {
    "duration": 8,
    "start_time": "2023-06-27T07:08:01.222Z"
   },
   {
    "duration": 2,
    "start_time": "2023-06-27T07:12:31.933Z"
   },
   {
    "duration": 21,
    "start_time": "2023-06-27T07:12:34.144Z"
   },
   {
    "duration": 15,
    "start_time": "2023-06-27T07:12:36.579Z"
   },
   {
    "duration": 5,
    "start_time": "2023-06-27T07:13:08.436Z"
   },
   {
    "duration": 3,
    "start_time": "2023-06-27T07:13:09.173Z"
   },
   {
    "duration": 8,
    "start_time": "2023-06-27T07:13:11.175Z"
   },
   {
    "duration": 8,
    "start_time": "2023-06-27T07:13:11.880Z"
   },
   {
    "duration": 2,
    "start_time": "2023-06-27T07:13:16.592Z"
   },
   {
    "duration": 22,
    "start_time": "2023-06-27T07:13:18.736Z"
   },
   {
    "duration": 15,
    "start_time": "2023-06-27T07:13:19.471Z"
   },
   {
    "duration": 24,
    "start_time": "2023-06-27T07:13:37.136Z"
   },
   {
    "duration": 10,
    "start_time": "2023-06-27T07:13:38.342Z"
   },
   {
    "duration": 3872,
    "start_time": "2023-06-27T07:13:40.432Z"
   },
   {
    "duration": 6,
    "start_time": "2023-06-27T07:13:44.305Z"
   },
   {
    "duration": 11486,
    "start_time": "2023-06-27T07:13:47.471Z"
   },
   {
    "duration": 22,
    "start_time": "2023-06-27T07:14:02.040Z"
   },
   {
    "duration": 4,
    "start_time": "2023-06-27T07:14:16.054Z"
   },
   {
    "duration": 3,
    "start_time": "2023-06-27T07:14:16.930Z"
   },
   {
    "duration": 3,
    "start_time": "2023-06-27T07:14:33.860Z"
   },
   {
    "duration": 4,
    "start_time": "2023-06-27T07:14:35.091Z"
   },
   {
    "duration": 17,
    "start_time": "2023-06-27T07:14:39.160Z"
   },
   {
    "duration": 8,
    "start_time": "2023-06-27T07:14:40.939Z"
   },
   {
    "duration": 28,
    "start_time": "2023-06-27T07:14:43.735Z"
   },
   {
    "duration": 7,
    "start_time": "2023-06-27T07:14:45.831Z"
   },
   {
    "duration": 18,
    "start_time": "2023-06-27T07:14:50.333Z"
   },
   {
    "duration": 8,
    "start_time": "2023-06-27T07:14:51.823Z"
   },
   {
    "duration": 1345,
    "start_time": "2023-06-27T07:14:56.136Z"
   },
   {
    "duration": 7,
    "start_time": "2023-06-27T07:14:58.553Z"
   },
   {
    "duration": 1495,
    "start_time": "2023-06-27T07:15:01.229Z"
   },
   {
    "duration": 7,
    "start_time": "2023-06-27T07:15:05.171Z"
   },
   {
    "duration": 634,
    "start_time": "2023-06-27T07:15:07.442Z"
   },
   {
    "duration": 7,
    "start_time": "2023-06-27T07:15:09.863Z"
   },
   {
    "duration": 15968,
    "start_time": "2023-06-27T07:15:13.955Z"
   },
   {
    "duration": 24,
    "start_time": "2023-06-27T07:15:35.660Z"
   },
   {
    "duration": 39817,
    "start_time": "2023-06-27T07:15:38.859Z"
   },
   {
    "duration": 31,
    "start_time": "2023-06-27T07:16:20.743Z"
   },
   {
    "duration": 13061,
    "start_time": "2023-06-27T07:16:24.348Z"
   },
   {
    "duration": 30,
    "start_time": "2023-06-27T07:16:38.927Z"
   },
   {
    "duration": 13,
    "start_time": "2023-06-27T07:16:43.372Z"
   },
   {
    "duration": 20,
    "start_time": "2023-06-27T07:16:51.234Z"
   },
   {
    "duration": 22,
    "start_time": "2023-06-27T07:18:17.681Z"
   },
   {
    "duration": 23,
    "start_time": "2023-06-27T07:20:38.586Z"
   },
   {
    "duration": 33,
    "start_time": "2023-06-27T07:21:22.631Z"
   },
   {
    "duration": 23,
    "start_time": "2023-06-27T07:21:39.929Z"
   },
   {
    "duration": 32,
    "start_time": "2023-06-27T07:22:19.370Z"
   },
   {
    "duration": 36,
    "start_time": "2023-06-27T07:23:01.770Z"
   },
   {
    "duration": 5,
    "start_time": "2023-06-27T07:56:48.634Z"
   },
   {
    "duration": 49,
    "start_time": "2023-06-27T07:56:48.641Z"
   },
   {
    "duration": 26,
    "start_time": "2023-06-27T07:56:48.691Z"
   },
   {
    "duration": 4,
    "start_time": "2023-06-27T07:56:48.719Z"
   },
   {
    "duration": 15,
    "start_time": "2023-06-27T07:56:48.725Z"
   },
   {
    "duration": 16,
    "start_time": "2023-06-27T07:56:48.741Z"
   },
   {
    "duration": 33,
    "start_time": "2023-06-27T07:56:48.758Z"
   },
   {
    "duration": 12,
    "start_time": "2023-06-27T07:56:48.793Z"
   },
   {
    "duration": 4,
    "start_time": "2023-06-27T07:56:48.807Z"
   },
   {
    "duration": 17,
    "start_time": "2023-06-27T07:56:48.812Z"
   },
   {
    "duration": 11,
    "start_time": "2023-06-27T07:56:48.830Z"
   },
   {
    "duration": 15,
    "start_time": "2023-06-27T07:56:48.842Z"
   },
   {
    "duration": 6,
    "start_time": "2023-06-27T07:56:48.858Z"
   },
   {
    "duration": 10,
    "start_time": "2023-06-27T07:56:48.866Z"
   },
   {
    "duration": 24,
    "start_time": "2023-06-27T07:56:48.877Z"
   },
   {
    "duration": 8,
    "start_time": "2023-06-27T07:56:48.902Z"
   },
   {
    "duration": 7,
    "start_time": "2023-06-27T07:56:48.911Z"
   },
   {
    "duration": 13,
    "start_time": "2023-06-27T07:56:48.919Z"
   },
   {
    "duration": 15,
    "start_time": "2023-06-27T07:56:48.934Z"
   },
   {
    "duration": 5,
    "start_time": "2023-06-27T07:56:48.950Z"
   },
   {
    "duration": 111,
    "start_time": "2023-06-27T07:56:48.956Z"
   },
   {
    "duration": 3,
    "start_time": "2023-06-27T07:56:49.069Z"
   },
   {
    "duration": 14,
    "start_time": "2023-06-27T07:56:49.073Z"
   },
   {
    "duration": 20,
    "start_time": "2023-06-27T07:56:49.090Z"
   },
   {
    "duration": 4,
    "start_time": "2023-06-27T07:56:49.111Z"
   },
   {
    "duration": 13,
    "start_time": "2023-06-27T07:56:49.116Z"
   },
   {
    "duration": 12,
    "start_time": "2023-06-27T07:56:49.130Z"
   },
   {
    "duration": 7,
    "start_time": "2023-06-27T07:56:49.143Z"
   },
   {
    "duration": 3,
    "start_time": "2023-06-27T07:56:49.151Z"
   },
   {
    "duration": 43,
    "start_time": "2023-06-27T07:56:49.156Z"
   },
   {
    "duration": 13,
    "start_time": "2023-06-27T07:56:49.201Z"
   },
   {
    "duration": 85,
    "start_time": "2023-06-27T07:56:49.215Z"
   },
   {
    "duration": 8,
    "start_time": "2023-06-27T07:56:49.302Z"
   },
   {
    "duration": 4029,
    "start_time": "2023-06-27T07:56:49.314Z"
   },
   {
    "duration": 6,
    "start_time": "2023-06-27T07:56:53.344Z"
   },
   {
    "duration": 11280,
    "start_time": "2023-06-27T07:56:53.352Z"
   },
   {
    "duration": 19,
    "start_time": "2023-06-27T07:57:04.633Z"
   },
   {
    "duration": 4,
    "start_time": "2023-06-27T07:57:04.654Z"
   },
   {
    "duration": 11,
    "start_time": "2023-06-27T07:57:04.659Z"
   },
   {
    "duration": 40,
    "start_time": "2023-06-27T07:57:04.671Z"
   },
   {
    "duration": 97,
    "start_time": "2023-06-27T07:57:04.713Z"
   },
   {
    "duration": 198,
    "start_time": "2023-06-27T07:57:04.902Z"
   },
   {
    "duration": 98,
    "start_time": "2023-06-27T07:57:05.103Z"
   },
   {
    "duration": 125,
    "start_time": "2023-06-27T07:57:05.203Z"
   },
   {
    "duration": 75,
    "start_time": "2023-06-27T07:57:05.329Z"
   },
   {
    "duration": 1310,
    "start_time": "2023-06-27T07:57:05.408Z"
   },
   {
    "duration": 7,
    "start_time": "2023-06-27T07:57:06.719Z"
   },
   {
    "duration": 1422,
    "start_time": "2023-06-27T07:57:06.728Z"
   },
   {
    "duration": 6,
    "start_time": "2023-06-27T07:57:08.152Z"
   },
   {
    "duration": 634,
    "start_time": "2023-06-27T07:57:08.160Z"
   },
   {
    "duration": 9,
    "start_time": "2023-06-27T07:57:08.795Z"
   },
   {
    "duration": 16056,
    "start_time": "2023-06-27T07:57:08.806Z"
   },
   {
    "duration": 40,
    "start_time": "2023-06-27T07:57:24.864Z"
   },
   {
    "duration": 39271,
    "start_time": "2023-06-27T07:57:24.906Z"
   },
   {
    "duration": 39,
    "start_time": "2023-06-27T07:58:04.179Z"
   },
   {
    "duration": 13011,
    "start_time": "2023-06-27T07:58:04.220Z"
   },
   {
    "duration": 30,
    "start_time": "2023-06-27T07:58:17.232Z"
   },
   {
    "duration": 13,
    "start_time": "2023-06-27T07:58:17.263Z"
   },
   {
    "duration": 38,
    "start_time": "2023-06-27T07:58:17.277Z"
   },
   {
    "duration": 24,
    "start_time": "2023-06-27T07:58:17.316Z"
   },
   {
    "duration": 38,
    "start_time": "2023-06-27T07:58:17.342Z"
   },
   {
    "duration": 24,
    "start_time": "2023-06-27T07:58:17.381Z"
   },
   {
    "duration": 29,
    "start_time": "2023-06-27T07:58:17.407Z"
   },
   {
    "duration": 33,
    "start_time": "2023-06-27T07:58:17.438Z"
   }
  ],
  "kernelspec": {
   "display_name": "Python 3 (ipykernel)",
   "language": "python",
   "name": "python3"
  },
  "language_info": {
   "codemirror_mode": {
    "name": "ipython",
    "version": 3
   },
   "file_extension": ".py",
   "mimetype": "text/x-python",
   "name": "python",
   "nbconvert_exporter": "python",
   "pygments_lexer": "ipython3",
   "version": "3.9.18"
  },
  "toc": {
   "base_numbering": 1,
   "nav_menu": {},
   "number_sections": true,
   "sideBar": true,
   "skip_h1_title": true,
   "title_cell": "Содержание",
   "title_sidebar": "Contents",
   "toc_cell": true,
   "toc_position": {
    "height": "calc(100% - 180px)",
    "left": "10px",
    "top": "150px",
    "width": "165px"
   },
   "toc_section_display": true,
   "toc_window_display": true
  }
 },
 "nbformat": 4,
 "nbformat_minor": 4
}
